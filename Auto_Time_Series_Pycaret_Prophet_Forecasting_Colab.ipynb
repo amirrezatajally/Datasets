{
  "cells": [
    {
      "cell_type": "markdown",
      "metadata": {
        "id": "view-in-github",
        "colab_type": "text"
      },
      "source": [
        "<a href=\"https://colab.research.google.com/github/amirrezatajally/Datasets/blob/master/Auto_Time_Series_Pycaret_Prophet_Forecasting_Colab.ipynb\" target=\"_parent\"><img src=\"https://colab.research.google.com/assets/colab-badge.svg\" alt=\"Open In Colab\"/></a>"
      ]
    },
    {
      "cell_type": "code",
      "execution_count": 3,
      "metadata": {
        "collapsed": true,
        "colab": {
          "base_uri": "https://localhost:8080/"
        },
        "id": "QQBWPp7yv5WR",
        "outputId": "93df22b8-352f-4066-948c-483586cbad59"
      },
      "outputs": [
        {
          "output_type": "stream",
          "name": "stdout",
          "text": [
            "Collecting pycaret-ts-alpha\n",
            "  Downloading pycaret_ts_alpha-3.0.0.dev1638407153-py3-none-any.whl (488 kB)\n",
            "\u001b[K     |████████████████████████████████| 488 kB 5.2 MB/s \n",
            "\u001b[?25hCollecting scikit-plot\n",
            "  Downloading scikit_plot-0.3.7-py3-none-any.whl (33 kB)\n",
            "Collecting Boruta\n",
            "  Downloading Boruta-0.3-py3-none-any.whl (56 kB)\n",
            "\u001b[K     |████████████████████████████████| 56 kB 3.6 MB/s \n",
            "\u001b[?25hCollecting kmodes>=0.10.1\n",
            "  Downloading kmodes-0.11.1-py2.py3-none-any.whl (19 kB)\n",
            "Collecting pmdarima>=1.8.0\n",
            "  Downloading pmdarima-1.8.4-cp37-cp37m-manylinux_2_17_x86_64.manylinux2014_x86_64.manylinux_2_24_x86_64.whl (1.4 MB)\n",
            "\u001b[K     |████████████████████████████████| 1.4 MB 53.8 MB/s \n",
            "\u001b[?25hCollecting pyLDAvis\n",
            "  Downloading pyLDAvis-3.3.1.tar.gz (1.7 MB)\n",
            "\u001b[K     |████████████████████████████████| 1.7 MB 45.5 MB/s \n",
            "\u001b[?25h  Installing build dependencies ... \u001b[?25l\u001b[?25hdone\n",
            "  Getting requirements to build wheel ... \u001b[?25l\u001b[?25hdone\n",
            "  Installing backend dependencies ... \u001b[?25l\u001b[?25hdone\n",
            "    Preparing wheel metadata ... \u001b[?25l\u001b[?25hdone\n",
            "Collecting umap-learn\n",
            "  Downloading umap-learn-0.5.2.tar.gz (86 kB)\n",
            "\u001b[K     |████████████████████████████████| 86 kB 4.9 MB/s \n",
            "\u001b[?25hCollecting lightgbm>=2.3.1\n",
            "  Downloading lightgbm-3.3.1-py3-none-manylinux1_x86_64.whl (2.0 MB)\n",
            "\u001b[K     |████████████████████████████████| 2.0 MB 65.8 MB/s \n",
            "\u001b[?25hCollecting statsmodels~=0.12.1\n",
            "  Downloading statsmodels-0.12.2-cp37-cp37m-manylinux1_x86_64.whl (9.5 MB)\n",
            "\u001b[K     |████████████████████████████████| 9.5 MB 53.8 MB/s \n",
            "\u001b[?25hRequirement already satisfied: wordcloud in /usr/local/lib/python3.7/dist-packages (from pycaret-ts-alpha) (1.5.0)\n",
            "Requirement already satisfied: seaborn in /usr/local/lib/python3.7/dist-packages (from pycaret-ts-alpha) (0.11.2)\n",
            "Requirement already satisfied: yellowbrick>=1.0.1 in /usr/local/lib/python3.7/dist-packages (from pycaret-ts-alpha) (1.3.post1)\n",
            "Collecting tbats>=1.1.0\n",
            "  Downloading tbats-1.1.0-py3-none-any.whl (43 kB)\n",
            "\u001b[K     |████████████████████████████████| 43 kB 1.7 MB/s \n",
            "\u001b[?25hRequirement already satisfied: scipy<=1.5.4 in /usr/local/lib/python3.7/dist-packages (from pycaret-ts-alpha) (1.4.1)\n",
            "Requirement already satisfied: textblob in /usr/local/lib/python3.7/dist-packages (from pycaret-ts-alpha) (0.15.3)\n",
            "Collecting plotly>=5.0.0\n",
            "  Downloading plotly-5.5.0-py2.py3-none-any.whl (26.5 MB)\n",
            "\u001b[K     |████████████████████████████████| 26.5 MB 1.4 MB/s \n",
            "\u001b[?25hRequirement already satisfied: spacy<2.4.0 in /usr/local/lib/python3.7/dist-packages (from pycaret-ts-alpha) (2.2.4)\n",
            "Requirement already satisfied: matplotlib in /usr/local/lib/python3.7/dist-packages (from pycaret-ts-alpha) (3.2.2)\n",
            "Collecting imbalanced-learn==0.7.0\n",
            "  Downloading imbalanced_learn-0.7.0-py3-none-any.whl (167 kB)\n",
            "\u001b[K     |████████████████████████████████| 167 kB 57.7 MB/s \n",
            "\u001b[?25hRequirement already satisfied: joblib in /usr/local/lib/python3.7/dist-packages (from pycaret-ts-alpha) (1.1.0)\n",
            "Requirement already satisfied: pandas in /usr/local/lib/python3.7/dist-packages (from pycaret-ts-alpha) (1.1.5)\n",
            "Collecting mlxtend>=0.17.0\n",
            "  Downloading mlxtend-0.19.0-py2.py3-none-any.whl (1.3 MB)\n",
            "\u001b[K     |████████████████████████████████| 1.3 MB 50.7 MB/s \n",
            "\u001b[?25hRequirement already satisfied: ipywidgets in /usr/local/lib/python3.7/dist-packages (from pycaret-ts-alpha) (7.6.5)\n",
            "Requirement already satisfied: numpy==1.19.5 in /usr/local/lib/python3.7/dist-packages (from pycaret-ts-alpha) (1.19.5)\n",
            "Collecting mlflow\n",
            "  Downloading mlflow-1.22.0-py3-none-any.whl (15.5 MB)\n",
            "\u001b[K     |████████████████████████████████| 15.5 MB 43.7 MB/s \n",
            "\u001b[?25hCollecting pyod\n",
            "  Downloading pyod-0.9.7.tar.gz (114 kB)\n",
            "\u001b[K     |████████████████████████████████| 114 kB 63.0 MB/s \n",
            "\u001b[?25hCollecting pandas-profiling>=2.8.0\n",
            "  Downloading pandas_profiling-3.1.0-py2.py3-none-any.whl (261 kB)\n",
            "\u001b[K     |████████████████████████████████| 261 kB 63.8 MB/s \n",
            "\u001b[?25hRequirement already satisfied: numba in /usr/local/lib/python3.7/dist-packages (from pycaret-ts-alpha) (0.51.2)\n",
            "Collecting scikit-learn~=0.24.2\n",
            "  Downloading scikit_learn-0.24.2-cp37-cp37m-manylinux2010_x86_64.whl (22.3 MB)\n",
            "\u001b[K     |████████████████████████████████| 22.3 MB 1.3 MB/s \n",
            "\u001b[?25hRequirement already satisfied: cufflinks>=0.17.0 in /usr/local/lib/python3.7/dist-packages (from pycaret-ts-alpha) (0.17.3)\n",
            "Collecting sktime>=0.8.0\n",
            "  Downloading sktime-0.9.0-cp37-cp37m-manylinux_2_17_x86_64.manylinux2014_x86_64.whl (6.2 MB)\n",
            "\u001b[K     |████████████████████████████████| 6.2 MB 24.9 MB/s \n",
            "\u001b[?25hRequirement already satisfied: IPython in /usr/local/lib/python3.7/dist-packages (from pycaret-ts-alpha) (5.5.0)\n",
            "Requirement already satisfied: gensim<4.0.0 in /usr/local/lib/python3.7/dist-packages (from pycaret-ts-alpha) (3.6.0)\n",
            "Requirement already satisfied: pyyaml<6.0.0 in /usr/local/lib/python3.7/dist-packages (from pycaret-ts-alpha) (3.13)\n",
            "Requirement already satisfied: nltk in /usr/local/lib/python3.7/dist-packages (from pycaret-ts-alpha) (3.2.5)\n",
            "Requirement already satisfied: setuptools>=34.4.1 in /usr/local/lib/python3.7/dist-packages (from cufflinks>=0.17.0->pycaret-ts-alpha) (57.4.0)\n",
            "Requirement already satisfied: colorlover>=0.2.1 in /usr/local/lib/python3.7/dist-packages (from cufflinks>=0.17.0->pycaret-ts-alpha) (0.3.0)\n",
            "Requirement already satisfied: six>=1.9.0 in /usr/local/lib/python3.7/dist-packages (from cufflinks>=0.17.0->pycaret-ts-alpha) (1.15.0)\n",
            "Requirement already satisfied: smart-open>=1.2.1 in /usr/local/lib/python3.7/dist-packages (from gensim<4.0.0->pycaret-ts-alpha) (5.2.1)\n",
            "Requirement already satisfied: pickleshare in /usr/local/lib/python3.7/dist-packages (from IPython->pycaret-ts-alpha) (0.7.5)\n",
            "Requirement already satisfied: decorator in /usr/local/lib/python3.7/dist-packages (from IPython->pycaret-ts-alpha) (4.4.2)\n",
            "Requirement already satisfied: simplegeneric>0.8 in /usr/local/lib/python3.7/dist-packages (from IPython->pycaret-ts-alpha) (0.8.1)\n",
            "Requirement already satisfied: traitlets>=4.2 in /usr/local/lib/python3.7/dist-packages (from IPython->pycaret-ts-alpha) (5.1.1)\n",
            "Requirement already satisfied: prompt-toolkit<2.0.0,>=1.0.4 in /usr/local/lib/python3.7/dist-packages (from IPython->pycaret-ts-alpha) (1.0.18)\n",
            "Requirement already satisfied: pygments in /usr/local/lib/python3.7/dist-packages (from IPython->pycaret-ts-alpha) (2.6.1)\n",
            "Requirement already satisfied: pexpect in /usr/local/lib/python3.7/dist-packages (from IPython->pycaret-ts-alpha) (4.8.0)\n",
            "Requirement already satisfied: ipykernel>=4.5.1 in /usr/local/lib/python3.7/dist-packages (from ipywidgets->pycaret-ts-alpha) (4.10.1)\n",
            "Requirement already satisfied: jupyterlab-widgets>=1.0.0 in /usr/local/lib/python3.7/dist-packages (from ipywidgets->pycaret-ts-alpha) (1.0.2)\n",
            "Requirement already satisfied: widgetsnbextension~=3.5.0 in /usr/local/lib/python3.7/dist-packages (from ipywidgets->pycaret-ts-alpha) (3.5.2)\n",
            "Requirement already satisfied: ipython-genutils~=0.2.0 in /usr/local/lib/python3.7/dist-packages (from ipywidgets->pycaret-ts-alpha) (0.2.0)\n",
            "Requirement already satisfied: nbformat>=4.2.0 in /usr/local/lib/python3.7/dist-packages (from ipywidgets->pycaret-ts-alpha) (5.1.3)\n",
            "Requirement already satisfied: tornado>=4.0 in /usr/local/lib/python3.7/dist-packages (from ipykernel>=4.5.1->ipywidgets->pycaret-ts-alpha) (5.1.1)\n",
            "Requirement already satisfied: jupyter-client in /usr/local/lib/python3.7/dist-packages (from ipykernel>=4.5.1->ipywidgets->pycaret-ts-alpha) (5.3.5)\n",
            "Requirement already satisfied: wheel in /usr/local/lib/python3.7/dist-packages (from lightgbm>=2.3.1->pycaret-ts-alpha) (0.37.0)\n",
            "Requirement already satisfied: kiwisolver>=1.0.1 in /usr/local/lib/python3.7/dist-packages (from matplotlib->pycaret-ts-alpha) (1.3.2)\n",
            "Requirement already satisfied: python-dateutil>=2.1 in /usr/local/lib/python3.7/dist-packages (from matplotlib->pycaret-ts-alpha) (2.8.2)\n",
            "Requirement already satisfied: cycler>=0.10 in /usr/local/lib/python3.7/dist-packages (from matplotlib->pycaret-ts-alpha) (0.11.0)\n",
            "Requirement already satisfied: pyparsing!=2.0.4,!=2.1.2,!=2.1.6,>=2.0.1 in /usr/local/lib/python3.7/dist-packages (from matplotlib->pycaret-ts-alpha) (3.0.6)\n",
            "Requirement already satisfied: jsonschema!=2.5.0,>=2.4 in /usr/local/lib/python3.7/dist-packages (from nbformat>=4.2.0->ipywidgets->pycaret-ts-alpha) (2.6.0)\n",
            "Requirement already satisfied: jupyter-core in /usr/local/lib/python3.7/dist-packages (from nbformat>=4.2.0->ipywidgets->pycaret-ts-alpha) (4.9.1)\n",
            "Requirement already satisfied: pytz>=2017.2 in /usr/local/lib/python3.7/dist-packages (from pandas->pycaret-ts-alpha) (2018.9)\n",
            "Collecting pydantic>=1.8.1\n",
            "  Downloading pydantic-1.9.0-cp37-cp37m-manylinux_2_17_x86_64.manylinux2014_x86_64.whl (10.9 MB)\n",
            "\u001b[K     |████████████████████████████████| 10.9 MB 43.4 MB/s \n",
            "\u001b[?25hCollecting phik>=0.11.1\n",
            "  Downloading phik-0.12.0-cp37-cp37m-manylinux2010_x86_64.whl (675 kB)\n",
            "\u001b[K     |████████████████████████████████| 675 kB 60.9 MB/s \n",
            "\u001b[?25hRequirement already satisfied: missingno>=0.4.2 in /usr/local/lib/python3.7/dist-packages (from pandas-profiling>=2.8.0->pycaret-ts-alpha) (0.5.0)\n",
            "Collecting multimethod>=1.4\n",
            "  Downloading multimethod-1.6-py3-none-any.whl (9.4 kB)\n",
            "Requirement already satisfied: jinja2>=2.11.1 in /usr/local/lib/python3.7/dist-packages (from pandas-profiling>=2.8.0->pycaret-ts-alpha) (2.11.3)\n",
            "Collecting visions[type_image_path]==0.7.4\n",
            "  Downloading visions-0.7.4-py3-none-any.whl (102 kB)\n",
            "\u001b[K     |████████████████████████████████| 102 kB 9.7 MB/s \n",
            "\u001b[?25hCollecting joblib\n",
            "  Downloading joblib-1.0.1-py3-none-any.whl (303 kB)\n",
            "\u001b[K     |████████████████████████████████| 303 kB 59.2 MB/s \n",
            "\u001b[?25hCollecting requests>=2.24.0\n",
            "  Downloading requests-2.27.1-py2.py3-none-any.whl (63 kB)\n",
            "\u001b[K     |████████████████████████████████| 63 kB 1.3 MB/s \n",
            "\u001b[?25hRequirement already satisfied: tqdm>=4.48.2 in /usr/local/lib/python3.7/dist-packages (from pandas-profiling>=2.8.0->pycaret-ts-alpha) (4.62.3)\n",
            "Collecting tangled-up-in-unicode==0.1.0\n",
            "  Downloading tangled_up_in_unicode-0.1.0-py3-none-any.whl (3.1 MB)\n",
            "\u001b[K     |████████████████████████████████| 3.1 MB 52.3 MB/s \n",
            "\u001b[?25hRequirement already satisfied: markupsafe~=2.0.1 in /usr/local/lib/python3.7/dist-packages (from pandas-profiling>=2.8.0->pycaret-ts-alpha) (2.0.1)\n",
            "Collecting pyyaml<6.0.0\n",
            "  Downloading PyYAML-5.4.1-cp37-cp37m-manylinux1_x86_64.whl (636 kB)\n",
            "\u001b[K     |████████████████████████████████| 636 kB 61.3 MB/s \n",
            "\u001b[?25hCollecting htmlmin>=0.1.12\n",
            "  Downloading htmlmin-0.1.12.tar.gz (19 kB)\n",
            "Requirement already satisfied: networkx>=2.4 in /usr/local/lib/python3.7/dist-packages (from visions[type_image_path]==0.7.4->pandas-profiling>=2.8.0->pycaret-ts-alpha) (2.6.3)\n",
            "Requirement already satisfied: attrs>=19.3.0 in /usr/local/lib/python3.7/dist-packages (from visions[type_image_path]==0.7.4->pandas-profiling>=2.8.0->pycaret-ts-alpha) (21.2.0)\n",
            "Requirement already satisfied: Pillow in /usr/local/lib/python3.7/dist-packages (from visions[type_image_path]==0.7.4->pandas-profiling>=2.8.0->pycaret-ts-alpha) (7.1.2)\n",
            "Collecting imagehash\n",
            "  Downloading ImageHash-4.2.1.tar.gz (812 kB)\n",
            "\u001b[K     |████████████████████████████████| 812 kB 45.7 MB/s \n",
            "\u001b[?25hCollecting scipy<=1.5.4\n",
            "  Downloading scipy-1.5.4-cp37-cp37m-manylinux1_x86_64.whl (25.9 MB)\n",
            "\u001b[K     |████████████████████████████████| 25.9 MB 1.2 MB/s \n",
            "\u001b[?25hCollecting tenacity>=6.2.0\n",
            "  Downloading tenacity-8.0.1-py3-none-any.whl (24 kB)\n",
            "Requirement already satisfied: Cython!=0.29.18,>=0.29 in /usr/local/lib/python3.7/dist-packages (from pmdarima>=1.8.0->pycaret-ts-alpha) (0.29.24)\n",
            "Requirement already satisfied: urllib3 in /usr/local/lib/python3.7/dist-packages (from pmdarima>=1.8.0->pycaret-ts-alpha) (1.24.3)\n",
            "Requirement already satisfied: wcwidth in /usr/local/lib/python3.7/dist-packages (from prompt-toolkit<2.0.0,>=1.0.4->IPython->pycaret-ts-alpha) (0.2.5)\n",
            "Requirement already satisfied: typing-extensions>=3.7.4.3 in /usr/local/lib/python3.7/dist-packages (from pydantic>=1.8.1->pandas-profiling>=2.8.0->pycaret-ts-alpha) (3.10.0.2)\n",
            "Requirement already satisfied: idna<4,>=2.5 in /usr/local/lib/python3.7/dist-packages (from requests>=2.24.0->pandas-profiling>=2.8.0->pycaret-ts-alpha) (2.10)\n",
            "Requirement already satisfied: charset-normalizer~=2.0.0 in /usr/local/lib/python3.7/dist-packages (from requests>=2.24.0->pandas-profiling>=2.8.0->pycaret-ts-alpha) (2.0.9)\n",
            "Requirement already satisfied: certifi>=2017.4.17 in /usr/local/lib/python3.7/dist-packages (from requests>=2.24.0->pandas-profiling>=2.8.0->pycaret-ts-alpha) (2021.10.8)\n",
            "Requirement already satisfied: threadpoolctl>=2.0.0 in /usr/local/lib/python3.7/dist-packages (from scikit-learn~=0.24.2->pycaret-ts-alpha) (3.0.0)\n",
            "Collecting statsmodels~=0.12.1\n",
            "  Downloading statsmodels-0.12.1-cp37-cp37m-manylinux1_x86_64.whl (9.5 MB)\n",
            "\u001b[K     |████████████████████████████████| 9.5 MB 50.8 MB/s \n",
            "\u001b[?25hCollecting sktime>=0.8.0\n",
            "  Downloading sktime-0.8.1-cp37-cp37m-manylinux_2_17_x86_64.manylinux2014_x86_64.whl (6.1 MB)\n",
            "\u001b[K     |████████████████████████████████| 6.1 MB 45.9 MB/s \n",
            "\u001b[?25hCollecting numba\n",
            "  Downloading numba-0.54.1-cp37-cp37m-manylinux2014_x86_64.manylinux_2_17_x86_64.whl (3.3 MB)\n",
            "\u001b[K     |████████████████████████████████| 3.3 MB 58.3 MB/s \n",
            "\u001b[?25hCollecting llvmlite<0.38,>=0.37.0rc1\n",
            "  Downloading llvmlite-0.37.0-cp37-cp37m-manylinux2014_x86_64.whl (26.3 MB)\n",
            "\u001b[K     |████████████████████████████████| 26.3 MB 86.4 MB/s \n",
            "\u001b[?25hRequirement already satisfied: blis<0.5.0,>=0.4.0 in /usr/local/lib/python3.7/dist-packages (from spacy<2.4.0->pycaret-ts-alpha) (0.4.1)\n",
            "Requirement already satisfied: murmurhash<1.1.0,>=0.28.0 in /usr/local/lib/python3.7/dist-packages (from spacy<2.4.0->pycaret-ts-alpha) (1.0.6)\n",
            "Requirement already satisfied: wasabi<1.1.0,>=0.4.0 in /usr/local/lib/python3.7/dist-packages (from spacy<2.4.0->pycaret-ts-alpha) (0.8.2)\n",
            "Requirement already satisfied: srsly<1.1.0,>=1.0.2 in /usr/local/lib/python3.7/dist-packages (from spacy<2.4.0->pycaret-ts-alpha) (1.0.5)\n",
            "Requirement already satisfied: catalogue<1.1.0,>=0.0.7 in /usr/local/lib/python3.7/dist-packages (from spacy<2.4.0->pycaret-ts-alpha) (1.0.0)\n",
            "Requirement already satisfied: cymem<2.1.0,>=2.0.2 in /usr/local/lib/python3.7/dist-packages (from spacy<2.4.0->pycaret-ts-alpha) (2.0.6)\n",
            "Requirement already satisfied: preshed<3.1.0,>=3.0.2 in /usr/local/lib/python3.7/dist-packages (from spacy<2.4.0->pycaret-ts-alpha) (3.0.6)\n",
            "Requirement already satisfied: thinc==7.4.0 in /usr/local/lib/python3.7/dist-packages (from spacy<2.4.0->pycaret-ts-alpha) (7.4.0)\n",
            "Requirement already satisfied: plac<1.2.0,>=0.9.6 in /usr/local/lib/python3.7/dist-packages (from spacy<2.4.0->pycaret-ts-alpha) (1.1.3)\n",
            "Requirement already satisfied: importlib-metadata>=0.20 in /usr/local/lib/python3.7/dist-packages (from catalogue<1.1.0,>=0.0.7->spacy<2.4.0->pycaret-ts-alpha) (4.8.2)\n",
            "Requirement already satisfied: zipp>=0.5 in /usr/local/lib/python3.7/dist-packages (from importlib-metadata>=0.20->catalogue<1.1.0,>=0.0.7->spacy<2.4.0->pycaret-ts-alpha) (3.6.0)\n",
            "Requirement already satisfied: patsy>=0.5 in /usr/local/lib/python3.7/dist-packages (from statsmodels~=0.12.1->pycaret-ts-alpha) (0.5.2)\n",
            "Requirement already satisfied: notebook>=4.4.1 in /usr/local/lib/python3.7/dist-packages (from widgetsnbextension~=3.5.0->ipywidgets->pycaret-ts-alpha) (5.3.1)\n",
            "Requirement already satisfied: nbconvert in /usr/local/lib/python3.7/dist-packages (from notebook>=4.4.1->widgetsnbextension~=3.5.0->ipywidgets->pycaret-ts-alpha) (5.6.1)\n",
            "Requirement already satisfied: Send2Trash in /usr/local/lib/python3.7/dist-packages (from notebook>=4.4.1->widgetsnbextension~=3.5.0->ipywidgets->pycaret-ts-alpha) (1.8.0)\n",
            "Requirement already satisfied: terminado>=0.8.1 in /usr/local/lib/python3.7/dist-packages (from notebook>=4.4.1->widgetsnbextension~=3.5.0->ipywidgets->pycaret-ts-alpha) (0.12.1)\n",
            "Requirement already satisfied: pyzmq>=13 in /usr/local/lib/python3.7/dist-packages (from jupyter-client->ipykernel>=4.5.1->ipywidgets->pycaret-ts-alpha) (22.3.0)\n",
            "Requirement already satisfied: ptyprocess in /usr/local/lib/python3.7/dist-packages (from terminado>=0.8.1->notebook>=4.4.1->widgetsnbextension~=3.5.0->ipywidgets->pycaret-ts-alpha) (0.7.0)\n",
            "Requirement already satisfied: PyWavelets in /usr/local/lib/python3.7/dist-packages (from imagehash->visions[type_image_path]==0.7.4->pandas-profiling>=2.8.0->pycaret-ts-alpha) (1.2.0)\n",
            "Collecting docker>=4.0.0\n",
            "  Downloading docker-5.0.3-py2.py3-none-any.whl (146 kB)\n",
            "\u001b[K     |████████████████████████████████| 146 kB 54.4 MB/s \n",
            "\u001b[?25hCollecting alembic<=1.4.1\n",
            "  Downloading alembic-1.4.1.tar.gz (1.1 MB)\n",
            "\u001b[K     |████████████████████████████████| 1.1 MB 59.1 MB/s \n",
            "\u001b[?25hRequirement already satisfied: protobuf>=3.7.0 in /usr/local/lib/python3.7/dist-packages (from mlflow->pycaret-ts-alpha) (3.17.3)\n",
            "Requirement already satisfied: Flask in /usr/local/lib/python3.7/dist-packages (from mlflow->pycaret-ts-alpha) (1.1.4)\n",
            "Requirement already satisfied: packaging in /usr/local/lib/python3.7/dist-packages (from mlflow->pycaret-ts-alpha) (21.3)\n",
            "Requirement already satisfied: sqlalchemy in /usr/local/lib/python3.7/dist-packages (from mlflow->pycaret-ts-alpha) (1.4.27)\n",
            "Requirement already satisfied: click>=7.0 in /usr/local/lib/python3.7/dist-packages (from mlflow->pycaret-ts-alpha) (7.1.2)\n",
            "Collecting prometheus-flask-exporter\n",
            "  Downloading prometheus_flask_exporter-0.18.7-py3-none-any.whl (17 kB)\n",
            "Collecting querystring-parser\n",
            "  Downloading querystring_parser-1.2.4-py2.py3-none-any.whl (7.9 kB)\n",
            "Requirement already satisfied: entrypoints in /usr/local/lib/python3.7/dist-packages (from mlflow->pycaret-ts-alpha) (0.3)\n",
            "Requirement already satisfied: sqlparse>=0.3.1 in /usr/local/lib/python3.7/dist-packages (from mlflow->pycaret-ts-alpha) (0.4.2)\n",
            "Collecting gunicorn\n",
            "  Downloading gunicorn-20.1.0-py3-none-any.whl (79 kB)\n",
            "\u001b[K     |████████████████████████████████| 79 kB 7.1 MB/s \n",
            "\u001b[?25hCollecting gitpython>=2.1.0\n",
            "  Downloading GitPython-3.1.25-py3-none-any.whl (180 kB)\n",
            "\u001b[K     |████████████████████████████████| 180 kB 60.5 MB/s \n",
            "\u001b[?25hRequirement already satisfied: cloudpickle in /usr/local/lib/python3.7/dist-packages (from mlflow->pycaret-ts-alpha) (1.3.0)\n",
            "Collecting databricks-cli>=0.8.7\n",
            "  Downloading databricks-cli-0.16.2.tar.gz (58 kB)\n",
            "\u001b[K     |████████████████████████████████| 58 kB 4.7 MB/s \n",
            "\u001b[?25hCollecting Mako\n",
            "  Downloading Mako-1.1.6-py2.py3-none-any.whl (75 kB)\n",
            "\u001b[K     |████████████████████████████████| 75 kB 3.6 MB/s \n",
            "\u001b[?25hCollecting python-editor>=0.3\n",
            "  Downloading python_editor-1.0.4-py3-none-any.whl (4.9 kB)\n",
            "Requirement already satisfied: tabulate>=0.7.7 in /usr/local/lib/python3.7/dist-packages (from databricks-cli>=0.8.7->mlflow->pycaret-ts-alpha) (0.8.9)\n",
            "Collecting websocket-client>=0.32.0\n",
            "  Downloading websocket_client-1.2.3-py3-none-any.whl (53 kB)\n",
            "\u001b[K     |████████████████████████████████| 53 kB 1.7 MB/s \n",
            "\u001b[?25hCollecting gitdb<5,>=4.0.1\n",
            "  Downloading gitdb-4.0.9-py3-none-any.whl (63 kB)\n",
            "\u001b[K     |████████████████████████████████| 63 kB 1.4 MB/s \n",
            "\u001b[?25hCollecting smmap<6,>=3.0.1\n",
            "  Downloading smmap-5.0.0-py3-none-any.whl (24 kB)\n",
            "Requirement already satisfied: greenlet!=0.4.17 in /usr/local/lib/python3.7/dist-packages (from sqlalchemy->mlflow->pycaret-ts-alpha) (1.1.2)\n",
            "Requirement already satisfied: Werkzeug<2.0,>=0.15 in /usr/local/lib/python3.7/dist-packages (from Flask->mlflow->pycaret-ts-alpha) (1.0.1)\n",
            "Requirement already satisfied: itsdangerous<2.0,>=0.24 in /usr/local/lib/python3.7/dist-packages (from Flask->mlflow->pycaret-ts-alpha) (1.1.0)\n",
            "Requirement already satisfied: mistune<2,>=0.8.1 in /usr/local/lib/python3.7/dist-packages (from nbconvert->notebook>=4.4.1->widgetsnbextension~=3.5.0->ipywidgets->pycaret-ts-alpha) (0.8.4)\n",
            "Requirement already satisfied: bleach in /usr/local/lib/python3.7/dist-packages (from nbconvert->notebook>=4.4.1->widgetsnbextension~=3.5.0->ipywidgets->pycaret-ts-alpha) (4.1.0)\n",
            "Requirement already satisfied: pandocfilters>=1.4.1 in /usr/local/lib/python3.7/dist-packages (from nbconvert->notebook>=4.4.1->widgetsnbextension~=3.5.0->ipywidgets->pycaret-ts-alpha) (1.5.0)\n",
            "Requirement already satisfied: testpath in /usr/local/lib/python3.7/dist-packages (from nbconvert->notebook>=4.4.1->widgetsnbextension~=3.5.0->ipywidgets->pycaret-ts-alpha) (0.5.0)\n",
            "Requirement already satisfied: defusedxml in /usr/local/lib/python3.7/dist-packages (from nbconvert->notebook>=4.4.1->widgetsnbextension~=3.5.0->ipywidgets->pycaret-ts-alpha) (0.7.1)\n",
            "Requirement already satisfied: webencodings in /usr/local/lib/python3.7/dist-packages (from bleach->nbconvert->notebook>=4.4.1->widgetsnbextension~=3.5.0->ipywidgets->pycaret-ts-alpha) (0.5.1)\n",
            "Requirement already satisfied: prometheus-client in /usr/local/lib/python3.7/dist-packages (from prometheus-flask-exporter->mlflow->pycaret-ts-alpha) (0.12.0)\n",
            "Requirement already satisfied: future in /usr/local/lib/python3.7/dist-packages (from pyLDAvis->pycaret-ts-alpha) (0.16.0)\n",
            "Collecting pyLDAvis\n",
            "  Downloading pyLDAvis-3.3.0.tar.gz (1.7 MB)\n",
            "\u001b[K     |████████████████████████████████| 1.7 MB 57.7 MB/s \n",
            "\u001b[?25h  Installing build dependencies ... \u001b[?25l\u001b[?25hdone\n",
            "  Getting requirements to build wheel ... \u001b[?25l\u001b[?25hdone\n",
            "  Installing backend dependencies ... \u001b[?25l\u001b[?25hdone\n",
            "    Preparing wheel metadata ... \u001b[?25l\u001b[?25hdone\n",
            "  Downloading pyLDAvis-3.2.2.tar.gz (1.7 MB)\n",
            "\u001b[K     |████████████████████████████████| 1.7 MB 66.8 MB/s \n",
            "\u001b[?25hRequirement already satisfied: numexpr in /usr/local/lib/python3.7/dist-packages (from pyLDAvis->pycaret-ts-alpha) (2.7.3)\n",
            "Collecting funcy\n",
            "  Downloading funcy-1.17-py2.py3-none-any.whl (33 kB)\n",
            "Collecting pynndescent>=0.5\n",
            "  Downloading pynndescent-0.5.5.tar.gz (1.1 MB)\n",
            "\u001b[K     |████████████████████████████████| 1.1 MB 69.4 MB/s \n",
            "\u001b[?25hBuilding wheels for collected packages: htmlmin, imagehash, alembic, databricks-cli, pyLDAvis, pyod, umap-learn, pynndescent\n",
            "  Building wheel for htmlmin (setup.py) ... \u001b[?25l\u001b[?25hdone\n",
            "  Created wheel for htmlmin: filename=htmlmin-0.1.12-py3-none-any.whl size=27098 sha256=e0491f67b3ddb875833de5fd98e47b1d4e0541d6bf371e104e0af744ef445607\n",
            "  Stored in directory: /root/.cache/pip/wheels/70/e1/52/5b14d250ba868768823940c3229e9950d201a26d0bd3ee8655\n",
            "  Building wheel for imagehash (setup.py) ... \u001b[?25l\u001b[?25hdone\n",
            "  Created wheel for imagehash: filename=ImageHash-4.2.1-py2.py3-none-any.whl size=295207 sha256=8e2257bdc45198bfd8488e932cae7d5db2d009c36e76557d17f6b0585887abc9\n",
            "  Stored in directory: /root/.cache/pip/wheels/4c/d5/59/5e3e297533ddb09407769762985d134135064c6831e29a914e\n",
            "  Building wheel for alembic (setup.py) ... \u001b[?25l\u001b[?25hdone\n",
            "  Created wheel for alembic: filename=alembic-1.4.1-py2.py3-none-any.whl size=158172 sha256=caa09391800b32e1f9f103c6081158ae75792710aaf120b742ecd7d446649f57\n",
            "  Stored in directory: /root/.cache/pip/wheels/be/5d/0a/9e13f53f4f5dfb67cd8d245bb7cdffe12f135846f491a283e3\n",
            "  Building wheel for databricks-cli (setup.py) ... \u001b[?25l\u001b[?25hdone\n",
            "  Created wheel for databricks-cli: filename=databricks_cli-0.16.2-py3-none-any.whl size=106811 sha256=1d065967845ac5f02a770c2c0d07cb0ca16192f6655c2a27aa92a4902cddec59\n",
            "  Stored in directory: /root/.cache/pip/wheels/f4/5c/ed/e1ce20a53095f63b27b4964abbad03e59cf3472822addf7d29\n",
            "  Building wheel for pyLDAvis (setup.py) ... \u001b[?25l\u001b[?25hdone\n",
            "  Created wheel for pyLDAvis: filename=pyLDAvis-3.2.2-py2.py3-none-any.whl size=135618 sha256=ed8cfff8dc5716037670216686571e2cf2c41ef958a93865bd22e007bf710b62\n",
            "  Stored in directory: /root/.cache/pip/wheels/f8/b1/9b/560ac1931796b7303f7b517b949d2d31a4fbc512aad3b9f284\n",
            "  Building wheel for pyod (setup.py) ... \u001b[?25l\u001b[?25hdone\n",
            "  Created wheel for pyod: filename=pyod-0.9.7-py3-none-any.whl size=136277 sha256=2f7dc95b839fa779a3e97f2c68732cd8d736061bad815e31e119e1d221a3f885\n",
            "  Stored in directory: /root/.cache/pip/wheels/ce/14/ae/60cbb36511e59bc12f8f0883805f586db3b315972b54865d33\n",
            "  Building wheel for umap-learn (setup.py) ... \u001b[?25l\u001b[?25hdone\n",
            "  Created wheel for umap-learn: filename=umap_learn-0.5.2-py3-none-any.whl size=82709 sha256=0d130e0c43f30b541df31cedaf4fd522bc5dde5b6e7a8bff998eb7bf9ce07144\n",
            "  Stored in directory: /root/.cache/pip/wheels/84/1b/c6/aaf68a748122632967cef4dffef68224eb16798b6793257d82\n",
            "  Building wheel for pynndescent (setup.py) ... \u001b[?25l\u001b[?25hdone\n",
            "  Created wheel for pynndescent: filename=pynndescent-0.5.5-py3-none-any.whl size=52603 sha256=51618b1869c04655eeb2fca6440935be7ab88a6f99f3af63f864993edd28f549\n",
            "  Stored in directory: /root/.cache/pip/wheels/af/e9/33/04db1436df0757c42fda8ea6796d7a8586e23c85fac355f476\n",
            "Successfully built htmlmin imagehash alembic databricks-cli pyLDAvis pyod umap-learn pynndescent\n",
            "Installing collected packages: tangled-up-in-unicode, smmap, scipy, multimethod, llvmlite, joblib, websocket-client, visions, tenacity, statsmodels, scikit-learn, requests, python-editor, numba, Mako, imagehash, gitdb, querystring-parser, pyyaml, pynndescent, pydantic, prometheus-flask-exporter, pmdarima, plotly, phik, htmlmin, gunicorn, gitpython, funcy, docker, databricks-cli, alembic, umap-learn, tbats, sktime, scikit-plot, pyod, pyLDAvis, pandas-profiling, mlxtend, mlflow, lightgbm, kmodes, imbalanced-learn, Boruta, pycaret-ts-alpha\n",
            "  Attempting uninstall: scipy\n",
            "    Found existing installation: scipy 1.4.1\n",
            "    Uninstalling scipy-1.4.1:\n",
            "      Successfully uninstalled scipy-1.4.1\n",
            "  Attempting uninstall: llvmlite\n",
            "    Found existing installation: llvmlite 0.34.0\n",
            "    Uninstalling llvmlite-0.34.0:\n",
            "      Successfully uninstalled llvmlite-0.34.0\n",
            "  Attempting uninstall: joblib\n",
            "    Found existing installation: joblib 1.1.0\n",
            "    Uninstalling joblib-1.1.0:\n",
            "      Successfully uninstalled joblib-1.1.0\n",
            "  Attempting uninstall: statsmodels\n",
            "    Found existing installation: statsmodels 0.10.2\n",
            "    Uninstalling statsmodels-0.10.2:\n",
            "      Successfully uninstalled statsmodels-0.10.2\n",
            "  Attempting uninstall: scikit-learn\n",
            "    Found existing installation: scikit-learn 1.0.1\n",
            "    Uninstalling scikit-learn-1.0.1:\n",
            "      Successfully uninstalled scikit-learn-1.0.1\n",
            "  Attempting uninstall: requests\n",
            "    Found existing installation: requests 2.23.0\n",
            "    Uninstalling requests-2.23.0:\n",
            "      Successfully uninstalled requests-2.23.0\n",
            "  Attempting uninstall: numba\n",
            "    Found existing installation: numba 0.51.2\n",
            "    Uninstalling numba-0.51.2:\n",
            "      Successfully uninstalled numba-0.51.2\n",
            "  Attempting uninstall: pyyaml\n",
            "    Found existing installation: PyYAML 3.13\n",
            "    Uninstalling PyYAML-3.13:\n",
            "      Successfully uninstalled PyYAML-3.13\n",
            "  Attempting uninstall: plotly\n",
            "    Found existing installation: plotly 4.4.1\n",
            "    Uninstalling plotly-4.4.1:\n",
            "      Successfully uninstalled plotly-4.4.1\n",
            "  Attempting uninstall: pandas-profiling\n",
            "    Found existing installation: pandas-profiling 1.4.1\n",
            "    Uninstalling pandas-profiling-1.4.1:\n",
            "      Successfully uninstalled pandas-profiling-1.4.1\n",
            "  Attempting uninstall: mlxtend\n",
            "    Found existing installation: mlxtend 0.14.0\n",
            "    Uninstalling mlxtend-0.14.0:\n",
            "      Successfully uninstalled mlxtend-0.14.0\n",
            "  Attempting uninstall: lightgbm\n",
            "    Found existing installation: lightgbm 2.2.3\n",
            "    Uninstalling lightgbm-2.2.3:\n",
            "      Successfully uninstalled lightgbm-2.2.3\n",
            "  Attempting uninstall: imbalanced-learn\n",
            "    Found existing installation: imbalanced-learn 0.8.1\n",
            "    Uninstalling imbalanced-learn-0.8.1:\n",
            "      Successfully uninstalled imbalanced-learn-0.8.1\n",
            "\u001b[31mERROR: pip's dependency resolver does not currently take into account all the packages that are installed. This behaviour is the source of the following dependency conflicts.\n",
            "google-colab 1.0.0 requires requests~=2.23.0, but you have requests 2.27.1 which is incompatible.\n",
            "datascience 0.10.6 requires folium==0.2.1, but you have folium 0.8.3 which is incompatible.\n",
            "albumentations 0.1.12 requires imgaug<0.2.7,>=0.2.5, but you have imgaug 0.2.9 which is incompatible.\n",
            "sktime 0.8.1 requires statsmodels<=0.12.1, but you have statsmodels 0.12.2 which is incompatible.\u001b[0m\n",
            "Successfully installed Boruta-0.3 Mako-1.1.6 alembic-1.4.1 databricks-cli-0.16.2 docker-5.0.3 funcy-1.17 gitdb-4.0.9 gitpython-3.1.25 gunicorn-20.1.0 htmlmin-0.1.12 imagehash-4.2.1 imbalanced-learn-0.7.0 joblib-1.0.1 kmodes-0.11.1 lightgbm-3.3.1 llvmlite-0.37.0 mlflow-1.22.0 mlxtend-0.19.0 multimethod-1.6 numba-0.54.1 pandas-profiling-3.1.0 phik-0.12.0 plotly-5.5.0 pmdarima-1.8.4 prometheus-flask-exporter-0.18.7 pyLDAvis-3.2.2 pycaret-ts-alpha-3.0.0.dev1638407153 pydantic-1.9.0 pynndescent-0.5.5 pyod-0.9.7 python-editor-1.0.4 pyyaml-5.4.1 querystring-parser-1.2.4 requests-2.27.1 scikit-learn-0.24.2 scikit-plot-0.3.7 scipy-1.5.4 sktime-0.8.1 smmap-5.0.0 statsmodels-0.12.2 tangled-up-in-unicode-0.1.0 tbats-1.1.0 tenacity-8.0.1 umap-learn-0.5.2 visions-0.7.4 websocket-client-1.2.3\n"
          ]
        }
      ],
      "source": [
        "pip install pycaret-ts-alpha"
      ]
    },
    {
      "cell_type": "code",
      "execution_count": 4,
      "metadata": {
        "collapsed": true,
        "colab": {
          "base_uri": "https://localhost:8080/"
        },
        "id": "bIc8xJBfv5Wf",
        "outputId": "65fc734c-a666-4764-e67f-a2f6b1f04bbf"
      },
      "outputs": [
        {
          "output_type": "stream",
          "name": "stderr",
          "text": [
            "/usr/local/lib/python3.7/dist-packages/distributed/config.py:20: YAMLLoadWarning: calling yaml.load() without Loader=... is deprecated, as the default Loader is unsafe. Please read https://msg.pyyaml.org/load for full details.\n",
            "  defaults = yaml.load(f)\n"
          ]
        }
      ],
      "source": [
        "from pycaret.datasets import get_data\n",
        "from pycaret.internal.pycaret_experiment import TimeSeriesExperiment"
      ]
    },
    {
      "cell_type": "code",
      "execution_count": 5,
      "metadata": {
        "colab": {
          "base_uri": "https://localhost:8080/",
          "height": 426
        },
        "id": "D_Um53_Kv5Wl",
        "outputId": "c8d55c88-e636-429a-8a61-49b3b739bf51"
      },
      "outputs": [
        {
          "output_type": "display_data",
          "data": {
            "text/html": [
              "\n",
              "  <div id=\"df-e9c6f165-68d5-44fb-80cf-e040819686a1\">\n",
              "    <div class=\"colab-df-container\">\n",
              "      <div>\n",
              "<style scoped>\n",
              "    .dataframe tbody tr th:only-of-type {\n",
              "        vertical-align: middle;\n",
              "    }\n",
              "\n",
              "    .dataframe tbody tr th {\n",
              "        vertical-align: top;\n",
              "    }\n",
              "\n",
              "    .dataframe thead th {\n",
              "        text-align: right;\n",
              "    }\n",
              "</style>\n",
              "<table border=\"1\" class=\"dataframe\">\n",
              "  <thead>\n",
              "    <tr style=\"text-align: right;\">\n",
              "      <th></th>\n",
              "      <th>Date</th>\n",
              "      <th>Total</th>\n",
              "    </tr>\n",
              "  </thead>\n",
              "  <tbody>\n",
              "    <tr>\n",
              "      <th>0</th>\n",
              "      <td>7/8/2021</td>\n",
              "      <td>3773</td>\n",
              "    </tr>\n",
              "    <tr>\n",
              "      <th>1</th>\n",
              "      <td>7/9/2021</td>\n",
              "      <td>3172</td>\n",
              "    </tr>\n",
              "    <tr>\n",
              "      <th>2</th>\n",
              "      <td>7/10/2021</td>\n",
              "      <td>2079</td>\n",
              "    </tr>\n",
              "    <tr>\n",
              "      <th>3</th>\n",
              "      <td>7/11/2021</td>\n",
              "      <td>2725</td>\n",
              "    </tr>\n",
              "    <tr>\n",
              "      <th>4</th>\n",
              "      <td>7/12/2021</td>\n",
              "      <td>4542</td>\n",
              "    </tr>\n",
              "  </tbody>\n",
              "</table>\n",
              "</div>\n",
              "      <button class=\"colab-df-convert\" onclick=\"convertToInteractive('df-e9c6f165-68d5-44fb-80cf-e040819686a1')\"\n",
              "              title=\"Convert this dataframe to an interactive table.\"\n",
              "              style=\"display:none;\">\n",
              "        \n",
              "  <svg xmlns=\"http://www.w3.org/2000/svg\" height=\"24px\"viewBox=\"0 0 24 24\"\n",
              "       width=\"24px\">\n",
              "    <path d=\"M0 0h24v24H0V0z\" fill=\"none\"/>\n",
              "    <path d=\"M18.56 5.44l.94 2.06.94-2.06 2.06-.94-2.06-.94-.94-2.06-.94 2.06-2.06.94zm-11 1L8.5 8.5l.94-2.06 2.06-.94-2.06-.94L8.5 2.5l-.94 2.06-2.06.94zm10 10l.94 2.06.94-2.06 2.06-.94-2.06-.94-.94-2.06-.94 2.06-2.06.94z\"/><path d=\"M17.41 7.96l-1.37-1.37c-.4-.4-.92-.59-1.43-.59-.52 0-1.04.2-1.43.59L10.3 9.45l-7.72 7.72c-.78.78-.78 2.05 0 2.83L4 21.41c.39.39.9.59 1.41.59.51 0 1.02-.2 1.41-.59l7.78-7.78 2.81-2.81c.8-.78.8-2.07 0-2.86zM5.41 20L4 18.59l7.72-7.72 1.47 1.35L5.41 20z\"/>\n",
              "  </svg>\n",
              "      </button>\n",
              "      \n",
              "  <style>\n",
              "    .colab-df-container {\n",
              "      display:flex;\n",
              "      flex-wrap:wrap;\n",
              "      gap: 12px;\n",
              "    }\n",
              "\n",
              "    .colab-df-convert {\n",
              "      background-color: #E8F0FE;\n",
              "      border: none;\n",
              "      border-radius: 50%;\n",
              "      cursor: pointer;\n",
              "      display: none;\n",
              "      fill: #1967D2;\n",
              "      height: 32px;\n",
              "      padding: 0 0 0 0;\n",
              "      width: 32px;\n",
              "    }\n",
              "\n",
              "    .colab-df-convert:hover {\n",
              "      background-color: #E2EBFA;\n",
              "      box-shadow: 0px 1px 2px rgba(60, 64, 67, 0.3), 0px 1px 3px 1px rgba(60, 64, 67, 0.15);\n",
              "      fill: #174EA6;\n",
              "    }\n",
              "\n",
              "    [theme=dark] .colab-df-convert {\n",
              "      background-color: #3B4455;\n",
              "      fill: #D2E3FC;\n",
              "    }\n",
              "\n",
              "    [theme=dark] .colab-df-convert:hover {\n",
              "      background-color: #434B5C;\n",
              "      box-shadow: 0px 1px 3px 1px rgba(0, 0, 0, 0.15);\n",
              "      filter: drop-shadow(0px 1px 2px rgba(0, 0, 0, 0.3));\n",
              "      fill: #FFFFFF;\n",
              "    }\n",
              "  </style>\n",
              "\n",
              "      <script>\n",
              "        const buttonEl =\n",
              "          document.querySelector('#df-e9c6f165-68d5-44fb-80cf-e040819686a1 button.colab-df-convert');\n",
              "        buttonEl.style.display =\n",
              "          google.colab.kernel.accessAllowed ? 'block' : 'none';\n",
              "\n",
              "        async function convertToInteractive(key) {\n",
              "          const element = document.querySelector('#df-e9c6f165-68d5-44fb-80cf-e040819686a1');\n",
              "          const dataTable =\n",
              "            await google.colab.kernel.invokeFunction('convertToInteractive',\n",
              "                                                     [key], {});\n",
              "          if (!dataTable) return;\n",
              "\n",
              "          const docLinkHtml = 'Like what you see? Visit the ' +\n",
              "            '<a target=\"_blank\" href=https://colab.research.google.com/notebooks/data_table.ipynb>data table notebook</a>'\n",
              "            + ' to learn more about interactive tables.';\n",
              "          element.innerHTML = '';\n",
              "          dataTable['output_type'] = 'display_data';\n",
              "          await google.colab.output.renderOutput(dataTable, element);\n",
              "          const docLink = document.createElement('div');\n",
              "          docLink.innerHTML = docLinkHtml;\n",
              "          element.appendChild(docLink);\n",
              "        }\n",
              "      </script>\n",
              "    </div>\n",
              "  </div>\n",
              "  "
            ],
            "text/plain": [
              "        Date  Total\n",
              "0   7/8/2021   3773\n",
              "1   7/9/2021   3172\n",
              "2  7/10/2021   2079\n",
              "3  7/11/2021   2725\n",
              "4  7/12/2021   4542"
            ]
          },
          "metadata": {}
        },
        {
          "output_type": "execute_result",
          "data": {
            "text/html": [
              "\n",
              "  <div id=\"df-2a9f58b5-cf07-4bd2-a64d-0ab60ff6e777\">\n",
              "    <div class=\"colab-df-container\">\n",
              "      <div>\n",
              "<style scoped>\n",
              "    .dataframe tbody tr th:only-of-type {\n",
              "        vertical-align: middle;\n",
              "    }\n",
              "\n",
              "    .dataframe tbody tr th {\n",
              "        vertical-align: top;\n",
              "    }\n",
              "\n",
              "    .dataframe thead th {\n",
              "        text-align: right;\n",
              "    }\n",
              "</style>\n",
              "<table border=\"1\" class=\"dataframe\">\n",
              "  <thead>\n",
              "    <tr style=\"text-align: right;\">\n",
              "      <th></th>\n",
              "      <th>Total</th>\n",
              "    </tr>\n",
              "    <tr>\n",
              "      <th>Date</th>\n",
              "      <th></th>\n",
              "    </tr>\n",
              "  </thead>\n",
              "  <tbody>\n",
              "    <tr>\n",
              "      <th>2021-07-08</th>\n",
              "      <td>3773</td>\n",
              "    </tr>\n",
              "    <tr>\n",
              "      <th>2021-07-09</th>\n",
              "      <td>3172</td>\n",
              "    </tr>\n",
              "    <tr>\n",
              "      <th>2021-07-10</th>\n",
              "      <td>2079</td>\n",
              "    </tr>\n",
              "    <tr>\n",
              "      <th>2021-07-11</th>\n",
              "      <td>2725</td>\n",
              "    </tr>\n",
              "    <tr>\n",
              "      <th>2021-07-12</th>\n",
              "      <td>4542</td>\n",
              "    </tr>\n",
              "  </tbody>\n",
              "</table>\n",
              "</div>\n",
              "      <button class=\"colab-df-convert\" onclick=\"convertToInteractive('df-2a9f58b5-cf07-4bd2-a64d-0ab60ff6e777')\"\n",
              "              title=\"Convert this dataframe to an interactive table.\"\n",
              "              style=\"display:none;\">\n",
              "        \n",
              "  <svg xmlns=\"http://www.w3.org/2000/svg\" height=\"24px\"viewBox=\"0 0 24 24\"\n",
              "       width=\"24px\">\n",
              "    <path d=\"M0 0h24v24H0V0z\" fill=\"none\"/>\n",
              "    <path d=\"M18.56 5.44l.94 2.06.94-2.06 2.06-.94-2.06-.94-.94-2.06-.94 2.06-2.06.94zm-11 1L8.5 8.5l.94-2.06 2.06-.94-2.06-.94L8.5 2.5l-.94 2.06-2.06.94zm10 10l.94 2.06.94-2.06 2.06-.94-2.06-.94-.94-2.06-.94 2.06-2.06.94z\"/><path d=\"M17.41 7.96l-1.37-1.37c-.4-.4-.92-.59-1.43-.59-.52 0-1.04.2-1.43.59L10.3 9.45l-7.72 7.72c-.78.78-.78 2.05 0 2.83L4 21.41c.39.39.9.59 1.41.59.51 0 1.02-.2 1.41-.59l7.78-7.78 2.81-2.81c.8-.78.8-2.07 0-2.86zM5.41 20L4 18.59l7.72-7.72 1.47 1.35L5.41 20z\"/>\n",
              "  </svg>\n",
              "      </button>\n",
              "      \n",
              "  <style>\n",
              "    .colab-df-container {\n",
              "      display:flex;\n",
              "      flex-wrap:wrap;\n",
              "      gap: 12px;\n",
              "    }\n",
              "\n",
              "    .colab-df-convert {\n",
              "      background-color: #E8F0FE;\n",
              "      border: none;\n",
              "      border-radius: 50%;\n",
              "      cursor: pointer;\n",
              "      display: none;\n",
              "      fill: #1967D2;\n",
              "      height: 32px;\n",
              "      padding: 0 0 0 0;\n",
              "      width: 32px;\n",
              "    }\n",
              "\n",
              "    .colab-df-convert:hover {\n",
              "      background-color: #E2EBFA;\n",
              "      box-shadow: 0px 1px 2px rgba(60, 64, 67, 0.3), 0px 1px 3px 1px rgba(60, 64, 67, 0.15);\n",
              "      fill: #174EA6;\n",
              "    }\n",
              "\n",
              "    [theme=dark] .colab-df-convert {\n",
              "      background-color: #3B4455;\n",
              "      fill: #D2E3FC;\n",
              "    }\n",
              "\n",
              "    [theme=dark] .colab-df-convert:hover {\n",
              "      background-color: #434B5C;\n",
              "      box-shadow: 0px 1px 3px 1px rgba(0, 0, 0, 0.15);\n",
              "      filter: drop-shadow(0px 1px 2px rgba(0, 0, 0, 0.3));\n",
              "      fill: #FFFFFF;\n",
              "    }\n",
              "  </style>\n",
              "\n",
              "      <script>\n",
              "        const buttonEl =\n",
              "          document.querySelector('#df-2a9f58b5-cf07-4bd2-a64d-0ab60ff6e777 button.colab-df-convert');\n",
              "        buttonEl.style.display =\n",
              "          google.colab.kernel.accessAllowed ? 'block' : 'none';\n",
              "\n",
              "        async function convertToInteractive(key) {\n",
              "          const element = document.querySelector('#df-2a9f58b5-cf07-4bd2-a64d-0ab60ff6e777');\n",
              "          const dataTable =\n",
              "            await google.colab.kernel.invokeFunction('convertToInteractive',\n",
              "                                                     [key], {});\n",
              "          if (!dataTable) return;\n",
              "\n",
              "          const docLinkHtml = 'Like what you see? Visit the ' +\n",
              "            '<a target=\"_blank\" href=https://colab.research.google.com/notebooks/data_table.ipynb>data table notebook</a>'\n",
              "            + ' to learn more about interactive tables.';\n",
              "          element.innerHTML = '';\n",
              "          dataTable['output_type'] = 'display_data';\n",
              "          await google.colab.output.renderOutput(dataTable, element);\n",
              "          const docLink = document.createElement('div');\n",
              "          docLink.innerHTML = docLinkHtml;\n",
              "          element.appendChild(docLink);\n",
              "        }\n",
              "      </script>\n",
              "    </div>\n",
              "  </div>\n",
              "  "
            ],
            "text/plain": [
              "            Total\n",
              "Date             \n",
              "2021-07-08   3773\n",
              "2021-07-09   3172\n",
              "2021-07-10   2079\n",
              "2021-07-11   2725\n",
              "2021-07-12   4542"
            ]
          },
          "metadata": {},
          "execution_count": 5
        }
      ],
      "source": [
        "import pandas as pd\n",
        "from pycaret.datasets import get_data\n",
        "data = get_data('pycaret_downloads')\n",
        "data['Date'] = pd.to_datetime(data['Date'])\n",
        "data = data.groupby('Date').sum()\n",
        "data = data.asfreq('D')\n",
        "data.head()"
      ]
    },
    {
      "cell_type": "code",
      "execution_count": 6,
      "metadata": {
        "colab": {
          "base_uri": "https://localhost:8080/",
          "height": 414
        },
        "id": "wuT8_O-9v5Wo",
        "outputId": "c5a29e26-5243-4610-af53-39b211aa2f45"
      },
      "outputs": [
        {
          "output_type": "execute_result",
          "data": {
            "text/plain": [
              "<matplotlib.axes._subplots.AxesSubplot at 0x7ff14fbc3550>"
            ]
          },
          "metadata": {},
          "execution_count": 6
        },
        {
          "output_type": "display_data",
          "data": {
            "image/png": "[encoded data removed]",
            "text/plain": [
              "<Figure size 576x396 with 1 Axes>"
            ]
          },
          "metadata": {}
        }
      ],
      "source": [
        "data.plot()"
      ]
    },
    {
      "cell_type": "code",
      "execution_count": 8,
      "metadata": {
        "collapsed": true,
        "id": "sxyWqJkOv5Wt"
      },
      "outputs": [],
      "source": [
        "# with functional API\n",
        "from pycaret.time_series import *"
      ]
    },
    {
      "cell_type": "code",
      "execution_count": 9,
      "metadata": {
        "colab": {
          "base_uri": "https://localhost:8080/",
          "height": 576,
          "referenced_widgets": [
            "e5110b76234b453e9b68090ba9b6e52a"
          ]
        },
        "id": "L2WmVDQnv5Wx",
        "outputId": "3dd961d6-b788-4631-eea4-3196a1270daa"
      },
      "outputs": [
        {
          "output_type": "display_data",
          "data": {
            "text/html": [
              "\n",
              "  <div id=\"df-496c47b0-05ab-4f4d-a8ba-c08296d9cacc\">\n",
              "    <div class=\"colab-df-container\">\n",
              "      <div>\n",
              "<style scoped>\n",
              "    .dataframe tbody tr th:only-of-type {\n",
              "        vertical-align: middle;\n",
              "    }\n",
              "\n",
              "    .dataframe tbody tr th {\n",
              "        vertical-align: top;\n",
              "    }\n",
              "\n",
              "    .dataframe thead th {\n",
              "        text-align: right;\n",
              "    }\n",
              "</style>\n",
              "<table border=\"1\" class=\"dataframe\">\n",
              "  <thead>\n",
              "    <tr style=\"text-align: right;\">\n",
              "      <th></th>\n",
              "      <th>Description</th>\n",
              "      <th>Value</th>\n",
              "    </tr>\n",
              "  </thead>\n",
              "  <tbody>\n",
              "    <tr>\n",
              "      <th>0</th>\n",
              "      <td>session_id</td>\n",
              "      <td>123</td>\n",
              "    </tr>\n",
              "    <tr>\n",
              "      <th>1</th>\n",
              "      <td>Original Data</td>\n",
              "      <td>(90, 1)</td>\n",
              "    </tr>\n",
              "    <tr>\n",
              "      <th>2</th>\n",
              "      <td>Missing Values</td>\n",
              "      <td>False</td>\n",
              "    </tr>\n",
              "    <tr>\n",
              "      <th>3</th>\n",
              "      <td>Transformed Train Set</td>\n",
              "      <td>(83,)</td>\n",
              "    </tr>\n",
              "    <tr>\n",
              "      <th>4</th>\n",
              "      <td>Transformed Test Set</td>\n",
              "      <td>(7,)</td>\n",
              "    </tr>\n",
              "    <tr>\n",
              "      <th>5</th>\n",
              "      <td>Fold Generator</td>\n",
              "      <td>ExpandingWindowSplitter</td>\n",
              "    </tr>\n",
              "    <tr>\n",
              "      <th>6</th>\n",
              "      <td>Fold Number</td>\n",
              "      <td>3</td>\n",
              "    </tr>\n",
              "    <tr>\n",
              "      <th>7</th>\n",
              "      <td>Enforce Prediction Interval</td>\n",
              "      <td>False</td>\n",
              "    </tr>\n",
              "    <tr>\n",
              "      <th>8</th>\n",
              "      <td>Seasonal Period Tested</td>\n",
              "      <td>7</td>\n",
              "    </tr>\n",
              "    <tr>\n",
              "      <th>9</th>\n",
              "      <td>Seasonality Detected</td>\n",
              "      <td>True</td>\n",
              "    </tr>\n",
              "    <tr>\n",
              "      <th>10</th>\n",
              "      <td>Seasonality Used in Models</td>\n",
              "      <td>7</td>\n",
              "    </tr>\n",
              "    <tr>\n",
              "      <th>11</th>\n",
              "      <td>Target Strictly Positive</td>\n",
              "      <td>True</td>\n",
              "    </tr>\n",
              "    <tr>\n",
              "      <th>12</th>\n",
              "      <td>Target White Noise</td>\n",
              "      <td>No</td>\n",
              "    </tr>\n",
              "    <tr>\n",
              "      <th>13</th>\n",
              "      <td>Recommended d</td>\n",
              "      <td>1</td>\n",
              "    </tr>\n",
              "    <tr>\n",
              "      <th>14</th>\n",
              "      <td>Recommended Seasonal D</td>\n",
              "      <td>1</td>\n",
              "    </tr>\n",
              "    <tr>\n",
              "      <th>15</th>\n",
              "      <td>CPU Jobs</td>\n",
              "      <td>-1</td>\n",
              "    </tr>\n",
              "    <tr>\n",
              "      <th>16</th>\n",
              "      <td>Use GPU</td>\n",
              "      <td>False</td>\n",
              "    </tr>\n",
              "    <tr>\n",
              "      <th>17</th>\n",
              "      <td>Log Experiment</td>\n",
              "      <td>False</td>\n",
              "    </tr>\n",
              "    <tr>\n",
              "      <th>18</th>\n",
              "      <td>Experiment Name</td>\n",
              "      <td>ts-default-name</td>\n",
              "    </tr>\n",
              "    <tr>\n",
              "      <th>19</th>\n",
              "      <td>USI</td>\n",
              "      <td>794e</td>\n",
              "    </tr>\n",
              "    <tr>\n",
              "      <th>20</th>\n",
              "      <td>Imputation Type</td>\n",
              "      <td>simple</td>\n",
              "    </tr>\n",
              "  </tbody>\n",
              "</table>\n",
              "</div>\n",
              "      <button class=\"colab-df-convert\" onclick=\"convertToInteractive('df-496c47b0-05ab-4f4d-a8ba-c08296d9cacc')\"\n",
              "              title=\"Convert this dataframe to an interactive table.\"\n",
              "              style=\"display:none;\">\n",
              "        \n",
              "  <svg xmlns=\"http://www.w3.org/2000/svg\" height=\"24px\"viewBox=\"0 0 24 24\"\n",
              "       width=\"24px\">\n",
              "    <path d=\"M0 0h24v24H0V0z\" fill=\"none\"/>\n",
              "    <path d=\"M18.56 5.44l.94 2.06.94-2.06 2.06-.94-2.06-.94-.94-2.06-.94 2.06-2.06.94zm-11 1L8.5 8.5l.94-2.06 2.06-.94-2.06-.94L8.5 2.5l-.94 2.06-2.06.94zm10 10l.94 2.06.94-2.06 2.06-.94-2.06-.94-.94-2.06-.94 2.06-2.06.94z\"/><path d=\"M17.41 7.96l-1.37-1.37c-.4-.4-.92-.59-1.43-.59-.52 0-1.04.2-1.43.59L10.3 9.45l-7.72 7.72c-.78.78-.78 2.05 0 2.83L4 21.41c.39.39.9.59 1.41.59.51 0 1.02-.2 1.41-.59l7.78-7.78 2.81-2.81c.8-.78.8-2.07 0-2.86zM5.41 20L4 18.59l7.72-7.72 1.47 1.35L5.41 20z\"/>\n",
              "  </svg>\n",
              "      </button>\n",
              "      \n",
              "  <style>\n",
              "    .colab-df-container {\n",
              "      display:flex;\n",
              "      flex-wrap:wrap;\n",
              "      gap: 12px;\n",
              "    }\n",
              "\n",
              "    .colab-df-convert {\n",
              "      background-color: #E8F0FE;\n",
              "      border: none;\n",
              "      border-radius: 50%;\n",
              "      cursor: pointer;\n",
              "      display: none;\n",
              "      fill: #1967D2;\n",
              "      height: 32px;\n",
              "      padding: 0 0 0 0;\n",
              "      width: 32px;\n",
              "    }\n",
              "\n",
              "    .colab-df-convert:hover {\n",
              "      background-color: #E2EBFA;\n",
              "      box-shadow: 0px 1px 2px rgba(60, 64, 67, 0.3), 0px 1px 3px 1px rgba(60, 64, 67, 0.15);\n",
              "      fill: #174EA6;\n",
              "    }\n",
              "\n",
              "    [theme=dark] .colab-df-convert {\n",
              "      background-color: #3B4455;\n",
              "      fill: #D2E3FC;\n",
              "    }\n",
              "\n",
              "    [theme=dark] .colab-df-convert:hover {\n",
              "      background-color: #434B5C;\n",
              "      box-shadow: 0px 1px 3px 1px rgba(0, 0, 0, 0.15);\n",
              "      filter: drop-shadow(0px 1px 2px rgba(0, 0, 0, 0.3));\n",
              "      fill: #FFFFFF;\n",
              "    }\n",
              "  </style>\n",
              "\n",
              "      <script>\n",
              "        const buttonEl =\n",
              "          document.querySelector('#df-496c47b0-05ab-4f4d-a8ba-c08296d9cacc button.colab-df-convert');\n",
              "        buttonEl.style.display =\n",
              "          google.colab.kernel.accessAllowed ? 'block' : 'none';\n",
              "\n",
              "        async function convertToInteractive(key) {\n",
              "          const element = document.querySelector('#df-496c47b0-05ab-4f4d-a8ba-c08296d9cacc');\n",
              "          const dataTable =\n",
              "            await google.colab.kernel.invokeFunction('convertToInteractive',\n",
              "                                                     [key], {});\n",
              "          if (!dataTable) return;\n",
              "\n",
              "          const docLinkHtml = 'Like what you see? Visit the ' +\n",
              "            '<a target=\"_blank\" href=https://colab.research.google.com/notebooks/data_table.ipynb>data table notebook</a>'\n",
              "            + ' to learn more about interactive tables.';\n",
              "          element.innerHTML = '';\n",
              "          dataTable['output_type'] = 'display_data';\n",
              "          await google.colab.output.renderOutput(dataTable, element);\n",
              "          const docLink = document.createElement('div');\n",
              "          docLink.innerHTML = docLinkHtml;\n",
              "          element.appendChild(docLink);\n",
              "        }\n",
              "      </script>\n",
              "    </div>\n",
              "  </div>\n",
              "  "
            ],
            "text/plain": [
              "                    Description                    Value\n",
              "0                    session_id                      123\n",
              "1                 Original Data                  (90, 1)\n",
              "2                Missing Values                    False\n",
              "3         Transformed Train Set                    (83,)\n",
              "4          Transformed Test Set                     (7,)\n",
              "5                Fold Generator  ExpandingWindowSplitter\n",
              "6                   Fold Number                        3\n",
              "7   Enforce Prediction Interval                    False\n",
              "8        Seasonal Period Tested                        7\n",
              "9          Seasonality Detected                     True\n",
              "10   Seasonality Used in Models                        7\n",
              "11     Target Strictly Positive                     True\n",
              "12           Target White Noise                       No\n",
              "13                Recommended d                        1\n",
              "14       Recommended Seasonal D                        1\n",
              "15                     CPU Jobs                       -1\n",
              "16                      Use GPU                    False\n",
              "17               Log Experiment                    False\n",
              "18              Experiment Name          ts-default-name\n",
              "19                          USI                     794e\n",
              "20              Imputation Type                   simple"
            ]
          },
          "metadata": {}
        },
        {
          "output_type": "execute_result",
          "data": {
            "text/plain": [
              "<pycaret.internal.pycaret_experiment.time_series_experiment.TimeSeriesExperiment at 0x7ff13445ac50>"
            ]
          },
          "metadata": {},
          "execution_count": 9
        }
      ],
      "source": [
        "setup(data, fh = 7, fold = 3, session_id = 123)# with new object-oriented API\n",
        "\n",
        "from pycaret.internal.pycaret_experiment import TimeSeriesExperiment\n",
        "exp = TimeSeriesExperiment()\n",
        "exp.setup(data, fh = 7, fold = 3, session_id = 123)"
      ]
    },
    {
      "cell_type": "code",
      "execution_count": 10,
      "metadata": {
        "colab": {
          "base_uri": "https://localhost:8080/",
          "height": 959
        },
        "id": "N1U-xl08v5W0",
        "outputId": "07f26cc4-3269-433b-99c0-f067497739ce"
      },
      "outputs": [
        {
          "output_type": "execute_result",
          "data": {
            "text/html": [
              "\n",
              "  <div id=\"df-bce43857-f0ae-4e2e-be06-0f66fe29f298\">\n",
              "    <div class=\"colab-df-container\">\n",
              "      <div>\n",
              "<style scoped>\n",
              "    .dataframe tbody tr th:only-of-type {\n",
              "        vertical-align: middle;\n",
              "    }\n",
              "\n",
              "    .dataframe tbody tr th {\n",
              "        vertical-align: top;\n",
              "    }\n",
              "\n",
              "    .dataframe thead th {\n",
              "        text-align: right;\n",
              "    }\n",
              "</style>\n",
              "<table border=\"1\" class=\"dataframe\">\n",
              "  <thead>\n",
              "    <tr style=\"text-align: right;\">\n",
              "      <th></th>\n",
              "      <th>Test</th>\n",
              "      <th>Test Name</th>\n",
              "      <th>Property</th>\n",
              "      <th>Setting</th>\n",
              "      <th>Value</th>\n",
              "    </tr>\n",
              "  </thead>\n",
              "  <tbody>\n",
              "    <tr>\n",
              "      <th>0</th>\n",
              "      <td>Summary</td>\n",
              "      <td>Statistics</td>\n",
              "      <td>Length</td>\n",
              "      <td></td>\n",
              "      <td>90</td>\n",
              "    </tr>\n",
              "    <tr>\n",
              "      <th>1</th>\n",
              "      <td>Summary</td>\n",
              "      <td>Statistics</td>\n",
              "      <td>Mean</td>\n",
              "      <td></td>\n",
              "      <td>4960.37</td>\n",
              "    </tr>\n",
              "    <tr>\n",
              "      <th>2</th>\n",
              "      <td>Summary</td>\n",
              "      <td>Statistics</td>\n",
              "      <td>Median</td>\n",
              "      <td></td>\n",
              "      <td>4776.5</td>\n",
              "    </tr>\n",
              "    <tr>\n",
              "      <th>3</th>\n",
              "      <td>Summary</td>\n",
              "      <td>Statistics</td>\n",
              "      <td>Standard Deviation</td>\n",
              "      <td></td>\n",
              "      <td>1939</td>\n",
              "    </tr>\n",
              "    <tr>\n",
              "      <th>4</th>\n",
              "      <td>Summary</td>\n",
              "      <td>Statistics</td>\n",
              "      <td>Variance</td>\n",
              "      <td></td>\n",
              "      <td>3.75972e+06</td>\n",
              "    </tr>\n",
              "    <tr>\n",
              "      <th>5</th>\n",
              "      <td>Summary</td>\n",
              "      <td>Statistics</td>\n",
              "      <td>Kurtosis</td>\n",
              "      <td></td>\n",
              "      <td>-0.920113</td>\n",
              "    </tr>\n",
              "    <tr>\n",
              "      <th>6</th>\n",
              "      <td>Summary</td>\n",
              "      <td>Statistics</td>\n",
              "      <td>Skewness</td>\n",
              "      <td></td>\n",
              "      <td>0.22622</td>\n",
              "    </tr>\n",
              "    <tr>\n",
              "      <th>7</th>\n",
              "      <td>Summary</td>\n",
              "      <td>Statistics</td>\n",
              "      <td># Distinct Values</td>\n",
              "      <td></td>\n",
              "      <td>89</td>\n",
              "    </tr>\n",
              "    <tr>\n",
              "      <th>8</th>\n",
              "      <td>White Noise</td>\n",
              "      <td>Ljung-Box</td>\n",
              "      <td>Test Statictic</td>\n",
              "      <td>{'alpha': 0.05, 'K': 24}</td>\n",
              "      <td>293.089</td>\n",
              "    </tr>\n",
              "    <tr>\n",
              "      <th>9</th>\n",
              "      <td>White Noise</td>\n",
              "      <td>Ljung-Box</td>\n",
              "      <td>Test Statictic</td>\n",
              "      <td>{'alpha': 0.05, 'K': 48}</td>\n",
              "      <td>460.126</td>\n",
              "    </tr>\n",
              "    <tr>\n",
              "      <th>10</th>\n",
              "      <td>White Noise</td>\n",
              "      <td>Ljung-Box</td>\n",
              "      <td>p-value</td>\n",
              "      <td>{'alpha': 0.05, 'K': 24}</td>\n",
              "      <td>4.11726e-48</td>\n",
              "    </tr>\n",
              "    <tr>\n",
              "      <th>11</th>\n",
              "      <td>White Noise</td>\n",
              "      <td>Ljung-Box</td>\n",
              "      <td>p-value</td>\n",
              "      <td>{'alpha': 0.05, 'K': 48}</td>\n",
              "      <td>1.09758e-68</td>\n",
              "    </tr>\n",
              "    <tr>\n",
              "      <th>12</th>\n",
              "      <td>White Noise</td>\n",
              "      <td>Ljung-Box</td>\n",
              "      <td>White Noise</td>\n",
              "      <td>{'alpha': 0.05, 'K': 24}</td>\n",
              "      <td>False</td>\n",
              "    </tr>\n",
              "    <tr>\n",
              "      <th>13</th>\n",
              "      <td>White Noise</td>\n",
              "      <td>Ljung-Box</td>\n",
              "      <td>White Noise</td>\n",
              "      <td>{'alpha': 0.05, 'K': 48}</td>\n",
              "      <td>False</td>\n",
              "    </tr>\n",
              "    <tr>\n",
              "      <th>14</th>\n",
              "      <td>Stationarity</td>\n",
              "      <td>ADF</td>\n",
              "      <td>Stationarity</td>\n",
              "      <td>{'alpha': 0.05}</td>\n",
              "      <td>False</td>\n",
              "    </tr>\n",
              "    <tr>\n",
              "      <th>15</th>\n",
              "      <td>Stationarity</td>\n",
              "      <td>ADF</td>\n",
              "      <td>p-value</td>\n",
              "      <td>{'alpha': 0.05}</td>\n",
              "      <td>0.958371</td>\n",
              "    </tr>\n",
              "    <tr>\n",
              "      <th>16</th>\n",
              "      <td>Stationarity</td>\n",
              "      <td>ADF</td>\n",
              "      <td>Test Statistic</td>\n",
              "      <td>{'alpha': 0.05}</td>\n",
              "      <td>-0.00194418</td>\n",
              "    </tr>\n",
              "    <tr>\n",
              "      <th>17</th>\n",
              "      <td>Stationarity</td>\n",
              "      <td>ADF</td>\n",
              "      <td>Critical Value 1%</td>\n",
              "      <td>{'alpha': 0.05}</td>\n",
              "      <td>-3.51274</td>\n",
              "    </tr>\n",
              "    <tr>\n",
              "      <th>18</th>\n",
              "      <td>Stationarity</td>\n",
              "      <td>ADF</td>\n",
              "      <td>Critical Value 5%</td>\n",
              "      <td>{'alpha': 0.05}</td>\n",
              "      <td>-2.89749</td>\n",
              "    </tr>\n",
              "    <tr>\n",
              "      <th>19</th>\n",
              "      <td>Stationarity</td>\n",
              "      <td>ADF</td>\n",
              "      <td>Critical Value 10%</td>\n",
              "      <td>{'alpha': 0.05}</td>\n",
              "      <td>-2.58595</td>\n",
              "    </tr>\n",
              "    <tr>\n",
              "      <th>20</th>\n",
              "      <td>Stationarity</td>\n",
              "      <td>KPSS</td>\n",
              "      <td>Trend Stationarity</td>\n",
              "      <td>{'alpha': 0.05}</td>\n",
              "      <td>True</td>\n",
              "    </tr>\n",
              "    <tr>\n",
              "      <th>21</th>\n",
              "      <td>Stationarity</td>\n",
              "      <td>KPSS</td>\n",
              "      <td>p-value</td>\n",
              "      <td>{'alpha': 0.05}</td>\n",
              "      <td>0.1</td>\n",
              "    </tr>\n",
              "    <tr>\n",
              "      <th>22</th>\n",
              "      <td>Stationarity</td>\n",
              "      <td>KPSS</td>\n",
              "      <td>Test Statistic</td>\n",
              "      <td>{'alpha': 0.05}</td>\n",
              "      <td>0.0329083</td>\n",
              "    </tr>\n",
              "    <tr>\n",
              "      <th>23</th>\n",
              "      <td>Stationarity</td>\n",
              "      <td>KPSS</td>\n",
              "      <td>Critical Value 10%</td>\n",
              "      <td>{'alpha': 0.05}</td>\n",
              "      <td>0.119</td>\n",
              "    </tr>\n",
              "    <tr>\n",
              "      <th>24</th>\n",
              "      <td>Stationarity</td>\n",
              "      <td>KPSS</td>\n",
              "      <td>Critical Value 5%</td>\n",
              "      <td>{'alpha': 0.05}</td>\n",
              "      <td>0.146</td>\n",
              "    </tr>\n",
              "    <tr>\n",
              "      <th>25</th>\n",
              "      <td>Stationarity</td>\n",
              "      <td>KPSS</td>\n",
              "      <td>Critical Value 2.5%</td>\n",
              "      <td>{'alpha': 0.05}</td>\n",
              "      <td>0.176</td>\n",
              "    </tr>\n",
              "    <tr>\n",
              "      <th>26</th>\n",
              "      <td>Stationarity</td>\n",
              "      <td>KPSS</td>\n",
              "      <td>Critical Value 1%</td>\n",
              "      <td>{'alpha': 0.05}</td>\n",
              "      <td>0.216</td>\n",
              "    </tr>\n",
              "    <tr>\n",
              "      <th>27</th>\n",
              "      <td>Normality</td>\n",
              "      <td>Shapiro</td>\n",
              "      <td>Normality</td>\n",
              "      <td>{'alpha': 0.05}</td>\n",
              "      <td>False</td>\n",
              "    </tr>\n",
              "    <tr>\n",
              "      <th>28</th>\n",
              "      <td>Normality</td>\n",
              "      <td>Shapiro</td>\n",
              "      <td>p-value</td>\n",
              "      <td>{'alpha': 0.05}</td>\n",
              "      <td>0.0179583</td>\n",
              "    </tr>\n",
              "  </tbody>\n",
              "</table>\n",
              "</div>\n",
              "      <button class=\"colab-df-convert\" onclick=\"convertToInteractive('df-bce43857-f0ae-4e2e-be06-0f66fe29f298')\"\n",
              "              title=\"Convert this dataframe to an interactive table.\"\n",
              "              style=\"display:none;\">\n",
              "        \n",
              "  <svg xmlns=\"http://www.w3.org/2000/svg\" height=\"24px\"viewBox=\"0 0 24 24\"\n",
              "       width=\"24px\">\n",
              "    <path d=\"M0 0h24v24H0V0z\" fill=\"none\"/>\n",
              "    <path d=\"M18.56 5.44l.94 2.06.94-2.06 2.06-.94-2.06-.94-.94-2.06-.94 2.06-2.06.94zm-11 1L8.5 8.5l.94-2.06 2.06-.94-2.06-.94L8.5 2.5l-.94 2.06-2.06.94zm10 10l.94 2.06.94-2.06 2.06-.94-2.06-.94-.94-2.06-.94 2.06-2.06.94z\"/><path d=\"M17.41 7.96l-1.37-1.37c-.4-.4-.92-.59-1.43-.59-.52 0-1.04.2-1.43.59L10.3 9.45l-7.72 7.72c-.78.78-.78 2.05 0 2.83L4 21.41c.39.39.9.59 1.41.59.51 0 1.02-.2 1.41-.59l7.78-7.78 2.81-2.81c.8-.78.8-2.07 0-2.86zM5.41 20L4 18.59l7.72-7.72 1.47 1.35L5.41 20z\"/>\n",
              "  </svg>\n",
              "      </button>\n",
              "      \n",
              "  <style>\n",
              "    .colab-df-container {\n",
              "      display:flex;\n",
              "      flex-wrap:wrap;\n",
              "      gap: 12px;\n",
              "    }\n",
              "\n",
              "    .colab-df-convert {\n",
              "      background-color: #E8F0FE;\n",
              "      border: none;\n",
              "      border-radius: 50%;\n",
              "      cursor: pointer;\n",
              "      display: none;\n",
              "      fill: #1967D2;\n",
              "      height: 32px;\n",
              "      padding: 0 0 0 0;\n",
              "      width: 32px;\n",
              "    }\n",
              "\n",
              "    .colab-df-convert:hover {\n",
              "      background-color: #E2EBFA;\n",
              "      box-shadow: 0px 1px 2px rgba(60, 64, 67, 0.3), 0px 1px 3px 1px rgba(60, 64, 67, 0.15);\n",
              "      fill: #174EA6;\n",
              "    }\n",
              "\n",
              "    [theme=dark] .colab-df-convert {\n",
              "      background-color: #3B4455;\n",
              "      fill: #D2E3FC;\n",
              "    }\n",
              "\n",
              "    [theme=dark] .colab-df-convert:hover {\n",
              "      background-color: #434B5C;\n",
              "      box-shadow: 0px 1px 3px 1px rgba(0, 0, 0, 0.15);\n",
              "      filter: drop-shadow(0px 1px 2px rgba(0, 0, 0, 0.3));\n",
              "      fill: #FFFFFF;\n",
              "    }\n",
              "  </style>\n",
              "\n",
              "      <script>\n",
              "        const buttonEl =\n",
              "          document.querySelector('#df-bce43857-f0ae-4e2e-be06-0f66fe29f298 button.colab-df-convert');\n",
              "        buttonEl.style.display =\n",
              "          google.colab.kernel.accessAllowed ? 'block' : 'none';\n",
              "\n",
              "        async function convertToInteractive(key) {\n",
              "          const element = document.querySelector('#df-bce43857-f0ae-4e2e-be06-0f66fe29f298');\n",
              "          const dataTable =\n",
              "            await google.colab.kernel.invokeFunction('convertToInteractive',\n",
              "                                                     [key], {});\n",
              "          if (!dataTable) return;\n",
              "\n",
              "          const docLinkHtml = 'Like what you see? Visit the ' +\n",
              "            '<a target=\"_blank\" href=https://colab.research.google.com/notebooks/data_table.ipynb>data table notebook</a>'\n",
              "            + ' to learn more about interactive tables.';\n",
              "          element.innerHTML = '';\n",
              "          dataTable['output_type'] = 'display_data';\n",
              "          await google.colab.output.renderOutput(dataTable, element);\n",
              "          const docLink = document.createElement('div');\n",
              "          docLink.innerHTML = docLinkHtml;\n",
              "          element.appendChild(docLink);\n",
              "        }\n",
              "      </script>\n",
              "    </div>\n",
              "  </div>\n",
              "  "
            ],
            "text/plain": [
              "            Test   Test Name  ...                   Setting        Value\n",
              "0        Summary  Statistics  ...                                     90\n",
              "1        Summary  Statistics  ...                                4960.37\n",
              "2        Summary  Statistics  ...                                 4776.5\n",
              "3        Summary  Statistics  ...                                   1939\n",
              "4        Summary  Statistics  ...                            3.75972e+06\n",
              "5        Summary  Statistics  ...                              -0.920113\n",
              "6        Summary  Statistics  ...                                0.22622\n",
              "7        Summary  Statistics  ...                                     89\n",
              "8    White Noise   Ljung-Box  ...  {'alpha': 0.05, 'K': 24}      293.089\n",
              "9    White Noise   Ljung-Box  ...  {'alpha': 0.05, 'K': 48}      460.126\n",
              "10   White Noise   Ljung-Box  ...  {'alpha': 0.05, 'K': 24}  4.11726e-48\n",
              "11   White Noise   Ljung-Box  ...  {'alpha': 0.05, 'K': 48}  1.09758e-68\n",
              "12   White Noise   Ljung-Box  ...  {'alpha': 0.05, 'K': 24}        False\n",
              "13   White Noise   Ljung-Box  ...  {'alpha': 0.05, 'K': 48}        False\n",
              "14  Stationarity         ADF  ...           {'alpha': 0.05}        False\n",
              "15  Stationarity         ADF  ...           {'alpha': 0.05}     0.958371\n",
              "16  Stationarity         ADF  ...           {'alpha': 0.05}  -0.00194418\n",
              "17  Stationarity         ADF  ...           {'alpha': 0.05}     -3.51274\n",
              "18  Stationarity         ADF  ...           {'alpha': 0.05}     -2.89749\n",
              "19  Stationarity         ADF  ...           {'alpha': 0.05}     -2.58595\n",
              "20  Stationarity        KPSS  ...           {'alpha': 0.05}         True\n",
              "21  Stationarity        KPSS  ...           {'alpha': 0.05}          0.1\n",
              "22  Stationarity        KPSS  ...           {'alpha': 0.05}    0.0329083\n",
              "23  Stationarity        KPSS  ...           {'alpha': 0.05}        0.119\n",
              "24  Stationarity        KPSS  ...           {'alpha': 0.05}        0.146\n",
              "25  Stationarity        KPSS  ...           {'alpha': 0.05}        0.176\n",
              "26  Stationarity        KPSS  ...           {'alpha': 0.05}        0.216\n",
              "27     Normality     Shapiro  ...           {'alpha': 0.05}        False\n",
              "28     Normality     Shapiro  ...           {'alpha': 0.05}    0.0179583\n",
              "\n",
              "[29 rows x 5 columns]"
            ]
          },
          "metadata": {},
          "execution_count": 10
        }
      ],
      "source": [
        "check_stats()"
      ]
    },
    {
      "cell_type": "code",
      "execution_count": 11,
      "metadata": {
        "colab": {
          "base_uri": "https://localhost:8080/",
          "height": 1000
        },
        "id": "1VZSoRM-v5W3",
        "outputId": "62073de7-f5f8-4964-e737-677b956a1c1c"
      },
      "outputs": [
        {
          "output_type": "display_data",
          "data": {
            "text/html": [
              "<html>\n",
              "<head><meta charset=\"utf-8\" /></head>\n",
              "<body>\n",
              "    <div>            <script src=\"https://cdnjs.cloudflare.com/ajax/libs/mathjax/2.7.5/MathJax.js?config=TeX-AMS-MML_SVG\"></script><script type=\"text/javascript\">if (window.MathJax) {MathJax.Hub.Config({SVG: {font: \"STIX-Web\"}});}</script>                <script type=\"text/javascript\">window.PlotlyConfig = {MathJaxConfig: 'local'};</script>\n",
              "        <script src=\"https://cdn.plot.ly/plotly-2.8.3.min.js\"></script>                <div id=\"3f2f7802-8bc2-425c-8ec4-8da5a5d7feb1\" class=\"plotly-graph-div\" style=\"height:525px; width:100%;\"></div>            <script type=\"text/javascript\">                                    window.PLOTLYENV=window.PLOTLYENV || {};                                    if (document.getElementById(\"3f2f7802-8bc2-425c-8ec4-8da5a5d7feb1\")) {                    Plotly.newPlot(                        \"3f2f7802-8bc2-425c-8ec4-8da5a5d7feb1\",                        [{\"marker\":{\"color\":\"#3f3f3f\",\"size\":5},\"mode\":\"lines+markers\",\"name\":\"Time Series\",\"showlegend\":true,\"x\":[\"2021-07-08T00:00:00\",\"2021-07-09T00:00:00\",\"2021-07-10T00:00:00\",\"2021-07-11T00:00:00\",\"2021-07-12T00:00:00\",\"2021-07-13T00:00:00\",\"2021-07-14T00:00:00\",\"2021-07-15T00:00:00\",\"2021-07-16T00:00:00\",\"2021-07-17T00:00:00\",\"2021-07-18T00:00:00\",\"2021-07-19T00:00:00\",\"2021-07-20T00:00:00\",\"2021-07-21T00:00:00\",\"2021-07-22T00:00:00\",\"2021-07-23T00:00:00\",\"2021-07-24T00:00:00\",\"2021-07-25T00:00:00\",\"2021-07-26T00:00:00\",\"2021-07-27T00:00:00\",\"2021-07-28T00:00:00\",\"2021-07-29T00:00:00\",\"2021-07-30T00:00:00\",\"2021-07-31T00:00:00\",\"2021-08-01T00:00:00\",\"2021-08-02T00:00:00\",\"2021-08-03T00:00:00\",\"2021-08-04T00:00:00\",\"2021-08-05T00:00:00\",\"2021-08-06T00:00:00\",\"2021-08-07T00:00:00\",\"2021-08-08T00:00:00\",\"2021-08-09T00:00:00\",\"2021-08-10T00:00:00\",\"2021-08-11T00:00:00\",\"2021-08-12T00:00:00\",\"2021-08-13T00:00:00\",\"2021-08-14T00:00:00\",\"2021-08-15T00:00:00\",\"2021-08-16T00:00:00\",\"2021-08-17T00:00:00\",\"2021-08-18T00:00:00\",\"2021-08-19T00:00:00\",\"2021-08-20T00:00:00\",\"2021-08-21T00:00:00\",\"2021-08-22T00:00:00\",\"2021-08-23T00:00:00\",\"2021-08-24T00:00:00\",\"2021-08-25T00:00:00\",\"2021-08-26T00:00:00\",\"2021-08-27T00:00:00\",\"2021-08-28T00:00:00\",\"2021-08-29T00:00:00\",\"2021-08-30T00:00:00\",\"2021-08-31T00:00:00\",\"2021-09-01T00:00:00\",\"2021-09-02T00:00:00\",\"2021-09-03T00:00:00\",\"2021-09-04T00:00:00\",\"2021-09-05T00:00:00\",\"2021-09-06T00:00:00\",\"2021-09-07T00:00:00\",\"2021-09-08T00:00:00\",\"2021-09-09T00:00:00\",\"2021-09-10T00:00:00\",\"2021-09-11T00:00:00\",\"2021-09-12T00:00:00\",\"2021-09-13T00:00:00\",\"2021-09-14T00:00:00\",\"2021-09-15T00:00:00\",\"2021-09-16T00:00:00\",\"2021-09-17T00:00:00\",\"2021-09-18T00:00:00\",\"2021-09-19T00:00:00\",\"2021-09-20T00:00:00\",\"2021-09-21T00:00:00\",\"2021-09-22T00:00:00\",\"2021-09-23T00:00:00\",\"2021-09-24T00:00:00\",\"2021-09-25T00:00:00\",\"2021-09-26T00:00:00\",\"2021-09-27T00:00:00\",\"2021-09-28T00:00:00\",\"2021-09-29T00:00:00\",\"2021-09-30T00:00:00\",\"2021-10-01T00:00:00\",\"2021-10-02T00:00:00\",\"2021-10-03T00:00:00\",\"2021-10-04T00:00:00\",\"2021-10-05T00:00:00\"],\"y\":[3773,3172,2079,2725,4542,3795,3941,4064,3474,2093,2426,4339,4064,4224,4603,4369,2532,3276,4917,4430,4977,5193,4001,1996,2538,4764,5651,5777,4789,3782,1920,2526,4481,6034,5006,4450,3112,1914,2359,3948,5727,6365,6323,5151,1947,3128,7999,7104,6457,6643,5355,2341,2367,5592,6770,6877,7272,6279,2741,2483,5456,6082,6139,5865,6362,3132,2681,5788,7001,6721,7556,7278,4026,3514,6476,7863,8418,8290,7189,3567,4088,7418,8765,7798,9212,7115,3903,5038,7843,8872],\"type\":\"scatter\"}],                        {\"title\":{\"text\":\"Time Series | Total\"},\"xaxis\":{\"title\":{\"text\":\"Time\"}},\"yaxis\":{\"title\":{\"text\":\"Values\"}},\"template\":{\"data\":{\"barpolar\":[{\"marker\":{\"line\":{\"color\":\"rgb(237,237,237)\",\"width\":0.5},\"pattern\":{\"fillmode\":\"overlay\",\"size\":10,\"solidity\":0.2}},\"type\":\"barpolar\"}],\"bar\":[{\"error_x\":{\"color\":\"rgb(51,51,51)\"},\"error_y\":{\"color\":\"rgb(51,51,51)\"},\"marker\":{\"line\":{\"color\":\"rgb(237,237,237)\",\"width\":0.5},\"pattern\":{\"fillmode\":\"overlay\",\"size\":10,\"solidity\":0.2}},\"type\":\"bar\"}],\"carpet\":[{\"aaxis\":{\"endlinecolor\":\"rgb(51,51,51)\",\"gridcolor\":\"white\",\"linecolor\":\"white\",\"minorgridcolor\":\"white\",\"startlinecolor\":\"rgb(51,51,51)\"},\"baxis\":{\"endlinecolor\":\"rgb(51,51,51)\",\"gridcolor\":\"white\",\"linecolor\":\"white\",\"minorgridcolor\":\"white\",\"startlinecolor\":\"rgb(51,51,51)\"},\"type\":\"carpet\"}],\"choropleth\":[{\"colorbar\":{\"outlinewidth\":0,\"tickcolor\":\"rgb(237,237,237)\",\"ticklen\":6,\"ticks\":\"inside\"},\"type\":\"choropleth\"}],\"contourcarpet\":[{\"colorbar\":{\"outlinewidth\":0,\"tickcolor\":\"rgb(237,237,237)\",\"ticklen\":6,\"ticks\":\"inside\"},\"type\":\"contourcarpet\"}],\"contour\":[{\"colorbar\":{\"outlinewidth\":0,\"tickcolor\":\"rgb(237,237,237)\",\"ticklen\":6,\"ticks\":\"inside\"},\"colorscale\":[[0,\"rgb(20,44,66)\"],[1,\"rgb(90,179,244)\"]],\"type\":\"contour\"}],\"heatmapgl\":[{\"colorbar\":{\"outlinewidth\":0,\"tickcolor\":\"rgb(237,237,237)\",\"ticklen\":6,\"ticks\":\"inside\"},\"colorscale\":[[0,\"rgb(20,44,66)\"],[1,\"rgb(90,179,244)\"]],\"type\":\"heatmapgl\"}],\"heatmap\":[{\"colorbar\":{\"outlinewidth\":0,\"tickcolor\":\"rgb(237,237,237)\",\"ticklen\":6,\"ticks\":\"inside\"},\"colorscale\":[[0,\"rgb(20,44,66)\"],[1,\"rgb(90,179,244)\"]],\"type\":\"heatmap\"}],\"histogram2dcontour\":[{\"colorbar\":{\"outlinewidth\":0,\"tickcolor\":\"rgb(237,237,237)\",\"ticklen\":6,\"ticks\":\"inside\"},\"colorscale\":[[0,\"rgb(20,44,66)\"],[1,\"rgb(90,179,244)\"]],\"type\":\"histogram2dcontour\"}],\"histogram2d\":[{\"colorbar\":{\"outlinewidth\":0,\"tickcolor\":\"rgb(237,237,237)\",\"ticklen\":6,\"ticks\":\"inside\"},\"colorscale\":[[0,\"rgb(20,44,66)\"],[1,\"rgb(90,179,244)\"]],\"type\":\"histogram2d\"}],\"histogram\":[{\"marker\":{\"pattern\":{\"fillmode\":\"overlay\",\"size\":10,\"solidity\":0.2}},\"type\":\"histogram\"}],\"mesh3d\":[{\"colorbar\":{\"outlinewidth\":0,\"tickcolor\":\"rgb(237,237,237)\",\"ticklen\":6,\"ticks\":\"inside\"},\"type\":\"mesh3d\"}],\"parcoords\":[{\"line\":{\"colorbar\":{\"outlinewidth\":0,\"tickcolor\":\"rgb(237,237,237)\",\"ticklen\":6,\"ticks\":\"inside\"}},\"type\":\"parcoords\"}],\"pie\":[{\"automargin\":true,\"type\":\"pie\"}],\"scatter3d\":[{\"line\":{\"colorbar\":{\"outlinewidth\":0,\"tickcolor\":\"rgb(237,237,237)\",\"ticklen\":6,\"ticks\":\"inside\"}},\"marker\":{\"colorbar\":{\"outlinewidth\":0,\"tickcolor\":\"rgb(237,237,237)\",\"ticklen\":6,\"ticks\":\"inside\"}},\"type\":\"scatter3d\"}],\"scattercarpet\":[{\"marker\":{\"colorbar\":{\"outlinewidth\":0,\"tickcolor\":\"rgb(237,237,237)\",\"ticklen\":6,\"ticks\":\"inside\"}},\"type\":\"scattercarpet\"}],\"scattergeo\":[{\"marker\":{\"colorbar\":{\"outlinewidth\":0,\"tickcolor\":\"rgb(237,237,237)\",\"ticklen\":6,\"ticks\":\"inside\"}},\"type\":\"scattergeo\"}],\"scattergl\":[{\"marker\":{\"colorbar\":{\"outlinewidth\":0,\"tickcolor\":\"rgb(237,237,237)\",\"ticklen\":6,\"ticks\":\"inside\"}},\"type\":\"scattergl\"}],\"scattermapbox\":[{\"marker\":{\"colorbar\":{\"outlinewidth\":0,\"tickcolor\":\"rgb(237,237,237)\",\"ticklen\":6,\"ticks\":\"inside\"}},\"type\":\"scattermapbox\"}],\"scatterpolargl\":[{\"marker\":{\"colorbar\":{\"outlinewidth\":0,\"tickcolor\":\"rgb(237,237,237)\",\"ticklen\":6,\"ticks\":\"inside\"}},\"type\":\"scatterpolargl\"}],\"scatterpolar\":[{\"marker\":{\"colorbar\":{\"outlinewidth\":0,\"tickcolor\":\"rgb(237,237,237)\",\"ticklen\":6,\"ticks\":\"inside\"}},\"type\":\"scatterpolar\"}],\"scatter\":[{\"marker\":{\"colorbar\":{\"outlinewidth\":0,\"tickcolor\":\"rgb(237,237,237)\",\"ticklen\":6,\"ticks\":\"inside\"}},\"type\":\"scatter\"}],\"scatterternary\":[{\"marker\":{\"colorbar\":{\"outlinewidth\":0,\"tickcolor\":\"rgb(237,237,237)\",\"ticklen\":6,\"ticks\":\"inside\"}},\"type\":\"scatterternary\"}],\"surface\":[{\"colorbar\":{\"outlinewidth\":0,\"tickcolor\":\"rgb(237,237,237)\",\"ticklen\":6,\"ticks\":\"inside\"},\"colorscale\":[[0,\"rgb(20,44,66)\"],[1,\"rgb(90,179,244)\"]],\"type\":\"surface\"}],\"table\":[{\"cells\":{\"fill\":{\"color\":\"rgb(237,237,237)\"},\"line\":{\"color\":\"white\"}},\"header\":{\"fill\":{\"color\":\"rgb(217,217,217)\"},\"line\":{\"color\":\"white\"}},\"type\":\"table\"}]},\"layout\":{\"annotationdefaults\":{\"arrowhead\":0,\"arrowwidth\":1},\"autotypenumbers\":\"strict\",\"coloraxis\":{\"colorbar\":{\"outlinewidth\":0,\"tickcolor\":\"rgb(237,237,237)\",\"ticklen\":6,\"ticks\":\"inside\"}},\"colorscale\":{\"sequential\":[[0,\"rgb(20,44,66)\"],[1,\"rgb(90,179,244)\"]],\"sequentialminus\":[[0,\"rgb(20,44,66)\"],[1,\"rgb(90,179,244)\"]]},\"colorway\":[\"#F8766D\",\"#A3A500\",\"#00BF7D\",\"#00B0F6\",\"#E76BF3\"],\"font\":{\"color\":\"rgb(51,51,51)\"},\"geo\":{\"bgcolor\":\"white\",\"lakecolor\":\"white\",\"landcolor\":\"rgb(237,237,237)\",\"showlakes\":true,\"showland\":true,\"subunitcolor\":\"white\"},\"hoverlabel\":{\"align\":\"left\"},\"hovermode\":\"closest\",\"paper_bgcolor\":\"white\",\"plot_bgcolor\":\"rgb(237,237,237)\",\"polar\":{\"angularaxis\":{\"gridcolor\":\"white\",\"linecolor\":\"white\",\"showgrid\":true,\"tickcolor\":\"rgb(51,51,51)\",\"ticks\":\"outside\"},\"bgcolor\":\"rgb(237,237,237)\",\"radialaxis\":{\"gridcolor\":\"white\",\"linecolor\":\"white\",\"showgrid\":true,\"tickcolor\":\"rgb(51,51,51)\",\"ticks\":\"outside\"}},\"scene\":{\"xaxis\":{\"backgroundcolor\":\"rgb(237,237,237)\",\"gridcolor\":\"white\",\"gridwidth\":2,\"linecolor\":\"white\",\"showbackground\":true,\"showgrid\":true,\"tickcolor\":\"rgb(51,51,51)\",\"ticks\":\"outside\",\"zerolinecolor\":\"white\"},\"yaxis\":{\"backgroundcolor\":\"rgb(237,237,237)\",\"gridcolor\":\"white\",\"gridwidth\":2,\"linecolor\":\"white\",\"showbackground\":true,\"showgrid\":true,\"tickcolor\":\"rgb(51,51,51)\",\"ticks\":\"outside\",\"zerolinecolor\":\"white\"},\"zaxis\":{\"backgroundcolor\":\"rgb(237,237,237)\",\"gridcolor\":\"white\",\"gridwidth\":2,\"linecolor\":\"white\",\"showbackground\":true,\"showgrid\":true,\"tickcolor\":\"rgb(51,51,51)\",\"ticks\":\"outside\",\"zerolinecolor\":\"white\"}},\"shapedefaults\":{\"fillcolor\":\"black\",\"line\":{\"width\":0},\"opacity\":0.3},\"ternary\":{\"aaxis\":{\"gridcolor\":\"white\",\"linecolor\":\"white\",\"showgrid\":true,\"tickcolor\":\"rgb(51,51,51)\",\"ticks\":\"outside\"},\"baxis\":{\"gridcolor\":\"white\",\"linecolor\":\"white\",\"showgrid\":true,\"tickcolor\":\"rgb(51,51,51)\",\"ticks\":\"outside\"},\"bgcolor\":\"rgb(237,237,237)\",\"caxis\":{\"gridcolor\":\"white\",\"linecolor\":\"white\",\"showgrid\":true,\"tickcolor\":\"rgb(51,51,51)\",\"ticks\":\"outside\"}},\"xaxis\":{\"automargin\":true,\"gridcolor\":\"white\",\"linecolor\":\"white\",\"showgrid\":true,\"tickcolor\":\"rgb(51,51,51)\",\"ticks\":\"outside\",\"title\":{\"standoff\":15},\"zerolinecolor\":\"white\"},\"yaxis\":{\"automargin\":true,\"gridcolor\":\"white\",\"linecolor\":\"white\",\"showgrid\":true,\"tickcolor\":\"rgb(51,51,51)\",\"ticks\":\"outside\",\"title\":{\"standoff\":15},\"zerolinecolor\":\"white\"}}},\"showlegend\":true},                        {\"responsive\": true}                    ).then(function(){\n",
              "                            \n",
              "var gd = document.getElementById('3f2f7802-8bc2-425c-8ec4-8da5a5d7feb1');\n",
              "var x = new MutationObserver(function (mutations, observer) {{\n",
              "        var display = window.getComputedStyle(gd).display;\n",
              "        if (!display || display === 'none') {{\n",
              "            console.log([gd, 'removed!']);\n",
              "            Plotly.purge(gd);\n",
              "            observer.disconnect();\n",
              "        }}\n",
              "}});\n",
              "\n",
              "// Listen for the removal of the full notebook cells\n",
              "var notebookContainer = gd.closest('#notebook-container');\n",
              "if (notebookContainer) {{\n",
              "    x.observe(notebookContainer, {childList: true});\n",
              "}}\n",
              "\n",
              "// Listen for the clearing of the current output cell\n",
              "var outputEl = gd.closest('.output');\n",
              "if (outputEl) {{\n",
              "    x.observe(outputEl, {childList: true});\n",
              "}}\n",
              "\n",
              "                        })                };                            </script>        </div>\n",
              "</body>\n",
              "</html>"
            ]
          },
          "metadata": {}
        },
        {
          "output_type": "display_data",
          "data": {
            "text/html": [
              "<html>\n",
              "<head><meta charset=\"utf-8\" /></head>\n",
              "<body>\n",
              "    <div>            <script src=\"https://cdnjs.cloudflare.com/ajax/libs/mathjax/2.7.5/MathJax.js?config=TeX-AMS-MML_SVG\"></script><script type=\"text/javascript\">if (window.MathJax) {MathJax.Hub.Config({SVG: {font: \"STIX-Web\"}});}</script>                <script type=\"text/javascript\">window.PlotlyConfig = {MathJaxConfig: 'local'};</script>\n",
              "        <script src=\"https://cdn.plot.ly/plotly-2.8.3.min.js\"></script>                <div id=\"52cc4447-a80b-4b5b-b323-215f24fa8ab5\" class=\"plotly-graph-div\" style=\"height:525px; width:100%;\"></div>            <script type=\"text/javascript\">                                    window.PLOTLYENV=window.PLOTLYENV || {};                                    if (document.getElementById(\"52cc4447-a80b-4b5b-b323-215f24fa8ab5\")) {                    Plotly.newPlot(                        \"52cc4447-a80b-4b5b-b323-215f24fa8ab5\",                        [{\"marker\":{\"color\":\"#3f3f3f\",\"size\":5},\"mode\":\"lines+markers\",\"name\":\"Time Series\",\"showlegend\":true,\"x\":[\"2021-07-08T00:00:00\",\"2021-07-09T00:00:00\",\"2021-07-10T00:00:00\",\"2021-07-11T00:00:00\",\"2021-07-12T00:00:00\",\"2021-07-13T00:00:00\",\"2021-07-14T00:00:00\",\"2021-07-15T00:00:00\",\"2021-07-16T00:00:00\",\"2021-07-17T00:00:00\",\"2021-07-18T00:00:00\",\"2021-07-19T00:00:00\",\"2021-07-20T00:00:00\",\"2021-07-21T00:00:00\",\"2021-07-22T00:00:00\",\"2021-07-23T00:00:00\",\"2021-07-24T00:00:00\",\"2021-07-25T00:00:00\",\"2021-07-26T00:00:00\",\"2021-07-27T00:00:00\",\"2021-07-28T00:00:00\",\"2021-07-29T00:00:00\",\"2021-07-30T00:00:00\",\"2021-07-31T00:00:00\",\"2021-08-01T00:00:00\",\"2021-08-02T00:00:00\",\"2021-08-03T00:00:00\",\"2021-08-04T00:00:00\",\"2021-08-05T00:00:00\",\"2021-08-06T00:00:00\",\"2021-08-07T00:00:00\",\"2021-08-08T00:00:00\",\"2021-08-09T00:00:00\",\"2021-08-10T00:00:00\",\"2021-08-11T00:00:00\",\"2021-08-12T00:00:00\",\"2021-08-13T00:00:00\",\"2021-08-14T00:00:00\",\"2021-08-15T00:00:00\",\"2021-08-16T00:00:00\",\"2021-08-17T00:00:00\",\"2021-08-18T00:00:00\",\"2021-08-19T00:00:00\",\"2021-08-20T00:00:00\",\"2021-08-21T00:00:00\",\"2021-08-22T00:00:00\",\"2021-08-23T00:00:00\",\"2021-08-24T00:00:00\",\"2021-08-25T00:00:00\",\"2021-08-26T00:00:00\",\"2021-08-27T00:00:00\",\"2021-08-28T00:00:00\",\"2021-08-29T00:00:00\",\"2021-08-30T00:00:00\",\"2021-08-31T00:00:00\",\"2021-09-01T00:00:00\",\"2021-09-02T00:00:00\",\"2021-09-03T00:00:00\",\"2021-09-04T00:00:00\",\"2021-09-05T00:00:00\",\"2021-09-06T00:00:00\",\"2021-09-07T00:00:00\",\"2021-09-08T00:00:00\",\"2021-09-09T00:00:00\",\"2021-09-10T00:00:00\",\"2021-09-11T00:00:00\",\"2021-09-12T00:00:00\",\"2021-09-13T00:00:00\",\"2021-09-14T00:00:00\",\"2021-09-15T00:00:00\",\"2021-09-16T00:00:00\",\"2021-09-17T00:00:00\",\"2021-09-18T00:00:00\",\"2021-09-19T00:00:00\",\"2021-09-20T00:00:00\",\"2021-09-21T00:00:00\",\"2021-09-22T00:00:00\",\"2021-09-23T00:00:00\",\"2021-09-24T00:00:00\",\"2021-09-25T00:00:00\",\"2021-09-26T00:00:00\",\"2021-09-27T00:00:00\",\"2021-09-28T00:00:00\",\"2021-09-29T00:00:00\",\"2021-09-30T00:00:00\",\"2021-10-01T00:00:00\",\"2021-10-02T00:00:00\",\"2021-10-03T00:00:00\",\"2021-10-04T00:00:00\",\"2021-10-05T00:00:00\"],\"y\":[3773,3172,2079,2725,4542,3795,3941,4064,3474,2093,2426,4339,4064,4224,4603,4369,2532,3276,4917,4430,4977,5193,4001,1996,2538,4764,5651,5777,4789,3782,1920,2526,4481,6034,5006,4450,3112,1914,2359,3948,5727,6365,6323,5151,1947,3128,7999,7104,6457,6643,5355,2341,2367,5592,6770,6877,7272,6279,2741,2483,5456,6082,6139,5865,6362,3132,2681,5788,7001,6721,7556,7278,4026,3514,6476,7863,8418,8290,7189,3567,4088,7418,8765,7798,9212,7115,3903,5038,7843,8872],\"type\":\"scatter\"}],                        {\"title\":{\"text\":\"Time Series | Total\"},\"xaxis\":{\"title\":{\"text\":\"Time\"}},\"yaxis\":{\"title\":{\"text\":\"Values\"}},\"template\":{\"data\":{\"barpolar\":[{\"marker\":{\"line\":{\"color\":\"rgb(237,237,237)\",\"width\":0.5},\"pattern\":{\"fillmode\":\"overlay\",\"size\":10,\"solidity\":0.2}},\"type\":\"barpolar\"}],\"bar\":[{\"error_x\":{\"color\":\"rgb(51,51,51)\"},\"error_y\":{\"color\":\"rgb(51,51,51)\"},\"marker\":{\"line\":{\"color\":\"rgb(237,237,237)\",\"width\":0.5},\"pattern\":{\"fillmode\":\"overlay\",\"size\":10,\"solidity\":0.2}},\"type\":\"bar\"}],\"carpet\":[{\"aaxis\":{\"endlinecolor\":\"rgb(51,51,51)\",\"gridcolor\":\"white\",\"linecolor\":\"white\",\"minorgridcolor\":\"white\",\"startlinecolor\":\"rgb(51,51,51)\"},\"baxis\":{\"endlinecolor\":\"rgb(51,51,51)\",\"gridcolor\":\"white\",\"linecolor\":\"white\",\"minorgridcolor\":\"white\",\"startlinecolor\":\"rgb(51,51,51)\"},\"type\":\"carpet\"}],\"choropleth\":[{\"colorbar\":{\"outlinewidth\":0,\"tickcolor\":\"rgb(237,237,237)\",\"ticklen\":6,\"ticks\":\"inside\"},\"type\":\"choropleth\"}],\"contourcarpet\":[{\"colorbar\":{\"outlinewidth\":0,\"tickcolor\":\"rgb(237,237,237)\",\"ticklen\":6,\"ticks\":\"inside\"},\"type\":\"contourcarpet\"}],\"contour\":[{\"colorbar\":{\"outlinewidth\":0,\"tickcolor\":\"rgb(237,237,237)\",\"ticklen\":6,\"ticks\":\"inside\"},\"colorscale\":[[0,\"rgb(20,44,66)\"],[1,\"rgb(90,179,244)\"]],\"type\":\"contour\"}],\"heatmapgl\":[{\"colorbar\":{\"outlinewidth\":0,\"tickcolor\":\"rgb(237,237,237)\",\"ticklen\":6,\"ticks\":\"inside\"},\"colorscale\":[[0,\"rgb(20,44,66)\"],[1,\"rgb(90,179,244)\"]],\"type\":\"heatmapgl\"}],\"heatmap\":[{\"colorbar\":{\"outlinewidth\":0,\"tickcolor\":\"rgb(237,237,237)\",\"ticklen\":6,\"ticks\":\"inside\"},\"colorscale\":[[0,\"rgb(20,44,66)\"],[1,\"rgb(90,179,244)\"]],\"type\":\"heatmap\"}],\"histogram2dcontour\":[{\"colorbar\":{\"outlinewidth\":0,\"tickcolor\":\"rgb(237,237,237)\",\"ticklen\":6,\"ticks\":\"inside\"},\"colorscale\":[[0,\"rgb(20,44,66)\"],[1,\"rgb(90,179,244)\"]],\"type\":\"histogram2dcontour\"}],\"histogram2d\":[{\"colorbar\":{\"outlinewidth\":0,\"tickcolor\":\"rgb(237,237,237)\",\"ticklen\":6,\"ticks\":\"inside\"},\"colorscale\":[[0,\"rgb(20,44,66)\"],[1,\"rgb(90,179,244)\"]],\"type\":\"histogram2d\"}],\"histogram\":[{\"marker\":{\"pattern\":{\"fillmode\":\"overlay\",\"size\":10,\"solidity\":0.2}},\"type\":\"histogram\"}],\"mesh3d\":[{\"colorbar\":{\"outlinewidth\":0,\"tickcolor\":\"rgb(237,237,237)\",\"ticklen\":6,\"ticks\":\"inside\"},\"type\":\"mesh3d\"}],\"parcoords\":[{\"line\":{\"colorbar\":{\"outlinewidth\":0,\"tickcolor\":\"rgb(237,237,237)\",\"ticklen\":6,\"ticks\":\"inside\"}},\"type\":\"parcoords\"}],\"pie\":[{\"automargin\":true,\"type\":\"pie\"}],\"scatter3d\":[{\"line\":{\"colorbar\":{\"outlinewidth\":0,\"tickcolor\":\"rgb(237,237,237)\",\"ticklen\":6,\"ticks\":\"inside\"}},\"marker\":{\"colorbar\":{\"outlinewidth\":0,\"tickcolor\":\"rgb(237,237,237)\",\"ticklen\":6,\"ticks\":\"inside\"}},\"type\":\"scatter3d\"}],\"scattercarpet\":[{\"marker\":{\"colorbar\":{\"outlinewidth\":0,\"tickcolor\":\"rgb(237,237,237)\",\"ticklen\":6,\"ticks\":\"inside\"}},\"type\":\"scattercarpet\"}],\"scattergeo\":[{\"marker\":{\"colorbar\":{\"outlinewidth\":0,\"tickcolor\":\"rgb(237,237,237)\",\"ticklen\":6,\"ticks\":\"inside\"}},\"type\":\"scattergeo\"}],\"scattergl\":[{\"marker\":{\"colorbar\":{\"outlinewidth\":0,\"tickcolor\":\"rgb(237,237,237)\",\"ticklen\":6,\"ticks\":\"inside\"}},\"type\":\"scattergl\"}],\"scattermapbox\":[{\"marker\":{\"colorbar\":{\"outlinewidth\":0,\"tickcolor\":\"rgb(237,237,237)\",\"ticklen\":6,\"ticks\":\"inside\"}},\"type\":\"scattermapbox\"}],\"scatterpolargl\":[{\"marker\":{\"colorbar\":{\"outlinewidth\":0,\"tickcolor\":\"rgb(237,237,237)\",\"ticklen\":6,\"ticks\":\"inside\"}},\"type\":\"scatterpolargl\"}],\"scatterpolar\":[{\"marker\":{\"colorbar\":{\"outlinewidth\":0,\"tickcolor\":\"rgb(237,237,237)\",\"ticklen\":6,\"ticks\":\"inside\"}},\"type\":\"scatterpolar\"}],\"scatter\":[{\"marker\":{\"colorbar\":{\"outlinewidth\":0,\"tickcolor\":\"rgb(237,237,237)\",\"ticklen\":6,\"ticks\":\"inside\"}},\"type\":\"scatter\"}],\"scatterternary\":[{\"marker\":{\"colorbar\":{\"outlinewidth\":0,\"tickcolor\":\"rgb(237,237,237)\",\"ticklen\":6,\"ticks\":\"inside\"}},\"type\":\"scatterternary\"}],\"surface\":[{\"colorbar\":{\"outlinewidth\":0,\"tickcolor\":\"rgb(237,237,237)\",\"ticklen\":6,\"ticks\":\"inside\"},\"colorscale\":[[0,\"rgb(20,44,66)\"],[1,\"rgb(90,179,244)\"]],\"type\":\"surface\"}],\"table\":[{\"cells\":{\"fill\":{\"color\":\"rgb(237,237,237)\"},\"line\":{\"color\":\"white\"}},\"header\":{\"fill\":{\"color\":\"rgb(217,217,217)\"},\"line\":{\"color\":\"white\"}},\"type\":\"table\"}]},\"layout\":{\"annotationdefaults\":{\"arrowhead\":0,\"arrowwidth\":1},\"autotypenumbers\":\"strict\",\"coloraxis\":{\"colorbar\":{\"outlinewidth\":0,\"tickcolor\":\"rgb(237,237,237)\",\"ticklen\":6,\"ticks\":\"inside\"}},\"colorscale\":{\"sequential\":[[0,\"rgb(20,44,66)\"],[1,\"rgb(90,179,244)\"]],\"sequentialminus\":[[0,\"rgb(20,44,66)\"],[1,\"rgb(90,179,244)\"]]},\"colorway\":[\"#F8766D\",\"#A3A500\",\"#00BF7D\",\"#00B0F6\",\"#E76BF3\"],\"font\":{\"color\":\"rgb(51,51,51)\"},\"geo\":{\"bgcolor\":\"white\",\"lakecolor\":\"white\",\"landcolor\":\"rgb(237,237,237)\",\"showlakes\":true,\"showland\":true,\"subunitcolor\":\"white\"},\"hoverlabel\":{\"align\":\"left\"},\"hovermode\":\"closest\",\"paper_bgcolor\":\"white\",\"plot_bgcolor\":\"rgb(237,237,237)\",\"polar\":{\"angularaxis\":{\"gridcolor\":\"white\",\"linecolor\":\"white\",\"showgrid\":true,\"tickcolor\":\"rgb(51,51,51)\",\"ticks\":\"outside\"},\"bgcolor\":\"rgb(237,237,237)\",\"radialaxis\":{\"gridcolor\":\"white\",\"linecolor\":\"white\",\"showgrid\":true,\"tickcolor\":\"rgb(51,51,51)\",\"ticks\":\"outside\"}},\"scene\":{\"xaxis\":{\"backgroundcolor\":\"rgb(237,237,237)\",\"gridcolor\":\"white\",\"gridwidth\":2,\"linecolor\":\"white\",\"showbackground\":true,\"showgrid\":true,\"tickcolor\":\"rgb(51,51,51)\",\"ticks\":\"outside\",\"zerolinecolor\":\"white\"},\"yaxis\":{\"backgroundcolor\":\"rgb(237,237,237)\",\"gridcolor\":\"white\",\"gridwidth\":2,\"linecolor\":\"white\",\"showbackground\":true,\"showgrid\":true,\"tickcolor\":\"rgb(51,51,51)\",\"ticks\":\"outside\",\"zerolinecolor\":\"white\"},\"zaxis\":{\"backgroundcolor\":\"rgb(237,237,237)\",\"gridcolor\":\"white\",\"gridwidth\":2,\"linecolor\":\"white\",\"showbackground\":true,\"showgrid\":true,\"tickcolor\":\"rgb(51,51,51)\",\"ticks\":\"outside\",\"zerolinecolor\":\"white\"}},\"shapedefaults\":{\"fillcolor\":\"black\",\"line\":{\"width\":0},\"opacity\":0.3},\"ternary\":{\"aaxis\":{\"gridcolor\":\"white\",\"linecolor\":\"white\",\"showgrid\":true,\"tickcolor\":\"rgb(51,51,51)\",\"ticks\":\"outside\"},\"baxis\":{\"gridcolor\":\"white\",\"linecolor\":\"white\",\"showgrid\":true,\"tickcolor\":\"rgb(51,51,51)\",\"ticks\":\"outside\"},\"bgcolor\":\"rgb(237,237,237)\",\"caxis\":{\"gridcolor\":\"white\",\"linecolor\":\"white\",\"showgrid\":true,\"tickcolor\":\"rgb(51,51,51)\",\"ticks\":\"outside\"}},\"xaxis\":{\"automargin\":true,\"gridcolor\":\"white\",\"linecolor\":\"white\",\"showgrid\":true,\"tickcolor\":\"rgb(51,51,51)\",\"ticks\":\"outside\",\"title\":{\"standoff\":15},\"zerolinecolor\":\"white\"},\"yaxis\":{\"automargin\":true,\"gridcolor\":\"white\",\"linecolor\":\"white\",\"showgrid\":true,\"tickcolor\":\"rgb(51,51,51)\",\"ticks\":\"outside\",\"title\":{\"standoff\":15},\"zerolinecolor\":\"white\"}}},\"showlegend\":true},                        {\"responsive\": true}                    ).then(function(){\n",
              "                            \n",
              "var gd = document.getElementById('52cc4447-a80b-4b5b-b323-215f24fa8ab5');\n",
              "var x = new MutationObserver(function (mutations, observer) {{\n",
              "        var display = window.getComputedStyle(gd).display;\n",
              "        if (!display || display === 'none') {{\n",
              "            console.log([gd, 'removed!']);\n",
              "            Plotly.purge(gd);\n",
              "            observer.disconnect();\n",
              "        }}\n",
              "}});\n",
              "\n",
              "// Listen for the removal of the full notebook cells\n",
              "var notebookContainer = gd.closest('#notebook-container');\n",
              "if (notebookContainer) {{\n",
              "    x.observe(notebookContainer, {childList: true});\n",
              "}}\n",
              "\n",
              "// Listen for the clearing of the current output cell\n",
              "var outputEl = gd.closest('.output');\n",
              "if (outputEl) {{\n",
              "    x.observe(outputEl, {childList: true});\n",
              "}}\n",
              "\n",
              "                        })                };                            </script>        </div>\n",
              "</body>\n",
              "</html>"
            ]
          },
          "metadata": {}
        }
      ],
      "source": [
        "# functional API\n",
        "plot_model(plot = 'ts') # object-oriented API\n",
        "exp.plot_model(plot = 'ts')"
      ]
    },
    {
      "cell_type": "code",
      "execution_count": 12,
      "metadata": {
        "colab": {
          "base_uri": "https://localhost:8080/",
          "height": 542
        },
        "id": "VR_CwpwBv5W6",
        "outputId": "cced2df5-1ad2-451d-d81b-6e85e9803ad4"
      },
      "outputs": [
        {
          "output_type": "display_data",
          "data": {
            "text/html": [
              "<html>\n",
              "<head><meta charset=\"utf-8\" /></head>\n",
              "<body>\n",
              "    <div>            <script src=\"https://cdnjs.cloudflare.com/ajax/libs/mathjax/2.7.5/MathJax.js?config=TeX-AMS-MML_SVG\"></script><script type=\"text/javascript\">if (window.MathJax) {MathJax.Hub.Config({SVG: {font: \"STIX-Web\"}});}</script>                <script type=\"text/javascript\">window.PlotlyConfig = {MathJaxConfig: 'local'};</script>\n",
              "        <script src=\"https://cdn.plot.ly/plotly-2.8.3.min.js\"></script>                <div id=\"5fc3ed59-f8de-4026-b829-2ed79ae75e0e\" class=\"plotly-graph-div\" style=\"height:525px; width:100%;\"></div>            <script type=\"text/javascript\">                                    window.PLOTLYENV=window.PLOTLYENV || {};                                    if (document.getElementById(\"5fc3ed59-f8de-4026-b829-2ed79ae75e0e\")) {                    Plotly.newPlot(                        \"5fc3ed59-f8de-4026-b829-2ed79ae75e0e\",                        [{\"hoverinfo\":\"skip\",\"line\":{\"color\":\"#C0C0C0\"},\"mode\":\"lines+markers\",\"name\":\"Unchanged\",\"x\":[\"2021-07-08T00:00:00\",\"2021-07-09T00:00:00\"],\"y\":[\"2\",\"2\"],\"type\":\"scatter\",\"showlegend\":false},{\"hoverinfo\":\"skip\",\"line\":{\"color\":\"#C0C0C0\"},\"mode\":\"lines+markers\",\"name\":\"Unchanged\",\"x\":[\"2021-07-09T00:00:00\",\"2021-07-10T00:00:00\"],\"y\":[\"2\",\"2\"],\"type\":\"scatter\",\"showlegend\":false},{\"hoverinfo\":\"skip\",\"line\":{\"color\":\"#C0C0C0\"},\"mode\":\"lines+markers\",\"name\":\"Unchanged\",\"x\":[\"2021-07-10T00:00:00\",\"2021-07-11T00:00:00\"],\"y\":[\"2\",\"2\"],\"type\":\"scatter\",\"showlegend\":false},{\"hoverinfo\":\"skip\",\"line\":{\"color\":\"#C0C0C0\"},\"mode\":\"lines+markers\",\"name\":\"Unchanged\",\"x\":[\"2021-07-11T00:00:00\",\"2021-07-12T00:00:00\"],\"y\":[\"2\",\"2\"],\"type\":\"scatter\",\"showlegend\":false},{\"hoverinfo\":\"skip\",\"line\":{\"color\":\"#C0C0C0\"},\"mode\":\"lines+markers\",\"name\":\"Unchanged\",\"x\":[\"2021-07-12T00:00:00\",\"2021-07-13T00:00:00\"],\"y\":[\"2\",\"2\"],\"type\":\"scatter\",\"showlegend\":false},{\"hoverinfo\":\"skip\",\"line\":{\"color\":\"#C0C0C0\"},\"mode\":\"lines+markers\",\"name\":\"Unchanged\",\"x\":[\"2021-07-13T00:00:00\",\"2021-07-14T00:00:00\"],\"y\":[\"2\",\"2\"],\"type\":\"scatter\",\"showlegend\":false},{\"hoverinfo\":\"skip\",\"line\":{\"color\":\"#C0C0C0\"},\"mode\":\"lines+markers\",\"name\":\"Unchanged\",\"x\":[\"2021-07-14T00:00:00\",\"2021-07-15T00:00:00\"],\"y\":[\"2\",\"2\"],\"type\":\"scatter\",\"showlegend\":false},{\"hoverinfo\":\"skip\",\"line\":{\"color\":\"#C0C0C0\"},\"mode\":\"lines+markers\",\"name\":\"Unchanged\",\"x\":[\"2021-07-15T00:00:00\",\"2021-07-16T00:00:00\"],\"y\":[\"2\",\"2\"],\"type\":\"scatter\",\"showlegend\":false},{\"hoverinfo\":\"skip\",\"line\":{\"color\":\"#C0C0C0\"},\"mode\":\"lines+markers\",\"name\":\"Unchanged\",\"x\":[\"2021-07-16T00:00:00\",\"2021-07-17T00:00:00\"],\"y\":[\"2\",\"2\"],\"type\":\"scatter\",\"showlegend\":false},{\"hoverinfo\":\"skip\",\"line\":{\"color\":\"#C0C0C0\"},\"mode\":\"lines+markers\",\"name\":\"Unchanged\",\"x\":[\"2021-07-17T00:00:00\",\"2021-07-18T00:00:00\"],\"y\":[\"2\",\"2\"],\"type\":\"scatter\",\"showlegend\":false},{\"hoverinfo\":\"skip\",\"line\":{\"color\":\"#C0C0C0\"},\"mode\":\"lines+markers\",\"name\":\"Unchanged\",\"x\":[\"2021-07-18T00:00:00\",\"2021-07-19T00:00:00\"],\"y\":[\"2\",\"2\"],\"type\":\"scatter\",\"showlegend\":false},{\"hoverinfo\":\"skip\",\"line\":{\"color\":\"#C0C0C0\"},\"mode\":\"lines+markers\",\"name\":\"Unchanged\",\"x\":[\"2021-07-19T00:00:00\",\"2021-07-20T00:00:00\"],\"y\":[\"2\",\"2\"],\"type\":\"scatter\",\"showlegend\":false},{\"hoverinfo\":\"skip\",\"line\":{\"color\":\"#C0C0C0\"},\"mode\":\"lines+markers\",\"name\":\"Unchanged\",\"x\":[\"2021-07-20T00:00:00\",\"2021-07-21T00:00:00\"],\"y\":[\"2\",\"2\"],\"type\":\"scatter\",\"showlegend\":false},{\"hoverinfo\":\"skip\",\"line\":{\"color\":\"#C0C0C0\"},\"mode\":\"lines+markers\",\"name\":\"Unchanged\",\"x\":[\"2021-07-21T00:00:00\",\"2021-07-22T00:00:00\"],\"y\":[\"2\",\"2\"],\"type\":\"scatter\",\"showlegend\":false},{\"hoverinfo\":\"skip\",\"line\":{\"color\":\"#C0C0C0\"},\"mode\":\"lines+markers\",\"name\":\"Unchanged\",\"x\":[\"2021-07-22T00:00:00\",\"2021-07-23T00:00:00\"],\"y\":[\"2\",\"2\"],\"type\":\"scatter\",\"showlegend\":false},{\"hoverinfo\":\"skip\",\"line\":{\"color\":\"#C0C0C0\"},\"mode\":\"lines+markers\",\"name\":\"Unchanged\",\"x\":[\"2021-07-23T00:00:00\",\"2021-07-24T00:00:00\"],\"y\":[\"2\",\"2\"],\"type\":\"scatter\",\"showlegend\":false},{\"hoverinfo\":\"skip\",\"line\":{\"color\":\"#C0C0C0\"},\"mode\":\"lines+markers\",\"name\":\"Unchanged\",\"x\":[\"2021-07-24T00:00:00\",\"2021-07-25T00:00:00\"],\"y\":[\"2\",\"2\"],\"type\":\"scatter\",\"showlegend\":false},{\"hoverinfo\":\"skip\",\"line\":{\"color\":\"#C0C0C0\"},\"mode\":\"lines+markers\",\"name\":\"Unchanged\",\"x\":[\"2021-07-25T00:00:00\",\"2021-07-26T00:00:00\"],\"y\":[\"2\",\"2\"],\"type\":\"scatter\",\"showlegend\":false},{\"hoverinfo\":\"skip\",\"line\":{\"color\":\"#C0C0C0\"},\"mode\":\"lines+markers\",\"name\":\"Unchanged\",\"x\":[\"2021-07-26T00:00:00\",\"2021-07-27T00:00:00\"],\"y\":[\"2\",\"2\"],\"type\":\"scatter\",\"showlegend\":false},{\"hoverinfo\":\"skip\",\"line\":{\"color\":\"#C0C0C0\"},\"mode\":\"lines+markers\",\"name\":\"Unchanged\",\"x\":[\"2021-07-27T00:00:00\",\"2021-07-28T00:00:00\"],\"y\":[\"2\",\"2\"],\"type\":\"scatter\",\"showlegend\":false},{\"hoverinfo\":\"skip\",\"line\":{\"color\":\"#C0C0C0\"},\"mode\":\"lines+markers\",\"name\":\"Unchanged\",\"x\":[\"2021-07-28T00:00:00\",\"2021-07-29T00:00:00\"],\"y\":[\"2\",\"2\"],\"type\":\"scatter\",\"showlegend\":false},{\"hoverinfo\":\"skip\",\"line\":{\"color\":\"#C0C0C0\"},\"mode\":\"lines+markers\",\"name\":\"Unchanged\",\"x\":[\"2021-07-29T00:00:00\",\"2021-07-30T00:00:00\"],\"y\":[\"2\",\"2\"],\"type\":\"scatter\",\"showlegend\":false},{\"hoverinfo\":\"skip\",\"line\":{\"color\":\"#C0C0C0\"},\"mode\":\"lines+markers\",\"name\":\"Unchanged\",\"x\":[\"2021-07-30T00:00:00\",\"2021-07-31T00:00:00\"],\"y\":[\"2\",\"2\"],\"type\":\"scatter\",\"showlegend\":false},{\"hoverinfo\":\"skip\",\"line\":{\"color\":\"#C0C0C0\"},\"mode\":\"lines+markers\",\"name\":\"Unchanged\",\"x\":[\"2021-07-31T00:00:00\",\"2021-08-01T00:00:00\"],\"y\":[\"2\",\"2\"],\"type\":\"scatter\",\"showlegend\":false},{\"hoverinfo\":\"skip\",\"line\":{\"color\":\"#C0C0C0\"},\"mode\":\"lines+markers\",\"name\":\"Unchanged\",\"x\":[\"2021-08-01T00:00:00\",\"2021-08-02T00:00:00\"],\"y\":[\"2\",\"2\"],\"type\":\"scatter\",\"showlegend\":false},{\"hoverinfo\":\"skip\",\"line\":{\"color\":\"#C0C0C0\"},\"mode\":\"lines+markers\",\"name\":\"Unchanged\",\"x\":[\"2021-08-02T00:00:00\",\"2021-08-03T00:00:00\"],\"y\":[\"2\",\"2\"],\"type\":\"scatter\",\"showlegend\":false},{\"hoverinfo\":\"skip\",\"line\":{\"color\":\"#C0C0C0\"},\"mode\":\"lines+markers\",\"name\":\"Unchanged\",\"x\":[\"2021-08-03T00:00:00\",\"2021-08-04T00:00:00\"],\"y\":[\"2\",\"2\"],\"type\":\"scatter\",\"showlegend\":false},{\"hoverinfo\":\"skip\",\"line\":{\"color\":\"#C0C0C0\"},\"mode\":\"lines+markers\",\"name\":\"Unchanged\",\"x\":[\"2021-08-04T00:00:00\",\"2021-08-05T00:00:00\"],\"y\":[\"2\",\"2\"],\"type\":\"scatter\",\"showlegend\":false},{\"hoverinfo\":\"skip\",\"line\":{\"color\":\"#C0C0C0\"},\"mode\":\"lines+markers\",\"name\":\"Unchanged\",\"x\":[\"2021-08-05T00:00:00\",\"2021-08-06T00:00:00\"],\"y\":[\"2\",\"2\"],\"type\":\"scatter\",\"showlegend\":false},{\"hoverinfo\":\"skip\",\"line\":{\"color\":\"#C0C0C0\"},\"mode\":\"lines+markers\",\"name\":\"Unchanged\",\"x\":[\"2021-08-06T00:00:00\",\"2021-08-07T00:00:00\"],\"y\":[\"2\",\"2\"],\"type\":\"scatter\",\"showlegend\":false},{\"hoverinfo\":\"skip\",\"line\":{\"color\":\"#C0C0C0\"},\"mode\":\"lines+markers\",\"name\":\"Unchanged\",\"x\":[\"2021-08-07T00:00:00\",\"2021-08-08T00:00:00\"],\"y\":[\"2\",\"2\"],\"type\":\"scatter\",\"showlegend\":false},{\"hoverinfo\":\"skip\",\"line\":{\"color\":\"#C0C0C0\"},\"mode\":\"lines+markers\",\"name\":\"Unchanged\",\"x\":[\"2021-08-08T00:00:00\",\"2021-08-09T00:00:00\"],\"y\":[\"2\",\"2\"],\"type\":\"scatter\",\"showlegend\":false},{\"hoverinfo\":\"skip\",\"line\":{\"color\":\"#C0C0C0\"},\"mode\":\"lines+markers\",\"name\":\"Unchanged\",\"x\":[\"2021-08-09T00:00:00\",\"2021-08-10T00:00:00\"],\"y\":[\"2\",\"2\"],\"type\":\"scatter\",\"showlegend\":false},{\"hoverinfo\":\"skip\",\"line\":{\"color\":\"#C0C0C0\"},\"mode\":\"lines+markers\",\"name\":\"Unchanged\",\"x\":[\"2021-08-10T00:00:00\",\"2021-08-11T00:00:00\"],\"y\":[\"2\",\"2\"],\"type\":\"scatter\",\"showlegend\":false},{\"hoverinfo\":\"skip\",\"line\":{\"color\":\"#C0C0C0\"},\"mode\":\"lines+markers\",\"name\":\"Unchanged\",\"x\":[\"2021-08-11T00:00:00\",\"2021-08-12T00:00:00\"],\"y\":[\"2\",\"2\"],\"type\":\"scatter\",\"showlegend\":false},{\"hoverinfo\":\"skip\",\"line\":{\"color\":\"#C0C0C0\"},\"mode\":\"lines+markers\",\"name\":\"Unchanged\",\"x\":[\"2021-08-12T00:00:00\",\"2021-08-13T00:00:00\"],\"y\":[\"2\",\"2\"],\"type\":\"scatter\",\"showlegend\":false},{\"hoverinfo\":\"skip\",\"line\":{\"color\":\"#C0C0C0\"},\"mode\":\"lines+markers\",\"name\":\"Unchanged\",\"x\":[\"2021-08-13T00:00:00\",\"2021-08-14T00:00:00\"],\"y\":[\"2\",\"2\"],\"type\":\"scatter\",\"showlegend\":false},{\"hoverinfo\":\"skip\",\"line\":{\"color\":\"#C0C0C0\"},\"mode\":\"lines+markers\",\"name\":\"Unchanged\",\"x\":[\"2021-08-14T00:00:00\",\"2021-08-15T00:00:00\"],\"y\":[\"2\",\"2\"],\"type\":\"scatter\",\"showlegend\":false},{\"hoverinfo\":\"skip\",\"line\":{\"color\":\"#C0C0C0\"},\"mode\":\"lines+markers\",\"name\":\"Unchanged\",\"x\":[\"2021-08-15T00:00:00\",\"2021-08-16T00:00:00\"],\"y\":[\"2\",\"2\"],\"type\":\"scatter\",\"showlegend\":false},{\"hoverinfo\":\"skip\",\"line\":{\"color\":\"#C0C0C0\"},\"mode\":\"lines+markers\",\"name\":\"Unchanged\",\"x\":[\"2021-08-16T00:00:00\",\"2021-08-17T00:00:00\"],\"y\":[\"2\",\"2\"],\"type\":\"scatter\",\"showlegend\":false},{\"hoverinfo\":\"skip\",\"line\":{\"color\":\"#C0C0C0\"},\"mode\":\"lines+markers\",\"name\":\"Unchanged\",\"x\":[\"2021-08-17T00:00:00\",\"2021-08-18T00:00:00\"],\"y\":[\"2\",\"2\"],\"type\":\"scatter\",\"showlegend\":false},{\"hoverinfo\":\"skip\",\"line\":{\"color\":\"#C0C0C0\"},\"mode\":\"lines+markers\",\"name\":\"Unchanged\",\"x\":[\"2021-08-18T00:00:00\",\"2021-08-19T00:00:00\"],\"y\":[\"2\",\"2\"],\"type\":\"scatter\",\"showlegend\":false},{\"hoverinfo\":\"skip\",\"line\":{\"color\":\"#C0C0C0\"},\"mode\":\"lines+markers\",\"name\":\"Unchanged\",\"x\":[\"2021-08-19T00:00:00\",\"2021-08-20T00:00:00\"],\"y\":[\"2\",\"2\"],\"type\":\"scatter\",\"showlegend\":false},{\"hoverinfo\":\"skip\",\"line\":{\"color\":\"#C0C0C0\"},\"mode\":\"lines+markers\",\"name\":\"Unchanged\",\"x\":[\"2021-08-20T00:00:00\",\"2021-08-21T00:00:00\"],\"y\":[\"2\",\"2\"],\"type\":\"scatter\",\"showlegend\":false},{\"hoverinfo\":\"skip\",\"line\":{\"color\":\"#C0C0C0\"},\"mode\":\"lines+markers\",\"name\":\"Unchanged\",\"x\":[\"2021-08-21T00:00:00\",\"2021-08-22T00:00:00\"],\"y\":[\"2\",\"2\"],\"type\":\"scatter\",\"showlegend\":false},{\"hoverinfo\":\"skip\",\"line\":{\"color\":\"#C0C0C0\"},\"mode\":\"lines+markers\",\"name\":\"Unchanged\",\"x\":[\"2021-08-22T00:00:00\",\"2021-08-23T00:00:00\"],\"y\":[\"2\",\"2\"],\"type\":\"scatter\",\"showlegend\":false},{\"hoverinfo\":\"skip\",\"line\":{\"color\":\"#C0C0C0\"},\"mode\":\"lines+markers\",\"name\":\"Unchanged\",\"x\":[\"2021-08-23T00:00:00\",\"2021-08-24T00:00:00\"],\"y\":[\"2\",\"2\"],\"type\":\"scatter\",\"showlegend\":false},{\"hoverinfo\":\"skip\",\"line\":{\"color\":\"#C0C0C0\"},\"mode\":\"lines+markers\",\"name\":\"Unchanged\",\"x\":[\"2021-08-24T00:00:00\",\"2021-08-25T00:00:00\"],\"y\":[\"2\",\"2\"],\"type\":\"scatter\",\"showlegend\":false},{\"hoverinfo\":\"skip\",\"line\":{\"color\":\"#C0C0C0\"},\"mode\":\"lines+markers\",\"name\":\"Unchanged\",\"x\":[\"2021-08-25T00:00:00\",\"2021-08-26T00:00:00\"],\"y\":[\"2\",\"2\"],\"type\":\"scatter\",\"showlegend\":false},{\"hoverinfo\":\"skip\",\"line\":{\"color\":\"#C0C0C0\"},\"mode\":\"lines+markers\",\"name\":\"Unchanged\",\"x\":[\"2021-08-26T00:00:00\",\"2021-08-27T00:00:00\"],\"y\":[\"2\",\"2\"],\"type\":\"scatter\",\"showlegend\":false},{\"hoverinfo\":\"skip\",\"line\":{\"color\":\"#C0C0C0\"},\"mode\":\"lines+markers\",\"name\":\"Unchanged\",\"x\":[\"2021-08-27T00:00:00\",\"2021-08-28T00:00:00\"],\"y\":[\"2\",\"2\"],\"type\":\"scatter\",\"showlegend\":false},{\"hoverinfo\":\"skip\",\"line\":{\"color\":\"#C0C0C0\"},\"mode\":\"lines+markers\",\"name\":\"Unchanged\",\"x\":[\"2021-08-28T00:00:00\",\"2021-08-29T00:00:00\"],\"y\":[\"2\",\"2\"],\"type\":\"scatter\",\"showlegend\":false},{\"hoverinfo\":\"skip\",\"line\":{\"color\":\"#C0C0C0\"},\"mode\":\"lines+markers\",\"name\":\"Unchanged\",\"x\":[\"2021-08-29T00:00:00\",\"2021-08-30T00:00:00\"],\"y\":[\"2\",\"2\"],\"type\":\"scatter\",\"showlegend\":false},{\"hoverinfo\":\"skip\",\"line\":{\"color\":\"#C0C0C0\"},\"mode\":\"lines+markers\",\"name\":\"Unchanged\",\"x\":[\"2021-08-30T00:00:00\",\"2021-08-31T00:00:00\"],\"y\":[\"2\",\"2\"],\"type\":\"scatter\",\"showlegend\":false},{\"hoverinfo\":\"skip\",\"line\":{\"color\":\"#C0C0C0\"},\"mode\":\"lines+markers\",\"name\":\"Unchanged\",\"x\":[\"2021-08-31T00:00:00\",\"2021-09-01T00:00:00\"],\"y\":[\"2\",\"2\"],\"type\":\"scatter\",\"showlegend\":false},{\"hoverinfo\":\"skip\",\"line\":{\"color\":\"#C0C0C0\"},\"mode\":\"lines+markers\",\"name\":\"Unchanged\",\"x\":[\"2021-09-01T00:00:00\",\"2021-09-02T00:00:00\"],\"y\":[\"2\",\"2\"],\"type\":\"scatter\",\"showlegend\":false},{\"hoverinfo\":\"skip\",\"line\":{\"color\":\"#C0C0C0\"},\"mode\":\"lines+markers\",\"name\":\"Unchanged\",\"x\":[\"2021-09-02T00:00:00\",\"2021-09-03T00:00:00\"],\"y\":[\"2\",\"2\"],\"type\":\"scatter\",\"showlegend\":false},{\"hoverinfo\":\"skip\",\"line\":{\"color\":\"#C0C0C0\"},\"mode\":\"lines+markers\",\"name\":\"Unchanged\",\"x\":[\"2021-09-03T00:00:00\",\"2021-09-04T00:00:00\"],\"y\":[\"2\",\"2\"],\"type\":\"scatter\",\"showlegend\":false},{\"hoverinfo\":\"skip\",\"line\":{\"color\":\"#C0C0C0\"},\"mode\":\"lines+markers\",\"name\":\"Unchanged\",\"x\":[\"2021-09-04T00:00:00\",\"2021-09-05T00:00:00\"],\"y\":[\"2\",\"2\"],\"type\":\"scatter\",\"showlegend\":false},{\"hoverinfo\":\"skip\",\"line\":{\"color\":\"#C0C0C0\"},\"mode\":\"lines+markers\",\"name\":\"Unchanged\",\"x\":[\"2021-09-05T00:00:00\",\"2021-09-06T00:00:00\"],\"y\":[\"2\",\"2\"],\"type\":\"scatter\",\"showlegend\":false},{\"hoverinfo\":\"skip\",\"line\":{\"color\":\"#C0C0C0\"},\"mode\":\"lines+markers\",\"name\":\"Unchanged\",\"x\":[\"2021-09-06T00:00:00\",\"2021-09-07T00:00:00\"],\"y\":[\"2\",\"2\"],\"type\":\"scatter\",\"showlegend\":false},{\"hoverinfo\":\"skip\",\"line\":{\"color\":\"#C0C0C0\"},\"mode\":\"lines+markers\",\"name\":\"Unchanged\",\"x\":[\"2021-09-07T00:00:00\",\"2021-09-08T00:00:00\"],\"y\":[\"2\",\"2\"],\"type\":\"scatter\",\"showlegend\":false},{\"hoverinfo\":\"skip\",\"line\":{\"color\":\"#C0C0C0\"},\"mode\":\"lines+markers\",\"name\":\"Unchanged\",\"x\":[\"2021-09-08T00:00:00\",\"2021-09-09T00:00:00\"],\"y\":[\"2\",\"2\"],\"type\":\"scatter\",\"showlegend\":false},{\"hoverinfo\":\"skip\",\"line\":{\"color\":\"#C0C0C0\"},\"mode\":\"lines+markers\",\"name\":\"Unchanged\",\"x\":[\"2021-09-09T00:00:00\",\"2021-09-10T00:00:00\"],\"y\":[\"2\",\"2\"],\"type\":\"scatter\",\"showlegend\":false},{\"hoverinfo\":\"skip\",\"line\":{\"color\":\"#C0C0C0\"},\"mode\":\"lines+markers\",\"name\":\"Unchanged\",\"x\":[\"2021-09-10T00:00:00\",\"2021-09-11T00:00:00\"],\"y\":[\"2\",\"2\"],\"type\":\"scatter\",\"showlegend\":false},{\"hoverinfo\":\"skip\",\"line\":{\"color\":\"#C0C0C0\"},\"mode\":\"lines+markers\",\"name\":\"Unchanged\",\"x\":[\"2021-09-11T00:00:00\",\"2021-09-12T00:00:00\"],\"y\":[\"2\",\"2\"],\"type\":\"scatter\",\"showlegend\":false},{\"hoverinfo\":\"skip\",\"line\":{\"color\":\"#C0C0C0\"},\"mode\":\"lines+markers\",\"name\":\"Unchanged\",\"x\":[\"2021-09-12T00:00:00\",\"2021-09-13T00:00:00\"],\"y\":[\"2\",\"2\"],\"type\":\"scatter\",\"showlegend\":false},{\"hoverinfo\":\"skip\",\"line\":{\"color\":\"#C0C0C0\"},\"mode\":\"lines+markers\",\"name\":\"Unchanged\",\"x\":[\"2021-09-13T00:00:00\",\"2021-09-14T00:00:00\"],\"y\":[\"2\",\"2\"],\"type\":\"scatter\",\"showlegend\":false},{\"hoverinfo\":\"skip\",\"line\":{\"color\":\"#C0C0C0\"},\"mode\":\"lines+markers\",\"name\":\"Unchanged\",\"x\":[\"2021-09-14T00:00:00\",\"2021-09-15T00:00:00\"],\"y\":[\"2\",\"2\"],\"type\":\"scatter\",\"showlegend\":false},{\"hoverinfo\":\"skip\",\"line\":{\"color\":\"#C0C0C0\"},\"mode\":\"lines+markers\",\"name\":\"Unchanged\",\"x\":[\"2021-09-15T00:00:00\",\"2021-09-16T00:00:00\"],\"y\":[\"2\",\"2\"],\"type\":\"scatter\",\"showlegend\":false},{\"hoverinfo\":\"skip\",\"line\":{\"color\":\"#C0C0C0\"},\"mode\":\"lines+markers\",\"name\":\"Unchanged\",\"x\":[\"2021-09-16T00:00:00\",\"2021-09-17T00:00:00\"],\"y\":[\"2\",\"2\"],\"type\":\"scatter\",\"showlegend\":false},{\"hoverinfo\":\"skip\",\"line\":{\"color\":\"#C0C0C0\"},\"mode\":\"lines+markers\",\"name\":\"Unchanged\",\"x\":[\"2021-09-17T00:00:00\",\"2021-09-18T00:00:00\"],\"y\":[\"2\",\"2\"],\"type\":\"scatter\",\"showlegend\":false},{\"hoverinfo\":\"skip\",\"line\":{\"color\":\"#C0C0C0\"},\"mode\":\"lines+markers\",\"name\":\"Unchanged\",\"x\":[\"2021-09-18T00:00:00\",\"2021-09-19T00:00:00\"],\"y\":[\"2\",\"2\"],\"type\":\"scatter\",\"showlegend\":false},{\"hoverinfo\":\"skip\",\"line\":{\"color\":\"#C0C0C0\"},\"mode\":\"lines+markers\",\"name\":\"Unchanged\",\"x\":[\"2021-09-19T00:00:00\",\"2021-09-20T00:00:00\"],\"y\":[\"2\",\"2\"],\"type\":\"scatter\",\"showlegend\":false},{\"hoverinfo\":\"skip\",\"line\":{\"color\":\"#C0C0C0\"},\"mode\":\"lines+markers\",\"name\":\"Unchanged\",\"x\":[\"2021-09-20T00:00:00\",\"2021-09-21T00:00:00\"],\"y\":[\"2\",\"2\"],\"type\":\"scatter\",\"showlegend\":false},{\"hoverinfo\":\"skip\",\"line\":{\"color\":\"#C0C0C0\"},\"mode\":\"lines+markers\",\"name\":\"Unchanged\",\"x\":[\"2021-09-21T00:00:00\",\"2021-09-22T00:00:00\"],\"y\":[\"2\",\"2\"],\"type\":\"scatter\",\"showlegend\":false},{\"hoverinfo\":\"skip\",\"line\":{\"color\":\"#C0C0C0\"},\"mode\":\"lines+markers\",\"name\":\"Unchanged\",\"x\":[\"2021-09-22T00:00:00\",\"2021-09-23T00:00:00\"],\"y\":[\"2\",\"2\"],\"type\":\"scatter\",\"showlegend\":false},{\"hoverinfo\":\"skip\",\"line\":{\"color\":\"#C0C0C0\"},\"mode\":\"lines+markers\",\"name\":\"Unchanged\",\"x\":[\"2021-09-23T00:00:00\",\"2021-09-24T00:00:00\"],\"y\":[\"2\",\"2\"],\"type\":\"scatter\",\"showlegend\":false},{\"hoverinfo\":\"skip\",\"line\":{\"color\":\"#C0C0C0\"},\"mode\":\"lines+markers\",\"name\":\"Unchanged\",\"x\":[\"2021-09-24T00:00:00\",\"2021-09-25T00:00:00\"],\"y\":[\"2\",\"2\"],\"type\":\"scatter\",\"showlegend\":false},{\"hoverinfo\":\"skip\",\"line\":{\"color\":\"#C0C0C0\"},\"mode\":\"lines+markers\",\"name\":\"Unchanged\",\"x\":[\"2021-09-25T00:00:00\",\"2021-09-26T00:00:00\"],\"y\":[\"2\",\"2\"],\"type\":\"scatter\",\"showlegend\":false},{\"hoverinfo\":\"skip\",\"line\":{\"color\":\"#C0C0C0\"},\"mode\":\"lines+markers\",\"name\":\"Unchanged\",\"x\":[\"2021-09-26T00:00:00\",\"2021-09-27T00:00:00\"],\"y\":[\"2\",\"2\"],\"type\":\"scatter\",\"showlegend\":false},{\"hoverinfo\":\"skip\",\"line\":{\"color\":\"#C0C0C0\"},\"mode\":\"lines+markers\",\"name\":\"Unchanged\",\"x\":[\"2021-09-27T00:00:00\",\"2021-09-28T00:00:00\"],\"y\":[\"2\",\"2\"],\"type\":\"scatter\",\"showlegend\":false},{\"hoverinfo\":\"skip\",\"line\":{\"color\":\"#1f77b4\"},\"mode\":\"lines+markers\",\"name\":\"Train\",\"showlegend\":false,\"x\":[\"2021-07-08T00:00:00\",\"2021-07-09T00:00:00\"],\"y\":[\"2\",\"2\"],\"type\":\"scatter\"},{\"hoverinfo\":\"skip\",\"line\":{\"color\":\"#1f77b4\"},\"mode\":\"lines+markers\",\"name\":\"Train\",\"showlegend\":false,\"x\":[\"2021-07-09T00:00:00\",\"2021-07-10T00:00:00\"],\"y\":[\"2\",\"2\"],\"type\":\"scatter\"},{\"hoverinfo\":\"skip\",\"line\":{\"color\":\"#1f77b4\"},\"mode\":\"lines+markers\",\"name\":\"Train\",\"showlegend\":false,\"x\":[\"2021-07-10T00:00:00\",\"2021-07-11T00:00:00\"],\"y\":[\"2\",\"2\"],\"type\":\"scatter\"},{\"hoverinfo\":\"skip\",\"line\":{\"color\":\"#1f77b4\"},\"mode\":\"lines+markers\",\"name\":\"Train\",\"showlegend\":false,\"x\":[\"2021-07-11T00:00:00\",\"2021-07-12T00:00:00\"],\"y\":[\"2\",\"2\"],\"type\":\"scatter\"},{\"hoverinfo\":\"skip\",\"line\":{\"color\":\"#1f77b4\"},\"mode\":\"lines+markers\",\"name\":\"Train\",\"showlegend\":false,\"x\":[\"2021-07-12T00:00:00\",\"2021-07-13T00:00:00\"],\"y\":[\"2\",\"2\"],\"type\":\"scatter\"},{\"hoverinfo\":\"skip\",\"line\":{\"color\":\"#1f77b4\"},\"mode\":\"lines+markers\",\"name\":\"Train\",\"showlegend\":false,\"x\":[\"2021-07-13T00:00:00\",\"2021-07-14T00:00:00\"],\"y\":[\"2\",\"2\"],\"type\":\"scatter\"},{\"hoverinfo\":\"skip\",\"line\":{\"color\":\"#1f77b4\"},\"mode\":\"lines+markers\",\"name\":\"Train\",\"showlegend\":false,\"x\":[\"2021-07-14T00:00:00\",\"2021-07-15T00:00:00\"],\"y\":[\"2\",\"2\"],\"type\":\"scatter\"},{\"hoverinfo\":\"skip\",\"line\":{\"color\":\"#1f77b4\"},\"mode\":\"lines+markers\",\"name\":\"Train\",\"showlegend\":false,\"x\":[\"2021-07-15T00:00:00\",\"2021-07-16T00:00:00\"],\"y\":[\"2\",\"2\"],\"type\":\"scatter\"},{\"hoverinfo\":\"skip\",\"line\":{\"color\":\"#1f77b4\"},\"mode\":\"lines+markers\",\"name\":\"Train\",\"showlegend\":false,\"x\":[\"2021-07-16T00:00:00\",\"2021-07-17T00:00:00\"],\"y\":[\"2\",\"2\"],\"type\":\"scatter\"},{\"hoverinfo\":\"skip\",\"line\":{\"color\":\"#1f77b4\"},\"mode\":\"lines+markers\",\"name\":\"Train\",\"showlegend\":false,\"x\":[\"2021-07-17T00:00:00\",\"2021-07-18T00:00:00\"],\"y\":[\"2\",\"2\"],\"type\":\"scatter\"},{\"hoverinfo\":\"skip\",\"line\":{\"color\":\"#1f77b4\"},\"mode\":\"lines+markers\",\"name\":\"Train\",\"showlegend\":false,\"x\":[\"2021-07-18T00:00:00\",\"2021-07-19T00:00:00\"],\"y\":[\"2\",\"2\"],\"type\":\"scatter\"},{\"hoverinfo\":\"skip\",\"line\":{\"color\":\"#1f77b4\"},\"mode\":\"lines+markers\",\"name\":\"Train\",\"showlegend\":false,\"x\":[\"2021-07-19T00:00:00\",\"2021-07-20T00:00:00\"],\"y\":[\"2\",\"2\"],\"type\":\"scatter\"},{\"hoverinfo\":\"skip\",\"line\":{\"color\":\"#1f77b4\"},\"mode\":\"lines+markers\",\"name\":\"Train\",\"showlegend\":false,\"x\":[\"2021-07-20T00:00:00\",\"2021-07-21T00:00:00\"],\"y\":[\"2\",\"2\"],\"type\":\"scatter\"},{\"hoverinfo\":\"skip\",\"line\":{\"color\":\"#1f77b4\"},\"mode\":\"lines+markers\",\"name\":\"Train\",\"showlegend\":false,\"x\":[\"2021-07-21T00:00:00\",\"2021-07-22T00:00:00\"],\"y\":[\"2\",\"2\"],\"type\":\"scatter\"},{\"hoverinfo\":\"skip\",\"line\":{\"color\":\"#1f77b4\"},\"mode\":\"lines+markers\",\"name\":\"Train\",\"showlegend\":false,\"x\":[\"2021-07-22T00:00:00\",\"2021-07-23T00:00:00\"],\"y\":[\"2\",\"2\"],\"type\":\"scatter\"},{\"hoverinfo\":\"skip\",\"line\":{\"color\":\"#1f77b4\"},\"mode\":\"lines+markers\",\"name\":\"Train\",\"showlegend\":false,\"x\":[\"2021-07-23T00:00:00\",\"2021-07-24T00:00:00\"],\"y\":[\"2\",\"2\"],\"type\":\"scatter\"},{\"hoverinfo\":\"skip\",\"line\":{\"color\":\"#1f77b4\"},\"mode\":\"lines+markers\",\"name\":\"Train\",\"showlegend\":false,\"x\":[\"2021-07-24T00:00:00\",\"2021-07-25T00:00:00\"],\"y\":[\"2\",\"2\"],\"type\":\"scatter\"},{\"hoverinfo\":\"skip\",\"line\":{\"color\":\"#1f77b4\"},\"mode\":\"lines+markers\",\"name\":\"Train\",\"showlegend\":false,\"x\":[\"2021-07-25T00:00:00\",\"2021-07-26T00:00:00\"],\"y\":[\"2\",\"2\"],\"type\":\"scatter\"},{\"hoverinfo\":\"skip\",\"line\":{\"color\":\"#1f77b4\"},\"mode\":\"lines+markers\",\"name\":\"Train\",\"showlegend\":false,\"x\":[\"2021-07-26T00:00:00\",\"2021-07-27T00:00:00\"],\"y\":[\"2\",\"2\"],\"type\":\"scatter\"},{\"hoverinfo\":\"skip\",\"line\":{\"color\":\"#1f77b4\"},\"mode\":\"lines+markers\",\"name\":\"Train\",\"showlegend\":false,\"x\":[\"2021-07-27T00:00:00\",\"2021-07-28T00:00:00\"],\"y\":[\"2\",\"2\"],\"type\":\"scatter\"},{\"hoverinfo\":\"skip\",\"line\":{\"color\":\"#1f77b4\"},\"mode\":\"lines+markers\",\"name\":\"Train\",\"showlegend\":false,\"x\":[\"2021-07-28T00:00:00\",\"2021-07-29T00:00:00\"],\"y\":[\"2\",\"2\"],\"type\":\"scatter\"},{\"hoverinfo\":\"skip\",\"line\":{\"color\":\"#1f77b4\"},\"mode\":\"lines+markers\",\"name\":\"Train\",\"showlegend\":false,\"x\":[\"2021-07-29T00:00:00\",\"2021-07-30T00:00:00\"],\"y\":[\"2\",\"2\"],\"type\":\"scatter\"},{\"hoverinfo\":\"skip\",\"line\":{\"color\":\"#1f77b4\"},\"mode\":\"lines+markers\",\"name\":\"Train\",\"showlegend\":false,\"x\":[\"2021-07-30T00:00:00\",\"2021-07-31T00:00:00\"],\"y\":[\"2\",\"2\"],\"type\":\"scatter\"},{\"hoverinfo\":\"skip\",\"line\":{\"color\":\"#1f77b4\"},\"mode\":\"lines+markers\",\"name\":\"Train\",\"showlegend\":false,\"x\":[\"2021-07-31T00:00:00\",\"2021-08-01T00:00:00\"],\"y\":[\"2\",\"2\"],\"type\":\"scatter\"},{\"hoverinfo\":\"skip\",\"line\":{\"color\":\"#1f77b4\"},\"mode\":\"lines+markers\",\"name\":\"Train\",\"showlegend\":false,\"x\":[\"2021-08-01T00:00:00\",\"2021-08-02T00:00:00\"],\"y\":[\"2\",\"2\"],\"type\":\"scatter\"},{\"hoverinfo\":\"skip\",\"line\":{\"color\":\"#1f77b4\"},\"mode\":\"lines+markers\",\"name\":\"Train\",\"showlegend\":false,\"x\":[\"2021-08-02T00:00:00\",\"2021-08-03T00:00:00\"],\"y\":[\"2\",\"2\"],\"type\":\"scatter\"},{\"hoverinfo\":\"skip\",\"line\":{\"color\":\"#1f77b4\"},\"mode\":\"lines+markers\",\"name\":\"Train\",\"showlegend\":false,\"x\":[\"2021-08-03T00:00:00\",\"2021-08-04T00:00:00\"],\"y\":[\"2\",\"2\"],\"type\":\"scatter\"},{\"hoverinfo\":\"skip\",\"line\":{\"color\":\"#1f77b4\"},\"mode\":\"lines+markers\",\"name\":\"Train\",\"showlegend\":false,\"x\":[\"2021-08-04T00:00:00\",\"2021-08-05T00:00:00\"],\"y\":[\"2\",\"2\"],\"type\":\"scatter\"},{\"hoverinfo\":\"skip\",\"line\":{\"color\":\"#1f77b4\"},\"mode\":\"lines+markers\",\"name\":\"Train\",\"showlegend\":false,\"x\":[\"2021-08-05T00:00:00\",\"2021-08-06T00:00:00\"],\"y\":[\"2\",\"2\"],\"type\":\"scatter\"},{\"hoverinfo\":\"skip\",\"line\":{\"color\":\"#1f77b4\"},\"mode\":\"lines+markers\",\"name\":\"Train\",\"showlegend\":false,\"x\":[\"2021-08-06T00:00:00\",\"2021-08-07T00:00:00\"],\"y\":[\"2\",\"2\"],\"type\":\"scatter\"},{\"hoverinfo\":\"skip\",\"line\":{\"color\":\"#1f77b4\"},\"mode\":\"lines+markers\",\"name\":\"Train\",\"showlegend\":false,\"x\":[\"2021-08-07T00:00:00\",\"2021-08-08T00:00:00\"],\"y\":[\"2\",\"2\"],\"type\":\"scatter\"},{\"hoverinfo\":\"skip\",\"line\":{\"color\":\"#1f77b4\"},\"mode\":\"lines+markers\",\"name\":\"Train\",\"showlegend\":false,\"x\":[\"2021-08-08T00:00:00\",\"2021-08-09T00:00:00\"],\"y\":[\"2\",\"2\"],\"type\":\"scatter\"},{\"hoverinfo\":\"skip\",\"line\":{\"color\":\"#1f77b4\"},\"mode\":\"lines+markers\",\"name\":\"Train\",\"showlegend\":false,\"x\":[\"2021-08-09T00:00:00\",\"2021-08-10T00:00:00\"],\"y\":[\"2\",\"2\"],\"type\":\"scatter\"},{\"hoverinfo\":\"skip\",\"line\":{\"color\":\"#1f77b4\"},\"mode\":\"lines+markers\",\"name\":\"Train\",\"showlegend\":false,\"x\":[\"2021-08-10T00:00:00\",\"2021-08-11T00:00:00\"],\"y\":[\"2\",\"2\"],\"type\":\"scatter\"},{\"hoverinfo\":\"skip\",\"line\":{\"color\":\"#1f77b4\"},\"mode\":\"lines+markers\",\"name\":\"Train\",\"showlegend\":false,\"x\":[\"2021-08-11T00:00:00\",\"2021-08-12T00:00:00\"],\"y\":[\"2\",\"2\"],\"type\":\"scatter\"},{\"hoverinfo\":\"skip\",\"line\":{\"color\":\"#1f77b4\"},\"mode\":\"lines+markers\",\"name\":\"Train\",\"showlegend\":false,\"x\":[\"2021-08-12T00:00:00\",\"2021-08-13T00:00:00\"],\"y\":[\"2\",\"2\"],\"type\":\"scatter\"},{\"hoverinfo\":\"skip\",\"line\":{\"color\":\"#1f77b4\"},\"mode\":\"lines+markers\",\"name\":\"Train\",\"showlegend\":false,\"x\":[\"2021-08-13T00:00:00\",\"2021-08-14T00:00:00\"],\"y\":[\"2\",\"2\"],\"type\":\"scatter\"},{\"hoverinfo\":\"skip\",\"line\":{\"color\":\"#1f77b4\"},\"mode\":\"lines+markers\",\"name\":\"Train\",\"showlegend\":false,\"x\":[\"2021-08-14T00:00:00\",\"2021-08-15T00:00:00\"],\"y\":[\"2\",\"2\"],\"type\":\"scatter\"},{\"hoverinfo\":\"skip\",\"line\":{\"color\":\"#1f77b4\"},\"mode\":\"lines+markers\",\"name\":\"Train\",\"showlegend\":false,\"x\":[\"2021-08-15T00:00:00\",\"2021-08-16T00:00:00\"],\"y\":[\"2\",\"2\"],\"type\":\"scatter\"},{\"hoverinfo\":\"skip\",\"line\":{\"color\":\"#1f77b4\"},\"mode\":\"lines+markers\",\"name\":\"Train\",\"showlegend\":false,\"x\":[\"2021-08-16T00:00:00\",\"2021-08-17T00:00:00\"],\"y\":[\"2\",\"2\"],\"type\":\"scatter\"},{\"hoverinfo\":\"skip\",\"line\":{\"color\":\"#1f77b4\"},\"mode\":\"lines+markers\",\"name\":\"Train\",\"showlegend\":false,\"x\":[\"2021-08-17T00:00:00\",\"2021-08-18T00:00:00\"],\"y\":[\"2\",\"2\"],\"type\":\"scatter\"},{\"hoverinfo\":\"skip\",\"line\":{\"color\":\"#1f77b4\"},\"mode\":\"lines+markers\",\"name\":\"Train\",\"showlegend\":false,\"x\":[\"2021-08-18T00:00:00\",\"2021-08-19T00:00:00\"],\"y\":[\"2\",\"2\"],\"type\":\"scatter\"},{\"hoverinfo\":\"skip\",\"line\":{\"color\":\"#1f77b4\"},\"mode\":\"lines+markers\",\"name\":\"Train\",\"showlegend\":false,\"x\":[\"2021-08-19T00:00:00\",\"2021-08-20T00:00:00\"],\"y\":[\"2\",\"2\"],\"type\":\"scatter\"},{\"hoverinfo\":\"skip\",\"line\":{\"color\":\"#1f77b4\"},\"mode\":\"lines+markers\",\"name\":\"Train\",\"showlegend\":false,\"x\":[\"2021-08-20T00:00:00\",\"2021-08-21T00:00:00\"],\"y\":[\"2\",\"2\"],\"type\":\"scatter\"},{\"hoverinfo\":\"skip\",\"line\":{\"color\":\"#1f77b4\"},\"mode\":\"lines+markers\",\"name\":\"Train\",\"showlegend\":false,\"x\":[\"2021-08-21T00:00:00\",\"2021-08-22T00:00:00\"],\"y\":[\"2\",\"2\"],\"type\":\"scatter\"},{\"hoverinfo\":\"skip\",\"line\":{\"color\":\"#1f77b4\"},\"mode\":\"lines+markers\",\"name\":\"Train\",\"showlegend\":false,\"x\":[\"2021-08-22T00:00:00\",\"2021-08-23T00:00:00\"],\"y\":[\"2\",\"2\"],\"type\":\"scatter\"},{\"hoverinfo\":\"skip\",\"line\":{\"color\":\"#1f77b4\"},\"mode\":\"lines+markers\",\"name\":\"Train\",\"showlegend\":false,\"x\":[\"2021-08-23T00:00:00\",\"2021-08-24T00:00:00\"],\"y\":[\"2\",\"2\"],\"type\":\"scatter\"},{\"hoverinfo\":\"skip\",\"line\":{\"color\":\"#1f77b4\"},\"mode\":\"lines+markers\",\"name\":\"Train\",\"showlegend\":false,\"x\":[\"2021-08-24T00:00:00\",\"2021-08-25T00:00:00\"],\"y\":[\"2\",\"2\"],\"type\":\"scatter\"},{\"hoverinfo\":\"skip\",\"line\":{\"color\":\"#1f77b4\"},\"mode\":\"lines+markers\",\"name\":\"Train\",\"showlegend\":false,\"x\":[\"2021-08-25T00:00:00\",\"2021-08-26T00:00:00\"],\"y\":[\"2\",\"2\"],\"type\":\"scatter\"},{\"hoverinfo\":\"skip\",\"line\":{\"color\":\"#1f77b4\"},\"mode\":\"lines+markers\",\"name\":\"Train\",\"showlegend\":false,\"x\":[\"2021-08-26T00:00:00\",\"2021-08-27T00:00:00\"],\"y\":[\"2\",\"2\"],\"type\":\"scatter\"},{\"hoverinfo\":\"skip\",\"line\":{\"color\":\"#1f77b4\"},\"mode\":\"lines+markers\",\"name\":\"Train\",\"showlegend\":false,\"x\":[\"2021-08-27T00:00:00\",\"2021-08-28T00:00:00\"],\"y\":[\"2\",\"2\"],\"type\":\"scatter\"},{\"hoverinfo\":\"skip\",\"line\":{\"color\":\"#1f77b4\"},\"mode\":\"lines+markers\",\"name\":\"Train\",\"showlegend\":false,\"x\":[\"2021-08-28T00:00:00\",\"2021-08-29T00:00:00\"],\"y\":[\"2\",\"2\"],\"type\":\"scatter\"},{\"hoverinfo\":\"skip\",\"line\":{\"color\":\"#1f77b4\"},\"mode\":\"lines+markers\",\"name\":\"Train\",\"showlegend\":false,\"x\":[\"2021-08-29T00:00:00\",\"2021-08-30T00:00:00\"],\"y\":[\"2\",\"2\"],\"type\":\"scatter\"},{\"hoverinfo\":\"skip\",\"line\":{\"color\":\"#1f77b4\"},\"mode\":\"lines+markers\",\"name\":\"Train\",\"showlegend\":false,\"x\":[\"2021-08-30T00:00:00\",\"2021-08-31T00:00:00\"],\"y\":[\"2\",\"2\"],\"type\":\"scatter\"},{\"hoverinfo\":\"skip\",\"line\":{\"color\":\"#1f77b4\"},\"mode\":\"lines+markers\",\"name\":\"Train\",\"showlegend\":false,\"x\":[\"2021-08-31T00:00:00\",\"2021-09-01T00:00:00\"],\"y\":[\"2\",\"2\"],\"type\":\"scatter\"},{\"hoverinfo\":\"skip\",\"line\":{\"color\":\"#1f77b4\"},\"mode\":\"lines+markers\",\"name\":\"Train\",\"showlegend\":false,\"x\":[\"2021-09-01T00:00:00\",\"2021-09-02T00:00:00\"],\"y\":[\"2\",\"2\"],\"type\":\"scatter\"},{\"hoverinfo\":\"skip\",\"line\":{\"color\":\"#1f77b4\"},\"mode\":\"lines+markers\",\"name\":\"Train\",\"showlegend\":false,\"x\":[\"2021-09-02T00:00:00\",\"2021-09-03T00:00:00\"],\"y\":[\"2\",\"2\"],\"type\":\"scatter\"},{\"hoverinfo\":\"skip\",\"line\":{\"color\":\"#1f77b4\"},\"mode\":\"lines+markers\",\"name\":\"Train\",\"showlegend\":false,\"x\":[\"2021-09-03T00:00:00\",\"2021-09-04T00:00:00\"],\"y\":[\"2\",\"2\"],\"type\":\"scatter\"},{\"hoverinfo\":\"skip\",\"line\":{\"color\":\"#1f77b4\"},\"mode\":\"lines+markers\",\"name\":\"Train\",\"showlegend\":false,\"x\":[\"2021-09-04T00:00:00\",\"2021-09-05T00:00:00\"],\"y\":[\"2\",\"2\"],\"type\":\"scatter\"},{\"hoverinfo\":\"skip\",\"line\":{\"color\":\"#1f77b4\"},\"mode\":\"lines+markers\",\"name\":\"Train\",\"showlegend\":false,\"x\":[\"2021-09-05T00:00:00\",\"2021-09-06T00:00:00\"],\"y\":[\"2\",\"2\"],\"type\":\"scatter\"},{\"hoverinfo\":\"skip\",\"line\":{\"color\":\"#1f77b4\"},\"mode\":\"lines+markers\",\"name\":\"Train\",\"showlegend\":false,\"x\":[\"2021-09-06T00:00:00\",\"2021-09-07T00:00:00\"],\"y\":[\"2\",\"2\"],\"type\":\"scatter\"},{\"hoverinfo\":\"skip\",\"line\":{\"color\":\"#1f77b4\"},\"mode\":\"lines+markers\",\"name\":\"Train\",\"showlegend\":false,\"x\":[\"2021-09-07T00:00:00\",\"2021-09-08T00:00:00\"],\"y\":[\"2\",\"2\"],\"type\":\"scatter\"},{\"hoverinfo\":\"skip\",\"line\":{\"color\":\"#1f77b4\"},\"mode\":\"lines+markers\",\"name\":\"Train\",\"showlegend\":false,\"x\":[\"2021-09-08T00:00:00\",\"2021-09-09T00:00:00\"],\"y\":[\"2\",\"2\"],\"type\":\"scatter\"},{\"hoverinfo\":\"skip\",\"line\":{\"color\":\"#1f77b4\"},\"mode\":\"lines+markers\",\"name\":\"Train\",\"showlegend\":false,\"x\":[\"2021-09-09T00:00:00\",\"2021-09-10T00:00:00\"],\"y\":[\"2\",\"2\"],\"type\":\"scatter\"},{\"hoverinfo\":\"skip\",\"line\":{\"color\":\"#1f77b4\"},\"mode\":\"lines+markers\",\"name\":\"Train\",\"showlegend\":false,\"x\":[\"2021-09-10T00:00:00\",\"2021-09-11T00:00:00\"],\"y\":[\"2\",\"2\"],\"type\":\"scatter\"},{\"hoverinfo\":\"skip\",\"line\":{\"color\":\"#1f77b4\"},\"mode\":\"lines+markers\",\"name\":\"Train\",\"showlegend\":false,\"x\":[\"2021-09-11T00:00:00\",\"2021-09-12T00:00:00\"],\"y\":[\"2\",\"2\"],\"type\":\"scatter\"},{\"hoverinfo\":\"skip\",\"line\":{\"color\":\"#1f77b4\"},\"mode\":\"lines+markers\",\"name\":\"Train\",\"showlegend\":false,\"x\":[\"2021-09-12T00:00:00\",\"2021-09-13T00:00:00\"],\"y\":[\"2\",\"2\"],\"type\":\"scatter\"},{\"hoverinfo\":\"skip\",\"line\":{\"color\":\"#1f77b4\"},\"mode\":\"lines+markers\",\"name\":\"Train\",\"showlegend\":false,\"x\":[\"2021-09-13T00:00:00\",\"2021-09-14T00:00:00\"],\"y\":[\"2\",\"2\"],\"type\":\"scatter\"},{\"hoverinfo\":\"skip\",\"line\":{\"color\":\"#1f77b4\"},\"mode\":\"lines+markers\",\"name\":\"Train\",\"showlegend\":false,\"x\":[\"2021-09-14T00:00:00\",\"2021-09-15T00:00:00\"],\"y\":[\"2\",\"2\"],\"type\":\"scatter\"},{\"hoverinfo\":\"skip\",\"line\":{\"color\":\"#1f77b4\"},\"mode\":\"lines+markers\",\"name\":\"Train\",\"showlegend\":false,\"x\":[\"2021-09-15T00:00:00\",\"2021-09-16T00:00:00\"],\"y\":[\"2\",\"2\"],\"type\":\"scatter\"},{\"hoverinfo\":\"skip\",\"line\":{\"color\":\"#1f77b4\"},\"mode\":\"lines+markers\",\"name\":\"Train\",\"showlegend\":false,\"x\":[\"2021-09-16T00:00:00\",\"2021-09-17T00:00:00\"],\"y\":[\"2\",\"2\"],\"type\":\"scatter\"},{\"hoverinfo\":\"skip\",\"line\":{\"color\":\"#1f77b4\"},\"mode\":\"lines+markers\",\"name\":\"Train\",\"showlegend\":false,\"x\":[\"2021-09-17T00:00:00\",\"2021-09-18T00:00:00\"],\"y\":[\"2\",\"2\"],\"type\":\"scatter\"},{\"hoverinfo\":\"skip\",\"line\":{\"color\":\"#1f77b4\"},\"mode\":\"lines+markers\",\"name\":\"Train\",\"showlegend\":false,\"x\":[\"2021-09-18T00:00:00\",\"2021-09-19T00:00:00\"],\"y\":[\"2\",\"2\"],\"type\":\"scatter\"},{\"hoverinfo\":\"skip\",\"line\":{\"color\":\"#1f77b4\"},\"mode\":\"lines+markers\",\"name\":\"Train\",\"showlegend\":false,\"x\":[\"2021-09-19T00:00:00\",\"2021-09-20T00:00:00\"],\"y\":[\"2\",\"2\"],\"type\":\"scatter\"},{\"hoverinfo\":\"skip\",\"line\":{\"color\":\"#1f77b4\"},\"mode\":\"lines+markers\",\"name\":\"Train\",\"showlegend\":false,\"x\":[\"2021-09-20T00:00:00\",\"2021-09-21T00:00:00\"],\"y\":[\"2\",\"2\"],\"type\":\"scatter\"},{\"hoverinfo\":\"skip\",\"line\":{\"color\":\"#DE970B\"},\"mode\":\"lines+markers\",\"name\":\"ForecastHorizon\",\"x\":[\"2021-09-22T00:00:00\",\"2021-09-23T00:00:00\"],\"y\":[\"2\",\"2\"],\"type\":\"scatter\",\"showlegend\":false},{\"hoverinfo\":\"skip\",\"line\":{\"color\":\"#DE970B\"},\"mode\":\"lines+markers\",\"name\":\"ForecastHorizon\",\"x\":[\"2021-09-23T00:00:00\",\"2021-09-24T00:00:00\"],\"y\":[\"2\",\"2\"],\"type\":\"scatter\",\"showlegend\":false},{\"hoverinfo\":\"skip\",\"line\":{\"color\":\"#DE970B\"},\"mode\":\"lines+markers\",\"name\":\"ForecastHorizon\",\"x\":[\"2021-09-24T00:00:00\",\"2021-09-25T00:00:00\"],\"y\":[\"2\",\"2\"],\"type\":\"scatter\",\"showlegend\":false},{\"hoverinfo\":\"skip\",\"line\":{\"color\":\"#DE970B\"},\"mode\":\"lines+markers\",\"name\":\"ForecastHorizon\",\"x\":[\"2021-09-25T00:00:00\",\"2021-09-26T00:00:00\"],\"y\":[\"2\",\"2\"],\"type\":\"scatter\",\"showlegend\":false},{\"hoverinfo\":\"skip\",\"line\":{\"color\":\"#DE970B\"},\"mode\":\"lines+markers\",\"name\":\"ForecastHorizon\",\"x\":[\"2021-09-26T00:00:00\",\"2021-09-27T00:00:00\"],\"y\":[\"2\",\"2\"],\"type\":\"scatter\",\"showlegend\":false},{\"hoverinfo\":\"skip\",\"line\":{\"color\":\"#DE970B\"},\"mode\":\"lines+markers\",\"name\":\"ForecastHorizon\",\"x\":[\"2021-09-27T00:00:00\",\"2021-09-28T00:00:00\"],\"y\":[\"2\",\"2\"],\"type\":\"scatter\",\"showlegend\":false},{\"hoverinfo\":\"skip\",\"line\":{\"color\":\"#C0C0C0\"},\"mode\":\"lines+markers\",\"name\":\"Unchanged\",\"x\":[\"2021-07-08T00:00:00\",\"2021-07-09T00:00:00\"],\"y\":[\"1\",\"1\"],\"type\":\"scatter\",\"showlegend\":false},{\"hoverinfo\":\"skip\",\"line\":{\"color\":\"#C0C0C0\"},\"mode\":\"lines+markers\",\"name\":\"Unchanged\",\"x\":[\"2021-07-09T00:00:00\",\"2021-07-10T00:00:00\"],\"y\":[\"1\",\"1\"],\"type\":\"scatter\",\"showlegend\":false},{\"hoverinfo\":\"skip\",\"line\":{\"color\":\"#C0C0C0\"},\"mode\":\"lines+markers\",\"name\":\"Unchanged\",\"x\":[\"2021-07-10T00:00:00\",\"2021-07-11T00:00:00\"],\"y\":[\"1\",\"1\"],\"type\":\"scatter\",\"showlegend\":false},{\"hoverinfo\":\"skip\",\"line\":{\"color\":\"#C0C0C0\"},\"mode\":\"lines+markers\",\"name\":\"Unchanged\",\"x\":[\"2021-07-11T00:00:00\",\"2021-07-12T00:00:00\"],\"y\":[\"1\",\"1\"],\"type\":\"scatter\",\"showlegend\":false},{\"hoverinfo\":\"skip\",\"line\":{\"color\":\"#C0C0C0\"},\"mode\":\"lines+markers\",\"name\":\"Unchanged\",\"x\":[\"2021-07-12T00:00:00\",\"2021-07-13T00:00:00\"],\"y\":[\"1\",\"1\"],\"type\":\"scatter\",\"showlegend\":false},{\"hoverinfo\":\"skip\",\"line\":{\"color\":\"#C0C0C0\"},\"mode\":\"lines+markers\",\"name\":\"Unchanged\",\"x\":[\"2021-07-13T00:00:00\",\"2021-07-14T00:00:00\"],\"y\":[\"1\",\"1\"],\"type\":\"scatter\",\"showlegend\":false},{\"hoverinfo\":\"skip\",\"line\":{\"color\":\"#C0C0C0\"},\"mode\":\"lines+markers\",\"name\":\"Unchanged\",\"x\":[\"2021-07-14T00:00:00\",\"2021-07-15T00:00:00\"],\"y\":[\"1\",\"1\"],\"type\":\"scatter\",\"showlegend\":false},{\"hoverinfo\":\"skip\",\"line\":{\"color\":\"#C0C0C0\"},\"mode\":\"lines+markers\",\"name\":\"Unchanged\",\"x\":[\"2021-07-15T00:00:00\",\"2021-07-16T00:00:00\"],\"y\":[\"1\",\"1\"],\"type\":\"scatter\",\"showlegend\":false},{\"hoverinfo\":\"skip\",\"line\":{\"color\":\"#C0C0C0\"},\"mode\":\"lines+markers\",\"name\":\"Unchanged\",\"x\":[\"2021-07-16T00:00:00\",\"2021-07-17T00:00:00\"],\"y\":[\"1\",\"1\"],\"type\":\"scatter\",\"showlegend\":false},{\"hoverinfo\":\"skip\",\"line\":{\"color\":\"#C0C0C0\"},\"mode\":\"lines+markers\",\"name\":\"Unchanged\",\"x\":[\"2021-07-17T00:00:00\",\"2021-07-18T00:00:00\"],\"y\":[\"1\",\"1\"],\"type\":\"scatter\",\"showlegend\":false},{\"hoverinfo\":\"skip\",\"line\":{\"color\":\"#C0C0C0\"},\"mode\":\"lines+markers\",\"name\":\"Unchanged\",\"x\":[\"2021-07-18T00:00:00\",\"2021-07-19T00:00:00\"],\"y\":[\"1\",\"1\"],\"type\":\"scatter\",\"showlegend\":false},{\"hoverinfo\":\"skip\",\"line\":{\"color\":\"#C0C0C0\"},\"mode\":\"lines+markers\",\"name\":\"Unchanged\",\"x\":[\"2021-07-19T00:00:00\",\"2021-07-20T00:00:00\"],\"y\":[\"1\",\"1\"],\"type\":\"scatter\",\"showlegend\":false},{\"hoverinfo\":\"skip\",\"line\":{\"color\":\"#C0C0C0\"},\"mode\":\"lines+markers\",\"name\":\"Unchanged\",\"x\":[\"2021-07-20T00:00:00\",\"2021-07-21T00:00:00\"],\"y\":[\"1\",\"1\"],\"type\":\"scatter\",\"showlegend\":false},{\"hoverinfo\":\"skip\",\"line\":{\"color\":\"#C0C0C0\"},\"mode\":\"lines+markers\",\"name\":\"Unchanged\",\"x\":[\"2021-07-21T00:00:00\",\"2021-07-22T00:00:00\"],\"y\":[\"1\",\"1\"],\"type\":\"scatter\",\"showlegend\":false},{\"hoverinfo\":\"skip\",\"line\":{\"color\":\"#C0C0C0\"},\"mode\":\"lines+markers\",\"name\":\"Unchanged\",\"x\":[\"2021-07-22T00:00:00\",\"2021-07-23T00:00:00\"],\"y\":[\"1\",\"1\"],\"type\":\"scatter\",\"showlegend\":false},{\"hoverinfo\":\"skip\",\"line\":{\"color\":\"#C0C0C0\"},\"mode\":\"lines+markers\",\"name\":\"Unchanged\",\"x\":[\"2021-07-23T00:00:00\",\"2021-07-24T00:00:00\"],\"y\":[\"1\",\"1\"],\"type\":\"scatter\",\"showlegend\":false},{\"hoverinfo\":\"skip\",\"line\":{\"color\":\"#C0C0C0\"},\"mode\":\"lines+markers\",\"name\":\"Unchanged\",\"x\":[\"2021-07-24T00:00:00\",\"2021-07-25T00:00:00\"],\"y\":[\"1\",\"1\"],\"type\":\"scatter\",\"showlegend\":false},{\"hoverinfo\":\"skip\",\"line\":{\"color\":\"#C0C0C0\"},\"mode\":\"lines+markers\",\"name\":\"Unchanged\",\"x\":[\"2021-07-25T00:00:00\",\"2021-07-26T00:00:00\"],\"y\":[\"1\",\"1\"],\"type\":\"scatter\",\"showlegend\":false},{\"hoverinfo\":\"skip\",\"line\":{\"color\":\"#C0C0C0\"},\"mode\":\"lines+markers\",\"name\":\"Unchanged\",\"x\":[\"2021-07-26T00:00:00\",\"2021-07-27T00:00:00\"],\"y\":[\"1\",\"1\"],\"type\":\"scatter\",\"showlegend\":false},{\"hoverinfo\":\"skip\",\"line\":{\"color\":\"#C0C0C0\"},\"mode\":\"lines+markers\",\"name\":\"Unchanged\",\"x\":[\"2021-07-27T00:00:00\",\"2021-07-28T00:00:00\"],\"y\":[\"1\",\"1\"],\"type\":\"scatter\",\"showlegend\":false},{\"hoverinfo\":\"skip\",\"line\":{\"color\":\"#C0C0C0\"},\"mode\":\"lines+markers\",\"name\":\"Unchanged\",\"x\":[\"2021-07-28T00:00:00\",\"2021-07-29T00:00:00\"],\"y\":[\"1\",\"1\"],\"type\":\"scatter\",\"showlegend\":false},{\"hoverinfo\":\"skip\",\"line\":{\"color\":\"#C0C0C0\"},\"mode\":\"lines+markers\",\"name\":\"Unchanged\",\"x\":[\"2021-07-29T00:00:00\",\"2021-07-30T00:00:00\"],\"y\":[\"1\",\"1\"],\"type\":\"scatter\",\"showlegend\":false},{\"hoverinfo\":\"skip\",\"line\":{\"color\":\"#C0C0C0\"},\"mode\":\"lines+markers\",\"name\":\"Unchanged\",\"x\":[\"2021-07-30T00:00:00\",\"2021-07-31T00:00:00\"],\"y\":[\"1\",\"1\"],\"type\":\"scatter\",\"showlegend\":false},{\"hoverinfo\":\"skip\",\"line\":{\"color\":\"#C0C0C0\"},\"mode\":\"lines+markers\",\"name\":\"Unchanged\",\"x\":[\"2021-07-31T00:00:00\",\"2021-08-01T00:00:00\"],\"y\":[\"1\",\"1\"],\"type\":\"scatter\",\"showlegend\":false},{\"hoverinfo\":\"skip\",\"line\":{\"color\":\"#C0C0C0\"},\"mode\":\"lines+markers\",\"name\":\"Unchanged\",\"x\":[\"2021-08-01T00:00:00\",\"2021-08-02T00:00:00\"],\"y\":[\"1\",\"1\"],\"type\":\"scatter\",\"showlegend\":false},{\"hoverinfo\":\"skip\",\"line\":{\"color\":\"#C0C0C0\"},\"mode\":\"lines+markers\",\"name\":\"Unchanged\",\"x\":[\"2021-08-02T00:00:00\",\"2021-08-03T00:00:00\"],\"y\":[\"1\",\"1\"],\"type\":\"scatter\",\"showlegend\":false},{\"hoverinfo\":\"skip\",\"line\":{\"color\":\"#C0C0C0\"},\"mode\":\"lines+markers\",\"name\":\"Unchanged\",\"x\":[\"2021-08-03T00:00:00\",\"2021-08-04T00:00:00\"],\"y\":[\"1\",\"1\"],\"type\":\"scatter\",\"showlegend\":false},{\"hoverinfo\":\"skip\",\"line\":{\"color\":\"#C0C0C0\"},\"mode\":\"lines+markers\",\"name\":\"Unchanged\",\"x\":[\"2021-08-04T00:00:00\",\"2021-08-05T00:00:00\"],\"y\":[\"1\",\"1\"],\"type\":\"scatter\",\"showlegend\":false},{\"hoverinfo\":\"skip\",\"line\":{\"color\":\"#C0C0C0\"},\"mode\":\"lines+markers\",\"name\":\"Unchanged\",\"x\":[\"2021-08-05T00:00:00\",\"2021-08-06T00:00:00\"],\"y\":[\"1\",\"1\"],\"type\":\"scatter\",\"showlegend\":false},{\"hoverinfo\":\"skip\",\"line\":{\"color\":\"#C0C0C0\"},\"mode\":\"lines+markers\",\"name\":\"Unchanged\",\"x\":[\"2021-08-06T00:00:00\",\"2021-08-07T00:00:00\"],\"y\":[\"1\",\"1\"],\"type\":\"scatter\",\"showlegend\":false},{\"hoverinfo\":\"skip\",\"line\":{\"color\":\"#C0C0C0\"},\"mode\":\"lines+markers\",\"name\":\"Unchanged\",\"x\":[\"2021-08-07T00:00:00\",\"2021-08-08T00:00:00\"],\"y\":[\"1\",\"1\"],\"type\":\"scatter\",\"showlegend\":false},{\"hoverinfo\":\"skip\",\"line\":{\"color\":\"#C0C0C0\"},\"mode\":\"lines+markers\",\"name\":\"Unchanged\",\"x\":[\"2021-08-08T00:00:00\",\"2021-08-09T00:00:00\"],\"y\":[\"1\",\"1\"],\"type\":\"scatter\",\"showlegend\":false},{\"hoverinfo\":\"skip\",\"line\":{\"color\":\"#C0C0C0\"},\"mode\":\"lines+markers\",\"name\":\"Unchanged\",\"x\":[\"2021-08-09T00:00:00\",\"2021-08-10T00:00:00\"],\"y\":[\"1\",\"1\"],\"type\":\"scatter\",\"showlegend\":false},{\"hoverinfo\":\"skip\",\"line\":{\"color\":\"#C0C0C0\"},\"mode\":\"lines+markers\",\"name\":\"Unchanged\",\"x\":[\"2021-08-10T00:00:00\",\"2021-08-11T00:00:00\"],\"y\":[\"1\",\"1\"],\"type\":\"scatter\",\"showlegend\":false},{\"hoverinfo\":\"skip\",\"line\":{\"color\":\"#C0C0C0\"},\"mode\":\"lines+markers\",\"name\":\"Unchanged\",\"x\":[\"2021-08-11T00:00:00\",\"2021-08-12T00:00:00\"],\"y\":[\"1\",\"1\"],\"type\":\"scatter\",\"showlegend\":false},{\"hoverinfo\":\"skip\",\"line\":{\"color\":\"#C0C0C0\"},\"mode\":\"lines+markers\",\"name\":\"Unchanged\",\"x\":[\"2021-08-12T00:00:00\",\"2021-08-13T00:00:00\"],\"y\":[\"1\",\"1\"],\"type\":\"scatter\",\"showlegend\":false},{\"hoverinfo\":\"skip\",\"line\":{\"color\":\"#C0C0C0\"},\"mode\":\"lines+markers\",\"name\":\"Unchanged\",\"x\":[\"2021-08-13T00:00:00\",\"2021-08-14T00:00:00\"],\"y\":[\"1\",\"1\"],\"type\":\"scatter\",\"showlegend\":false},{\"hoverinfo\":\"skip\",\"line\":{\"color\":\"#C0C0C0\"},\"mode\":\"lines+markers\",\"name\":\"Unchanged\",\"x\":[\"2021-08-14T00:00:00\",\"2021-08-15T00:00:00\"],\"y\":[\"1\",\"1\"],\"type\":\"scatter\",\"showlegend\":false},{\"hoverinfo\":\"skip\",\"line\":{\"color\":\"#C0C0C0\"},\"mode\":\"lines+markers\",\"name\":\"Unchanged\",\"x\":[\"2021-08-15T00:00:00\",\"2021-08-16T00:00:00\"],\"y\":[\"1\",\"1\"],\"type\":\"scatter\",\"showlegend\":false},{\"hoverinfo\":\"skip\",\"line\":{\"color\":\"#C0C0C0\"},\"mode\":\"lines+markers\",\"name\":\"Unchanged\",\"x\":[\"2021-08-16T00:00:00\",\"2021-08-17T00:00:00\"],\"y\":[\"1\",\"1\"],\"type\":\"scatter\",\"showlegend\":false},{\"hoverinfo\":\"skip\",\"line\":{\"color\":\"#C0C0C0\"},\"mode\":\"lines+markers\",\"name\":\"Unchanged\",\"x\":[\"2021-08-17T00:00:00\",\"2021-08-18T00:00:00\"],\"y\":[\"1\",\"1\"],\"type\":\"scatter\",\"showlegend\":false},{\"hoverinfo\":\"skip\",\"line\":{\"color\":\"#C0C0C0\"},\"mode\":\"lines+markers\",\"name\":\"Unchanged\",\"x\":[\"2021-08-18T00:00:00\",\"2021-08-19T00:00:00\"],\"y\":[\"1\",\"1\"],\"type\":\"scatter\",\"showlegend\":false},{\"hoverinfo\":\"skip\",\"line\":{\"color\":\"#C0C0C0\"},\"mode\":\"lines+markers\",\"name\":\"Unchanged\",\"x\":[\"2021-08-19T00:00:00\",\"2021-08-20T00:00:00\"],\"y\":[\"1\",\"1\"],\"type\":\"scatter\",\"showlegend\":false},{\"hoverinfo\":\"skip\",\"line\":{\"color\":\"#C0C0C0\"},\"mode\":\"lines+markers\",\"name\":\"Unchanged\",\"x\":[\"2021-08-20T00:00:00\",\"2021-08-21T00:00:00\"],\"y\":[\"1\",\"1\"],\"type\":\"scatter\",\"showlegend\":false},{\"hoverinfo\":\"skip\",\"line\":{\"color\":\"#C0C0C0\"},\"mode\":\"lines+markers\",\"name\":\"Unchanged\",\"x\":[\"2021-08-21T00:00:00\",\"2021-08-22T00:00:00\"],\"y\":[\"1\",\"1\"],\"type\":\"scatter\",\"showlegend\":false},{\"hoverinfo\":\"skip\",\"line\":{\"color\":\"#C0C0C0\"},\"mode\":\"lines+markers\",\"name\":\"Unchanged\",\"x\":[\"2021-08-22T00:00:00\",\"2021-08-23T00:00:00\"],\"y\":[\"1\",\"1\"],\"type\":\"scatter\",\"showlegend\":false},{\"hoverinfo\":\"skip\",\"line\":{\"color\":\"#C0C0C0\"},\"mode\":\"lines+markers\",\"name\":\"Unchanged\",\"x\":[\"2021-08-23T00:00:00\",\"2021-08-24T00:00:00\"],\"y\":[\"1\",\"1\"],\"type\":\"scatter\",\"showlegend\":false},{\"hoverinfo\":\"skip\",\"line\":{\"color\":\"#C0C0C0\"},\"mode\":\"lines+markers\",\"name\":\"Unchanged\",\"x\":[\"2021-08-24T00:00:00\",\"2021-08-25T00:00:00\"],\"y\":[\"1\",\"1\"],\"type\":\"scatter\",\"showlegend\":false},{\"hoverinfo\":\"skip\",\"line\":{\"color\":\"#C0C0C0\"},\"mode\":\"lines+markers\",\"name\":\"Unchanged\",\"x\":[\"2021-08-25T00:00:00\",\"2021-08-26T00:00:00\"],\"y\":[\"1\",\"1\"],\"type\":\"scatter\",\"showlegend\":false},{\"hoverinfo\":\"skip\",\"line\":{\"color\":\"#C0C0C0\"},\"mode\":\"lines+markers\",\"name\":\"Unchanged\",\"x\":[\"2021-08-26T00:00:00\",\"2021-08-27T00:00:00\"],\"y\":[\"1\",\"1\"],\"type\":\"scatter\",\"showlegend\":false},{\"hoverinfo\":\"skip\",\"line\":{\"color\":\"#C0C0C0\"},\"mode\":\"lines+markers\",\"name\":\"Unchanged\",\"x\":[\"2021-08-27T00:00:00\",\"2021-08-28T00:00:00\"],\"y\":[\"1\",\"1\"],\"type\":\"scatter\",\"showlegend\":false},{\"hoverinfo\":\"skip\",\"line\":{\"color\":\"#C0C0C0\"},\"mode\":\"lines+markers\",\"name\":\"Unchanged\",\"x\":[\"2021-08-28T00:00:00\",\"2021-08-29T00:00:00\"],\"y\":[\"1\",\"1\"],\"type\":\"scatter\",\"showlegend\":false},{\"hoverinfo\":\"skip\",\"line\":{\"color\":\"#C0C0C0\"},\"mode\":\"lines+markers\",\"name\":\"Unchanged\",\"x\":[\"2021-08-29T00:00:00\",\"2021-08-30T00:00:00\"],\"y\":[\"1\",\"1\"],\"type\":\"scatter\",\"showlegend\":false},{\"hoverinfo\":\"skip\",\"line\":{\"color\":\"#C0C0C0\"},\"mode\":\"lines+markers\",\"name\":\"Unchanged\",\"x\":[\"2021-08-30T00:00:00\",\"2021-08-31T00:00:00\"],\"y\":[\"1\",\"1\"],\"type\":\"scatter\",\"showlegend\":false},{\"hoverinfo\":\"skip\",\"line\":{\"color\":\"#C0C0C0\"},\"mode\":\"lines+markers\",\"name\":\"Unchanged\",\"x\":[\"2021-08-31T00:00:00\",\"2021-09-01T00:00:00\"],\"y\":[\"1\",\"1\"],\"type\":\"scatter\",\"showlegend\":false},{\"hoverinfo\":\"skip\",\"line\":{\"color\":\"#C0C0C0\"},\"mode\":\"lines+markers\",\"name\":\"Unchanged\",\"x\":[\"2021-09-01T00:00:00\",\"2021-09-02T00:00:00\"],\"y\":[\"1\",\"1\"],\"type\":\"scatter\",\"showlegend\":false},{\"hoverinfo\":\"skip\",\"line\":{\"color\":\"#C0C0C0\"},\"mode\":\"lines+markers\",\"name\":\"Unchanged\",\"x\":[\"2021-09-02T00:00:00\",\"2021-09-03T00:00:00\"],\"y\":[\"1\",\"1\"],\"type\":\"scatter\",\"showlegend\":false},{\"hoverinfo\":\"skip\",\"line\":{\"color\":\"#C0C0C0\"},\"mode\":\"lines+markers\",\"name\":\"Unchanged\",\"x\":[\"2021-09-03T00:00:00\",\"2021-09-04T00:00:00\"],\"y\":[\"1\",\"1\"],\"type\":\"scatter\",\"showlegend\":false},{\"hoverinfo\":\"skip\",\"line\":{\"color\":\"#C0C0C0\"},\"mode\":\"lines+markers\",\"name\":\"Unchanged\",\"x\":[\"2021-09-04T00:00:00\",\"2021-09-05T00:00:00\"],\"y\":[\"1\",\"1\"],\"type\":\"scatter\",\"showlegend\":false},{\"hoverinfo\":\"skip\",\"line\":{\"color\":\"#C0C0C0\"},\"mode\":\"lines+markers\",\"name\":\"Unchanged\",\"x\":[\"2021-09-05T00:00:00\",\"2021-09-06T00:00:00\"],\"y\":[\"1\",\"1\"],\"type\":\"scatter\",\"showlegend\":false},{\"hoverinfo\":\"skip\",\"line\":{\"color\":\"#C0C0C0\"},\"mode\":\"lines+markers\",\"name\":\"Unchanged\",\"x\":[\"2021-09-06T00:00:00\",\"2021-09-07T00:00:00\"],\"y\":[\"1\",\"1\"],\"type\":\"scatter\",\"showlegend\":false},{\"hoverinfo\":\"skip\",\"line\":{\"color\":\"#C0C0C0\"},\"mode\":\"lines+markers\",\"name\":\"Unchanged\",\"x\":[\"2021-09-07T00:00:00\",\"2021-09-08T00:00:00\"],\"y\":[\"1\",\"1\"],\"type\":\"scatter\",\"showlegend\":false},{\"hoverinfo\":\"skip\",\"line\":{\"color\":\"#C0C0C0\"},\"mode\":\"lines+markers\",\"name\":\"Unchanged\",\"x\":[\"2021-09-08T00:00:00\",\"2021-09-09T00:00:00\"],\"y\":[\"1\",\"1\"],\"type\":\"scatter\",\"showlegend\":false},{\"hoverinfo\":\"skip\",\"line\":{\"color\":\"#C0C0C0\"},\"mode\":\"lines+markers\",\"name\":\"Unchanged\",\"x\":[\"2021-09-09T00:00:00\",\"2021-09-10T00:00:00\"],\"y\":[\"1\",\"1\"],\"type\":\"scatter\",\"showlegend\":false},{\"hoverinfo\":\"skip\",\"line\":{\"color\":\"#C0C0C0\"},\"mode\":\"lines+markers\",\"name\":\"Unchanged\",\"x\":[\"2021-09-10T00:00:00\",\"2021-09-11T00:00:00\"],\"y\":[\"1\",\"1\"],\"type\":\"scatter\",\"showlegend\":false},{\"hoverinfo\":\"skip\",\"line\":{\"color\":\"#C0C0C0\"},\"mode\":\"lines+markers\",\"name\":\"Unchanged\",\"x\":[\"2021-09-11T00:00:00\",\"2021-09-12T00:00:00\"],\"y\":[\"1\",\"1\"],\"type\":\"scatter\",\"showlegend\":false},{\"hoverinfo\":\"skip\",\"line\":{\"color\":\"#C0C0C0\"},\"mode\":\"lines+markers\",\"name\":\"Unchanged\",\"x\":[\"2021-09-12T00:00:00\",\"2021-09-13T00:00:00\"],\"y\":[\"1\",\"1\"],\"type\":\"scatter\",\"showlegend\":false},{\"hoverinfo\":\"skip\",\"line\":{\"color\":\"#C0C0C0\"},\"mode\":\"lines+markers\",\"name\":\"Unchanged\",\"x\":[\"2021-09-13T00:00:00\",\"2021-09-14T00:00:00\"],\"y\":[\"1\",\"1\"],\"type\":\"scatter\",\"showlegend\":false},{\"hoverinfo\":\"skip\",\"line\":{\"color\":\"#C0C0C0\"},\"mode\":\"lines+markers\",\"name\":\"Unchanged\",\"x\":[\"2021-09-14T00:00:00\",\"2021-09-15T00:00:00\"],\"y\":[\"1\",\"1\"],\"type\":\"scatter\",\"showlegend\":false},{\"hoverinfo\":\"skip\",\"line\":{\"color\":\"#C0C0C0\"},\"mode\":\"lines+markers\",\"name\":\"Unchanged\",\"x\":[\"2021-09-15T00:00:00\",\"2021-09-16T00:00:00\"],\"y\":[\"1\",\"1\"],\"type\":\"scatter\",\"showlegend\":false},{\"hoverinfo\":\"skip\",\"line\":{\"color\":\"#C0C0C0\"},\"mode\":\"lines+markers\",\"name\":\"Unchanged\",\"x\":[\"2021-09-16T00:00:00\",\"2021-09-17T00:00:00\"],\"y\":[\"1\",\"1\"],\"type\":\"scatter\",\"showlegend\":false},{\"hoverinfo\":\"skip\",\"line\":{\"color\":\"#C0C0C0\"},\"mode\":\"lines+markers\",\"name\":\"Unchanged\",\"x\":[\"2021-09-17T00:00:00\",\"2021-09-18T00:00:00\"],\"y\":[\"1\",\"1\"],\"type\":\"scatter\",\"showlegend\":false},{\"hoverinfo\":\"skip\",\"line\":{\"color\":\"#C0C0C0\"},\"mode\":\"lines+markers\",\"name\":\"Unchanged\",\"x\":[\"2021-09-18T00:00:00\",\"2021-09-19T00:00:00\"],\"y\":[\"1\",\"1\"],\"type\":\"scatter\",\"showlegend\":false},{\"hoverinfo\":\"skip\",\"line\":{\"color\":\"#C0C0C0\"},\"mode\":\"lines+markers\",\"name\":\"Unchanged\",\"x\":[\"2021-09-19T00:00:00\",\"2021-09-20T00:00:00\"],\"y\":[\"1\",\"1\"],\"type\":\"scatter\",\"showlegend\":false},{\"hoverinfo\":\"skip\",\"line\":{\"color\":\"#C0C0C0\"},\"mode\":\"lines+markers\",\"name\":\"Unchanged\",\"x\":[\"2021-09-20T00:00:00\",\"2021-09-21T00:00:00\"],\"y\":[\"1\",\"1\"],\"type\":\"scatter\",\"showlegend\":false},{\"hoverinfo\":\"skip\",\"line\":{\"color\":\"#C0C0C0\"},\"mode\":\"lines+markers\",\"name\":\"Unchanged\",\"x\":[\"2021-09-21T00:00:00\",\"2021-09-22T00:00:00\"],\"y\":[\"1\",\"1\"],\"type\":\"scatter\",\"showlegend\":false},{\"hoverinfo\":\"skip\",\"line\":{\"color\":\"#C0C0C0\"},\"mode\":\"lines+markers\",\"name\":\"Unchanged\",\"x\":[\"2021-09-22T00:00:00\",\"2021-09-23T00:00:00\"],\"y\":[\"1\",\"1\"],\"type\":\"scatter\",\"showlegend\":false},{\"hoverinfo\":\"skip\",\"line\":{\"color\":\"#C0C0C0\"},\"mode\":\"lines+markers\",\"name\":\"Unchanged\",\"x\":[\"2021-09-23T00:00:00\",\"2021-09-24T00:00:00\"],\"y\":[\"1\",\"1\"],\"type\":\"scatter\",\"showlegend\":false},{\"hoverinfo\":\"skip\",\"line\":{\"color\":\"#C0C0C0\"},\"mode\":\"lines+markers\",\"name\":\"Unchanged\",\"x\":[\"2021-09-24T00:00:00\",\"2021-09-25T00:00:00\"],\"y\":[\"1\",\"1\"],\"type\":\"scatter\",\"showlegend\":false},{\"hoverinfo\":\"skip\",\"line\":{\"color\":\"#C0C0C0\"},\"mode\":\"lines+markers\",\"name\":\"Unchanged\",\"x\":[\"2021-09-25T00:00:00\",\"2021-09-26T00:00:00\"],\"y\":[\"1\",\"1\"],\"type\":\"scatter\",\"showlegend\":false},{\"hoverinfo\":\"skip\",\"line\":{\"color\":\"#C0C0C0\"},\"mode\":\"lines+markers\",\"name\":\"Unchanged\",\"x\":[\"2021-09-26T00:00:00\",\"2021-09-27T00:00:00\"],\"y\":[\"1\",\"1\"],\"type\":\"scatter\",\"showlegend\":false},{\"hoverinfo\":\"skip\",\"line\":{\"color\":\"#C0C0C0\"},\"mode\":\"lines+markers\",\"name\":\"Unchanged\",\"x\":[\"2021-09-27T00:00:00\",\"2021-09-28T00:00:00\"],\"y\":[\"1\",\"1\"],\"type\":\"scatter\",\"showlegend\":false},{\"hoverinfo\":\"skip\",\"line\":{\"color\":\"#1f77b4\"},\"mode\":\"lines+markers\",\"name\":\"Train\",\"showlegend\":false,\"x\":[\"2021-07-08T00:00:00\",\"2021-07-09T00:00:00\"],\"y\":[\"1\",\"1\"],\"type\":\"scatter\"},{\"hoverinfo\":\"skip\",\"line\":{\"color\":\"#1f77b4\"},\"mode\":\"lines+markers\",\"name\":\"Train\",\"showlegend\":false,\"x\":[\"2021-07-09T00:00:00\",\"2021-07-10T00:00:00\"],\"y\":[\"1\",\"1\"],\"type\":\"scatter\"},{\"hoverinfo\":\"skip\",\"line\":{\"color\":\"#1f77b4\"},\"mode\":\"lines+markers\",\"name\":\"Train\",\"showlegend\":false,\"x\":[\"2021-07-10T00:00:00\",\"2021-07-11T00:00:00\"],\"y\":[\"1\",\"1\"],\"type\":\"scatter\"},{\"hoverinfo\":\"skip\",\"line\":{\"color\":\"#1f77b4\"},\"mode\":\"lines+markers\",\"name\":\"Train\",\"showlegend\":false,\"x\":[\"2021-07-11T00:00:00\",\"2021-07-12T00:00:00\"],\"y\":[\"1\",\"1\"],\"type\":\"scatter\"},{\"hoverinfo\":\"skip\",\"line\":{\"color\":\"#1f77b4\"},\"mode\":\"lines+markers\",\"name\":\"Train\",\"showlegend\":false,\"x\":[\"2021-07-12T00:00:00\",\"2021-07-13T00:00:00\"],\"y\":[\"1\",\"1\"],\"type\":\"scatter\"},{\"hoverinfo\":\"skip\",\"line\":{\"color\":\"#1f77b4\"},\"mode\":\"lines+markers\",\"name\":\"Train\",\"showlegend\":false,\"x\":[\"2021-07-13T00:00:00\",\"2021-07-14T00:00:00\"],\"y\":[\"1\",\"1\"],\"type\":\"scatter\"},{\"hoverinfo\":\"skip\",\"line\":{\"color\":\"#1f77b4\"},\"mode\":\"lines+markers\",\"name\":\"Train\",\"showlegend\":false,\"x\":[\"2021-07-14T00:00:00\",\"2021-07-15T00:00:00\"],\"y\":[\"1\",\"1\"],\"type\":\"scatter\"},{\"hoverinfo\":\"skip\",\"line\":{\"color\":\"#1f77b4\"},\"mode\":\"lines+markers\",\"name\":\"Train\",\"showlegend\":false,\"x\":[\"2021-07-15T00:00:00\",\"2021-07-16T00:00:00\"],\"y\":[\"1\",\"1\"],\"type\":\"scatter\"},{\"hoverinfo\":\"skip\",\"line\":{\"color\":\"#1f77b4\"},\"mode\":\"lines+markers\",\"name\":\"Train\",\"showlegend\":false,\"x\":[\"2021-07-16T00:00:00\",\"2021-07-17T00:00:00\"],\"y\":[\"1\",\"1\"],\"type\":\"scatter\"},{\"hoverinfo\":\"skip\",\"line\":{\"color\":\"#1f77b4\"},\"mode\":\"lines+markers\",\"name\":\"Train\",\"showlegend\":false,\"x\":[\"2021-07-17T00:00:00\",\"2021-07-18T00:00:00\"],\"y\":[\"1\",\"1\"],\"type\":\"scatter\"},{\"hoverinfo\":\"skip\",\"line\":{\"color\":\"#1f77b4\"},\"mode\":\"lines+markers\",\"name\":\"Train\",\"showlegend\":false,\"x\":[\"2021-07-18T00:00:00\",\"2021-07-19T00:00:00\"],\"y\":[\"1\",\"1\"],\"type\":\"scatter\"},{\"hoverinfo\":\"skip\",\"line\":{\"color\":\"#1f77b4\"},\"mode\":\"lines+markers\",\"name\":\"Train\",\"showlegend\":false,\"x\":[\"2021-07-19T00:00:00\",\"2021-07-20T00:00:00\"],\"y\":[\"1\",\"1\"],\"type\":\"scatter\"},{\"hoverinfo\":\"skip\",\"line\":{\"color\":\"#1f77b4\"},\"mode\":\"lines+markers\",\"name\":\"Train\",\"showlegend\":false,\"x\":[\"2021-07-20T00:00:00\",\"2021-07-21T00:00:00\"],\"y\":[\"1\",\"1\"],\"type\":\"scatter\"},{\"hoverinfo\":\"skip\",\"line\":{\"color\":\"#1f77b4\"},\"mode\":\"lines+markers\",\"name\":\"Train\",\"showlegend\":false,\"x\":[\"2021-07-21T00:00:00\",\"2021-07-22T00:00:00\"],\"y\":[\"1\",\"1\"],\"type\":\"scatter\"},{\"hoverinfo\":\"skip\",\"line\":{\"color\":\"#1f77b4\"},\"mode\":\"lines+markers\",\"name\":\"Train\",\"showlegend\":false,\"x\":[\"2021-07-22T00:00:00\",\"2021-07-23T00:00:00\"],\"y\":[\"1\",\"1\"],\"type\":\"scatter\"},{\"hoverinfo\":\"skip\",\"line\":{\"color\":\"#1f77b4\"},\"mode\":\"lines+markers\",\"name\":\"Train\",\"showlegend\":false,\"x\":[\"2021-07-23T00:00:00\",\"2021-07-24T00:00:00\"],\"y\":[\"1\",\"1\"],\"type\":\"scatter\"},{\"hoverinfo\":\"skip\",\"line\":{\"color\":\"#1f77b4\"},\"mode\":\"lines+markers\",\"name\":\"Train\",\"showlegend\":false,\"x\":[\"2021-07-24T00:00:00\",\"2021-07-25T00:00:00\"],\"y\":[\"1\",\"1\"],\"type\":\"scatter\"},{\"hoverinfo\":\"skip\",\"line\":{\"color\":\"#1f77b4\"},\"mode\":\"lines+markers\",\"name\":\"Train\",\"showlegend\":false,\"x\":[\"2021-07-25T00:00:00\",\"2021-07-26T00:00:00\"],\"y\":[\"1\",\"1\"],\"type\":\"scatter\"},{\"hoverinfo\":\"skip\",\"line\":{\"color\":\"#1f77b4\"},\"mode\":\"lines+markers\",\"name\":\"Train\",\"showlegend\":false,\"x\":[\"2021-07-26T00:00:00\",\"2021-07-27T00:00:00\"],\"y\":[\"1\",\"1\"],\"type\":\"scatter\"},{\"hoverinfo\":\"skip\",\"line\":{\"color\":\"#1f77b4\"},\"mode\":\"lines+markers\",\"name\":\"Train\",\"showlegend\":false,\"x\":[\"2021-07-27T00:00:00\",\"2021-07-28T00:00:00\"],\"y\":[\"1\",\"1\"],\"type\":\"scatter\"},{\"hoverinfo\":\"skip\",\"line\":{\"color\":\"#1f77b4\"},\"mode\":\"lines+markers\",\"name\":\"Train\",\"showlegend\":false,\"x\":[\"2021-07-28T00:00:00\",\"2021-07-29T00:00:00\"],\"y\":[\"1\",\"1\"],\"type\":\"scatter\"},{\"hoverinfo\":\"skip\",\"line\":{\"color\":\"#1f77b4\"},\"mode\":\"lines+markers\",\"name\":\"Train\",\"showlegend\":false,\"x\":[\"2021-07-29T00:00:00\",\"2021-07-30T00:00:00\"],\"y\":[\"1\",\"1\"],\"type\":\"scatter\"},{\"hoverinfo\":\"skip\",\"line\":{\"color\":\"#1f77b4\"},\"mode\":\"lines+markers\",\"name\":\"Train\",\"showlegend\":false,\"x\":[\"2021-07-30T00:00:00\",\"2021-07-31T00:00:00\"],\"y\":[\"1\",\"1\"],\"type\":\"scatter\"},{\"hoverinfo\":\"skip\",\"line\":{\"color\":\"#1f77b4\"},\"mode\":\"lines+markers\",\"name\":\"Train\",\"showlegend\":false,\"x\":[\"2021-07-31T00:00:00\",\"2021-08-01T00:00:00\"],\"y\":[\"1\",\"1\"],\"type\":\"scatter\"},{\"hoverinfo\":\"skip\",\"line\":{\"color\":\"#1f77b4\"},\"mode\":\"lines+markers\",\"name\":\"Train\",\"showlegend\":false,\"x\":[\"2021-08-01T00:00:00\",\"2021-08-02T00:00:00\"],\"y\":[\"1\",\"1\"],\"type\":\"scatter\"},{\"hoverinfo\":\"skip\",\"line\":{\"color\":\"#1f77b4\"},\"mode\":\"lines+markers\",\"name\":\"Train\",\"showlegend\":false,\"x\":[\"2021-08-02T00:00:00\",\"2021-08-03T00:00:00\"],\"y\":[\"1\",\"1\"],\"type\":\"scatter\"},{\"hoverinfo\":\"skip\",\"line\":{\"color\":\"#1f77b4\"},\"mode\":\"lines+markers\",\"name\":\"Train\",\"showlegend\":false,\"x\":[\"2021-08-03T00:00:00\",\"2021-08-04T00:00:00\"],\"y\":[\"1\",\"1\"],\"type\":\"scatter\"},{\"hoverinfo\":\"skip\",\"line\":{\"color\":\"#1f77b4\"},\"mode\":\"lines+markers\",\"name\":\"Train\",\"showlegend\":false,\"x\":[\"2021-08-04T00:00:00\",\"2021-08-05T00:00:00\"],\"y\":[\"1\",\"1\"],\"type\":\"scatter\"},{\"hoverinfo\":\"skip\",\"line\":{\"color\":\"#1f77b4\"},\"mode\":\"lines+markers\",\"name\":\"Train\",\"showlegend\":false,\"x\":[\"2021-08-05T00:00:00\",\"2021-08-06T00:00:00\"],\"y\":[\"1\",\"1\"],\"type\":\"scatter\"},{\"hoverinfo\":\"skip\",\"line\":{\"color\":\"#1f77b4\"},\"mode\":\"lines+markers\",\"name\":\"Train\",\"showlegend\":false,\"x\":[\"2021-08-06T00:00:00\",\"2021-08-07T00:00:00\"],\"y\":[\"1\",\"1\"],\"type\":\"scatter\"},{\"hoverinfo\":\"skip\",\"line\":{\"color\":\"#1f77b4\"},\"mode\":\"lines+markers\",\"name\":\"Train\",\"showlegend\":false,\"x\":[\"2021-08-07T00:00:00\",\"2021-08-08T00:00:00\"],\"y\":[\"1\",\"1\"],\"type\":\"scatter\"},{\"hoverinfo\":\"skip\",\"line\":{\"color\":\"#1f77b4\"},\"mode\":\"lines+markers\",\"name\":\"Train\",\"showlegend\":false,\"x\":[\"2021-08-08T00:00:00\",\"2021-08-09T00:00:00\"],\"y\":[\"1\",\"1\"],\"type\":\"scatter\"},{\"hoverinfo\":\"skip\",\"line\":{\"color\":\"#1f77b4\"},\"mode\":\"lines+markers\",\"name\":\"Train\",\"showlegend\":false,\"x\":[\"2021-08-09T00:00:00\",\"2021-08-10T00:00:00\"],\"y\":[\"1\",\"1\"],\"type\":\"scatter\"},{\"hoverinfo\":\"skip\",\"line\":{\"color\":\"#1f77b4\"},\"mode\":\"lines+markers\",\"name\":\"Train\",\"showlegend\":false,\"x\":[\"2021-08-10T00:00:00\",\"2021-08-11T00:00:00\"],\"y\":[\"1\",\"1\"],\"type\":\"scatter\"},{\"hoverinfo\":\"skip\",\"line\":{\"color\":\"#1f77b4\"},\"mode\":\"lines+markers\",\"name\":\"Train\",\"showlegend\":false,\"x\":[\"2021-08-11T00:00:00\",\"2021-08-12T00:00:00\"],\"y\":[\"1\",\"1\"],\"type\":\"scatter\"},{\"hoverinfo\":\"skip\",\"line\":{\"color\":\"#1f77b4\"},\"mode\":\"lines+markers\",\"name\":\"Train\",\"showlegend\":false,\"x\":[\"2021-08-12T00:00:00\",\"2021-08-13T00:00:00\"],\"y\":[\"1\",\"1\"],\"type\":\"scatter\"},{\"hoverinfo\":\"skip\",\"line\":{\"color\":\"#1f77b4\"},\"mode\":\"lines+markers\",\"name\":\"Train\",\"showlegend\":false,\"x\":[\"2021-08-13T00:00:00\",\"2021-08-14T00:00:00\"],\"y\":[\"1\",\"1\"],\"type\":\"scatter\"},{\"hoverinfo\":\"skip\",\"line\":{\"color\":\"#1f77b4\"},\"mode\":\"lines+markers\",\"name\":\"Train\",\"showlegend\":false,\"x\":[\"2021-08-14T00:00:00\",\"2021-08-15T00:00:00\"],\"y\":[\"1\",\"1\"],\"type\":\"scatter\"},{\"hoverinfo\":\"skip\",\"line\":{\"color\":\"#1f77b4\"},\"mode\":\"lines+markers\",\"name\":\"Train\",\"showlegend\":false,\"x\":[\"2021-08-15T00:00:00\",\"2021-08-16T00:00:00\"],\"y\":[\"1\",\"1\"],\"type\":\"scatter\"},{\"hoverinfo\":\"skip\",\"line\":{\"color\":\"#1f77b4\"},\"mode\":\"lines+markers\",\"name\":\"Train\",\"showlegend\":false,\"x\":[\"2021-08-16T00:00:00\",\"2021-08-17T00:00:00\"],\"y\":[\"1\",\"1\"],\"type\":\"scatter\"},{\"hoverinfo\":\"skip\",\"line\":{\"color\":\"#1f77b4\"},\"mode\":\"lines+markers\",\"name\":\"Train\",\"showlegend\":false,\"x\":[\"2021-08-17T00:00:00\",\"2021-08-18T00:00:00\"],\"y\":[\"1\",\"1\"],\"type\":\"scatter\"},{\"hoverinfo\":\"skip\",\"line\":{\"color\":\"#1f77b4\"},\"mode\":\"lines+markers\",\"name\":\"Train\",\"showlegend\":false,\"x\":[\"2021-08-18T00:00:00\",\"2021-08-19T00:00:00\"],\"y\":[\"1\",\"1\"],\"type\":\"scatter\"},{\"hoverinfo\":\"skip\",\"line\":{\"color\":\"#1f77b4\"},\"mode\":\"lines+markers\",\"name\":\"Train\",\"showlegend\":false,\"x\":[\"2021-08-19T00:00:00\",\"2021-08-20T00:00:00\"],\"y\":[\"1\",\"1\"],\"type\":\"scatter\"},{\"hoverinfo\":\"skip\",\"line\":{\"color\":\"#1f77b4\"},\"mode\":\"lines+markers\",\"name\":\"Train\",\"showlegend\":false,\"x\":[\"2021-08-20T00:00:00\",\"2021-08-21T00:00:00\"],\"y\":[\"1\",\"1\"],\"type\":\"scatter\"},{\"hoverinfo\":\"skip\",\"line\":{\"color\":\"#1f77b4\"},\"mode\":\"lines+markers\",\"name\":\"Train\",\"showlegend\":false,\"x\":[\"2021-08-21T00:00:00\",\"2021-08-22T00:00:00\"],\"y\":[\"1\",\"1\"],\"type\":\"scatter\"},{\"hoverinfo\":\"skip\",\"line\":{\"color\":\"#1f77b4\"},\"mode\":\"lines+markers\",\"name\":\"Train\",\"showlegend\":false,\"x\":[\"2021-08-22T00:00:00\",\"2021-08-23T00:00:00\"],\"y\":[\"1\",\"1\"],\"type\":\"scatter\"},{\"hoverinfo\":\"skip\",\"line\":{\"color\":\"#1f77b4\"},\"mode\":\"lines+markers\",\"name\":\"Train\",\"showlegend\":false,\"x\":[\"2021-08-23T00:00:00\",\"2021-08-24T00:00:00\"],\"y\":[\"1\",\"1\"],\"type\":\"scatter\"},{\"hoverinfo\":\"skip\",\"line\":{\"color\":\"#1f77b4\"},\"mode\":\"lines+markers\",\"name\":\"Train\",\"showlegend\":false,\"x\":[\"2021-08-24T00:00:00\",\"2021-08-25T00:00:00\"],\"y\":[\"1\",\"1\"],\"type\":\"scatter\"},{\"hoverinfo\":\"skip\",\"line\":{\"color\":\"#1f77b4\"},\"mode\":\"lines+markers\",\"name\":\"Train\",\"showlegend\":false,\"x\":[\"2021-08-25T00:00:00\",\"2021-08-26T00:00:00\"],\"y\":[\"1\",\"1\"],\"type\":\"scatter\"},{\"hoverinfo\":\"skip\",\"line\":{\"color\":\"#1f77b4\"},\"mode\":\"lines+markers\",\"name\":\"Train\",\"showlegend\":false,\"x\":[\"2021-08-26T00:00:00\",\"2021-08-27T00:00:00\"],\"y\":[\"1\",\"1\"],\"type\":\"scatter\"},{\"hoverinfo\":\"skip\",\"line\":{\"color\":\"#1f77b4\"},\"mode\":\"lines+markers\",\"name\":\"Train\",\"showlegend\":false,\"x\":[\"2021-08-27T00:00:00\",\"2021-08-28T00:00:00\"],\"y\":[\"1\",\"1\"],\"type\":\"scatter\"},{\"hoverinfo\":\"skip\",\"line\":{\"color\":\"#1f77b4\"},\"mode\":\"lines+markers\",\"name\":\"Train\",\"showlegend\":false,\"x\":[\"2021-08-28T00:00:00\",\"2021-08-29T00:00:00\"],\"y\":[\"1\",\"1\"],\"type\":\"scatter\"},{\"hoverinfo\":\"skip\",\"line\":{\"color\":\"#1f77b4\"},\"mode\":\"lines+markers\",\"name\":\"Train\",\"showlegend\":false,\"x\":[\"2021-08-29T00:00:00\",\"2021-08-30T00:00:00\"],\"y\":[\"1\",\"1\"],\"type\":\"scatter\"},{\"hoverinfo\":\"skip\",\"line\":{\"color\":\"#1f77b4\"},\"mode\":\"lines+markers\",\"name\":\"Train\",\"showlegend\":false,\"x\":[\"2021-08-30T00:00:00\",\"2021-08-31T00:00:00\"],\"y\":[\"1\",\"1\"],\"type\":\"scatter\"},{\"hoverinfo\":\"skip\",\"line\":{\"color\":\"#1f77b4\"},\"mode\":\"lines+markers\",\"name\":\"Train\",\"showlegend\":false,\"x\":[\"2021-08-31T00:00:00\",\"2021-09-01T00:00:00\"],\"y\":[\"1\",\"1\"],\"type\":\"scatter\"},{\"hoverinfo\":\"skip\",\"line\":{\"color\":\"#1f77b4\"},\"mode\":\"lines+markers\",\"name\":\"Train\",\"showlegend\":false,\"x\":[\"2021-09-01T00:00:00\",\"2021-09-02T00:00:00\"],\"y\":[\"1\",\"1\"],\"type\":\"scatter\"},{\"hoverinfo\":\"skip\",\"line\":{\"color\":\"#1f77b4\"},\"mode\":\"lines+markers\",\"name\":\"Train\",\"showlegend\":false,\"x\":[\"2021-09-02T00:00:00\",\"2021-09-03T00:00:00\"],\"y\":[\"1\",\"1\"],\"type\":\"scatter\"},{\"hoverinfo\":\"skip\",\"line\":{\"color\":\"#1f77b4\"},\"mode\":\"lines+markers\",\"name\":\"Train\",\"showlegend\":false,\"x\":[\"2021-09-03T00:00:00\",\"2021-09-04T00:00:00\"],\"y\":[\"1\",\"1\"],\"type\":\"scatter\"},{\"hoverinfo\":\"skip\",\"line\":{\"color\":\"#1f77b4\"},\"mode\":\"lines+markers\",\"name\":\"Train\",\"showlegend\":false,\"x\":[\"2021-09-04T00:00:00\",\"2021-09-05T00:00:00\"],\"y\":[\"1\",\"1\"],\"type\":\"scatter\"},{\"hoverinfo\":\"skip\",\"line\":{\"color\":\"#1f77b4\"},\"mode\":\"lines+markers\",\"name\":\"Train\",\"showlegend\":false,\"x\":[\"2021-09-05T00:00:00\",\"2021-09-06T00:00:00\"],\"y\":[\"1\",\"1\"],\"type\":\"scatter\"},{\"hoverinfo\":\"skip\",\"line\":{\"color\":\"#1f77b4\"},\"mode\":\"lines+markers\",\"name\":\"Train\",\"showlegend\":false,\"x\":[\"2021-09-06T00:00:00\",\"2021-09-07T00:00:00\"],\"y\":[\"1\",\"1\"],\"type\":\"scatter\"},{\"hoverinfo\":\"skip\",\"line\":{\"color\":\"#1f77b4\"},\"mode\":\"lines+markers\",\"name\":\"Train\",\"showlegend\":false,\"x\":[\"2021-09-07T00:00:00\",\"2021-09-08T00:00:00\"],\"y\":[\"1\",\"1\"],\"type\":\"scatter\"},{\"hoverinfo\":\"skip\",\"line\":{\"color\":\"#1f77b4\"},\"mode\":\"lines+markers\",\"name\":\"Train\",\"showlegend\":false,\"x\":[\"2021-09-08T00:00:00\",\"2021-09-09T00:00:00\"],\"y\":[\"1\",\"1\"],\"type\":\"scatter\"},{\"hoverinfo\":\"skip\",\"line\":{\"color\":\"#1f77b4\"},\"mode\":\"lines+markers\",\"name\":\"Train\",\"showlegend\":false,\"x\":[\"2021-09-09T00:00:00\",\"2021-09-10T00:00:00\"],\"y\":[\"1\",\"1\"],\"type\":\"scatter\"},{\"hoverinfo\":\"skip\",\"line\":{\"color\":\"#1f77b4\"},\"mode\":\"lines+markers\",\"name\":\"Train\",\"showlegend\":false,\"x\":[\"2021-09-10T00:00:00\",\"2021-09-11T00:00:00\"],\"y\":[\"1\",\"1\"],\"type\":\"scatter\"},{\"hoverinfo\":\"skip\",\"line\":{\"color\":\"#1f77b4\"},\"mode\":\"lines+markers\",\"name\":\"Train\",\"showlegend\":false,\"x\":[\"2021-09-11T00:00:00\",\"2021-09-12T00:00:00\"],\"y\":[\"1\",\"1\"],\"type\":\"scatter\"},{\"hoverinfo\":\"skip\",\"line\":{\"color\":\"#1f77b4\"},\"mode\":\"lines+markers\",\"name\":\"Train\",\"showlegend\":false,\"x\":[\"2021-09-12T00:00:00\",\"2021-09-13T00:00:00\"],\"y\":[\"1\",\"1\"],\"type\":\"scatter\"},{\"hoverinfo\":\"skip\",\"line\":{\"color\":\"#1f77b4\"},\"mode\":\"lines+markers\",\"name\":\"Train\",\"showlegend\":false,\"x\":[\"2021-09-13T00:00:00\",\"2021-09-14T00:00:00\"],\"y\":[\"1\",\"1\"],\"type\":\"scatter\"},{\"hoverinfo\":\"skip\",\"line\":{\"color\":\"#DE970B\"},\"mode\":\"lines+markers\",\"name\":\"ForecastHorizon\",\"x\":[\"2021-09-15T00:00:00\",\"2021-09-16T00:00:00\"],\"y\":[\"1\",\"1\"],\"type\":\"scatter\",\"showlegend\":false},{\"hoverinfo\":\"skip\",\"line\":{\"color\":\"#DE970B\"},\"mode\":\"lines+markers\",\"name\":\"ForecastHorizon\",\"x\":[\"2021-09-16T00:00:00\",\"2021-09-17T00:00:00\"],\"y\":[\"1\",\"1\"],\"type\":\"scatter\",\"showlegend\":false},{\"hoverinfo\":\"skip\",\"line\":{\"color\":\"#DE970B\"},\"mode\":\"lines+markers\",\"name\":\"ForecastHorizon\",\"x\":[\"2021-09-17T00:00:00\",\"2021-09-18T00:00:00\"],\"y\":[\"1\",\"1\"],\"type\":\"scatter\",\"showlegend\":false},{\"hoverinfo\":\"skip\",\"line\":{\"color\":\"#DE970B\"},\"mode\":\"lines+markers\",\"name\":\"ForecastHorizon\",\"x\":[\"2021-09-18T00:00:00\",\"2021-09-19T00:00:00\"],\"y\":[\"1\",\"1\"],\"type\":\"scatter\",\"showlegend\":false},{\"hoverinfo\":\"skip\",\"line\":{\"color\":\"#DE970B\"},\"mode\":\"lines+markers\",\"name\":\"ForecastHorizon\",\"x\":[\"2021-09-19T00:00:00\",\"2021-09-20T00:00:00\"],\"y\":[\"1\",\"1\"],\"type\":\"scatter\",\"showlegend\":false},{\"hoverinfo\":\"skip\",\"line\":{\"color\":\"#DE970B\"},\"mode\":\"lines+markers\",\"name\":\"ForecastHorizon\",\"x\":[\"2021-09-20T00:00:00\",\"2021-09-21T00:00:00\"],\"y\":[\"1\",\"1\"],\"type\":\"scatter\",\"showlegend\":false},{\"hoverinfo\":\"skip\",\"line\":{\"color\":\"#C0C0C0\"},\"mode\":\"lines+markers\",\"name\":\"Unchanged\",\"x\":[\"2021-07-08T00:00:00\",\"2021-07-09T00:00:00\"],\"y\":[\"0\",\"0\"],\"type\":\"scatter\",\"showlegend\":false},{\"hoverinfo\":\"skip\",\"line\":{\"color\":\"#C0C0C0\"},\"mode\":\"lines+markers\",\"name\":\"Unchanged\",\"x\":[\"2021-07-09T00:00:00\",\"2021-07-10T00:00:00\"],\"y\":[\"0\",\"0\"],\"type\":\"scatter\",\"showlegend\":false},{\"hoverinfo\":\"skip\",\"line\":{\"color\":\"#C0C0C0\"},\"mode\":\"lines+markers\",\"name\":\"Unchanged\",\"x\":[\"2021-07-10T00:00:00\",\"2021-07-11T00:00:00\"],\"y\":[\"0\",\"0\"],\"type\":\"scatter\",\"showlegend\":false},{\"hoverinfo\":\"skip\",\"line\":{\"color\":\"#C0C0C0\"},\"mode\":\"lines+markers\",\"name\":\"Unchanged\",\"x\":[\"2021-07-11T00:00:00\",\"2021-07-12T00:00:00\"],\"y\":[\"0\",\"0\"],\"type\":\"scatter\",\"showlegend\":false},{\"hoverinfo\":\"skip\",\"line\":{\"color\":\"#C0C0C0\"},\"mode\":\"lines+markers\",\"name\":\"Unchanged\",\"x\":[\"2021-07-12T00:00:00\",\"2021-07-13T00:00:00\"],\"y\":[\"0\",\"0\"],\"type\":\"scatter\",\"showlegend\":false},{\"hoverinfo\":\"skip\",\"line\":{\"color\":\"#C0C0C0\"},\"mode\":\"lines+markers\",\"name\":\"Unchanged\",\"x\":[\"2021-07-13T00:00:00\",\"2021-07-14T00:00:00\"],\"y\":[\"0\",\"0\"],\"type\":\"scatter\",\"showlegend\":false},{\"hoverinfo\":\"skip\",\"line\":{\"color\":\"#C0C0C0\"},\"mode\":\"lines+markers\",\"name\":\"Unchanged\",\"x\":[\"2021-07-14T00:00:00\",\"2021-07-15T00:00:00\"],\"y\":[\"0\",\"0\"],\"type\":\"scatter\",\"showlegend\":false},{\"hoverinfo\":\"skip\",\"line\":{\"color\":\"#C0C0C0\"},\"mode\":\"lines+markers\",\"name\":\"Unchanged\",\"x\":[\"2021-07-15T00:00:00\",\"2021-07-16T00:00:00\"],\"y\":[\"0\",\"0\"],\"type\":\"scatter\",\"showlegend\":false},{\"hoverinfo\":\"skip\",\"line\":{\"color\":\"#C0C0C0\"},\"mode\":\"lines+markers\",\"name\":\"Unchanged\",\"x\":[\"2021-07-16T00:00:00\",\"2021-07-17T00:00:00\"],\"y\":[\"0\",\"0\"],\"type\":\"scatter\",\"showlegend\":false},{\"hoverinfo\":\"skip\",\"line\":{\"color\":\"#C0C0C0\"},\"mode\":\"lines+markers\",\"name\":\"Unchanged\",\"x\":[\"2021-07-17T00:00:00\",\"2021-07-18T00:00:00\"],\"y\":[\"0\",\"0\"],\"type\":\"scatter\",\"showlegend\":false},{\"hoverinfo\":\"skip\",\"line\":{\"color\":\"#C0C0C0\"},\"mode\":\"lines+markers\",\"name\":\"Unchanged\",\"x\":[\"2021-07-18T00:00:00\",\"2021-07-19T00:00:00\"],\"y\":[\"0\",\"0\"],\"type\":\"scatter\",\"showlegend\":false},{\"hoverinfo\":\"skip\",\"line\":{\"color\":\"#C0C0C0\"},\"mode\":\"lines+markers\",\"name\":\"Unchanged\",\"x\":[\"2021-07-19T00:00:00\",\"2021-07-20T00:00:00\"],\"y\":[\"0\",\"0\"],\"type\":\"scatter\",\"showlegend\":false},{\"hoverinfo\":\"skip\",\"line\":{\"color\":\"#C0C0C0\"},\"mode\":\"lines+markers\",\"name\":\"Unchanged\",\"x\":[\"2021-07-20T00:00:00\",\"2021-07-21T00:00:00\"],\"y\":[\"0\",\"0\"],\"type\":\"scatter\",\"showlegend\":false},{\"hoverinfo\":\"skip\",\"line\":{\"color\":\"#C0C0C0\"},\"mode\":\"lines+markers\",\"name\":\"Unchanged\",\"x\":[\"2021-07-21T00:00:00\",\"2021-07-22T00:00:00\"],\"y\":[\"0\",\"0\"],\"type\":\"scatter\",\"showlegend\":false},{\"hoverinfo\":\"skip\",\"line\":{\"color\":\"#C0C0C0\"},\"mode\":\"lines+markers\",\"name\":\"Unchanged\",\"x\":[\"2021-07-22T00:00:00\",\"2021-07-23T00:00:00\"],\"y\":[\"0\",\"0\"],\"type\":\"scatter\",\"showlegend\":false},{\"hoverinfo\":\"skip\",\"line\":{\"color\":\"#C0C0C0\"},\"mode\":\"lines+markers\",\"name\":\"Unchanged\",\"x\":[\"2021-07-23T00:00:00\",\"2021-07-24T00:00:00\"],\"y\":[\"0\",\"0\"],\"type\":\"scatter\",\"showlegend\":false},{\"hoverinfo\":\"skip\",\"line\":{\"color\":\"#C0C0C0\"},\"mode\":\"lines+markers\",\"name\":\"Unchanged\",\"x\":[\"2021-07-24T00:00:00\",\"2021-07-25T00:00:00\"],\"y\":[\"0\",\"0\"],\"type\":\"scatter\",\"showlegend\":false},{\"hoverinfo\":\"skip\",\"line\":{\"color\":\"#C0C0C0\"},\"mode\":\"lines+markers\",\"name\":\"Unchanged\",\"x\":[\"2021-07-25T00:00:00\",\"2021-07-26T00:00:00\"],\"y\":[\"0\",\"0\"],\"type\":\"scatter\",\"showlegend\":false},{\"hoverinfo\":\"skip\",\"line\":{\"color\":\"#C0C0C0\"},\"mode\":\"lines+markers\",\"name\":\"Unchanged\",\"x\":[\"2021-07-26T00:00:00\",\"2021-07-27T00:00:00\"],\"y\":[\"0\",\"0\"],\"type\":\"scatter\",\"showlegend\":false},{\"hoverinfo\":\"skip\",\"line\":{\"color\":\"#C0C0C0\"},\"mode\":\"lines+markers\",\"name\":\"Unchanged\",\"x\":[\"2021-07-27T00:00:00\",\"2021-07-28T00:00:00\"],\"y\":[\"0\",\"0\"],\"type\":\"scatter\",\"showlegend\":false},{\"hoverinfo\":\"skip\",\"line\":{\"color\":\"#C0C0C0\"},\"mode\":\"lines+markers\",\"name\":\"Unchanged\",\"x\":[\"2021-07-28T00:00:00\",\"2021-07-29T00:00:00\"],\"y\":[\"0\",\"0\"],\"type\":\"scatter\",\"showlegend\":false},{\"hoverinfo\":\"skip\",\"line\":{\"color\":\"#C0C0C0\"},\"mode\":\"lines+markers\",\"name\":\"Unchanged\",\"x\":[\"2021-07-29T00:00:00\",\"2021-07-30T00:00:00\"],\"y\":[\"0\",\"0\"],\"type\":\"scatter\",\"showlegend\":false},{\"hoverinfo\":\"skip\",\"line\":{\"color\":\"#C0C0C0\"},\"mode\":\"lines+markers\",\"name\":\"Unchanged\",\"x\":[\"2021-07-30T00:00:00\",\"2021-07-31T00:00:00\"],\"y\":[\"0\",\"0\"],\"type\":\"scatter\",\"showlegend\":false},{\"hoverinfo\":\"skip\",\"line\":{\"color\":\"#C0C0C0\"},\"mode\":\"lines+markers\",\"name\":\"Unchanged\",\"x\":[\"2021-07-31T00:00:00\",\"2021-08-01T00:00:00\"],\"y\":[\"0\",\"0\"],\"type\":\"scatter\",\"showlegend\":false},{\"hoverinfo\":\"skip\",\"line\":{\"color\":\"#C0C0C0\"},\"mode\":\"lines+markers\",\"name\":\"Unchanged\",\"x\":[\"2021-08-01T00:00:00\",\"2021-08-02T00:00:00\"],\"y\":[\"0\",\"0\"],\"type\":\"scatter\",\"showlegend\":false},{\"hoverinfo\":\"skip\",\"line\":{\"color\":\"#C0C0C0\"},\"mode\":\"lines+markers\",\"name\":\"Unchanged\",\"x\":[\"2021-08-02T00:00:00\",\"2021-08-03T00:00:00\"],\"y\":[\"0\",\"0\"],\"type\":\"scatter\",\"showlegend\":false},{\"hoverinfo\":\"skip\",\"line\":{\"color\":\"#C0C0C0\"},\"mode\":\"lines+markers\",\"name\":\"Unchanged\",\"x\":[\"2021-08-03T00:00:00\",\"2021-08-04T00:00:00\"],\"y\":[\"0\",\"0\"],\"type\":\"scatter\",\"showlegend\":false},{\"hoverinfo\":\"skip\",\"line\":{\"color\":\"#C0C0C0\"},\"mode\":\"lines+markers\",\"name\":\"Unchanged\",\"x\":[\"2021-08-04T00:00:00\",\"2021-08-05T00:00:00\"],\"y\":[\"0\",\"0\"],\"type\":\"scatter\",\"showlegend\":false},{\"hoverinfo\":\"skip\",\"line\":{\"color\":\"#C0C0C0\"},\"mode\":\"lines+markers\",\"name\":\"Unchanged\",\"x\":[\"2021-08-05T00:00:00\",\"2021-08-06T00:00:00\"],\"y\":[\"0\",\"0\"],\"type\":\"scatter\",\"showlegend\":false},{\"hoverinfo\":\"skip\",\"line\":{\"color\":\"#C0C0C0\"},\"mode\":\"lines+markers\",\"name\":\"Unchanged\",\"x\":[\"2021-08-06T00:00:00\",\"2021-08-07T00:00:00\"],\"y\":[\"0\",\"0\"],\"type\":\"scatter\",\"showlegend\":false},{\"hoverinfo\":\"skip\",\"line\":{\"color\":\"#C0C0C0\"},\"mode\":\"lines+markers\",\"name\":\"Unchanged\",\"x\":[\"2021-08-07T00:00:00\",\"2021-08-08T00:00:00\"],\"y\":[\"0\",\"0\"],\"type\":\"scatter\",\"showlegend\":false},{\"hoverinfo\":\"skip\",\"line\":{\"color\":\"#C0C0C0\"},\"mode\":\"lines+markers\",\"name\":\"Unchanged\",\"x\":[\"2021-08-08T00:00:00\",\"2021-08-09T00:00:00\"],\"y\":[\"0\",\"0\"],\"type\":\"scatter\",\"showlegend\":false},{\"hoverinfo\":\"skip\",\"line\":{\"color\":\"#C0C0C0\"},\"mode\":\"lines+markers\",\"name\":\"Unchanged\",\"x\":[\"2021-08-09T00:00:00\",\"2021-08-10T00:00:00\"],\"y\":[\"0\",\"0\"],\"type\":\"scatter\",\"showlegend\":false},{\"hoverinfo\":\"skip\",\"line\":{\"color\":\"#C0C0C0\"},\"mode\":\"lines+markers\",\"name\":\"Unchanged\",\"x\":[\"2021-08-10T00:00:00\",\"2021-08-11T00:00:00\"],\"y\":[\"0\",\"0\"],\"type\":\"scatter\",\"showlegend\":false},{\"hoverinfo\":\"skip\",\"line\":{\"color\":\"#C0C0C0\"},\"mode\":\"lines+markers\",\"name\":\"Unchanged\",\"x\":[\"2021-08-11T00:00:00\",\"2021-08-12T00:00:00\"],\"y\":[\"0\",\"0\"],\"type\":\"scatter\",\"showlegend\":false},{\"hoverinfo\":\"skip\",\"line\":{\"color\":\"#C0C0C0\"},\"mode\":\"lines+markers\",\"name\":\"Unchanged\",\"x\":[\"2021-08-12T00:00:00\",\"2021-08-13T00:00:00\"],\"y\":[\"0\",\"0\"],\"type\":\"scatter\",\"showlegend\":false},{\"hoverinfo\":\"skip\",\"line\":{\"color\":\"#C0C0C0\"},\"mode\":\"lines+markers\",\"name\":\"Unchanged\",\"x\":[\"2021-08-13T00:00:00\",\"2021-08-14T00:00:00\"],\"y\":[\"0\",\"0\"],\"type\":\"scatter\",\"showlegend\":false},{\"hoverinfo\":\"skip\",\"line\":{\"color\":\"#C0C0C0\"},\"mode\":\"lines+markers\",\"name\":\"Unchanged\",\"x\":[\"2021-08-14T00:00:00\",\"2021-08-15T00:00:00\"],\"y\":[\"0\",\"0\"],\"type\":\"scatter\",\"showlegend\":false},{\"hoverinfo\":\"skip\",\"line\":{\"color\":\"#C0C0C0\"},\"mode\":\"lines+markers\",\"name\":\"Unchanged\",\"x\":[\"2021-08-15T00:00:00\",\"2021-08-16T00:00:00\"],\"y\":[\"0\",\"0\"],\"type\":\"scatter\",\"showlegend\":false},{\"hoverinfo\":\"skip\",\"line\":{\"color\":\"#C0C0C0\"},\"mode\":\"lines+markers\",\"name\":\"Unchanged\",\"x\":[\"2021-08-16T00:00:00\",\"2021-08-17T00:00:00\"],\"y\":[\"0\",\"0\"],\"type\":\"scatter\",\"showlegend\":false},{\"hoverinfo\":\"skip\",\"line\":{\"color\":\"#C0C0C0\"},\"mode\":\"lines+markers\",\"name\":\"Unchanged\",\"x\":[\"2021-08-17T00:00:00\",\"2021-08-18T00:00:00\"],\"y\":[\"0\",\"0\"],\"type\":\"scatter\",\"showlegend\":false},{\"hoverinfo\":\"skip\",\"line\":{\"color\":\"#C0C0C0\"},\"mode\":\"lines+markers\",\"name\":\"Unchanged\",\"x\":[\"2021-08-18T00:00:00\",\"2021-08-19T00:00:00\"],\"y\":[\"0\",\"0\"],\"type\":\"scatter\",\"showlegend\":false},{\"hoverinfo\":\"skip\",\"line\":{\"color\":\"#C0C0C0\"},\"mode\":\"lines+markers\",\"name\":\"Unchanged\",\"x\":[\"2021-08-19T00:00:00\",\"2021-08-20T00:00:00\"],\"y\":[\"0\",\"0\"],\"type\":\"scatter\",\"showlegend\":false},{\"hoverinfo\":\"skip\",\"line\":{\"color\":\"#C0C0C0\"},\"mode\":\"lines+markers\",\"name\":\"Unchanged\",\"x\":[\"2021-08-20T00:00:00\",\"2021-08-21T00:00:00\"],\"y\":[\"0\",\"0\"],\"type\":\"scatter\",\"showlegend\":false},{\"hoverinfo\":\"skip\",\"line\":{\"color\":\"#C0C0C0\"},\"mode\":\"lines+markers\",\"name\":\"Unchanged\",\"x\":[\"2021-08-21T00:00:00\",\"2021-08-22T00:00:00\"],\"y\":[\"0\",\"0\"],\"type\":\"scatter\",\"showlegend\":false},{\"hoverinfo\":\"skip\",\"line\":{\"color\":\"#C0C0C0\"},\"mode\":\"lines+markers\",\"name\":\"Unchanged\",\"x\":[\"2021-08-22T00:00:00\",\"2021-08-23T00:00:00\"],\"y\":[\"0\",\"0\"],\"type\":\"scatter\",\"showlegend\":false},{\"hoverinfo\":\"skip\",\"line\":{\"color\":\"#C0C0C0\"},\"mode\":\"lines+markers\",\"name\":\"Unchanged\",\"x\":[\"2021-08-23T00:00:00\",\"2021-08-24T00:00:00\"],\"y\":[\"0\",\"0\"],\"type\":\"scatter\",\"showlegend\":false},{\"hoverinfo\":\"skip\",\"line\":{\"color\":\"#C0C0C0\"},\"mode\":\"lines+markers\",\"name\":\"Unchanged\",\"x\":[\"2021-08-24T00:00:00\",\"2021-08-25T00:00:00\"],\"y\":[\"0\",\"0\"],\"type\":\"scatter\",\"showlegend\":false},{\"hoverinfo\":\"skip\",\"line\":{\"color\":\"#C0C0C0\"},\"mode\":\"lines+markers\",\"name\":\"Unchanged\",\"x\":[\"2021-08-25T00:00:00\",\"2021-08-26T00:00:00\"],\"y\":[\"0\",\"0\"],\"type\":\"scatter\",\"showlegend\":false},{\"hoverinfo\":\"skip\",\"line\":{\"color\":\"#C0C0C0\"},\"mode\":\"lines+markers\",\"name\":\"Unchanged\",\"x\":[\"2021-08-26T00:00:00\",\"2021-08-27T00:00:00\"],\"y\":[\"0\",\"0\"],\"type\":\"scatter\",\"showlegend\":false},{\"hoverinfo\":\"skip\",\"line\":{\"color\":\"#C0C0C0\"},\"mode\":\"lines+markers\",\"name\":\"Unchanged\",\"x\":[\"2021-08-27T00:00:00\",\"2021-08-28T00:00:00\"],\"y\":[\"0\",\"0\"],\"type\":\"scatter\",\"showlegend\":false},{\"hoverinfo\":\"skip\",\"line\":{\"color\":\"#C0C0C0\"},\"mode\":\"lines+markers\",\"name\":\"Unchanged\",\"x\":[\"2021-08-28T00:00:00\",\"2021-08-29T00:00:00\"],\"y\":[\"0\",\"0\"],\"type\":\"scatter\",\"showlegend\":false},{\"hoverinfo\":\"skip\",\"line\":{\"color\":\"#C0C0C0\"},\"mode\":\"lines+markers\",\"name\":\"Unchanged\",\"x\":[\"2021-08-29T00:00:00\",\"2021-08-30T00:00:00\"],\"y\":[\"0\",\"0\"],\"type\":\"scatter\",\"showlegend\":false},{\"hoverinfo\":\"skip\",\"line\":{\"color\":\"#C0C0C0\"},\"mode\":\"lines+markers\",\"name\":\"Unchanged\",\"x\":[\"2021-08-30T00:00:00\",\"2021-08-31T00:00:00\"],\"y\":[\"0\",\"0\"],\"type\":\"scatter\",\"showlegend\":false},{\"hoverinfo\":\"skip\",\"line\":{\"color\":\"#C0C0C0\"},\"mode\":\"lines+markers\",\"name\":\"Unchanged\",\"x\":[\"2021-08-31T00:00:00\",\"2021-09-01T00:00:00\"],\"y\":[\"0\",\"0\"],\"type\":\"scatter\",\"showlegend\":false},{\"hoverinfo\":\"skip\",\"line\":{\"color\":\"#C0C0C0\"},\"mode\":\"lines+markers\",\"name\":\"Unchanged\",\"x\":[\"2021-09-01T00:00:00\",\"2021-09-02T00:00:00\"],\"y\":[\"0\",\"0\"],\"type\":\"scatter\",\"showlegend\":false},{\"hoverinfo\":\"skip\",\"line\":{\"color\":\"#C0C0C0\"},\"mode\":\"lines+markers\",\"name\":\"Unchanged\",\"x\":[\"2021-09-02T00:00:00\",\"2021-09-03T00:00:00\"],\"y\":[\"0\",\"0\"],\"type\":\"scatter\",\"showlegend\":false},{\"hoverinfo\":\"skip\",\"line\":{\"color\":\"#C0C0C0\"},\"mode\":\"lines+markers\",\"name\":\"Unchanged\",\"x\":[\"2021-09-03T00:00:00\",\"2021-09-04T00:00:00\"],\"y\":[\"0\",\"0\"],\"type\":\"scatter\",\"showlegend\":false},{\"hoverinfo\":\"skip\",\"line\":{\"color\":\"#C0C0C0\"},\"mode\":\"lines+markers\",\"name\":\"Unchanged\",\"x\":[\"2021-09-04T00:00:00\",\"2021-09-05T00:00:00\"],\"y\":[\"0\",\"0\"],\"type\":\"scatter\",\"showlegend\":false},{\"hoverinfo\":\"skip\",\"line\":{\"color\":\"#C0C0C0\"},\"mode\":\"lines+markers\",\"name\":\"Unchanged\",\"x\":[\"2021-09-05T00:00:00\",\"2021-09-06T00:00:00\"],\"y\":[\"0\",\"0\"],\"type\":\"scatter\",\"showlegend\":false},{\"hoverinfo\":\"skip\",\"line\":{\"color\":\"#C0C0C0\"},\"mode\":\"lines+markers\",\"name\":\"Unchanged\",\"x\":[\"2021-09-06T00:00:00\",\"2021-09-07T00:00:00\"],\"y\":[\"0\",\"0\"],\"type\":\"scatter\",\"showlegend\":false},{\"hoverinfo\":\"skip\",\"line\":{\"color\":\"#C0C0C0\"},\"mode\":\"lines+markers\",\"name\":\"Unchanged\",\"x\":[\"2021-09-07T00:00:00\",\"2021-09-08T00:00:00\"],\"y\":[\"0\",\"0\"],\"type\":\"scatter\",\"showlegend\":false},{\"hoverinfo\":\"skip\",\"line\":{\"color\":\"#C0C0C0\"},\"mode\":\"lines+markers\",\"name\":\"Unchanged\",\"x\":[\"2021-09-08T00:00:00\",\"2021-09-09T00:00:00\"],\"y\":[\"0\",\"0\"],\"type\":\"scatter\",\"showlegend\":false},{\"hoverinfo\":\"skip\",\"line\":{\"color\":\"#C0C0C0\"},\"mode\":\"lines+markers\",\"name\":\"Unchanged\",\"x\":[\"2021-09-09T00:00:00\",\"2021-09-10T00:00:00\"],\"y\":[\"0\",\"0\"],\"type\":\"scatter\",\"showlegend\":false},{\"hoverinfo\":\"skip\",\"line\":{\"color\":\"#C0C0C0\"},\"mode\":\"lines+markers\",\"name\":\"Unchanged\",\"x\":[\"2021-09-10T00:00:00\",\"2021-09-11T00:00:00\"],\"y\":[\"0\",\"0\"],\"type\":\"scatter\",\"showlegend\":false},{\"hoverinfo\":\"skip\",\"line\":{\"color\":\"#C0C0C0\"},\"mode\":\"lines+markers\",\"name\":\"Unchanged\",\"x\":[\"2021-09-11T00:00:00\",\"2021-09-12T00:00:00\"],\"y\":[\"0\",\"0\"],\"type\":\"scatter\",\"showlegend\":false},{\"hoverinfo\":\"skip\",\"line\":{\"color\":\"#C0C0C0\"},\"mode\":\"lines+markers\",\"name\":\"Unchanged\",\"x\":[\"2021-09-12T00:00:00\",\"2021-09-13T00:00:00\"],\"y\":[\"0\",\"0\"],\"type\":\"scatter\",\"showlegend\":false},{\"hoverinfo\":\"skip\",\"line\":{\"color\":\"#C0C0C0\"},\"mode\":\"lines+markers\",\"name\":\"Unchanged\",\"x\":[\"2021-09-13T00:00:00\",\"2021-09-14T00:00:00\"],\"y\":[\"0\",\"0\"],\"type\":\"scatter\",\"showlegend\":false},{\"hoverinfo\":\"skip\",\"line\":{\"color\":\"#C0C0C0\"},\"mode\":\"lines+markers\",\"name\":\"Unchanged\",\"x\":[\"2021-09-14T00:00:00\",\"2021-09-15T00:00:00\"],\"y\":[\"0\",\"0\"],\"type\":\"scatter\",\"showlegend\":false},{\"hoverinfo\":\"skip\",\"line\":{\"color\":\"#C0C0C0\"},\"mode\":\"lines+markers\",\"name\":\"Unchanged\",\"x\":[\"2021-09-15T00:00:00\",\"2021-09-16T00:00:00\"],\"y\":[\"0\",\"0\"],\"type\":\"scatter\",\"showlegend\":false},{\"hoverinfo\":\"skip\",\"line\":{\"color\":\"#C0C0C0\"},\"mode\":\"lines+markers\",\"name\":\"Unchanged\",\"x\":[\"2021-09-16T00:00:00\",\"2021-09-17T00:00:00\"],\"y\":[\"0\",\"0\"],\"type\":\"scatter\",\"showlegend\":false},{\"hoverinfo\":\"skip\",\"line\":{\"color\":\"#C0C0C0\"},\"mode\":\"lines+markers\",\"name\":\"Unchanged\",\"x\":[\"2021-09-17T00:00:00\",\"2021-09-18T00:00:00\"],\"y\":[\"0\",\"0\"],\"type\":\"scatter\",\"showlegend\":false},{\"hoverinfo\":\"skip\",\"line\":{\"color\":\"#C0C0C0\"},\"mode\":\"lines+markers\",\"name\":\"Unchanged\",\"x\":[\"2021-09-18T00:00:00\",\"2021-09-19T00:00:00\"],\"y\":[\"0\",\"0\"],\"type\":\"scatter\",\"showlegend\":false},{\"hoverinfo\":\"skip\",\"line\":{\"color\":\"#C0C0C0\"},\"mode\":\"lines+markers\",\"name\":\"Unchanged\",\"x\":[\"2021-09-19T00:00:00\",\"2021-09-20T00:00:00\"],\"y\":[\"0\",\"0\"],\"type\":\"scatter\",\"showlegend\":false},{\"hoverinfo\":\"skip\",\"line\":{\"color\":\"#C0C0C0\"},\"mode\":\"lines+markers\",\"name\":\"Unchanged\",\"x\":[\"2021-09-20T00:00:00\",\"2021-09-21T00:00:00\"],\"y\":[\"0\",\"0\"],\"type\":\"scatter\",\"showlegend\":false},{\"hoverinfo\":\"skip\",\"line\":{\"color\":\"#C0C0C0\"},\"mode\":\"lines+markers\",\"name\":\"Unchanged\",\"x\":[\"2021-09-21T00:00:00\",\"2021-09-22T00:00:00\"],\"y\":[\"0\",\"0\"],\"type\":\"scatter\",\"showlegend\":false},{\"hoverinfo\":\"skip\",\"line\":{\"color\":\"#C0C0C0\"},\"mode\":\"lines+markers\",\"name\":\"Unchanged\",\"x\":[\"2021-09-22T00:00:00\",\"2021-09-23T00:00:00\"],\"y\":[\"0\",\"0\"],\"type\":\"scatter\",\"showlegend\":false},{\"hoverinfo\":\"skip\",\"line\":{\"color\":\"#C0C0C0\"},\"mode\":\"lines+markers\",\"name\":\"Unchanged\",\"x\":[\"2021-09-23T00:00:00\",\"2021-09-24T00:00:00\"],\"y\":[\"0\",\"0\"],\"type\":\"scatter\",\"showlegend\":false},{\"hoverinfo\":\"skip\",\"line\":{\"color\":\"#C0C0C0\"},\"mode\":\"lines+markers\",\"name\":\"Unchanged\",\"x\":[\"2021-09-24T00:00:00\",\"2021-09-25T00:00:00\"],\"y\":[\"0\",\"0\"],\"type\":\"scatter\",\"showlegend\":false},{\"hoverinfo\":\"skip\",\"line\":{\"color\":\"#C0C0C0\"},\"mode\":\"lines+markers\",\"name\":\"Unchanged\",\"x\":[\"2021-09-25T00:00:00\",\"2021-09-26T00:00:00\"],\"y\":[\"0\",\"0\"],\"type\":\"scatter\",\"showlegend\":false},{\"hoverinfo\":\"skip\",\"line\":{\"color\":\"#C0C0C0\"},\"mode\":\"lines+markers\",\"name\":\"Unchanged\",\"x\":[\"2021-09-26T00:00:00\",\"2021-09-27T00:00:00\"],\"y\":[\"0\",\"0\"],\"type\":\"scatter\",\"showlegend\":false},{\"hoverinfo\":\"skip\",\"line\":{\"color\":\"#C0C0C0\"},\"mode\":\"lines+markers\",\"name\":\"Unchanged\",\"x\":[\"2021-09-27T00:00:00\",\"2021-09-28T00:00:00\"],\"y\":[\"0\",\"0\"],\"type\":\"scatter\",\"showlegend\":false},{\"hoverinfo\":\"skip\",\"line\":{\"color\":\"#1f77b4\"},\"mode\":\"lines+markers\",\"name\":\"Train\",\"showlegend\":false,\"x\":[\"2021-07-08T00:00:00\",\"2021-07-09T00:00:00\"],\"y\":[\"0\",\"0\"],\"type\":\"scatter\"},{\"hoverinfo\":\"skip\",\"line\":{\"color\":\"#1f77b4\"},\"mode\":\"lines+markers\",\"name\":\"Train\",\"showlegend\":false,\"x\":[\"2021-07-09T00:00:00\",\"2021-07-10T00:00:00\"],\"y\":[\"0\",\"0\"],\"type\":\"scatter\"},{\"hoverinfo\":\"skip\",\"line\":{\"color\":\"#1f77b4\"},\"mode\":\"lines+markers\",\"name\":\"Train\",\"showlegend\":false,\"x\":[\"2021-07-10T00:00:00\",\"2021-07-11T00:00:00\"],\"y\":[\"0\",\"0\"],\"type\":\"scatter\"},{\"hoverinfo\":\"skip\",\"line\":{\"color\":\"#1f77b4\"},\"mode\":\"lines+markers\",\"name\":\"Train\",\"showlegend\":false,\"x\":[\"2021-07-11T00:00:00\",\"2021-07-12T00:00:00\"],\"y\":[\"0\",\"0\"],\"type\":\"scatter\"},{\"hoverinfo\":\"skip\",\"line\":{\"color\":\"#1f77b4\"},\"mode\":\"lines+markers\",\"name\":\"Train\",\"showlegend\":false,\"x\":[\"2021-07-12T00:00:00\",\"2021-07-13T00:00:00\"],\"y\":[\"0\",\"0\"],\"type\":\"scatter\"},{\"hoverinfo\":\"skip\",\"line\":{\"color\":\"#1f77b4\"},\"mode\":\"lines+markers\",\"name\":\"Train\",\"showlegend\":false,\"x\":[\"2021-07-13T00:00:00\",\"2021-07-14T00:00:00\"],\"y\":[\"0\",\"0\"],\"type\":\"scatter\"},{\"hoverinfo\":\"skip\",\"line\":{\"color\":\"#1f77b4\"},\"mode\":\"lines+markers\",\"name\":\"Train\",\"showlegend\":false,\"x\":[\"2021-07-14T00:00:00\",\"2021-07-15T00:00:00\"],\"y\":[\"0\",\"0\"],\"type\":\"scatter\"},{\"hoverinfo\":\"skip\",\"line\":{\"color\":\"#1f77b4\"},\"mode\":\"lines+markers\",\"name\":\"Train\",\"showlegend\":false,\"x\":[\"2021-07-15T00:00:00\",\"2021-07-16T00:00:00\"],\"y\":[\"0\",\"0\"],\"type\":\"scatter\"},{\"hoverinfo\":\"skip\",\"line\":{\"color\":\"#1f77b4\"},\"mode\":\"lines+markers\",\"name\":\"Train\",\"showlegend\":false,\"x\":[\"2021-07-16T00:00:00\",\"2021-07-17T00:00:00\"],\"y\":[\"0\",\"0\"],\"type\":\"scatter\"},{\"hoverinfo\":\"skip\",\"line\":{\"color\":\"#1f77b4\"},\"mode\":\"lines+markers\",\"name\":\"Train\",\"showlegend\":false,\"x\":[\"2021-07-17T00:00:00\",\"2021-07-18T00:00:00\"],\"y\":[\"0\",\"0\"],\"type\":\"scatter\"},{\"hoverinfo\":\"skip\",\"line\":{\"color\":\"#1f77b4\"},\"mode\":\"lines+markers\",\"name\":\"Train\",\"showlegend\":false,\"x\":[\"2021-07-18T00:00:00\",\"2021-07-19T00:00:00\"],\"y\":[\"0\",\"0\"],\"type\":\"scatter\"},{\"hoverinfo\":\"skip\",\"line\":{\"color\":\"#1f77b4\"},\"mode\":\"lines+markers\",\"name\":\"Train\",\"showlegend\":false,\"x\":[\"2021-07-19T00:00:00\",\"2021-07-20T00:00:00\"],\"y\":[\"0\",\"0\"],\"type\":\"scatter\"},{\"hoverinfo\":\"skip\",\"line\":{\"color\":\"#1f77b4\"},\"mode\":\"lines+markers\",\"name\":\"Train\",\"showlegend\":false,\"x\":[\"2021-07-20T00:00:00\",\"2021-07-21T00:00:00\"],\"y\":[\"0\",\"0\"],\"type\":\"scatter\"},{\"hoverinfo\":\"skip\",\"line\":{\"color\":\"#1f77b4\"},\"mode\":\"lines+markers\",\"name\":\"Train\",\"showlegend\":false,\"x\":[\"2021-07-21T00:00:00\",\"2021-07-22T00:00:00\"],\"y\":[\"0\",\"0\"],\"type\":\"scatter\"},{\"hoverinfo\":\"skip\",\"line\":{\"color\":\"#1f77b4\"},\"mode\":\"lines+markers\",\"name\":\"Train\",\"showlegend\":false,\"x\":[\"2021-07-22T00:00:00\",\"2021-07-23T00:00:00\"],\"y\":[\"0\",\"0\"],\"type\":\"scatter\"},{\"hoverinfo\":\"skip\",\"line\":{\"color\":\"#1f77b4\"},\"mode\":\"lines+markers\",\"name\":\"Train\",\"showlegend\":false,\"x\":[\"2021-07-23T00:00:00\",\"2021-07-24T00:00:00\"],\"y\":[\"0\",\"0\"],\"type\":\"scatter\"},{\"hoverinfo\":\"skip\",\"line\":{\"color\":\"#1f77b4\"},\"mode\":\"lines+markers\",\"name\":\"Train\",\"showlegend\":false,\"x\":[\"2021-07-24T00:00:00\",\"2021-07-25T00:00:00\"],\"y\":[\"0\",\"0\"],\"type\":\"scatter\"},{\"hoverinfo\":\"skip\",\"line\":{\"color\":\"#1f77b4\"},\"mode\":\"lines+markers\",\"name\":\"Train\",\"showlegend\":false,\"x\":[\"2021-07-25T00:00:00\",\"2021-07-26T00:00:00\"],\"y\":[\"0\",\"0\"],\"type\":\"scatter\"},{\"hoverinfo\":\"skip\",\"line\":{\"color\":\"#1f77b4\"},\"mode\":\"lines+markers\",\"name\":\"Train\",\"showlegend\":false,\"x\":[\"2021-07-26T00:00:00\",\"2021-07-27T00:00:00\"],\"y\":[\"0\",\"0\"],\"type\":\"scatter\"},{\"hoverinfo\":\"skip\",\"line\":{\"color\":\"#1f77b4\"},\"mode\":\"lines+markers\",\"name\":\"Train\",\"showlegend\":false,\"x\":[\"2021-07-27T00:00:00\",\"2021-07-28T00:00:00\"],\"y\":[\"0\",\"0\"],\"type\":\"scatter\"},{\"hoverinfo\":\"skip\",\"line\":{\"color\":\"#1f77b4\"},\"mode\":\"lines+markers\",\"name\":\"Train\",\"showlegend\":false,\"x\":[\"2021-07-28T00:00:00\",\"2021-07-29T00:00:00\"],\"y\":[\"0\",\"0\"],\"type\":\"scatter\"},{\"hoverinfo\":\"skip\",\"line\":{\"color\":\"#1f77b4\"},\"mode\":\"lines+markers\",\"name\":\"Train\",\"showlegend\":false,\"x\":[\"2021-07-29T00:00:00\",\"2021-07-30T00:00:00\"],\"y\":[\"0\",\"0\"],\"type\":\"scatter\"},{\"hoverinfo\":\"skip\",\"line\":{\"color\":\"#1f77b4\"},\"mode\":\"lines+markers\",\"name\":\"Train\",\"showlegend\":false,\"x\":[\"2021-07-30T00:00:00\",\"2021-07-31T00:00:00\"],\"y\":[\"0\",\"0\"],\"type\":\"scatter\"},{\"hoverinfo\":\"skip\",\"line\":{\"color\":\"#1f77b4\"},\"mode\":\"lines+markers\",\"name\":\"Train\",\"showlegend\":false,\"x\":[\"2021-07-31T00:00:00\",\"2021-08-01T00:00:00\"],\"y\":[\"0\",\"0\"],\"type\":\"scatter\"},{\"hoverinfo\":\"skip\",\"line\":{\"color\":\"#1f77b4\"},\"mode\":\"lines+markers\",\"name\":\"Train\",\"showlegend\":false,\"x\":[\"2021-08-01T00:00:00\",\"2021-08-02T00:00:00\"],\"y\":[\"0\",\"0\"],\"type\":\"scatter\"},{\"hoverinfo\":\"skip\",\"line\":{\"color\":\"#1f77b4\"},\"mode\":\"lines+markers\",\"name\":\"Train\",\"showlegend\":false,\"x\":[\"2021-08-02T00:00:00\",\"2021-08-03T00:00:00\"],\"y\":[\"0\",\"0\"],\"type\":\"scatter\"},{\"hoverinfo\":\"skip\",\"line\":{\"color\":\"#1f77b4\"},\"mode\":\"lines+markers\",\"name\":\"Train\",\"showlegend\":false,\"x\":[\"2021-08-03T00:00:00\",\"2021-08-04T00:00:00\"],\"y\":[\"0\",\"0\"],\"type\":\"scatter\"},{\"hoverinfo\":\"skip\",\"line\":{\"color\":\"#1f77b4\"},\"mode\":\"lines+markers\",\"name\":\"Train\",\"showlegend\":false,\"x\":[\"2021-08-04T00:00:00\",\"2021-08-05T00:00:00\"],\"y\":[\"0\",\"0\"],\"type\":\"scatter\"},{\"hoverinfo\":\"skip\",\"line\":{\"color\":\"#1f77b4\"},\"mode\":\"lines+markers\",\"name\":\"Train\",\"showlegend\":false,\"x\":[\"2021-08-05T00:00:00\",\"2021-08-06T00:00:00\"],\"y\":[\"0\",\"0\"],\"type\":\"scatter\"},{\"hoverinfo\":\"skip\",\"line\":{\"color\":\"#1f77b4\"},\"mode\":\"lines+markers\",\"name\":\"Train\",\"showlegend\":false,\"x\":[\"2021-08-06T00:00:00\",\"2021-08-07T00:00:00\"],\"y\":[\"0\",\"0\"],\"type\":\"scatter\"},{\"hoverinfo\":\"skip\",\"line\":{\"color\":\"#1f77b4\"},\"mode\":\"lines+markers\",\"name\":\"Train\",\"showlegend\":false,\"x\":[\"2021-08-07T00:00:00\",\"2021-08-08T00:00:00\"],\"y\":[\"0\",\"0\"],\"type\":\"scatter\"},{\"hoverinfo\":\"skip\",\"line\":{\"color\":\"#1f77b4\"},\"mode\":\"lines+markers\",\"name\":\"Train\",\"showlegend\":false,\"x\":[\"2021-08-08T00:00:00\",\"2021-08-09T00:00:00\"],\"y\":[\"0\",\"0\"],\"type\":\"scatter\"},{\"hoverinfo\":\"skip\",\"line\":{\"color\":\"#1f77b4\"},\"mode\":\"lines+markers\",\"name\":\"Train\",\"showlegend\":false,\"x\":[\"2021-08-09T00:00:00\",\"2021-08-10T00:00:00\"],\"y\":[\"0\",\"0\"],\"type\":\"scatter\"},{\"hoverinfo\":\"skip\",\"line\":{\"color\":\"#1f77b4\"},\"mode\":\"lines+markers\",\"name\":\"Train\",\"showlegend\":false,\"x\":[\"2021-08-10T00:00:00\",\"2021-08-11T00:00:00\"],\"y\":[\"0\",\"0\"],\"type\":\"scatter\"},{\"hoverinfo\":\"skip\",\"line\":{\"color\":\"#1f77b4\"},\"mode\":\"lines+markers\",\"name\":\"Train\",\"showlegend\":false,\"x\":[\"2021-08-11T00:00:00\",\"2021-08-12T00:00:00\"],\"y\":[\"0\",\"0\"],\"type\":\"scatter\"},{\"hoverinfo\":\"skip\",\"line\":{\"color\":\"#1f77b4\"},\"mode\":\"lines+markers\",\"name\":\"Train\",\"showlegend\":false,\"x\":[\"2021-08-12T00:00:00\",\"2021-08-13T00:00:00\"],\"y\":[\"0\",\"0\"],\"type\":\"scatter\"},{\"hoverinfo\":\"skip\",\"line\":{\"color\":\"#1f77b4\"},\"mode\":\"lines+markers\",\"name\":\"Train\",\"showlegend\":false,\"x\":[\"2021-08-13T00:00:00\",\"2021-08-14T00:00:00\"],\"y\":[\"0\",\"0\"],\"type\":\"scatter\"},{\"hoverinfo\":\"skip\",\"line\":{\"color\":\"#1f77b4\"},\"mode\":\"lines+markers\",\"name\":\"Train\",\"showlegend\":false,\"x\":[\"2021-08-14T00:00:00\",\"2021-08-15T00:00:00\"],\"y\":[\"0\",\"0\"],\"type\":\"scatter\"},{\"hoverinfo\":\"skip\",\"line\":{\"color\":\"#1f77b4\"},\"mode\":\"lines+markers\",\"name\":\"Train\",\"showlegend\":false,\"x\":[\"2021-08-15T00:00:00\",\"2021-08-16T00:00:00\"],\"y\":[\"0\",\"0\"],\"type\":\"scatter\"},{\"hoverinfo\":\"skip\",\"line\":{\"color\":\"#1f77b4\"},\"mode\":\"lines+markers\",\"name\":\"Train\",\"showlegend\":false,\"x\":[\"2021-08-16T00:00:00\",\"2021-08-17T00:00:00\"],\"y\":[\"0\",\"0\"],\"type\":\"scatter\"},{\"hoverinfo\":\"skip\",\"line\":{\"color\":\"#1f77b4\"},\"mode\":\"lines+markers\",\"name\":\"Train\",\"showlegend\":false,\"x\":[\"2021-08-17T00:00:00\",\"2021-08-18T00:00:00\"],\"y\":[\"0\",\"0\"],\"type\":\"scatter\"},{\"hoverinfo\":\"skip\",\"line\":{\"color\":\"#1f77b4\"},\"mode\":\"lines+markers\",\"name\":\"Train\",\"showlegend\":false,\"x\":[\"2021-08-18T00:00:00\",\"2021-08-19T00:00:00\"],\"y\":[\"0\",\"0\"],\"type\":\"scatter\"},{\"hoverinfo\":\"skip\",\"line\":{\"color\":\"#1f77b4\"},\"mode\":\"lines+markers\",\"name\":\"Train\",\"showlegend\":false,\"x\":[\"2021-08-19T00:00:00\",\"2021-08-20T00:00:00\"],\"y\":[\"0\",\"0\"],\"type\":\"scatter\"},{\"hoverinfo\":\"skip\",\"line\":{\"color\":\"#1f77b4\"},\"mode\":\"lines+markers\",\"name\":\"Train\",\"showlegend\":false,\"x\":[\"2021-08-20T00:00:00\",\"2021-08-21T00:00:00\"],\"y\":[\"0\",\"0\"],\"type\":\"scatter\"},{\"hoverinfo\":\"skip\",\"line\":{\"color\":\"#1f77b4\"},\"mode\":\"lines+markers\",\"name\":\"Train\",\"showlegend\":false,\"x\":[\"2021-08-21T00:00:00\",\"2021-08-22T00:00:00\"],\"y\":[\"0\",\"0\"],\"type\":\"scatter\"},{\"hoverinfo\":\"skip\",\"line\":{\"color\":\"#1f77b4\"},\"mode\":\"lines+markers\",\"name\":\"Train\",\"showlegend\":false,\"x\":[\"2021-08-22T00:00:00\",\"2021-08-23T00:00:00\"],\"y\":[\"0\",\"0\"],\"type\":\"scatter\"},{\"hoverinfo\":\"skip\",\"line\":{\"color\":\"#1f77b4\"},\"mode\":\"lines+markers\",\"name\":\"Train\",\"showlegend\":false,\"x\":[\"2021-08-23T00:00:00\",\"2021-08-24T00:00:00\"],\"y\":[\"0\",\"0\"],\"type\":\"scatter\"},{\"hoverinfo\":\"skip\",\"line\":{\"color\":\"#1f77b4\"},\"mode\":\"lines+markers\",\"name\":\"Train\",\"showlegend\":false,\"x\":[\"2021-08-24T00:00:00\",\"2021-08-25T00:00:00\"],\"y\":[\"0\",\"0\"],\"type\":\"scatter\"},{\"hoverinfo\":\"skip\",\"line\":{\"color\":\"#1f77b4\"},\"mode\":\"lines+markers\",\"name\":\"Train\",\"showlegend\":false,\"x\":[\"2021-08-25T00:00:00\",\"2021-08-26T00:00:00\"],\"y\":[\"0\",\"0\"],\"type\":\"scatter\"},{\"hoverinfo\":\"skip\",\"line\":{\"color\":\"#1f77b4\"},\"mode\":\"lines+markers\",\"name\":\"Train\",\"showlegend\":false,\"x\":[\"2021-08-26T00:00:00\",\"2021-08-27T00:00:00\"],\"y\":[\"0\",\"0\"],\"type\":\"scatter\"},{\"hoverinfo\":\"skip\",\"line\":{\"color\":\"#1f77b4\"},\"mode\":\"lines+markers\",\"name\":\"Train\",\"showlegend\":false,\"x\":[\"2021-08-27T00:00:00\",\"2021-08-28T00:00:00\"],\"y\":[\"0\",\"0\"],\"type\":\"scatter\"},{\"hoverinfo\":\"skip\",\"line\":{\"color\":\"#1f77b4\"},\"mode\":\"lines+markers\",\"name\":\"Train\",\"showlegend\":false,\"x\":[\"2021-08-28T00:00:00\",\"2021-08-29T00:00:00\"],\"y\":[\"0\",\"0\"],\"type\":\"scatter\"},{\"hoverinfo\":\"skip\",\"line\":{\"color\":\"#1f77b4\"},\"mode\":\"lines+markers\",\"name\":\"Train\",\"showlegend\":false,\"x\":[\"2021-08-29T00:00:00\",\"2021-08-30T00:00:00\"],\"y\":[\"0\",\"0\"],\"type\":\"scatter\"},{\"hoverinfo\":\"skip\",\"line\":{\"color\":\"#1f77b4\"},\"mode\":\"lines+markers\",\"name\":\"Train\",\"showlegend\":false,\"x\":[\"2021-08-30T00:00:00\",\"2021-08-31T00:00:00\"],\"y\":[\"0\",\"0\"],\"type\":\"scatter\"},{\"hoverinfo\":\"skip\",\"line\":{\"color\":\"#1f77b4\"},\"mode\":\"lines+markers\",\"name\":\"Train\",\"showlegend\":false,\"x\":[\"2021-08-31T00:00:00\",\"2021-09-01T00:00:00\"],\"y\":[\"0\",\"0\"],\"type\":\"scatter\"},{\"hoverinfo\":\"skip\",\"line\":{\"color\":\"#1f77b4\"},\"mode\":\"lines+markers\",\"name\":\"Train\",\"showlegend\":false,\"x\":[\"2021-09-01T00:00:00\",\"2021-09-02T00:00:00\"],\"y\":[\"0\",\"0\"],\"type\":\"scatter\"},{\"hoverinfo\":\"skip\",\"line\":{\"color\":\"#1f77b4\"},\"mode\":\"lines+markers\",\"name\":\"Train\",\"showlegend\":false,\"x\":[\"2021-09-02T00:00:00\",\"2021-09-03T00:00:00\"],\"y\":[\"0\",\"0\"],\"type\":\"scatter\"},{\"hoverinfo\":\"skip\",\"line\":{\"color\":\"#1f77b4\"},\"mode\":\"lines+markers\",\"name\":\"Train\",\"showlegend\":false,\"x\":[\"2021-09-03T00:00:00\",\"2021-09-04T00:00:00\"],\"y\":[\"0\",\"0\"],\"type\":\"scatter\"},{\"hoverinfo\":\"skip\",\"line\":{\"color\":\"#1f77b4\"},\"mode\":\"lines+markers\",\"name\":\"Train\",\"showlegend\":false,\"x\":[\"2021-09-04T00:00:00\",\"2021-09-05T00:00:00\"],\"y\":[\"0\",\"0\"],\"type\":\"scatter\"},{\"hoverinfo\":\"skip\",\"line\":{\"color\":\"#1f77b4\"},\"mode\":\"lines+markers\",\"name\":\"Train\",\"showlegend\":false,\"x\":[\"2021-09-05T00:00:00\",\"2021-09-06T00:00:00\"],\"y\":[\"0\",\"0\"],\"type\":\"scatter\"},{\"hoverinfo\":\"skip\",\"line\":{\"color\":\"#1f77b4\"},\"mode\":\"lines+markers\",\"name\":\"Train\",\"showlegend\":false,\"x\":[\"2021-09-06T00:00:00\",\"2021-09-07T00:00:00\"],\"y\":[\"0\",\"0\"],\"type\":\"scatter\"},{\"hoverinfo\":\"skip\",\"line\":{\"color\":\"#DE970B\"},\"mode\":\"lines+markers\",\"name\":\"ForecastHorizon\",\"x\":[\"2021-09-08T00:00:00\",\"2021-09-09T00:00:00\"],\"y\":[\"0\",\"0\"],\"type\":\"scatter\",\"showlegend\":false},{\"hoverinfo\":\"skip\",\"line\":{\"color\":\"#DE970B\"},\"mode\":\"lines+markers\",\"name\":\"ForecastHorizon\",\"x\":[\"2021-09-09T00:00:00\",\"2021-09-10T00:00:00\"],\"y\":[\"0\",\"0\"],\"type\":\"scatter\",\"showlegend\":false},{\"hoverinfo\":\"skip\",\"line\":{\"color\":\"#DE970B\"},\"mode\":\"lines+markers\",\"name\":\"ForecastHorizon\",\"x\":[\"2021-09-10T00:00:00\",\"2021-09-11T00:00:00\"],\"y\":[\"0\",\"0\"],\"type\":\"scatter\",\"showlegend\":false},{\"hoverinfo\":\"skip\",\"line\":{\"color\":\"#DE970B\"},\"mode\":\"lines+markers\",\"name\":\"ForecastHorizon\",\"x\":[\"2021-09-11T00:00:00\",\"2021-09-12T00:00:00\"],\"y\":[\"0\",\"0\"],\"type\":\"scatter\",\"showlegend\":false},{\"hoverinfo\":\"skip\",\"line\":{\"color\":\"#DE970B\"},\"mode\":\"lines+markers\",\"name\":\"ForecastHorizon\",\"x\":[\"2021-09-12T00:00:00\",\"2021-09-13T00:00:00\"],\"y\":[\"0\",\"0\"],\"type\":\"scatter\",\"showlegend\":false},{\"hoverinfo\":\"skip\",\"line\":{\"color\":\"#DE970B\"},\"mode\":\"lines+markers\",\"name\":\"ForecastHorizon\",\"x\":[\"2021-09-13T00:00:00\",\"2021-09-14T00:00:00\"],\"y\":[\"0\",\"0\"],\"type\":\"scatter\",\"showlegend\":false}],                        {\"template\":{\"data\":{\"barpolar\":[{\"marker\":{\"line\":{\"color\":\"rgb(237,237,237)\",\"width\":0.5},\"pattern\":{\"fillmode\":\"overlay\",\"size\":10,\"solidity\":0.2}},\"type\":\"barpolar\"}],\"bar\":[{\"error_x\":{\"color\":\"rgb(51,51,51)\"},\"error_y\":{\"color\":\"rgb(51,51,51)\"},\"marker\":{\"line\":{\"color\":\"rgb(237,237,237)\",\"width\":0.5},\"pattern\":{\"fillmode\":\"overlay\",\"size\":10,\"solidity\":0.2}},\"type\":\"bar\"}],\"carpet\":[{\"aaxis\":{\"endlinecolor\":\"rgb(51,51,51)\",\"gridcolor\":\"white\",\"linecolor\":\"white\",\"minorgridcolor\":\"white\",\"startlinecolor\":\"rgb(51,51,51)\"},\"baxis\":{\"endlinecolor\":\"rgb(51,51,51)\",\"gridcolor\":\"white\",\"linecolor\":\"white\",\"minorgridcolor\":\"white\",\"startlinecolor\":\"rgb(51,51,51)\"},\"type\":\"carpet\"}],\"choropleth\":[{\"colorbar\":{\"outlinewidth\":0,\"tickcolor\":\"rgb(237,237,237)\",\"ticklen\":6,\"ticks\":\"inside\"},\"type\":\"choropleth\"}],\"contourcarpet\":[{\"colorbar\":{\"outlinewidth\":0,\"tickcolor\":\"rgb(237,237,237)\",\"ticklen\":6,\"ticks\":\"inside\"},\"type\":\"contourcarpet\"}],\"contour\":[{\"colorbar\":{\"outlinewidth\":0,\"tickcolor\":\"rgb(237,237,237)\",\"ticklen\":6,\"ticks\":\"inside\"},\"colorscale\":[[0,\"rgb(20,44,66)\"],[1,\"rgb(90,179,244)\"]],\"type\":\"contour\"}],\"heatmapgl\":[{\"colorbar\":{\"outlinewidth\":0,\"tickcolor\":\"rgb(237,237,237)\",\"ticklen\":6,\"ticks\":\"inside\"},\"colorscale\":[[0,\"rgb(20,44,66)\"],[1,\"rgb(90,179,244)\"]],\"type\":\"heatmapgl\"}],\"heatmap\":[{\"colorbar\":{\"outlinewidth\":0,\"tickcolor\":\"rgb(237,237,237)\",\"ticklen\":6,\"ticks\":\"inside\"},\"colorscale\":[[0,\"rgb(20,44,66)\"],[1,\"rgb(90,179,244)\"]],\"type\":\"heatmap\"}],\"histogram2dcontour\":[{\"colorbar\":{\"outlinewidth\":0,\"tickcolor\":\"rgb(237,237,237)\",\"ticklen\":6,\"ticks\":\"inside\"},\"colorscale\":[[0,\"rgb(20,44,66)\"],[1,\"rgb(90,179,244)\"]],\"type\":\"histogram2dcontour\"}],\"histogram2d\":[{\"colorbar\":{\"outlinewidth\":0,\"tickcolor\":\"rgb(237,237,237)\",\"ticklen\":6,\"ticks\":\"inside\"},\"colorscale\":[[0,\"rgb(20,44,66)\"],[1,\"rgb(90,179,244)\"]],\"type\":\"histogram2d\"}],\"histogram\":[{\"marker\":{\"pattern\":{\"fillmode\":\"overlay\",\"size\":10,\"solidity\":0.2}},\"type\":\"histogram\"}],\"mesh3d\":[{\"colorbar\":{\"outlinewidth\":0,\"tickcolor\":\"rgb(237,237,237)\",\"ticklen\":6,\"ticks\":\"inside\"},\"type\":\"mesh3d\"}],\"parcoords\":[{\"line\":{\"colorbar\":{\"outlinewidth\":0,\"tickcolor\":\"rgb(237,237,237)\",\"ticklen\":6,\"ticks\":\"inside\"}},\"type\":\"parcoords\"}],\"pie\":[{\"automargin\":true,\"type\":\"pie\"}],\"scatter3d\":[{\"line\":{\"colorbar\":{\"outlinewidth\":0,\"tickcolor\":\"rgb(237,237,237)\",\"ticklen\":6,\"ticks\":\"inside\"}},\"marker\":{\"colorbar\":{\"outlinewidth\":0,\"tickcolor\":\"rgb(237,237,237)\",\"ticklen\":6,\"ticks\":\"inside\"}},\"type\":\"scatter3d\"}],\"scattercarpet\":[{\"marker\":{\"colorbar\":{\"outlinewidth\":0,\"tickcolor\":\"rgb(237,237,237)\",\"ticklen\":6,\"ticks\":\"inside\"}},\"type\":\"scattercarpet\"}],\"scattergeo\":[{\"marker\":{\"colorbar\":{\"outlinewidth\":0,\"tickcolor\":\"rgb(237,237,237)\",\"ticklen\":6,\"ticks\":\"inside\"}},\"type\":\"scattergeo\"}],\"scattergl\":[{\"marker\":{\"colorbar\":{\"outlinewidth\":0,\"tickcolor\":\"rgb(237,237,237)\",\"ticklen\":6,\"ticks\":\"inside\"}},\"type\":\"scattergl\"}],\"scattermapbox\":[{\"marker\":{\"colorbar\":{\"outlinewidth\":0,\"tickcolor\":\"rgb(237,237,237)\",\"ticklen\":6,\"ticks\":\"inside\"}},\"type\":\"scattermapbox\"}],\"scatterpolargl\":[{\"marker\":{\"colorbar\":{\"outlinewidth\":0,\"tickcolor\":\"rgb(237,237,237)\",\"ticklen\":6,\"ticks\":\"inside\"}},\"type\":\"scatterpolargl\"}],\"scatterpolar\":[{\"marker\":{\"colorbar\":{\"outlinewidth\":0,\"tickcolor\":\"rgb(237,237,237)\",\"ticklen\":6,\"ticks\":\"inside\"}},\"type\":\"scatterpolar\"}],\"scatter\":[{\"marker\":{\"colorbar\":{\"outlinewidth\":0,\"tickcolor\":\"rgb(237,237,237)\",\"ticklen\":6,\"ticks\":\"inside\"}},\"type\":\"scatter\"}],\"scatterternary\":[{\"marker\":{\"colorbar\":{\"outlinewidth\":0,\"tickcolor\":\"rgb(237,237,237)\",\"ticklen\":6,\"ticks\":\"inside\"}},\"type\":\"scatterternary\"}],\"surface\":[{\"colorbar\":{\"outlinewidth\":0,\"tickcolor\":\"rgb(237,237,237)\",\"ticklen\":6,\"ticks\":\"inside\"},\"colorscale\":[[0,\"rgb(20,44,66)\"],[1,\"rgb(90,179,244)\"]],\"type\":\"surface\"}],\"table\":[{\"cells\":{\"fill\":{\"color\":\"rgb(237,237,237)\"},\"line\":{\"color\":\"white\"}},\"header\":{\"fill\":{\"color\":\"rgb(217,217,217)\"},\"line\":{\"color\":\"white\"}},\"type\":\"table\"}]},\"layout\":{\"annotationdefaults\":{\"arrowhead\":0,\"arrowwidth\":1},\"autotypenumbers\":\"strict\",\"coloraxis\":{\"colorbar\":{\"outlinewidth\":0,\"tickcolor\":\"rgb(237,237,237)\",\"ticklen\":6,\"ticks\":\"inside\"}},\"colorscale\":{\"sequential\":[[0,\"rgb(20,44,66)\"],[1,\"rgb(90,179,244)\"]],\"sequentialminus\":[[0,\"rgb(20,44,66)\"],[1,\"rgb(90,179,244)\"]]},\"colorway\":[\"#F8766D\",\"#A3A500\",\"#00BF7D\",\"#00B0F6\",\"#E76BF3\"],\"font\":{\"color\":\"rgb(51,51,51)\"},\"geo\":{\"bgcolor\":\"white\",\"lakecolor\":\"white\",\"landcolor\":\"rgb(237,237,237)\",\"showlakes\":true,\"showland\":true,\"subunitcolor\":\"white\"},\"hoverlabel\":{\"align\":\"left\"},\"hovermode\":\"closest\",\"paper_bgcolor\":\"white\",\"plot_bgcolor\":\"rgb(237,237,237)\",\"polar\":{\"angularaxis\":{\"gridcolor\":\"white\",\"linecolor\":\"white\",\"showgrid\":true,\"tickcolor\":\"rgb(51,51,51)\",\"ticks\":\"outside\"},\"bgcolor\":\"rgb(237,237,237)\",\"radialaxis\":{\"gridcolor\":\"white\",\"linecolor\":\"white\",\"showgrid\":true,\"tickcolor\":\"rgb(51,51,51)\",\"ticks\":\"outside\"}},\"scene\":{\"xaxis\":{\"backgroundcolor\":\"rgb(237,237,237)\",\"gridcolor\":\"white\",\"gridwidth\":2,\"linecolor\":\"white\",\"showbackground\":true,\"showgrid\":true,\"tickcolor\":\"rgb(51,51,51)\",\"ticks\":\"outside\",\"zerolinecolor\":\"white\"},\"yaxis\":{\"backgroundcolor\":\"rgb(237,237,237)\",\"gridcolor\":\"white\",\"gridwidth\":2,\"linecolor\":\"white\",\"showbackground\":true,\"showgrid\":true,\"tickcolor\":\"rgb(51,51,51)\",\"ticks\":\"outside\",\"zerolinecolor\":\"white\"},\"zaxis\":{\"backgroundcolor\":\"rgb(237,237,237)\",\"gridcolor\":\"white\",\"gridwidth\":2,\"linecolor\":\"white\",\"showbackground\":true,\"showgrid\":true,\"tickcolor\":\"rgb(51,51,51)\",\"ticks\":\"outside\",\"zerolinecolor\":\"white\"}},\"shapedefaults\":{\"fillcolor\":\"black\",\"line\":{\"width\":0},\"opacity\":0.3},\"ternary\":{\"aaxis\":{\"gridcolor\":\"white\",\"linecolor\":\"white\",\"showgrid\":true,\"tickcolor\":\"rgb(51,51,51)\",\"ticks\":\"outside\"},\"baxis\":{\"gridcolor\":\"white\",\"linecolor\":\"white\",\"showgrid\":true,\"tickcolor\":\"rgb(51,51,51)\",\"ticks\":\"outside\"},\"bgcolor\":\"rgb(237,237,237)\",\"caxis\":{\"gridcolor\":\"white\",\"linecolor\":\"white\",\"showgrid\":true,\"tickcolor\":\"rgb(51,51,51)\",\"ticks\":\"outside\"}},\"xaxis\":{\"automargin\":true,\"gridcolor\":\"white\",\"linecolor\":\"white\",\"showgrid\":true,\"tickcolor\":\"rgb(51,51,51)\",\"ticks\":\"outside\",\"title\":{\"standoff\":15},\"zerolinecolor\":\"white\"},\"yaxis\":{\"automargin\":true,\"gridcolor\":\"white\",\"linecolor\":\"white\",\"showgrid\":true,\"tickcolor\":\"rgb(51,51,51)\",\"ticks\":\"outside\",\"title\":{\"standoff\":15},\"zerolinecolor\":\"white\"}}},\"xaxis\":{\"title\":{\"text\":\"Time\"},\"zeroline\":false},\"title\":{\"text\":\"Train Cross-Validation Splits\"},\"yaxis\":{\"title\":{\"text\":\"Windows\"}},\"showlegend\":true},                        {\"responsive\": true}                    ).then(function(){\n",
              "                            \n",
              "var gd = document.getElementById('5fc3ed59-f8de-4026-b829-2ed79ae75e0e');\n",
              "var x = new MutationObserver(function (mutations, observer) {{\n",
              "        var display = window.getComputedStyle(gd).display;\n",
              "        if (!display || display === 'none') {{\n",
              "            console.log([gd, 'removed!']);\n",
              "            Plotly.purge(gd);\n",
              "            observer.disconnect();\n",
              "        }}\n",
              "}});\n",
              "\n",
              "// Listen for the removal of the full notebook cells\n",
              "var notebookContainer = gd.closest('#notebook-container');\n",
              "if (notebookContainer) {{\n",
              "    x.observe(notebookContainer, {childList: true});\n",
              "}}\n",
              "\n",
              "// Listen for the clearing of the current output cell\n",
              "var outputEl = gd.closest('.output');\n",
              "if (outputEl) {{\n",
              "    x.observe(outputEl, {childList: true});\n",
              "}}\n",
              "\n",
              "                        })                };                            </script>        </div>\n",
              "</body>\n",
              "</html>"
            ]
          },
          "metadata": {}
        }
      ],
      "source": [
        "# cross-validation plot\n",
        "plot_model(plot = 'cv')"
      ]
    },
    {
      "cell_type": "code",
      "execution_count": 13,
      "metadata": {
        "colab": {
          "base_uri": "https://localhost:8080/",
          "height": 542
        },
        "id": "eoI3jt2uv5W9",
        "outputId": "67b8fc99-7867-433a-86bc-c76bf538e09e"
      },
      "outputs": [
        {
          "output_type": "display_data",
          "data": {
            "text/html": [
              "<html>\n",
              "<head><meta charset=\"utf-8\" /></head>\n",
              "<body>\n",
              "    <div>            <script src=\"https://cdnjs.cloudflare.com/ajax/libs/mathjax/2.7.5/MathJax.js?config=TeX-AMS-MML_SVG\"></script><script type=\"text/javascript\">if (window.MathJax) {MathJax.Hub.Config({SVG: {font: \"STIX-Web\"}});}</script>                <script type=\"text/javascript\">window.PlotlyConfig = {MathJaxConfig: 'local'};</script>\n",
              "        <script src=\"https://cdn.plot.ly/plotly-2.8.3.min.js\"></script>                <div id=\"52a79858-63ab-49e4-a71f-f58f9b30c179\" class=\"plotly-graph-div\" style=\"height:525px; width:100%;\"></div>            <script type=\"text/javascript\">                                    window.PLOTLYENV=window.PLOTLYENV || {};                                    if (document.getElementById(\"52a79858-63ab-49e4-a71f-f58f9b30c179\")) {                    Plotly.newPlot(                        \"52a79858-63ab-49e4-a71f-f58f9b30c179\",                        [{\"marker\":{\"color\":\"#1f77b4\",\"size\":10},\"mode\":\"markers\",\"name\":\"ACF\",\"x\":[0,1,2,3,4,5,6,7,8,9,10,11,12,13,14,15,16,17,18,19,20,21,22,23,24,25,26,27,28,29,30,31,32,33,34,35,36,37,38,39,40],\"y\":[1.0,0.6201139231368101,0.10458159213030854,-0.0578819255317278,-0.03425922522209793,0.11473433944416002,0.5195082444044481,0.789610951718127,0.48126128990718986,0.027911015623095718,-0.13087498599283715,-0.11547859686129827,0.014495499679403043,0.3913760178925196,0.6287519853308668,0.36302831755913845,-0.026999130376679985,-0.17420366947409907,-0.17434599733760037,-0.06729245022005864,0.27422401215042647,0.5195606573936573,0.3144170580931283,-0.04234724009946882,-0.17685768185655237,-0.18051750793500104,-0.0965890392982141,0.21751843182084762,0.4602888964368156,0.2954774444536944,-0.033123686865388025,-0.1708211907711779,-0.19571004821977434,-0.1379950569345843,0.12395282250290908,0.33987440858303974,0.1902491729807324,-0.09781434128086072,-0.2094794861217347,-0.23604518576123018,-0.2075228222273166],\"type\":\"scatter\",\"showlegend\":false},{\"line\":{\"color\":\"#3f3f3f\"},\"mode\":\"lines\",\"name\":\"Lag1\",\"x\":[0,0],\"y\":[0,1.0],\"type\":\"scatter\",\"showlegend\":false},{\"line\":{\"color\":\"#3f3f3f\"},\"mode\":\"lines\",\"name\":\"Lag2\",\"x\":[1,1],\"y\":[0,0.6201139231368101],\"type\":\"scatter\",\"showlegend\":false},{\"line\":{\"color\":\"#3f3f3f\"},\"mode\":\"lines\",\"name\":\"Lag3\",\"x\":[2,2],\"y\":[0,0.10458159213030854],\"type\":\"scatter\",\"showlegend\":false},{\"line\":{\"color\":\"#3f3f3f\"},\"mode\":\"lines\",\"name\":\"Lag4\",\"x\":[3,3],\"y\":[0,-0.0578819255317278],\"type\":\"scatter\",\"showlegend\":false},{\"line\":{\"color\":\"#3f3f3f\"},\"mode\":\"lines\",\"name\":\"Lag5\",\"x\":[4,4],\"y\":[0,-0.03425922522209793],\"type\":\"scatter\",\"showlegend\":false},{\"line\":{\"color\":\"#3f3f3f\"},\"mode\":\"lines\",\"name\":\"Lag6\",\"x\":[5,5],\"y\":[0,0.11473433944416002],\"type\":\"scatter\",\"showlegend\":false},{\"line\":{\"color\":\"#3f3f3f\"},\"mode\":\"lines\",\"name\":\"Lag7\",\"x\":[6,6],\"y\":[0,0.5195082444044481],\"type\":\"scatter\",\"showlegend\":false},{\"line\":{\"color\":\"#3f3f3f\"},\"mode\":\"lines\",\"name\":\"Lag8\",\"x\":[7,7],\"y\":[0,0.789610951718127],\"type\":\"scatter\",\"showlegend\":false},{\"line\":{\"color\":\"#3f3f3f\"},\"mode\":\"lines\",\"name\":\"Lag9\",\"x\":[8,8],\"y\":[0,0.48126128990718986],\"type\":\"scatter\",\"showlegend\":false},{\"line\":{\"color\":\"#3f3f3f\"},\"mode\":\"lines\",\"name\":\"Lag10\",\"x\":[9,9],\"y\":[0,0.027911015623095718],\"type\":\"scatter\",\"showlegend\":false},{\"line\":{\"color\":\"#3f3f3f\"},\"mode\":\"lines\",\"name\":\"Lag11\",\"x\":[10,10],\"y\":[0,-0.13087498599283715],\"type\":\"scatter\",\"showlegend\":false},{\"line\":{\"color\":\"#3f3f3f\"},\"mode\":\"lines\",\"name\":\"Lag12\",\"x\":[11,11],\"y\":[0,-0.11547859686129827],\"type\":\"scatter\",\"showlegend\":false},{\"line\":{\"color\":\"#3f3f3f\"},\"mode\":\"lines\",\"name\":\"Lag13\",\"x\":[12,12],\"y\":[0,0.014495499679403043],\"type\":\"scatter\",\"showlegend\":false},{\"line\":{\"color\":\"#3f3f3f\"},\"mode\":\"lines\",\"name\":\"Lag14\",\"x\":[13,13],\"y\":[0,0.3913760178925196],\"type\":\"scatter\",\"showlegend\":false},{\"line\":{\"color\":\"#3f3f3f\"},\"mode\":\"lines\",\"name\":\"Lag15\",\"x\":[14,14],\"y\":[0,0.6287519853308668],\"type\":\"scatter\",\"showlegend\":false},{\"line\":{\"color\":\"#3f3f3f\"},\"mode\":\"lines\",\"name\":\"Lag16\",\"x\":[15,15],\"y\":[0,0.36302831755913845],\"type\":\"scatter\",\"showlegend\":false},{\"line\":{\"color\":\"#3f3f3f\"},\"mode\":\"lines\",\"name\":\"Lag17\",\"x\":[16,16],\"y\":[0,-0.026999130376679985],\"type\":\"scatter\",\"showlegend\":false},{\"line\":{\"color\":\"#3f3f3f\"},\"mode\":\"lines\",\"name\":\"Lag18\",\"x\":[17,17],\"y\":[0,-0.17420366947409907],\"type\":\"scatter\",\"showlegend\":false},{\"line\":{\"color\":\"#3f3f3f\"},\"mode\":\"lines\",\"name\":\"Lag19\",\"x\":[18,18],\"y\":[0,-0.17434599733760037],\"type\":\"scatter\",\"showlegend\":false},{\"line\":{\"color\":\"#3f3f3f\"},\"mode\":\"lines\",\"name\":\"Lag20\",\"x\":[19,19],\"y\":[0,-0.06729245022005864],\"type\":\"scatter\",\"showlegend\":false},{\"line\":{\"color\":\"#3f3f3f\"},\"mode\":\"lines\",\"name\":\"Lag21\",\"x\":[20,20],\"y\":[0,0.27422401215042647],\"type\":\"scatter\",\"showlegend\":false},{\"line\":{\"color\":\"#3f3f3f\"},\"mode\":\"lines\",\"name\":\"Lag22\",\"x\":[21,21],\"y\":[0,0.5195606573936573],\"type\":\"scatter\",\"showlegend\":false},{\"line\":{\"color\":\"#3f3f3f\"},\"mode\":\"lines\",\"name\":\"Lag23\",\"x\":[22,22],\"y\":[0,0.3144170580931283],\"type\":\"scatter\",\"showlegend\":false},{\"line\":{\"color\":\"#3f3f3f\"},\"mode\":\"lines\",\"name\":\"Lag24\",\"x\":[23,23],\"y\":[0,-0.04234724009946882],\"type\":\"scatter\",\"showlegend\":false},{\"line\":{\"color\":\"#3f3f3f\"},\"mode\":\"lines\",\"name\":\"Lag25\",\"x\":[24,24],\"y\":[0,-0.17685768185655237],\"type\":\"scatter\",\"showlegend\":false},{\"line\":{\"color\":\"#3f3f3f\"},\"mode\":\"lines\",\"name\":\"Lag26\",\"x\":[25,25],\"y\":[0,-0.18051750793500104],\"type\":\"scatter\",\"showlegend\":false},{\"line\":{\"color\":\"#3f3f3f\"},\"mode\":\"lines\",\"name\":\"Lag27\",\"x\":[26,26],\"y\":[0,-0.0965890392982141],\"type\":\"scatter\",\"showlegend\":false},{\"line\":{\"color\":\"#3f3f3f\"},\"mode\":\"lines\",\"name\":\"Lag28\",\"x\":[27,27],\"y\":[0,0.21751843182084762],\"type\":\"scatter\",\"showlegend\":false},{\"line\":{\"color\":\"#3f3f3f\"},\"mode\":\"lines\",\"name\":\"Lag29\",\"x\":[28,28],\"y\":[0,0.4602888964368156],\"type\":\"scatter\",\"showlegend\":false},{\"line\":{\"color\":\"#3f3f3f\"},\"mode\":\"lines\",\"name\":\"Lag30\",\"x\":[29,29],\"y\":[0,0.2954774444536944],\"type\":\"scatter\",\"showlegend\":false},{\"line\":{\"color\":\"#3f3f3f\"},\"mode\":\"lines\",\"name\":\"Lag31\",\"x\":[30,30],\"y\":[0,-0.033123686865388025],\"type\":\"scatter\",\"showlegend\":false},{\"line\":{\"color\":\"#3f3f3f\"},\"mode\":\"lines\",\"name\":\"Lag32\",\"x\":[31,31],\"y\":[0,-0.1708211907711779],\"type\":\"scatter\",\"showlegend\":false},{\"line\":{\"color\":\"#3f3f3f\"},\"mode\":\"lines\",\"name\":\"Lag33\",\"x\":[32,32],\"y\":[0,-0.19571004821977434],\"type\":\"scatter\",\"showlegend\":false},{\"line\":{\"color\":\"#3f3f3f\"},\"mode\":\"lines\",\"name\":\"Lag34\",\"x\":[33,33],\"y\":[0,-0.1379950569345843],\"type\":\"scatter\",\"showlegend\":false},{\"line\":{\"color\":\"#3f3f3f\"},\"mode\":\"lines\",\"name\":\"Lag35\",\"x\":[34,34],\"y\":[0,0.12395282250290908],\"type\":\"scatter\",\"showlegend\":false},{\"line\":{\"color\":\"#3f3f3f\"},\"mode\":\"lines\",\"name\":\"Lag36\",\"x\":[35,35],\"y\":[0,0.33987440858303974],\"type\":\"scatter\",\"showlegend\":false},{\"line\":{\"color\":\"#3f3f3f\"},\"mode\":\"lines\",\"name\":\"Lag37\",\"x\":[36,36],\"y\":[0,0.1902491729807324],\"type\":\"scatter\",\"showlegend\":false},{\"line\":{\"color\":\"#3f3f3f\"},\"mode\":\"lines\",\"name\":\"Lag38\",\"x\":[37,37],\"y\":[0,-0.09781434128086072],\"type\":\"scatter\",\"showlegend\":false},{\"line\":{\"color\":\"#3f3f3f\"},\"mode\":\"lines\",\"name\":\"Lag39\",\"x\":[38,38],\"y\":[0,-0.2094794861217347],\"type\":\"scatter\",\"showlegend\":false},{\"line\":{\"color\":\"#3f3f3f\"},\"mode\":\"lines\",\"name\":\"Lag40\",\"x\":[39,39],\"y\":[0,-0.23604518576123018],\"type\":\"scatter\",\"showlegend\":false},{\"line\":{\"color\":\"#3f3f3f\"},\"mode\":\"lines\",\"name\":\"Lag41\",\"x\":[40,40],\"y\":[0,-0.2075228222273166],\"type\":\"scatter\",\"showlegend\":false},{\"line\":{\"color\":\"rgba(255,255,255,0)\"},\"mode\":\"lines\",\"name\":\"UC\",\"x\":[0,1,2,3,4,5,6,7,8,9,10,11,12,13,14,15,16,17,18,19,20,21,22,23,24,25,26,27,28,29,30,31,32,33,34,35,36,37,38,39,40],\"y\":[0.0,0.20659834410152056,0.2747899760975552,0.2764836389406401,0.27700036995724814,0.27718116507196844,0.2792009139453532,0.31779303322558905,0.3927043626350738,0.41711927013902245,0.41719897837634656,0.41894767514985687,0.42030409581756445,0.4203254334096294,0.4356023243324493,0.4727546374263556,0.4845072362630207,0.48457144944315866,0.48723718774072944,0.48989274282425266,0.4902871189139675,0.49679056131011334,0.5194658530691054,0.5275261769343017,0.5276712544684797,0.5301953200214189,0.5328122131380539,0.5335590589062219,0.5373307058081304,0.5539046637048163,0.5605920061261439,0.5606755379103184,0.5628925484771409,0.5657894805095545,0.5672242282968619,0.5683791959354132,0.5769886499580453,0.5796599813951034,0.5803640609719992,0.583582413833897,0.58764341693187],\"type\":\"scatter\",\"showlegend\":false},{\"fill\":\"tonexty\",\"fillcolor\":\"rgba(32, 146, 230,0.3)\",\"line\":{\"color\":\"rgba(255,255,255,0)\"},\"mode\":\"lines\",\"name\":\"LC\",\"x\":[0,1,2,3,4,5,6,7,8,9,10,11,12,13,14,15,16,17,18,19,20,21,22,23,24,25,26,27,28,29,30,31,32,33,34,35,36,37,38,39,40],\"y\":[0.0,-0.20659834410152056,-0.2747899760975552,-0.2764836389406401,-0.2770003699572482,-0.27718116507196844,-0.2792009139453532,-0.31779303322558916,-0.39270436263507374,-0.41711927013902245,-0.4171989783763465,-0.41894767514985687,-0.42030409581756445,-0.42032543340962947,-0.4356023243324493,-0.4727546374263556,-0.4845072362630207,-0.4845714494431588,-0.48723718774072944,-0.4898927428242526,-0.4902871189139675,-0.4967905613101133,-0.5194658530691053,-0.5275261769343017,-0.5276712544684797,-0.5301953200214189,-0.5328122131380539,-0.5335590589062219,-0.5373307058081304,-0.5539046637048163,-0.5605920061261439,-0.5606755379103185,-0.5628925484771409,-0.5657894805095545,-0.5672242282968619,-0.5683791959354132,-0.5769886499580453,-0.5796599813951034,-0.5803640609719992,-0.583582413833897,-0.58764341693187],\"type\":\"scatter\",\"showlegend\":false},{\"line\":{\"color\":\"#3f3f3f\"},\"mode\":\"lines\",\"name\":\"\",\"x\":[0,41],\"y\":[0,0],\"type\":\"scatter\",\"showlegend\":false}],                        {\"template\":{\"data\":{\"barpolar\":[{\"marker\":{\"line\":{\"color\":\"rgb(237,237,237)\",\"width\":0.5},\"pattern\":{\"fillmode\":\"overlay\",\"size\":10,\"solidity\":0.2}},\"type\":\"barpolar\"}],\"bar\":[{\"error_x\":{\"color\":\"rgb(51,51,51)\"},\"error_y\":{\"color\":\"rgb(51,51,51)\"},\"marker\":{\"line\":{\"color\":\"rgb(237,237,237)\",\"width\":0.5},\"pattern\":{\"fillmode\":\"overlay\",\"size\":10,\"solidity\":0.2}},\"type\":\"bar\"}],\"carpet\":[{\"aaxis\":{\"endlinecolor\":\"rgb(51,51,51)\",\"gridcolor\":\"white\",\"linecolor\":\"white\",\"minorgridcolor\":\"white\",\"startlinecolor\":\"rgb(51,51,51)\"},\"baxis\":{\"endlinecolor\":\"rgb(51,51,51)\",\"gridcolor\":\"white\",\"linecolor\":\"white\",\"minorgridcolor\":\"white\",\"startlinecolor\":\"rgb(51,51,51)\"},\"type\":\"carpet\"}],\"choropleth\":[{\"colorbar\":{\"outlinewidth\":0,\"tickcolor\":\"rgb(237,237,237)\",\"ticklen\":6,\"ticks\":\"inside\"},\"type\":\"choropleth\"}],\"contourcarpet\":[{\"colorbar\":{\"outlinewidth\":0,\"tickcolor\":\"rgb(237,237,237)\",\"ticklen\":6,\"ticks\":\"inside\"},\"type\":\"contourcarpet\"}],\"contour\":[{\"colorbar\":{\"outlinewidth\":0,\"tickcolor\":\"rgb(237,237,237)\",\"ticklen\":6,\"ticks\":\"inside\"},\"colorscale\":[[0,\"rgb(20,44,66)\"],[1,\"rgb(90,179,244)\"]],\"type\":\"contour\"}],\"heatmapgl\":[{\"colorbar\":{\"outlinewidth\":0,\"tickcolor\":\"rgb(237,237,237)\",\"ticklen\":6,\"ticks\":\"inside\"},\"colorscale\":[[0,\"rgb(20,44,66)\"],[1,\"rgb(90,179,244)\"]],\"type\":\"heatmapgl\"}],\"heatmap\":[{\"colorbar\":{\"outlinewidth\":0,\"tickcolor\":\"rgb(237,237,237)\",\"ticklen\":6,\"ticks\":\"inside\"},\"colorscale\":[[0,\"rgb(20,44,66)\"],[1,\"rgb(90,179,244)\"]],\"type\":\"heatmap\"}],\"histogram2dcontour\":[{\"colorbar\":{\"outlinewidth\":0,\"tickcolor\":\"rgb(237,237,237)\",\"ticklen\":6,\"ticks\":\"inside\"},\"colorscale\":[[0,\"rgb(20,44,66)\"],[1,\"rgb(90,179,244)\"]],\"type\":\"histogram2dcontour\"}],\"histogram2d\":[{\"colorbar\":{\"outlinewidth\":0,\"tickcolor\":\"rgb(237,237,237)\",\"ticklen\":6,\"ticks\":\"inside\"},\"colorscale\":[[0,\"rgb(20,44,66)\"],[1,\"rgb(90,179,244)\"]],\"type\":\"histogram2d\"}],\"histogram\":[{\"marker\":{\"pattern\":{\"fillmode\":\"overlay\",\"size\":10,\"solidity\":0.2}},\"type\":\"histogram\"}],\"mesh3d\":[{\"colorbar\":{\"outlinewidth\":0,\"tickcolor\":\"rgb(237,237,237)\",\"ticklen\":6,\"ticks\":\"inside\"},\"type\":\"mesh3d\"}],\"parcoords\":[{\"line\":{\"colorbar\":{\"outlinewidth\":0,\"tickcolor\":\"rgb(237,237,237)\",\"ticklen\":6,\"ticks\":\"inside\"}},\"type\":\"parcoords\"}],\"pie\":[{\"automargin\":true,\"type\":\"pie\"}],\"scatter3d\":[{\"line\":{\"colorbar\":{\"outlinewidth\":0,\"tickcolor\":\"rgb(237,237,237)\",\"ticklen\":6,\"ticks\":\"inside\"}},\"marker\":{\"colorbar\":{\"outlinewidth\":0,\"tickcolor\":\"rgb(237,237,237)\",\"ticklen\":6,\"ticks\":\"inside\"}},\"type\":\"scatter3d\"}],\"scattercarpet\":[{\"marker\":{\"colorbar\":{\"outlinewidth\":0,\"tickcolor\":\"rgb(237,237,237)\",\"ticklen\":6,\"ticks\":\"inside\"}},\"type\":\"scattercarpet\"}],\"scattergeo\":[{\"marker\":{\"colorbar\":{\"outlinewidth\":0,\"tickcolor\":\"rgb(237,237,237)\",\"ticklen\":6,\"ticks\":\"inside\"}},\"type\":\"scattergeo\"}],\"scattergl\":[{\"marker\":{\"colorbar\":{\"outlinewidth\":0,\"tickcolor\":\"rgb(237,237,237)\",\"ticklen\":6,\"ticks\":\"inside\"}},\"type\":\"scattergl\"}],\"scattermapbox\":[{\"marker\":{\"colorbar\":{\"outlinewidth\":0,\"tickcolor\":\"rgb(237,237,237)\",\"ticklen\":6,\"ticks\":\"inside\"}},\"type\":\"scattermapbox\"}],\"scatterpolargl\":[{\"marker\":{\"colorbar\":{\"outlinewidth\":0,\"tickcolor\":\"rgb(237,237,237)\",\"ticklen\":6,\"ticks\":\"inside\"}},\"type\":\"scatterpolargl\"}],\"scatterpolar\":[{\"marker\":{\"colorbar\":{\"outlinewidth\":0,\"tickcolor\":\"rgb(237,237,237)\",\"ticklen\":6,\"ticks\":\"inside\"}},\"type\":\"scatterpolar\"}],\"scatter\":[{\"marker\":{\"colorbar\":{\"outlinewidth\":0,\"tickcolor\":\"rgb(237,237,237)\",\"ticklen\":6,\"ticks\":\"inside\"}},\"type\":\"scatter\"}],\"scatterternary\":[{\"marker\":{\"colorbar\":{\"outlinewidth\":0,\"tickcolor\":\"rgb(237,237,237)\",\"ticklen\":6,\"ticks\":\"inside\"}},\"type\":\"scatterternary\"}],\"surface\":[{\"colorbar\":{\"outlinewidth\":0,\"tickcolor\":\"rgb(237,237,237)\",\"ticklen\":6,\"ticks\":\"inside\"},\"colorscale\":[[0,\"rgb(20,44,66)\"],[1,\"rgb(90,179,244)\"]],\"type\":\"surface\"}],\"table\":[{\"cells\":{\"fill\":{\"color\":\"rgb(237,237,237)\"},\"line\":{\"color\":\"white\"}},\"header\":{\"fill\":{\"color\":\"rgb(217,217,217)\"},\"line\":{\"color\":\"white\"}},\"type\":\"table\"}]},\"layout\":{\"annotationdefaults\":{\"arrowhead\":0,\"arrowwidth\":1},\"autotypenumbers\":\"strict\",\"coloraxis\":{\"colorbar\":{\"outlinewidth\":0,\"tickcolor\":\"rgb(237,237,237)\",\"ticklen\":6,\"ticks\":\"inside\"}},\"colorscale\":{\"sequential\":[[0,\"rgb(20,44,66)\"],[1,\"rgb(90,179,244)\"]],\"sequentialminus\":[[0,\"rgb(20,44,66)\"],[1,\"rgb(90,179,244)\"]]},\"colorway\":[\"#F8766D\",\"#A3A500\",\"#00BF7D\",\"#00B0F6\",\"#E76BF3\"],\"font\":{\"color\":\"rgb(51,51,51)\"},\"geo\":{\"bgcolor\":\"white\",\"lakecolor\":\"white\",\"landcolor\":\"rgb(237,237,237)\",\"showlakes\":true,\"showland\":true,\"subunitcolor\":\"white\"},\"hoverlabel\":{\"align\":\"left\"},\"hovermode\":\"closest\",\"paper_bgcolor\":\"white\",\"plot_bgcolor\":\"rgb(237,237,237)\",\"polar\":{\"angularaxis\":{\"gridcolor\":\"white\",\"linecolor\":\"white\",\"showgrid\":true,\"tickcolor\":\"rgb(51,51,51)\",\"ticks\":\"outside\"},\"bgcolor\":\"rgb(237,237,237)\",\"radialaxis\":{\"gridcolor\":\"white\",\"linecolor\":\"white\",\"showgrid\":true,\"tickcolor\":\"rgb(51,51,51)\",\"ticks\":\"outside\"}},\"scene\":{\"xaxis\":{\"backgroundcolor\":\"rgb(237,237,237)\",\"gridcolor\":\"white\",\"gridwidth\":2,\"linecolor\":\"white\",\"showbackground\":true,\"showgrid\":true,\"tickcolor\":\"rgb(51,51,51)\",\"ticks\":\"outside\",\"zerolinecolor\":\"white\"},\"yaxis\":{\"backgroundcolor\":\"rgb(237,237,237)\",\"gridcolor\":\"white\",\"gridwidth\":2,\"linecolor\":\"white\",\"showbackground\":true,\"showgrid\":true,\"tickcolor\":\"rgb(51,51,51)\",\"ticks\":\"outside\",\"zerolinecolor\":\"white\"},\"zaxis\":{\"backgroundcolor\":\"rgb(237,237,237)\",\"gridcolor\":\"white\",\"gridwidth\":2,\"linecolor\":\"white\",\"showbackground\":true,\"showgrid\":true,\"tickcolor\":\"rgb(51,51,51)\",\"ticks\":\"outside\",\"zerolinecolor\":\"white\"}},\"shapedefaults\":{\"fillcolor\":\"black\",\"line\":{\"width\":0},\"opacity\":0.3},\"ternary\":{\"aaxis\":{\"gridcolor\":\"white\",\"linecolor\":\"white\",\"showgrid\":true,\"tickcolor\":\"rgb(51,51,51)\",\"ticks\":\"outside\"},\"baxis\":{\"gridcolor\":\"white\",\"linecolor\":\"white\",\"showgrid\":true,\"tickcolor\":\"rgb(51,51,51)\",\"ticks\":\"outside\"},\"bgcolor\":\"rgb(237,237,237)\",\"caxis\":{\"gridcolor\":\"white\",\"linecolor\":\"white\",\"showgrid\":true,\"tickcolor\":\"rgb(51,51,51)\",\"ticks\":\"outside\"}},\"xaxis\":{\"automargin\":true,\"gridcolor\":\"white\",\"linecolor\":\"white\",\"showgrid\":true,\"tickcolor\":\"rgb(51,51,51)\",\"ticks\":\"outside\",\"title\":{\"standoff\":15},\"zerolinecolor\":\"white\"},\"yaxis\":{\"automargin\":true,\"gridcolor\":\"white\",\"linecolor\":\"white\",\"showgrid\":true,\"tickcolor\":\"rgb(51,51,51)\",\"ticks\":\"outside\",\"title\":{\"standoff\":15},\"zerolinecolor\":\"white\"}}},\"xaxis\":{\"range\":[-1,42]},\"yaxis\":{\"zerolinecolor\":\"#000000\"},\"title\":{\"text\":\"Autocorrelation (ACF) | Total\"}},                        {\"responsive\": true}                    ).then(function(){\n",
              "                            \n",
              "var gd = document.getElementById('52a79858-63ab-49e4-a71f-f58f9b30c179');\n",
              "var x = new MutationObserver(function (mutations, observer) {{\n",
              "        var display = window.getComputedStyle(gd).display;\n",
              "        if (!display || display === 'none') {{\n",
              "            console.log([gd, 'removed!']);\n",
              "            Plotly.purge(gd);\n",
              "            observer.disconnect();\n",
              "        }}\n",
              "}});\n",
              "\n",
              "// Listen for the removal of the full notebook cells\n",
              "var notebookContainer = gd.closest('#notebook-container');\n",
              "if (notebookContainer) {{\n",
              "    x.observe(notebookContainer, {childList: true});\n",
              "}}\n",
              "\n",
              "// Listen for the clearing of the current output cell\n",
              "var outputEl = gd.closest('.output');\n",
              "if (outputEl) {{\n",
              "    x.observe(outputEl, {childList: true});\n",
              "}}\n",
              "\n",
              "                        })                };                            </script>        </div>\n",
              "</body>\n",
              "</html>"
            ]
          },
          "metadata": {}
        }
      ],
      "source": [
        "# ACF plot\n",
        "plot_model(plot = 'acf')"
      ]
    },
    {
      "cell_type": "code",
      "execution_count": 14,
      "metadata": {
        "colab": {
          "base_uri": "https://localhost:8080/",
          "height": 542
        },
        "id": "wS61newPv5W_",
        "outputId": "0e73f9e9-9168-41c8-e3c3-6ec85f6dbd2a"
      },
      "outputs": [
        {
          "output_type": "display_data",
          "data": {
            "text/html": [
              "<html>\n",
              "<head><meta charset=\"utf-8\" /></head>\n",
              "<body>\n",
              "    <div>            <script src=\"https://cdnjs.cloudflare.com/ajax/libs/mathjax/2.7.5/MathJax.js?config=TeX-AMS-MML_SVG\"></script><script type=\"text/javascript\">if (window.MathJax) {MathJax.Hub.Config({SVG: {font: \"STIX-Web\"}});}</script>                <script type=\"text/javascript\">window.PlotlyConfig = {MathJaxConfig: 'local'};</script>\n",
              "        <script src=\"https://cdn.plot.ly/plotly-2.8.3.min.js\"></script>                <div id=\"575555c0-a33c-4e7d-a03c-c99ef0aa2aff\" class=\"plotly-graph-div\" style=\"height:525px; width:100%;\"></div>            <script type=\"text/javascript\">                                    window.PLOTLYENV=window.PLOTLYENV || {};                                    if (document.getElementById(\"575555c0-a33c-4e7d-a03c-c99ef0aa2aff\")) {                    Plotly.newPlot(                        \"575555c0-a33c-4e7d-a03c-c99ef0aa2aff\",                        [{\"marker\":{\"color\":\"#1f77b4\"},\"mode\":\"markers\",\"name\":\"Total\",\"x\":[-2.2907474943568853,-2.014509733814348,-1.8388716539953431,-1.7065157957528905,-1.5986872595945827,-1.5067758106106854,-1.4260768722728474,-1.353724853678262,-1.2878384698340328,-1.2271127409207154,-1.1706033708794157,-1.1176037564176386,-1.0675705238781414,-1.0200762327862014,-0.9747781260151197,-0.9313967882247426,-0.8897011550847603,-0.8494977249382524,-0.8106226289783306,-0.7729356931282201,-0.7363159173761294,-0.7006579830264444,-0.6658695180010484,-0.6318689296678398,-0.598583668378363,-0.5659488219328631,-0.5339059671688102,-0.5024022233733555,-0.47138946558848843,-0.44082366566118486,-0.41066433613643266,-0.380874057516038,-0.35141807350901116,-0.32226394203104647,-0.29338123212119327,-0.26474125881342875,-0.23631684946065165,-0.20808213615499319,-0.1800123697927051,-0.15208375204759333,-0.1242732820840687,-0.09655861528963908,-0.06891793165996678,-0.04132981174473867,-0.013773118272557037,0.013773118272557037,0.041329811744738806,0.06891793165996678,0.09655861528963908,0.12427328208406883,0.15208375204759333,0.18001236979270496,0.20808213615499335,0.23631684946065165,0.2647412588134286,0.29338123212119344,0.32226394203104647,0.35141807350901105,0.38087405751603814,0.41066433613643266,0.4408236656611847,0.47138946558848843,0.5024022233733555,0.5339059671688103,0.5659488219328631,0.598583668378363,0.63186892966784,0.6658695180010484,0.7006579830264444,0.7363159173761297,0.7729356931282201,0.8106226289783306,0.8494977249382524,0.8897011550847603,0.9313967882247426,0.9747781260151197,1.0200762327862014,1.0675705238781412,1.1176037564176386,1.1706033708794157,1.2271127409207154,1.2878384698340328,1.353724853678262,1.4260768722728474,1.5067758106106854,1.5986872595945827,1.7065157957528911,1.8388716539953431,2.014509733814347,2.2907474943568866],\"y\":[1914,1920,1947,1996,2079,2093,2341,2359,2367,2426,2483,2526,2532,2538,2681,2725,2741,3112,3128,3132,3172,3276,3474,3514,3567,3773,3782,3795,3903,3941,3948,4001,4026,4064,4064,4088,4224,4339,4369,4430,4450,4481,4542,4603,4764,4789,4917,4977,5006,5038,5151,5193,5355,5456,5592,5651,5727,5777,5788,5865,6034,6082,6139,6279,6323,6362,6365,6457,6476,6643,6721,6770,6877,7001,7104,7115,7189,7272,7278,7418,7556,7798,7843,7863,7999,8290,8418,8765,8872,9212],\"type\":\"scatter\",\"xaxis\":\"x4\",\"yaxis\":\"y4\",\"showlegend\":false},{\"line\":{\"color\":\"#3f3f3f\"},\"mode\":\"lines\",\"name\":\"Total\",\"x\":[-2.2907474943568853,-2.014509733814348,-1.8388716539953431,-1.7065157957528905,-1.5986872595945827,-1.5067758106106854,-1.4260768722728474,-1.353724853678262,-1.2878384698340328,-1.2271127409207154,-1.1706033708794157,-1.1176037564176386,-1.0675705238781414,-1.0200762327862014,-0.9747781260151197,-0.9313967882247426,-0.8897011550847603,-0.8494977249382524,-0.8106226289783306,-0.7729356931282201,-0.7363159173761294,-0.7006579830264444,-0.6658695180010484,-0.6318689296678398,-0.598583668378363,-0.5659488219328631,-0.5339059671688102,-0.5024022233733555,-0.47138946558848843,-0.44082366566118486,-0.41066433613643266,-0.380874057516038,-0.35141807350901116,-0.32226394203104647,-0.29338123212119327,-0.26474125881342875,-0.23631684946065165,-0.20808213615499319,-0.1800123697927051,-0.15208375204759333,-0.1242732820840687,-0.09655861528963908,-0.06891793165996678,-0.04132981174473867,-0.013773118272557037,0.013773118272557037,0.041329811744738806,0.06891793165996678,0.09655861528963908,0.12427328208406883,0.15208375204759333,0.18001236979270496,0.20808213615499335,0.23631684946065165,0.2647412588134286,0.29338123212119344,0.32226394203104647,0.35141807350901105,0.38087405751603814,0.41066433613643266,0.4408236656611847,0.47138946558848843,0.5024022233733555,0.5339059671688103,0.5659488219328631,0.598583668378363,0.63186892966784,0.6658695180010484,0.7006579830264444,0.7363159173761297,0.7729356931282201,0.8106226289783306,0.8494977249382524,0.8897011550847603,0.9313967882247426,0.9747781260151197,1.0200762327862014,1.0675705238781412,1.1176037564176386,1.1706033708794157,1.2271127409207154,1.2878384698340328,1.353724853678262,1.4260768722728474,1.5067758106106854,1.5986872595945827,1.7065157957528911,1.8388716539953431,2.014509733814347,2.2907474943568866],\"y\":[543.3523819714419,1075.9934248163481,1414.6583843582048,1669.8666593689509,1877.7814058359045,2055.004859791001,2210.6083753578882,2350.1173786182144,2477.159359161153,2594.2505762068604,2703.2118193410033,2805.405559479408,2901.879528513905,2993.457916228552,3080.801626161842,3164.4494263586416,3244.8468545528904,3322.367020214242,3397.3258948160365,3469.9937617050773,3540.603932838204,3609.359483492861,3676.438525307085,3741.9983850147946,3806.1789526887133,3869.105391889764,3930.8903540315523,3991.635803588387,4051.4345349985497,4110.37144324995,4168.52459616437,4225.966145935999,4282.763109568744,4338.9780418182745,4394.6696195966215,4449.893153192235,4504.701036843545,4559.143148993658,4613.267210810035,4667.119110172947,4720.743197243034,4774.182556852999,4827.479262287257,4880.674614482833,4933.809370279986,4986.9239630533475,5040.058718850501,5093.254071046076,5146.550776480334,5199.9901360902995,5253.614223160386,5307.4661225232985,5361.590184339677,5416.032296489789,5470.840180141098,5526.063713736713,5581.755291515059,5637.970223764589,5694.767187397336,5752.208737168963,5810.3618900833835,5869.298798334784,5929.097529744947,5989.842979301782,6051.627941443569,6114.55438064462,6178.73494831854,6244.294808026249,6311.373849840473,6380.1294004951305,6450.739571628256,6523.407438517297,6598.3663131190915,6675.886478780443,6756.2839069746915,6839.931707171492,6927.275417104782,7018.853804819428,7115.3277738539255,7217.52151399233,7326.482757126473,7443.573974172181,7570.615954715119,7710.124957975446,7865.728473542333,8042.951927497429,8250.866673964385,8506.074948975129,8844.739908516984,9377.380951361894],\"type\":\"scatter\",\"xaxis\":\"x4\",\"yaxis\":\"y4\",\"showlegend\":false},{\"alignmentgroup\":\"True\",\"bingroup\":\"x\",\"hovertemplate\":\"variable=Total<br>value=%{x}<br>count=%{y}<extra></extra>\",\"legendgroup\":\"Total\",\"marker\":{\"color\":\"#1f77b4\",\"pattern\":{\"shape\":\"\"}},\"name\":\"Total\",\"offsetgroup\":\"Total\",\"orientation\":\"v\",\"showlegend\":false,\"x\":[3773,3172,2079,2725,4542,3795,3941,4064,3474,2093,2426,4339,4064,4224,4603,4369,2532,3276,4917,4430,4977,5193,4001,1996,2538,4764,5651,5777,4789,3782,1920,2526,4481,6034,5006,4450,3112,1914,2359,3948,5727,6365,6323,5151,1947,3128,7999,7104,6457,6643,5355,2341,2367,5592,6770,6877,7272,6279,2741,2483,5456,6082,6139,5865,6362,3132,2681,5788,7001,6721,7556,7278,4026,3514,6476,7863,8418,8290,7189,3567,4088,7418,8765,7798,9212,7115,3903,5038,7843,8872],\"xaxis\":\"x2\",\"yaxis\":\"y2\",\"type\":\"histogram\"},{\"line\":{\"color\":\"#3f3f3f\"},\"mode\":\"lines\",\"name\":\"ACF\",\"x\":[0,0],\"y\":[0,1.0],\"type\":\"scatter\",\"xaxis\":\"x3\",\"yaxis\":\"y3\",\"showlegend\":false},{\"line\":{\"color\":\"#3f3f3f\"},\"mode\":\"lines\",\"name\":\"ACF\",\"x\":[1,1],\"y\":[0,0.6201139231368101],\"type\":\"scatter\",\"xaxis\":\"x3\",\"yaxis\":\"y3\",\"showlegend\":false},{\"line\":{\"color\":\"#3f3f3f\"},\"mode\":\"lines\",\"name\":\"ACF\",\"x\":[2,2],\"y\":[0,0.10458159213030854],\"type\":\"scatter\",\"xaxis\":\"x3\",\"yaxis\":\"y3\",\"showlegend\":false},{\"line\":{\"color\":\"#3f3f3f\"},\"mode\":\"lines\",\"name\":\"ACF\",\"x\":[3,3],\"y\":[0,-0.0578819255317278],\"type\":\"scatter\",\"xaxis\":\"x3\",\"yaxis\":\"y3\",\"showlegend\":false},{\"line\":{\"color\":\"#3f3f3f\"},\"mode\":\"lines\",\"name\":\"ACF\",\"x\":[4,4],\"y\":[0,-0.03425922522209793],\"type\":\"scatter\",\"xaxis\":\"x3\",\"yaxis\":\"y3\",\"showlegend\":false},{\"line\":{\"color\":\"#3f3f3f\"},\"mode\":\"lines\",\"name\":\"ACF\",\"x\":[5,5],\"y\":[0,0.11473433944416002],\"type\":\"scatter\",\"xaxis\":\"x3\",\"yaxis\":\"y3\",\"showlegend\":false},{\"line\":{\"color\":\"#3f3f3f\"},\"mode\":\"lines\",\"name\":\"ACF\",\"x\":[6,6],\"y\":[0,0.5195082444044481],\"type\":\"scatter\",\"xaxis\":\"x3\",\"yaxis\":\"y3\",\"showlegend\":false},{\"line\":{\"color\":\"#3f3f3f\"},\"mode\":\"lines\",\"name\":\"ACF\",\"x\":[7,7],\"y\":[0,0.789610951718127],\"type\":\"scatter\",\"xaxis\":\"x3\",\"yaxis\":\"y3\",\"showlegend\":false},{\"line\":{\"color\":\"#3f3f3f\"},\"mode\":\"lines\",\"name\":\"ACF\",\"x\":[8,8],\"y\":[0,0.48126128990718986],\"type\":\"scatter\",\"xaxis\":\"x3\",\"yaxis\":\"y3\",\"showlegend\":false},{\"line\":{\"color\":\"#3f3f3f\"},\"mode\":\"lines\",\"name\":\"ACF\",\"x\":[9,9],\"y\":[0,0.027911015623095718],\"type\":\"scatter\",\"xaxis\":\"x3\",\"yaxis\":\"y3\",\"showlegend\":false},{\"line\":{\"color\":\"#3f3f3f\"},\"mode\":\"lines\",\"name\":\"ACF\",\"x\":[10,10],\"y\":[0,-0.13087498599283715],\"type\":\"scatter\",\"xaxis\":\"x3\",\"yaxis\":\"y3\",\"showlegend\":false},{\"line\":{\"color\":\"#3f3f3f\"},\"mode\":\"lines\",\"name\":\"ACF\",\"x\":[11,11],\"y\":[0,-0.11547859686129827],\"type\":\"scatter\",\"xaxis\":\"x3\",\"yaxis\":\"y3\",\"showlegend\":false},{\"line\":{\"color\":\"#3f3f3f\"},\"mode\":\"lines\",\"name\":\"ACF\",\"x\":[12,12],\"y\":[0,0.014495499679403043],\"type\":\"scatter\",\"xaxis\":\"x3\",\"yaxis\":\"y3\",\"showlegend\":false},{\"line\":{\"color\":\"#3f3f3f\"},\"mode\":\"lines\",\"name\":\"ACF\",\"x\":[13,13],\"y\":[0,0.3913760178925196],\"type\":\"scatter\",\"xaxis\":\"x3\",\"yaxis\":\"y3\",\"showlegend\":false},{\"line\":{\"color\":\"#3f3f3f\"},\"mode\":\"lines\",\"name\":\"ACF\",\"x\":[14,14],\"y\":[0,0.6287519853308668],\"type\":\"scatter\",\"xaxis\":\"x3\",\"yaxis\":\"y3\",\"showlegend\":false},{\"line\":{\"color\":\"#3f3f3f\"},\"mode\":\"lines\",\"name\":\"ACF\",\"x\":[15,15],\"y\":[0,0.36302831755913845],\"type\":\"scatter\",\"xaxis\":\"x3\",\"yaxis\":\"y3\",\"showlegend\":false},{\"line\":{\"color\":\"#3f3f3f\"},\"mode\":\"lines\",\"name\":\"ACF\",\"x\":[16,16],\"y\":[0,-0.026999130376679985],\"type\":\"scatter\",\"xaxis\":\"x3\",\"yaxis\":\"y3\",\"showlegend\":false},{\"line\":{\"color\":\"#3f3f3f\"},\"mode\":\"lines\",\"name\":\"ACF\",\"x\":[17,17],\"y\":[0,-0.17420366947409907],\"type\":\"scatter\",\"xaxis\":\"x3\",\"yaxis\":\"y3\",\"showlegend\":false},{\"line\":{\"color\":\"#3f3f3f\"},\"mode\":\"lines\",\"name\":\"ACF\",\"x\":[18,18],\"y\":[0,-0.17434599733760037],\"type\":\"scatter\",\"xaxis\":\"x3\",\"yaxis\":\"y3\",\"showlegend\":false},{\"line\":{\"color\":\"#3f3f3f\"},\"mode\":\"lines\",\"name\":\"ACF\",\"x\":[19,19],\"y\":[0,-0.06729245022005864],\"type\":\"scatter\",\"xaxis\":\"x3\",\"yaxis\":\"y3\",\"showlegend\":false},{\"line\":{\"color\":\"#3f3f3f\"},\"mode\":\"lines\",\"name\":\"ACF\",\"x\":[20,20],\"y\":[0,0.27422401215042647],\"type\":\"scatter\",\"xaxis\":\"x3\",\"yaxis\":\"y3\",\"showlegend\":false},{\"line\":{\"color\":\"#3f3f3f\"},\"mode\":\"lines\",\"name\":\"ACF\",\"x\":[21,21],\"y\":[0,0.5195606573936573],\"type\":\"scatter\",\"xaxis\":\"x3\",\"yaxis\":\"y3\",\"showlegend\":false},{\"line\":{\"color\":\"#3f3f3f\"},\"mode\":\"lines\",\"name\":\"ACF\",\"x\":[22,22],\"y\":[0,0.3144170580931283],\"type\":\"scatter\",\"xaxis\":\"x3\",\"yaxis\":\"y3\",\"showlegend\":false},{\"line\":{\"color\":\"#3f3f3f\"},\"mode\":\"lines\",\"name\":\"ACF\",\"x\":[23,23],\"y\":[0,-0.04234724009946882],\"type\":\"scatter\",\"xaxis\":\"x3\",\"yaxis\":\"y3\",\"showlegend\":false},{\"line\":{\"color\":\"#3f3f3f\"},\"mode\":\"lines\",\"name\":\"ACF\",\"x\":[24,24],\"y\":[0,-0.17685768185655237],\"type\":\"scatter\",\"xaxis\":\"x3\",\"yaxis\":\"y3\",\"showlegend\":false},{\"line\":{\"color\":\"#3f3f3f\"},\"mode\":\"lines\",\"name\":\"ACF\",\"x\":[25,25],\"y\":[0,-0.18051750793500104],\"type\":\"scatter\",\"xaxis\":\"x3\",\"yaxis\":\"y3\",\"showlegend\":false},{\"line\":{\"color\":\"#3f3f3f\"},\"mode\":\"lines\",\"name\":\"ACF\",\"x\":[26,26],\"y\":[0,-0.0965890392982141],\"type\":\"scatter\",\"xaxis\":\"x3\",\"yaxis\":\"y3\",\"showlegend\":false},{\"line\":{\"color\":\"#3f3f3f\"},\"mode\":\"lines\",\"name\":\"ACF\",\"x\":[27,27],\"y\":[0,0.21751843182084762],\"type\":\"scatter\",\"xaxis\":\"x3\",\"yaxis\":\"y3\",\"showlegend\":false},{\"line\":{\"color\":\"#3f3f3f\"},\"mode\":\"lines\",\"name\":\"ACF\",\"x\":[28,28],\"y\":[0,0.4602888964368156],\"type\":\"scatter\",\"xaxis\":\"x3\",\"yaxis\":\"y3\",\"showlegend\":false},{\"line\":{\"color\":\"#3f3f3f\"},\"mode\":\"lines\",\"name\":\"ACF\",\"x\":[29,29],\"y\":[0,0.2954774444536944],\"type\":\"scatter\",\"xaxis\":\"x3\",\"yaxis\":\"y3\",\"showlegend\":false},{\"line\":{\"color\":\"#3f3f3f\"},\"mode\":\"lines\",\"name\":\"ACF\",\"x\":[30,30],\"y\":[0,-0.033123686865388025],\"type\":\"scatter\",\"xaxis\":\"x3\",\"yaxis\":\"y3\",\"showlegend\":false},{\"line\":{\"color\":\"#3f3f3f\"},\"mode\":\"lines\",\"name\":\"ACF\",\"x\":[31,31],\"y\":[0,-0.1708211907711779],\"type\":\"scatter\",\"xaxis\":\"x3\",\"yaxis\":\"y3\",\"showlegend\":false},{\"line\":{\"color\":\"#3f3f3f\"},\"mode\":\"lines\",\"name\":\"ACF\",\"x\":[32,32],\"y\":[0,-0.19571004821977434],\"type\":\"scatter\",\"xaxis\":\"x3\",\"yaxis\":\"y3\",\"showlegend\":false},{\"line\":{\"color\":\"#3f3f3f\"},\"mode\":\"lines\",\"name\":\"ACF\",\"x\":[33,33],\"y\":[0,-0.1379950569345843],\"type\":\"scatter\",\"xaxis\":\"x3\",\"yaxis\":\"y3\",\"showlegend\":false},{\"line\":{\"color\":\"#3f3f3f\"},\"mode\":\"lines\",\"name\":\"ACF\",\"x\":[34,34],\"y\":[0,0.12395282250290908],\"type\":\"scatter\",\"xaxis\":\"x3\",\"yaxis\":\"y3\",\"showlegend\":false},{\"line\":{\"color\":\"#3f3f3f\"},\"mode\":\"lines\",\"name\":\"ACF\",\"x\":[35,35],\"y\":[0,0.33987440858303974],\"type\":\"scatter\",\"xaxis\":\"x3\",\"yaxis\":\"y3\",\"showlegend\":false},{\"line\":{\"color\":\"#3f3f3f\"},\"mode\":\"lines\",\"name\":\"ACF\",\"x\":[36,36],\"y\":[0,0.1902491729807324],\"type\":\"scatter\",\"xaxis\":\"x3\",\"yaxis\":\"y3\",\"showlegend\":false},{\"line\":{\"color\":\"#3f3f3f\"},\"mode\":\"lines\",\"name\":\"ACF\",\"x\":[37,37],\"y\":[0,-0.09781434128086072],\"type\":\"scatter\",\"xaxis\":\"x3\",\"yaxis\":\"y3\",\"showlegend\":false},{\"line\":{\"color\":\"#3f3f3f\"},\"mode\":\"lines\",\"name\":\"ACF\",\"x\":[38,38],\"y\":[0,-0.2094794861217347],\"type\":\"scatter\",\"xaxis\":\"x3\",\"yaxis\":\"y3\",\"showlegend\":false},{\"line\":{\"color\":\"#3f3f3f\"},\"mode\":\"lines\",\"name\":\"ACF\",\"x\":[39,39],\"y\":[0,-0.23604518576123018],\"type\":\"scatter\",\"xaxis\":\"x3\",\"yaxis\":\"y3\",\"showlegend\":false},{\"line\":{\"color\":\"#3f3f3f\"},\"mode\":\"lines\",\"name\":\"ACF\",\"x\":[40,40],\"y\":[0,-0.2075228222273166],\"type\":\"scatter\",\"xaxis\":\"x3\",\"yaxis\":\"y3\",\"showlegend\":false},{\"marker\":{\"color\":\"#1f77b4\",\"size\":6},\"mode\":\"markers\",\"x\":[0,1,2,3,4,5,6,7,8,9,10,11,12,13,14,15,16,17,18,19,20,21,22,23,24,25,26,27,28,29,30,31,32,33,34,35,36,37,38,39,40],\"y\":[1.0,0.6201139231368101,0.10458159213030854,-0.0578819255317278,-0.03425922522209793,0.11473433944416002,0.5195082444044481,0.789610951718127,0.48126128990718986,0.027911015623095718,-0.13087498599283715,-0.11547859686129827,0.014495499679403043,0.3913760178925196,0.6287519853308668,0.36302831755913845,-0.026999130376679985,-0.17420366947409907,-0.17434599733760037,-0.06729245022005864,0.27422401215042647,0.5195606573936573,0.3144170580931283,-0.04234724009946882,-0.17685768185655237,-0.18051750793500104,-0.0965890392982141,0.21751843182084762,0.4602888964368156,0.2954774444536944,-0.033123686865388025,-0.1708211907711779,-0.19571004821977434,-0.1379950569345843,0.12395282250290908,0.33987440858303974,0.1902491729807324,-0.09781434128086072,-0.2094794861217347,-0.23604518576123018,-0.2075228222273166],\"type\":\"scatter\",\"xaxis\":\"x3\",\"yaxis\":\"y3\",\"showlegend\":false},{\"line\":{\"color\":\"rgba(255,255,255,0)\"},\"mode\":\"lines\",\"name\":\"UC\",\"x\":[0,1,2,3,4,5,6,7,8,9,10,11,12,13,14,15,16,17,18,19,20,21,22,23,24,25,26,27,28,29,30,31,32,33,34,35,36,37,38,39,40],\"y\":[0.0,0.20659834410152056,0.2747899760975552,0.2764836389406401,0.27700036995724814,0.27718116507196844,0.2792009139453532,0.31779303322558905,0.3927043626350738,0.41711927013902245,0.41719897837634656,0.41894767514985687,0.42030409581756445,0.4203254334096294,0.4356023243324493,0.4727546374263556,0.4845072362630207,0.48457144944315866,0.48723718774072944,0.48989274282425266,0.4902871189139675,0.49679056131011334,0.5194658530691054,0.5275261769343017,0.5276712544684797,0.5301953200214189,0.5328122131380539,0.5335590589062219,0.5373307058081304,0.5539046637048163,0.5605920061261439,0.5606755379103184,0.5628925484771409,0.5657894805095545,0.5672242282968619,0.5683791959354132,0.5769886499580453,0.5796599813951034,0.5803640609719992,0.583582413833897,0.58764341693187],\"type\":\"scatter\",\"xaxis\":\"x3\",\"yaxis\":\"y3\",\"showlegend\":false},{\"fill\":\"tonexty\",\"fillcolor\":\"rgba(32, 146, 230,0.3)\",\"line\":{\"color\":\"rgba(255,255,255,0)\"},\"mode\":\"lines\",\"name\":\"LC\",\"x\":[0,1,2,3,4,5,6,7,8,9,10,11,12,13,14,15,16,17,18,19,20,21,22,23,24,25,26,27,28,29,30,31,32,33,34,35,36,37,38,39,40],\"y\":[0.0,-0.20659834410152056,-0.2747899760975552,-0.2764836389406401,-0.2770003699572482,-0.27718116507196844,-0.2792009139453532,-0.31779303322558916,-0.39270436263507374,-0.41711927013902245,-0.4171989783763465,-0.41894767514985687,-0.42030409581756445,-0.42032543340962947,-0.4356023243324493,-0.4727546374263556,-0.4845072362630207,-0.4845714494431588,-0.48723718774072944,-0.4898927428242526,-0.4902871189139675,-0.4967905613101133,-0.5194658530691053,-0.5275261769343017,-0.5276712544684797,-0.5301953200214189,-0.5328122131380539,-0.5335590589062219,-0.5373307058081304,-0.5539046637048163,-0.5605920061261439,-0.5606755379103185,-0.5628925484771409,-0.5657894805095545,-0.5672242282968619,-0.5683791959354132,-0.5769886499580453,-0.5796599813951034,-0.5803640609719992,-0.583582413833897,-0.58764341693187],\"type\":\"scatter\",\"xaxis\":\"x3\",\"yaxis\":\"y3\",\"showlegend\":false},{\"marker\":{\"color\":\"#1f77b4\",\"size\":2},\"mode\":\"lines+markers\",\"name\":\"Time Plot\",\"x\":[\"2021-07-08T00:00:00\",\"2021-07-09T00:00:00\",\"2021-07-10T00:00:00\",\"2021-07-11T00:00:00\",\"2021-07-12T00:00:00\",\"2021-07-13T00:00:00\",\"2021-07-14T00:00:00\",\"2021-07-15T00:00:00\",\"2021-07-16T00:00:00\",\"2021-07-17T00:00:00\",\"2021-07-18T00:00:00\",\"2021-07-19T00:00:00\",\"2021-07-20T00:00:00\",\"2021-07-21T00:00:00\",\"2021-07-22T00:00:00\",\"2021-07-23T00:00:00\",\"2021-07-24T00:00:00\",\"2021-07-25T00:00:00\",\"2021-07-26T00:00:00\",\"2021-07-27T00:00:00\",\"2021-07-28T00:00:00\",\"2021-07-29T00:00:00\",\"2021-07-30T00:00:00\",\"2021-07-31T00:00:00\",\"2021-08-01T00:00:00\",\"2021-08-02T00:00:00\",\"2021-08-03T00:00:00\",\"2021-08-04T00:00:00\",\"2021-08-05T00:00:00\",\"2021-08-06T00:00:00\",\"2021-08-07T00:00:00\",\"2021-08-08T00:00:00\",\"2021-08-09T00:00:00\",\"2021-08-10T00:00:00\",\"2021-08-11T00:00:00\",\"2021-08-12T00:00:00\",\"2021-08-13T00:00:00\",\"2021-08-14T00:00:00\",\"2021-08-15T00:00:00\",\"2021-08-16T00:00:00\",\"2021-08-17T00:00:00\",\"2021-08-18T00:00:00\",\"2021-08-19T00:00:00\",\"2021-08-20T00:00:00\",\"2021-08-21T00:00:00\",\"2021-08-22T00:00:00\",\"2021-08-23T00:00:00\",\"2021-08-24T00:00:00\",\"2021-08-25T00:00:00\",\"2021-08-26T00:00:00\",\"2021-08-27T00:00:00\",\"2021-08-28T00:00:00\",\"2021-08-29T00:00:00\",\"2021-08-30T00:00:00\",\"2021-08-31T00:00:00\",\"2021-09-01T00:00:00\",\"2021-09-02T00:00:00\",\"2021-09-03T00:00:00\",\"2021-09-04T00:00:00\",\"2021-09-05T00:00:00\",\"2021-09-06T00:00:00\",\"2021-09-07T00:00:00\",\"2021-09-08T00:00:00\",\"2021-09-09T00:00:00\",\"2021-09-10T00:00:00\",\"2021-09-11T00:00:00\",\"2021-09-12T00:00:00\",\"2021-09-13T00:00:00\",\"2021-09-14T00:00:00\",\"2021-09-15T00:00:00\",\"2021-09-16T00:00:00\",\"2021-09-17T00:00:00\",\"2021-09-18T00:00:00\",\"2021-09-19T00:00:00\",\"2021-09-20T00:00:00\",\"2021-09-21T00:00:00\",\"2021-09-22T00:00:00\",\"2021-09-23T00:00:00\",\"2021-09-24T00:00:00\",\"2021-09-25T00:00:00\",\"2021-09-26T00:00:00\",\"2021-09-27T00:00:00\",\"2021-09-28T00:00:00\",\"2021-09-29T00:00:00\",\"2021-09-30T00:00:00\",\"2021-10-01T00:00:00\",\"2021-10-02T00:00:00\",\"2021-10-03T00:00:00\",\"2021-10-04T00:00:00\",\"2021-10-05T00:00:00\"],\"y\":[3773,3172,2079,2725,4542,3795,3941,4064,3474,2093,2426,4339,4064,4224,4603,4369,2532,3276,4917,4430,4977,5193,4001,1996,2538,4764,5651,5777,4789,3782,1920,2526,4481,6034,5006,4450,3112,1914,2359,3948,5727,6365,6323,5151,1947,3128,7999,7104,6457,6643,5355,2341,2367,5592,6770,6877,7272,6279,2741,2483,5456,6082,6139,5865,6362,3132,2681,5788,7001,6721,7556,7278,4026,3514,6476,7863,8418,8290,7189,3567,4088,7418,8765,7798,9212,7115,3903,5038,7843,8872],\"type\":\"scatter\",\"xaxis\":\"x\",\"yaxis\":\"y\"}],                        {\"template\":{\"data\":{\"barpolar\":[{\"marker\":{\"line\":{\"color\":\"rgb(237,237,237)\",\"width\":0.5},\"pattern\":{\"fillmode\":\"overlay\",\"size\":10,\"solidity\":0.2}},\"type\":\"barpolar\"}],\"bar\":[{\"error_x\":{\"color\":\"rgb(51,51,51)\"},\"error_y\":{\"color\":\"rgb(51,51,51)\"},\"marker\":{\"line\":{\"color\":\"rgb(237,237,237)\",\"width\":0.5},\"pattern\":{\"fillmode\":\"overlay\",\"size\":10,\"solidity\":0.2}},\"type\":\"bar\"}],\"carpet\":[{\"aaxis\":{\"endlinecolor\":\"rgb(51,51,51)\",\"gridcolor\":\"white\",\"linecolor\":\"white\",\"minorgridcolor\":\"white\",\"startlinecolor\":\"rgb(51,51,51)\"},\"baxis\":{\"endlinecolor\":\"rgb(51,51,51)\",\"gridcolor\":\"white\",\"linecolor\":\"white\",\"minorgridcolor\":\"white\",\"startlinecolor\":\"rgb(51,51,51)\"},\"type\":\"carpet\"}],\"choropleth\":[{\"colorbar\":{\"outlinewidth\":0,\"tickcolor\":\"rgb(237,237,237)\",\"ticklen\":6,\"ticks\":\"inside\"},\"type\":\"choropleth\"}],\"contourcarpet\":[{\"colorbar\":{\"outlinewidth\":0,\"tickcolor\":\"rgb(237,237,237)\",\"ticklen\":6,\"ticks\":\"inside\"},\"type\":\"contourcarpet\"}],\"contour\":[{\"colorbar\":{\"outlinewidth\":0,\"tickcolor\":\"rgb(237,237,237)\",\"ticklen\":6,\"ticks\":\"inside\"},\"colorscale\":[[0,\"rgb(20,44,66)\"],[1,\"rgb(90,179,244)\"]],\"type\":\"contour\"}],\"heatmapgl\":[{\"colorbar\":{\"outlinewidth\":0,\"tickcolor\":\"rgb(237,237,237)\",\"ticklen\":6,\"ticks\":\"inside\"},\"colorscale\":[[0,\"rgb(20,44,66)\"],[1,\"rgb(90,179,244)\"]],\"type\":\"heatmapgl\"}],\"heatmap\":[{\"colorbar\":{\"outlinewidth\":0,\"tickcolor\":\"rgb(237,237,237)\",\"ticklen\":6,\"ticks\":\"inside\"},\"colorscale\":[[0,\"rgb(20,44,66)\"],[1,\"rgb(90,179,244)\"]],\"type\":\"heatmap\"}],\"histogram2dcontour\":[{\"colorbar\":{\"outlinewidth\":0,\"tickcolor\":\"rgb(237,237,237)\",\"ticklen\":6,\"ticks\":\"inside\"},\"colorscale\":[[0,\"rgb(20,44,66)\"],[1,\"rgb(90,179,244)\"]],\"type\":\"histogram2dcontour\"}],\"histogram2d\":[{\"colorbar\":{\"outlinewidth\":0,\"tickcolor\":\"rgb(237,237,237)\",\"ticklen\":6,\"ticks\":\"inside\"},\"colorscale\":[[0,\"rgb(20,44,66)\"],[1,\"rgb(90,179,244)\"]],\"type\":\"histogram2d\"}],\"histogram\":[{\"marker\":{\"pattern\":{\"fillmode\":\"overlay\",\"size\":10,\"solidity\":0.2}},\"type\":\"histogram\"}],\"mesh3d\":[{\"colorbar\":{\"outlinewidth\":0,\"tickcolor\":\"rgb(237,237,237)\",\"ticklen\":6,\"ticks\":\"inside\"},\"type\":\"mesh3d\"}],\"parcoords\":[{\"line\":{\"colorbar\":{\"outlinewidth\":0,\"tickcolor\":\"rgb(237,237,237)\",\"ticklen\":6,\"ticks\":\"inside\"}},\"type\":\"parcoords\"}],\"pie\":[{\"automargin\":true,\"type\":\"pie\"}],\"scatter3d\":[{\"line\":{\"colorbar\":{\"outlinewidth\":0,\"tickcolor\":\"rgb(237,237,237)\",\"ticklen\":6,\"ticks\":\"inside\"}},\"marker\":{\"colorbar\":{\"outlinewidth\":0,\"tickcolor\":\"rgb(237,237,237)\",\"ticklen\":6,\"ticks\":\"inside\"}},\"type\":\"scatter3d\"}],\"scattercarpet\":[{\"marker\":{\"colorbar\":{\"outlinewidth\":0,\"tickcolor\":\"rgb(237,237,237)\",\"ticklen\":6,\"ticks\":\"inside\"}},\"type\":\"scattercarpet\"}],\"scattergeo\":[{\"marker\":{\"colorbar\":{\"outlinewidth\":0,\"tickcolor\":\"rgb(237,237,237)\",\"ticklen\":6,\"ticks\":\"inside\"}},\"type\":\"scattergeo\"}],\"scattergl\":[{\"marker\":{\"colorbar\":{\"outlinewidth\":0,\"tickcolor\":\"rgb(237,237,237)\",\"ticklen\":6,\"ticks\":\"inside\"}},\"type\":\"scattergl\"}],\"scattermapbox\":[{\"marker\":{\"colorbar\":{\"outlinewidth\":0,\"tickcolor\":\"rgb(237,237,237)\",\"ticklen\":6,\"ticks\":\"inside\"}},\"type\":\"scattermapbox\"}],\"scatterpolargl\":[{\"marker\":{\"colorbar\":{\"outlinewidth\":0,\"tickcolor\":\"rgb(237,237,237)\",\"ticklen\":6,\"ticks\":\"inside\"}},\"type\":\"scatterpolargl\"}],\"scatterpolar\":[{\"marker\":{\"colorbar\":{\"outlinewidth\":0,\"tickcolor\":\"rgb(237,237,237)\",\"ticklen\":6,\"ticks\":\"inside\"}},\"type\":\"scatterpolar\"}],\"scatter\":[{\"marker\":{\"colorbar\":{\"outlinewidth\":0,\"tickcolor\":\"rgb(237,237,237)\",\"ticklen\":6,\"ticks\":\"inside\"}},\"type\":\"scatter\"}],\"scatterternary\":[{\"marker\":{\"colorbar\":{\"outlinewidth\":0,\"tickcolor\":\"rgb(237,237,237)\",\"ticklen\":6,\"ticks\":\"inside\"}},\"type\":\"scatterternary\"}],\"surface\":[{\"colorbar\":{\"outlinewidth\":0,\"tickcolor\":\"rgb(237,237,237)\",\"ticklen\":6,\"ticks\":\"inside\"},\"colorscale\":[[0,\"rgb(20,44,66)\"],[1,\"rgb(90,179,244)\"]],\"type\":\"surface\"}],\"table\":[{\"cells\":{\"fill\":{\"color\":\"rgb(237,237,237)\"},\"line\":{\"color\":\"white\"}},\"header\":{\"fill\":{\"color\":\"rgb(217,217,217)\"},\"line\":{\"color\":\"white\"}},\"type\":\"table\"}]},\"layout\":{\"annotationdefaults\":{\"arrowhead\":0,\"arrowwidth\":1},\"autotypenumbers\":\"strict\",\"coloraxis\":{\"colorbar\":{\"outlinewidth\":0,\"tickcolor\":\"rgb(237,237,237)\",\"ticklen\":6,\"ticks\":\"inside\"}},\"colorscale\":{\"sequential\":[[0,\"rgb(20,44,66)\"],[1,\"rgb(90,179,244)\"]],\"sequentialminus\":[[0,\"rgb(20,44,66)\"],[1,\"rgb(90,179,244)\"]]},\"colorway\":[\"#F8766D\",\"#A3A500\",\"#00BF7D\",\"#00B0F6\",\"#E76BF3\"],\"font\":{\"color\":\"rgb(51,51,51)\"},\"geo\":{\"bgcolor\":\"white\",\"lakecolor\":\"white\",\"landcolor\":\"rgb(237,237,237)\",\"showlakes\":true,\"showland\":true,\"subunitcolor\":\"white\"},\"hoverlabel\":{\"align\":\"left\"},\"hovermode\":\"closest\",\"paper_bgcolor\":\"white\",\"plot_bgcolor\":\"rgb(237,237,237)\",\"polar\":{\"angularaxis\":{\"gridcolor\":\"white\",\"linecolor\":\"white\",\"showgrid\":true,\"tickcolor\":\"rgb(51,51,51)\",\"ticks\":\"outside\"},\"bgcolor\":\"rgb(237,237,237)\",\"radialaxis\":{\"gridcolor\":\"white\",\"linecolor\":\"white\",\"showgrid\":true,\"tickcolor\":\"rgb(51,51,51)\",\"ticks\":\"outside\"}},\"scene\":{\"xaxis\":{\"backgroundcolor\":\"rgb(237,237,237)\",\"gridcolor\":\"white\",\"gridwidth\":2,\"linecolor\":\"white\",\"showbackground\":true,\"showgrid\":true,\"tickcolor\":\"rgb(51,51,51)\",\"ticks\":\"outside\",\"zerolinecolor\":\"white\"},\"yaxis\":{\"backgroundcolor\":\"rgb(237,237,237)\",\"gridcolor\":\"white\",\"gridwidth\":2,\"linecolor\":\"white\",\"showbackground\":true,\"showgrid\":true,\"tickcolor\":\"rgb(51,51,51)\",\"ticks\":\"outside\",\"zerolinecolor\":\"white\"},\"zaxis\":{\"backgroundcolor\":\"rgb(237,237,237)\",\"gridcolor\":\"white\",\"gridwidth\":2,\"linecolor\":\"white\",\"showbackground\":true,\"showgrid\":true,\"tickcolor\":\"rgb(51,51,51)\",\"ticks\":\"outside\",\"zerolinecolor\":\"white\"}},\"shapedefaults\":{\"fillcolor\":\"black\",\"line\":{\"width\":0},\"opacity\":0.3},\"ternary\":{\"aaxis\":{\"gridcolor\":\"white\",\"linecolor\":\"white\",\"showgrid\":true,\"tickcolor\":\"rgb(51,51,51)\",\"ticks\":\"outside\"},\"baxis\":{\"gridcolor\":\"white\",\"linecolor\":\"white\",\"showgrid\":true,\"tickcolor\":\"rgb(51,51,51)\",\"ticks\":\"outside\"},\"bgcolor\":\"rgb(237,237,237)\",\"caxis\":{\"gridcolor\":\"white\",\"linecolor\":\"white\",\"showgrid\":true,\"tickcolor\":\"rgb(51,51,51)\",\"ticks\":\"outside\"}},\"xaxis\":{\"automargin\":true,\"gridcolor\":\"white\",\"linecolor\":\"white\",\"showgrid\":true,\"tickcolor\":\"rgb(51,51,51)\",\"ticks\":\"outside\",\"title\":{\"standoff\":15},\"zerolinecolor\":\"white\"},\"yaxis\":{\"automargin\":true,\"gridcolor\":\"white\",\"linecolor\":\"white\",\"showgrid\":true,\"tickcolor\":\"rgb(51,51,51)\",\"ticks\":\"outside\",\"title\":{\"standoff\":15},\"zerolinecolor\":\"white\"}}},\"xaxis\":{\"anchor\":\"y\",\"domain\":[0.0,0.45],\"title\":{\"text\":\"Time\"}},\"yaxis\":{\"anchor\":\"x\",\"domain\":[0.625,1.0],\"title\":{\"text\":\"Value\"}},\"xaxis2\":{\"anchor\":\"y2\",\"domain\":[0.55,1.0],\"title\":{\"text\":\"Range of Values\"}},\"yaxis2\":{\"anchor\":\"x2\",\"domain\":[0.625,1.0],\"title\":{\"text\":\"PDF\"}},\"xaxis3\":{\"anchor\":\"y3\",\"domain\":[0.0,0.45],\"range\":[-1,42],\"title\":{\"text\":\"Lags\"}},\"yaxis3\":{\"anchor\":\"x3\",\"domain\":[0.0,0.375],\"zerolinecolor\":\"#000000\",\"title\":{\"text\":\"ACF\"}},\"xaxis4\":{\"anchor\":\"y4\",\"domain\":[0.55,1.0],\"title\":{\"text\":\"Theoretical Quantities\"}},\"yaxis4\":{\"anchor\":\"x4\",\"domain\":[0.0,0.375],\"title\":{\"text\":\"Sample Quantities\"}},\"annotations\":[{\"font\":{\"size\":16},\"showarrow\":false,\"text\":\"Time Plot\",\"x\":0.225,\"xanchor\":\"center\",\"xref\":\"paper\",\"y\":1.0,\"yanchor\":\"bottom\",\"yref\":\"paper\"},{\"font\":{\"size\":16},\"showarrow\":false,\"text\":\"Histogram Plot\",\"x\":0.775,\"xanchor\":\"center\",\"xref\":\"paper\",\"y\":1.0,\"yanchor\":\"bottom\",\"yref\":\"paper\"},{\"font\":{\"size\":16},\"showarrow\":false,\"text\":\"ACF Plot\",\"x\":0.225,\"xanchor\":\"center\",\"xref\":\"paper\",\"y\":0.375,\"yanchor\":\"bottom\",\"yref\":\"paper\"},{\"font\":{\"size\":16},\"showarrow\":false,\"text\":\"Quantile-Quantile Plot\",\"x\":0.775,\"xanchor\":\"center\",\"xref\":\"paper\",\"y\":0.375,\"yanchor\":\"bottom\",\"yref\":\"paper\"},{\"font\":{\"size\":16},\"showarrow\":false,\"text\":\"Diagnostics | Total\",\"x\":0.5,\"xanchor\":\"center\",\"xref\":\"paper\",\"y\":0,\"yanchor\":\"top\",\"yref\":\"paper\",\"yshift\":-30}],\"showlegend\":false},                        {\"responsive\": true}                    ).then(function(){\n",
              "                            \n",
              "var gd = document.getElementById('575555c0-a33c-4e7d-a03c-c99ef0aa2aff');\n",
              "var x = new MutationObserver(function (mutations, observer) {{\n",
              "        var display = window.getComputedStyle(gd).display;\n",
              "        if (!display || display === 'none') {{\n",
              "            console.log([gd, 'removed!']);\n",
              "            Plotly.purge(gd);\n",
              "            observer.disconnect();\n",
              "        }}\n",
              "}});\n",
              "\n",
              "// Listen for the removal of the full notebook cells\n",
              "var notebookContainer = gd.closest('#notebook-container');\n",
              "if (notebookContainer) {{\n",
              "    x.observe(notebookContainer, {childList: true});\n",
              "}}\n",
              "\n",
              "// Listen for the clearing of the current output cell\n",
              "var outputEl = gd.closest('.output');\n",
              "if (outputEl) {{\n",
              "    x.observe(outputEl, {childList: true});\n",
              "}}\n",
              "\n",
              "                        })                };                            </script>        </div>\n",
              "</body>\n",
              "</html>"
            ]
          },
          "metadata": {}
        }
      ],
      "source": [
        "# Diagnostics plot\n",
        "plot_model(plot = 'diagnostics')"
      ]
    },
    {
      "cell_type": "code",
      "execution_count": 15,
      "metadata": {
        "colab": {
          "base_uri": "https://localhost:8080/",
          "height": 542
        },
        "id": "2WI4DQLHv5XB",
        "outputId": "c5ada1f1-cbbc-4831-929f-de2a449e1a25"
      },
      "outputs": [
        {
          "output_type": "display_data",
          "data": {
            "text/html": [
              "<html>\n",
              "<head><meta charset=\"utf-8\" /></head>\n",
              "<body>\n",
              "    <div>            <script src=\"https://cdnjs.cloudflare.com/ajax/libs/mathjax/2.7.5/MathJax.js?config=TeX-AMS-MML_SVG\"></script><script type=\"text/javascript\">if (window.MathJax) {MathJax.Hub.Config({SVG: {font: \"STIX-Web\"}});}</script>                <script type=\"text/javascript\">window.PlotlyConfig = {MathJaxConfig: 'local'};</script>\n",
              "        <script src=\"https://cdn.plot.ly/plotly-2.8.3.min.js\"></script>                <div id=\"6e8a681a-2edd-4352-91b3-4757fdc3f6fc\" class=\"plotly-graph-div\" style=\"height:525px; width:100%;\"></div>            <script type=\"text/javascript\">                                    window.PLOTLYENV=window.PLOTLYENV || {};                                    if (document.getElementById(\"6e8a681a-2edd-4352-91b3-4757fdc3f6fc\")) {                    Plotly.newPlot(                        \"6e8a681a-2edd-4352-91b3-4757fdc3f6fc\",                        [{\"line\":{\"color\":\"#1f77b4\",\"width\":2},\"marker\":{\"size\":2},\"mode\":\"lines+markers\",\"name\":\"Actual\",\"x\":[\"2021-07-08T00:00:00\",\"2021-07-09T00:00:00\",\"2021-07-10T00:00:00\",\"2021-07-11T00:00:00\",\"2021-07-12T00:00:00\",\"2021-07-13T00:00:00\",\"2021-07-14T00:00:00\",\"2021-07-15T00:00:00\",\"2021-07-16T00:00:00\",\"2021-07-17T00:00:00\",\"2021-07-18T00:00:00\",\"2021-07-19T00:00:00\",\"2021-07-20T00:00:00\",\"2021-07-21T00:00:00\",\"2021-07-22T00:00:00\",\"2021-07-23T00:00:00\",\"2021-07-24T00:00:00\",\"2021-07-25T00:00:00\",\"2021-07-26T00:00:00\",\"2021-07-27T00:00:00\",\"2021-07-28T00:00:00\",\"2021-07-29T00:00:00\",\"2021-07-30T00:00:00\",\"2021-07-31T00:00:00\",\"2021-08-01T00:00:00\",\"2021-08-02T00:00:00\",\"2021-08-03T00:00:00\",\"2021-08-04T00:00:00\",\"2021-08-05T00:00:00\",\"2021-08-06T00:00:00\",\"2021-08-07T00:00:00\",\"2021-08-08T00:00:00\",\"2021-08-09T00:00:00\",\"2021-08-10T00:00:00\",\"2021-08-11T00:00:00\",\"2021-08-12T00:00:00\",\"2021-08-13T00:00:00\",\"2021-08-14T00:00:00\",\"2021-08-15T00:00:00\",\"2021-08-16T00:00:00\",\"2021-08-17T00:00:00\",\"2021-08-18T00:00:00\",\"2021-08-19T00:00:00\",\"2021-08-20T00:00:00\",\"2021-08-21T00:00:00\",\"2021-08-22T00:00:00\",\"2021-08-23T00:00:00\",\"2021-08-24T00:00:00\",\"2021-08-25T00:00:00\",\"2021-08-26T00:00:00\",\"2021-08-27T00:00:00\",\"2021-08-28T00:00:00\",\"2021-08-29T00:00:00\",\"2021-08-30T00:00:00\",\"2021-08-31T00:00:00\",\"2021-09-01T00:00:00\",\"2021-09-02T00:00:00\",\"2021-09-03T00:00:00\",\"2021-09-04T00:00:00\",\"2021-09-05T00:00:00\",\"2021-09-06T00:00:00\",\"2021-09-07T00:00:00\",\"2021-09-08T00:00:00\",\"2021-09-09T00:00:00\",\"2021-09-10T00:00:00\",\"2021-09-11T00:00:00\",\"2021-09-12T00:00:00\",\"2021-09-13T00:00:00\",\"2021-09-14T00:00:00\",\"2021-09-15T00:00:00\",\"2021-09-16T00:00:00\",\"2021-09-17T00:00:00\",\"2021-09-18T00:00:00\",\"2021-09-19T00:00:00\",\"2021-09-20T00:00:00\",\"2021-09-21T00:00:00\",\"2021-09-22T00:00:00\",\"2021-09-23T00:00:00\",\"2021-09-24T00:00:00\",\"2021-09-25T00:00:00\",\"2021-09-26T00:00:00\",\"2021-09-27T00:00:00\",\"2021-09-28T00:00:00\",\"2021-09-29T00:00:00\",\"2021-09-30T00:00:00\",\"2021-10-01T00:00:00\",\"2021-10-02T00:00:00\",\"2021-10-03T00:00:00\",\"2021-10-04T00:00:00\",\"2021-10-05T00:00:00\"],\"y\":[3773,3172,2079,2725,4542,3795,3941,4064,3474,2093,2426,4339,4064,4224,4603,4369,2532,3276,4917,4430,4977,5193,4001,1996,2538,4764,5651,5777,4789,3782,1920,2526,4481,6034,5006,4450,3112,1914,2359,3948,5727,6365,6323,5151,1947,3128,7999,7104,6457,6643,5355,2341,2367,5592,6770,6877,7272,6279,2741,2483,5456,6082,6139,5865,6362,3132,2681,5788,7001,6721,7556,7278,4026,3514,6476,7863,8418,8290,7189,3567,4088,7418,8765,7798,9212,7115,3903,5038,7843,8872],\"type\":\"scatter\",\"xaxis\":\"x\",\"yaxis\":\"y\"},{\"line\":{\"color\":\"#1f77b4\",\"width\":2},\"marker\":{\"size\":2},\"mode\":\"lines+markers\",\"name\":\"Seasonal\",\"x\":[\"2021-07-08T00:00:00\",\"2021-07-09T00:00:00\",\"2021-07-10T00:00:00\",\"2021-07-11T00:00:00\",\"2021-07-12T00:00:00\",\"2021-07-13T00:00:00\",\"2021-07-14T00:00:00\",\"2021-07-15T00:00:00\",\"2021-07-16T00:00:00\",\"2021-07-17T00:00:00\",\"2021-07-18T00:00:00\",\"2021-07-19T00:00:00\",\"2021-07-20T00:00:00\",\"2021-07-21T00:00:00\",\"2021-07-22T00:00:00\",\"2021-07-23T00:00:00\",\"2021-07-24T00:00:00\",\"2021-07-25T00:00:00\",\"2021-07-26T00:00:00\",\"2021-07-27T00:00:00\",\"2021-07-28T00:00:00\",\"2021-07-29T00:00:00\",\"2021-07-30T00:00:00\",\"2021-07-31T00:00:00\",\"2021-08-01T00:00:00\",\"2021-08-02T00:00:00\",\"2021-08-03T00:00:00\",\"2021-08-04T00:00:00\",\"2021-08-05T00:00:00\",\"2021-08-06T00:00:00\",\"2021-08-07T00:00:00\",\"2021-08-08T00:00:00\",\"2021-08-09T00:00:00\",\"2021-08-10T00:00:00\",\"2021-08-11T00:00:00\",\"2021-08-12T00:00:00\",\"2021-08-13T00:00:00\",\"2021-08-14T00:00:00\",\"2021-08-15T00:00:00\",\"2021-08-16T00:00:00\",\"2021-08-17T00:00:00\",\"2021-08-18T00:00:00\",\"2021-08-19T00:00:00\",\"2021-08-20T00:00:00\",\"2021-08-21T00:00:00\",\"2021-08-22T00:00:00\",\"2021-08-23T00:00:00\",\"2021-08-24T00:00:00\",\"2021-08-25T00:00:00\",\"2021-08-26T00:00:00\",\"2021-08-27T00:00:00\",\"2021-08-28T00:00:00\",\"2021-08-29T00:00:00\",\"2021-08-30T00:00:00\",\"2021-08-31T00:00:00\",\"2021-09-01T00:00:00\",\"2021-09-02T00:00:00\",\"2021-09-03T00:00:00\",\"2021-09-04T00:00:00\",\"2021-09-05T00:00:00\",\"2021-09-06T00:00:00\",\"2021-09-07T00:00:00\",\"2021-09-08T00:00:00\",\"2021-09-09T00:00:00\",\"2021-09-10T00:00:00\",\"2021-09-11T00:00:00\",\"2021-09-12T00:00:00\",\"2021-09-13T00:00:00\",\"2021-09-14T00:00:00\",\"2021-09-15T00:00:00\",\"2021-09-16T00:00:00\",\"2021-09-17T00:00:00\",\"2021-09-18T00:00:00\",\"2021-09-19T00:00:00\",\"2021-09-20T00:00:00\",\"2021-09-21T00:00:00\",\"2021-09-22T00:00:00\",\"2021-09-23T00:00:00\",\"2021-09-24T00:00:00\",\"2021-09-25T00:00:00\",\"2021-09-26T00:00:00\",\"2021-09-27T00:00:00\",\"2021-09-28T00:00:00\",\"2021-09-29T00:00:00\",\"2021-09-30T00:00:00\",\"2021-10-01T00:00:00\",\"2021-10-02T00:00:00\",\"2021-10-03T00:00:00\",\"2021-10-04T00:00:00\",\"2021-10-05T00:00:00\"],\"y\":[537.0563421964089,45.55776027960491,-1203.1034627900247,-698.2255180464307,1057.2251814087283,96.77308416884956,356.72203330168105,622.9769455455244,11.132827750682868,-1452.7794007252862,-929.2781808763083,883.8657132374141,452.8678920427264,631.1975979469476,694.2271272454914,-47.97250622480242,-1694.0057611010532,-1158.7829062690892,705.7537755144119,824.0984836445336,894.3893059571374,754.7894790307734,-119.16849092840252,-1920.8385501906648,-1357.9395961790087,538.2411884099864,1201.0454440164053,1175.9899846630497,815.2104167915551,-293.92025798695596,-2187.9369052359825,-1600.9836892927203,558.442393171597,1514.0273975865944,1361.4923802848948,928.0884467847087,-315.5878141063818,-2512.7832031514695,-1918.0726634684588,789.5000927518939,1629.5522513911103,1356.8377865224945,1141.1711657108392,-115.66183053870839,-2702.215821372012,-2254.9748218498676,822.7852285834273,1492.3204609168033,1348.8766690150185,1360.4501715002696,308.8492808135714,-2764.262675037284,-2554.714739630843,818.3023046992296,1354.1697514028936,1237.9831319322138,1377.816037930665,716.5439493975247,-2573.6102171986777,-2723.8677654585968,493.53361673017247,1290.8068965373807,1212.4857395555996,1414.5030362270134,948.0716286728323,-2432.2432530517353,-2758.084702418553,252.93000453170293,1311.0693078462139,1237.733690021844,1588.6474836879438,772.7441951622817,-2650.5091065760025,-2645.540819723786,346.4310706112435,1452.5196560500833,1185.6930807662636,1778.7241420664784,535.8767727969561,-2896.9665033966353,-2521.281725012354,432.72739237271554,1576.952316414717,1155.33812603264,2004.592583661871,256.2295638648103,-3185.25184728852,-2383.171293476344,540.9594209775703,1712.3113587304015],\"type\":\"scatter\",\"xaxis\":\"x2\",\"yaxis\":\"y2\"},{\"line\":{\"color\":\"#1f77b4\",\"width\":2},\"marker\":{\"size\":2},\"mode\":\"lines+markers\",\"name\":\"Trend\",\"x\":[\"2021-07-08T00:00:00\",\"2021-07-09T00:00:00\",\"2021-07-10T00:00:00\",\"2021-07-11T00:00:00\",\"2021-07-12T00:00:00\",\"2021-07-13T00:00:00\",\"2021-07-14T00:00:00\",\"2021-07-15T00:00:00\",\"2021-07-16T00:00:00\",\"2021-07-17T00:00:00\",\"2021-07-18T00:00:00\",\"2021-07-19T00:00:00\",\"2021-07-20T00:00:00\",\"2021-07-21T00:00:00\",\"2021-07-22T00:00:00\",\"2021-07-23T00:00:00\",\"2021-07-24T00:00:00\",\"2021-07-25T00:00:00\",\"2021-07-26T00:00:00\",\"2021-07-27T00:00:00\",\"2021-07-28T00:00:00\",\"2021-07-29T00:00:00\",\"2021-07-30T00:00:00\",\"2021-07-31T00:00:00\",\"2021-08-01T00:00:00\",\"2021-08-02T00:00:00\",\"2021-08-03T00:00:00\",\"2021-08-04T00:00:00\",\"2021-08-05T00:00:00\",\"2021-08-06T00:00:00\",\"2021-08-07T00:00:00\",\"2021-08-08T00:00:00\",\"2021-08-09T00:00:00\",\"2021-08-10T00:00:00\",\"2021-08-11T00:00:00\",\"2021-08-12T00:00:00\",\"2021-08-13T00:00:00\",\"2021-08-14T00:00:00\",\"2021-08-15T00:00:00\",\"2021-08-16T00:00:00\",\"2021-08-17T00:00:00\",\"2021-08-18T00:00:00\",\"2021-08-19T00:00:00\",\"2021-08-20T00:00:00\",\"2021-08-21T00:00:00\",\"2021-08-22T00:00:00\",\"2021-08-23T00:00:00\",\"2021-08-24T00:00:00\",\"2021-08-25T00:00:00\",\"2021-08-26T00:00:00\",\"2021-08-27T00:00:00\",\"2021-08-28T00:00:00\",\"2021-08-29T00:00:00\",\"2021-08-30T00:00:00\",\"2021-08-31T00:00:00\",\"2021-09-01T00:00:00\",\"2021-09-02T00:00:00\",\"2021-09-03T00:00:00\",\"2021-09-04T00:00:00\",\"2021-09-05T00:00:00\",\"2021-09-06T00:00:00\",\"2021-09-07T00:00:00\",\"2021-09-08T00:00:00\",\"2021-09-09T00:00:00\",\"2021-09-10T00:00:00\",\"2021-09-11T00:00:00\",\"2021-09-12T00:00:00\",\"2021-09-13T00:00:00\",\"2021-09-14T00:00:00\",\"2021-09-15T00:00:00\",\"2021-09-16T00:00:00\",\"2021-09-17T00:00:00\",\"2021-09-18T00:00:00\",\"2021-09-19T00:00:00\",\"2021-09-20T00:00:00\",\"2021-09-21T00:00:00\",\"2021-09-22T00:00:00\",\"2021-09-23T00:00:00\",\"2021-09-24T00:00:00\",\"2021-09-25T00:00:00\",\"2021-09-26T00:00:00\",\"2021-09-27T00:00:00\",\"2021-09-28T00:00:00\",\"2021-09-29T00:00:00\",\"2021-09-30T00:00:00\",\"2021-10-01T00:00:00\",\"2021-10-02T00:00:00\",\"2021-10-03T00:00:00\",\"2021-10-04T00:00:00\",\"2021-10-05T00:00:00\"],\"y\":[3258.262049367406,3298.4971557816766,3335.7313817859244,3370.1358644246666,3402.4514707862663,3433.954489226854,3466.6468652581457,3497.887725718313,3509.7286067390705,3527.3889364888796,3566.5733821123354,3631.938806286266,3721.3830537767453,3818.2745257962865,3902.0502257022863,3973.6977554846803,4041.567590014578,4098.5816312283805,4132.385407804292,4135.970630499826,4118.366542933992,4106.047918161659,4117.566404280808,4142.278789156479,4166.141781804008,4177.33580988273,4174.126026972333,4171.376485692164,4178.113777728222,4170.509962484282,4128.472804658878,4059.4660193594236,3999.6752774946513,3965.8387057272803,3941.721380437952,3921.425802386788,3928.395197390469,3985.1309422935883,4095.0982169436215,4239.418111196749,4415.111046880015,4629.136665596021,4859.744623606251,5077.156835537664,5260.7787430839835,5380.931943607417,5428.040206184838,5428.780096443166,5401.991082006718,5356.850041339826,5301.7715945434,5252.42129340026,5237.011558691372,5264.389470933499,5300.031371423332,5322.118223890315,5328.373661596535,5314.63579331024,5273.274554198656,5213.687561901323,5154.501798225906,5116.017813370796,5110.634995971044,5141.139509634311,5199.6806804996595,5290.297834223054,5420.007724274228,5578.244658354605,5736.096248128508,5870.119493272053,5981.822185502528,6100.786368779984,6229.0588456895075,6349.938833815713,6444.8044161571825,6508.398641211522,6554.995523743091,6608.036333391439,6671.22676170096,6736.187406670505,6785.598158809514,6824.434810346407,6875.258282815558,6945.2835857700775,7009.004852787533,7070.329344528535,7130.3944510216,7190.052838646505,7249.7534817198675,7309.1910711396395],\"type\":\"scatter\",\"xaxis\":\"x3\",\"yaxis\":\"y3\"},{\"line\":{\"color\":\"#1f77b4\",\"width\":2},\"marker\":{\"size\":4},\"mode\":\"markers\",\"name\":\"Residuals\",\"x\":[\"2021-07-08T00:00:00\",\"2021-07-09T00:00:00\",\"2021-07-10T00:00:00\",\"2021-07-11T00:00:00\",\"2021-07-12T00:00:00\",\"2021-07-13T00:00:00\",\"2021-07-14T00:00:00\",\"2021-07-15T00:00:00\",\"2021-07-16T00:00:00\",\"2021-07-17T00:00:00\",\"2021-07-18T00:00:00\",\"2021-07-19T00:00:00\",\"2021-07-20T00:00:00\",\"2021-07-21T00:00:00\",\"2021-07-22T00:00:00\",\"2021-07-23T00:00:00\",\"2021-07-24T00:00:00\",\"2021-07-25T00:00:00\",\"2021-07-26T00:00:00\",\"2021-07-27T00:00:00\",\"2021-07-28T00:00:00\",\"2021-07-29T00:00:00\",\"2021-07-30T00:00:00\",\"2021-07-31T00:00:00\",\"2021-08-01T00:00:00\",\"2021-08-02T00:00:00\",\"2021-08-03T00:00:00\",\"2021-08-04T00:00:00\",\"2021-08-05T00:00:00\",\"2021-08-06T00:00:00\",\"2021-08-07T00:00:00\",\"2021-08-08T00:00:00\",\"2021-08-09T00:00:00\",\"2021-08-10T00:00:00\",\"2021-08-11T00:00:00\",\"2021-08-12T00:00:00\",\"2021-08-13T00:00:00\",\"2021-08-14T00:00:00\",\"2021-08-15T00:00:00\",\"2021-08-16T00:00:00\",\"2021-08-17T00:00:00\",\"2021-08-18T00:00:00\",\"2021-08-19T00:00:00\",\"2021-08-20T00:00:00\",\"2021-08-21T00:00:00\",\"2021-08-22T00:00:00\",\"2021-08-23T00:00:00\",\"2021-08-24T00:00:00\",\"2021-08-25T00:00:00\",\"2021-08-26T00:00:00\",\"2021-08-27T00:00:00\",\"2021-08-28T00:00:00\",\"2021-08-29T00:00:00\",\"2021-08-30T00:00:00\",\"2021-08-31T00:00:00\",\"2021-09-01T00:00:00\",\"2021-09-02T00:00:00\",\"2021-09-03T00:00:00\",\"2021-09-04T00:00:00\",\"2021-09-05T00:00:00\",\"2021-09-06T00:00:00\",\"2021-09-07T00:00:00\",\"2021-09-08T00:00:00\",\"2021-09-09T00:00:00\",\"2021-09-10T00:00:00\",\"2021-09-11T00:00:00\",\"2021-09-12T00:00:00\",\"2021-09-13T00:00:00\",\"2021-09-14T00:00:00\",\"2021-09-15T00:00:00\",\"2021-09-16T00:00:00\",\"2021-09-17T00:00:00\",\"2021-09-18T00:00:00\",\"2021-09-19T00:00:00\",\"2021-09-20T00:00:00\",\"2021-09-21T00:00:00\",\"2021-09-22T00:00:00\",\"2021-09-23T00:00:00\",\"2021-09-24T00:00:00\",\"2021-09-25T00:00:00\",\"2021-09-26T00:00:00\",\"2021-09-27T00:00:00\",\"2021-09-28T00:00:00\",\"2021-09-29T00:00:00\",\"2021-09-30T00:00:00\",\"2021-10-01T00:00:00\",\"2021-10-02T00:00:00\",\"2021-10-03T00:00:00\",\"2021-10-04T00:00:00\",\"2021-10-05T00:00:00\"],\"y\":[-22.318391563814657,-172.05491606128135,-53.62791899590002,53.08965362176423,82.32334780500514,264.27242660429647,117.6311014401731,-56.86467126383741,-46.861434489753265,18.390464236406387,-211.29520123602697,-176.80451952368003,-110.25094581947178,-225.47212374323408,6.722647052222328,443.2747507401223,184.43817108647545,336.2012750407084,78.86081668129555,-530.0691141443599,-35.75584889112906,332.16260280756705,2.6020866475946605,-225.4402389658144,-270.2021856249994,48.42300170728322,275.8285290112617,429.633529644786,-204.32419451977694,-94.58970449732624,-20.535899422895454,67.51766993329693,-77.11767066624816,554.1338966861249,-297.2137607228469,-399.51424917149643,-500.80738328408734,441.65226085788163,181.97444652483728,-1080.9182039486432,-317.6632982711253,379.0255478814843,322.08421068291045,189.50499500104434,-611.5629217119713,2.04287824245057,1748.174565231735,182.89944264003043,-293.8677510217367,-74.30021284009581,-255.62087535697174,-147.15861836297609,-315.29681906052883,-490.6917756327284,115.7988771737746,316.8986441774714,565.8103004728,247.8202572922355,41.33566300002167,-6.819796442725419,-192.03541495607806,-324.8247099081764,-184.12073552664333,-690.6425458613248,214.24769082750845,273.9454188286809,19.07697814432504,-43.1746628863084,-46.16555597472143,-386.853183293897,-14.469669190471905,404.46943605773504,447.450260886495,-190.3980140919266,-315.2354867684262,-97.9182972616054,677.3113954906448,-96.76047545791789,-18.10353449791637,-272.2209032738692,-176.31643379716024,160.83779728087757,312.78940076972503,-302.621711802718,198.40256355059591,-211.55890839334552,-42.14260373307934,231.1184548298388,52.28709730256196,-149.50242987004094],\"type\":\"scatter\",\"xaxis\":\"x4\",\"yaxis\":\"y4\"}],                        {\"template\":{\"data\":{\"barpolar\":[{\"marker\":{\"line\":{\"color\":\"rgb(237,237,237)\",\"width\":0.5},\"pattern\":{\"fillmode\":\"overlay\",\"size\":10,\"solidity\":0.2}},\"type\":\"barpolar\"}],\"bar\":[{\"error_x\":{\"color\":\"rgb(51,51,51)\"},\"error_y\":{\"color\":\"rgb(51,51,51)\"},\"marker\":{\"line\":{\"color\":\"rgb(237,237,237)\",\"width\":0.5},\"pattern\":{\"fillmode\":\"overlay\",\"size\":10,\"solidity\":0.2}},\"type\":\"bar\"}],\"carpet\":[{\"aaxis\":{\"endlinecolor\":\"rgb(51,51,51)\",\"gridcolor\":\"white\",\"linecolor\":\"white\",\"minorgridcolor\":\"white\",\"startlinecolor\":\"rgb(51,51,51)\"},\"baxis\":{\"endlinecolor\":\"rgb(51,51,51)\",\"gridcolor\":\"white\",\"linecolor\":\"white\",\"minorgridcolor\":\"white\",\"startlinecolor\":\"rgb(51,51,51)\"},\"type\":\"carpet\"}],\"choropleth\":[{\"colorbar\":{\"outlinewidth\":0,\"tickcolor\":\"rgb(237,237,237)\",\"ticklen\":6,\"ticks\":\"inside\"},\"type\":\"choropleth\"}],\"contourcarpet\":[{\"colorbar\":{\"outlinewidth\":0,\"tickcolor\":\"rgb(237,237,237)\",\"ticklen\":6,\"ticks\":\"inside\"},\"type\":\"contourcarpet\"}],\"contour\":[{\"colorbar\":{\"outlinewidth\":0,\"tickcolor\":\"rgb(237,237,237)\",\"ticklen\":6,\"ticks\":\"inside\"},\"colorscale\":[[0,\"rgb(20,44,66)\"],[1,\"rgb(90,179,244)\"]],\"type\":\"contour\"}],\"heatmapgl\":[{\"colorbar\":{\"outlinewidth\":0,\"tickcolor\":\"rgb(237,237,237)\",\"ticklen\":6,\"ticks\":\"inside\"},\"colorscale\":[[0,\"rgb(20,44,66)\"],[1,\"rgb(90,179,244)\"]],\"type\":\"heatmapgl\"}],\"heatmap\":[{\"colorbar\":{\"outlinewidth\":0,\"tickcolor\":\"rgb(237,237,237)\",\"ticklen\":6,\"ticks\":\"inside\"},\"colorscale\":[[0,\"rgb(20,44,66)\"],[1,\"rgb(90,179,244)\"]],\"type\":\"heatmap\"}],\"histogram2dcontour\":[{\"colorbar\":{\"outlinewidth\":0,\"tickcolor\":\"rgb(237,237,237)\",\"ticklen\":6,\"ticks\":\"inside\"},\"colorscale\":[[0,\"rgb(20,44,66)\"],[1,\"rgb(90,179,244)\"]],\"type\":\"histogram2dcontour\"}],\"histogram2d\":[{\"colorbar\":{\"outlinewidth\":0,\"tickcolor\":\"rgb(237,237,237)\",\"ticklen\":6,\"ticks\":\"inside\"},\"colorscale\":[[0,\"rgb(20,44,66)\"],[1,\"rgb(90,179,244)\"]],\"type\":\"histogram2d\"}],\"histogram\":[{\"marker\":{\"pattern\":{\"fillmode\":\"overlay\",\"size\":10,\"solidity\":0.2}},\"type\":\"histogram\"}],\"mesh3d\":[{\"colorbar\":{\"outlinewidth\":0,\"tickcolor\":\"rgb(237,237,237)\",\"ticklen\":6,\"ticks\":\"inside\"},\"type\":\"mesh3d\"}],\"parcoords\":[{\"line\":{\"colorbar\":{\"outlinewidth\":0,\"tickcolor\":\"rgb(237,237,237)\",\"ticklen\":6,\"ticks\":\"inside\"}},\"type\":\"parcoords\"}],\"pie\":[{\"automargin\":true,\"type\":\"pie\"}],\"scatter3d\":[{\"line\":{\"colorbar\":{\"outlinewidth\":0,\"tickcolor\":\"rgb(237,237,237)\",\"ticklen\":6,\"ticks\":\"inside\"}},\"marker\":{\"colorbar\":{\"outlinewidth\":0,\"tickcolor\":\"rgb(237,237,237)\",\"ticklen\":6,\"ticks\":\"inside\"}},\"type\":\"scatter3d\"}],\"scattercarpet\":[{\"marker\":{\"colorbar\":{\"outlinewidth\":0,\"tickcolor\":\"rgb(237,237,237)\",\"ticklen\":6,\"ticks\":\"inside\"}},\"type\":\"scattercarpet\"}],\"scattergeo\":[{\"marker\":{\"colorbar\":{\"outlinewidth\":0,\"tickcolor\":\"rgb(237,237,237)\",\"ticklen\":6,\"ticks\":\"inside\"}},\"type\":\"scattergeo\"}],\"scattergl\":[{\"marker\":{\"colorbar\":{\"outlinewidth\":0,\"tickcolor\":\"rgb(237,237,237)\",\"ticklen\":6,\"ticks\":\"inside\"}},\"type\":\"scattergl\"}],\"scattermapbox\":[{\"marker\":{\"colorbar\":{\"outlinewidth\":0,\"tickcolor\":\"rgb(237,237,237)\",\"ticklen\":6,\"ticks\":\"inside\"}},\"type\":\"scattermapbox\"}],\"scatterpolargl\":[{\"marker\":{\"colorbar\":{\"outlinewidth\":0,\"tickcolor\":\"rgb(237,237,237)\",\"ticklen\":6,\"ticks\":\"inside\"}},\"type\":\"scatterpolargl\"}],\"scatterpolar\":[{\"marker\":{\"colorbar\":{\"outlinewidth\":0,\"tickcolor\":\"rgb(237,237,237)\",\"ticklen\":6,\"ticks\":\"inside\"}},\"type\":\"scatterpolar\"}],\"scatter\":[{\"marker\":{\"colorbar\":{\"outlinewidth\":0,\"tickcolor\":\"rgb(237,237,237)\",\"ticklen\":6,\"ticks\":\"inside\"}},\"type\":\"scatter\"}],\"scatterternary\":[{\"marker\":{\"colorbar\":{\"outlinewidth\":0,\"tickcolor\":\"rgb(237,237,237)\",\"ticklen\":6,\"ticks\":\"inside\"}},\"type\":\"scatterternary\"}],\"surface\":[{\"colorbar\":{\"outlinewidth\":0,\"tickcolor\":\"rgb(237,237,237)\",\"ticklen\":6,\"ticks\":\"inside\"},\"colorscale\":[[0,\"rgb(20,44,66)\"],[1,\"rgb(90,179,244)\"]],\"type\":\"surface\"}],\"table\":[{\"cells\":{\"fill\":{\"color\":\"rgb(237,237,237)\"},\"line\":{\"color\":\"white\"}},\"header\":{\"fill\":{\"color\":\"rgb(217,217,217)\"},\"line\":{\"color\":\"white\"}},\"type\":\"table\"}]},\"layout\":{\"annotationdefaults\":{\"arrowhead\":0,\"arrowwidth\":1},\"autotypenumbers\":\"strict\",\"coloraxis\":{\"colorbar\":{\"outlinewidth\":0,\"tickcolor\":\"rgb(237,237,237)\",\"ticklen\":6,\"ticks\":\"inside\"}},\"colorscale\":{\"sequential\":[[0,\"rgb(20,44,66)\"],[1,\"rgb(90,179,244)\"]],\"sequentialminus\":[[0,\"rgb(20,44,66)\"],[1,\"rgb(90,179,244)\"]]},\"colorway\":[\"#F8766D\",\"#A3A500\",\"#00BF7D\",\"#00B0F6\",\"#E76BF3\"],\"font\":{\"color\":\"rgb(51,51,51)\"},\"geo\":{\"bgcolor\":\"white\",\"lakecolor\":\"white\",\"landcolor\":\"rgb(237,237,237)\",\"showlakes\":true,\"showland\":true,\"subunitcolor\":\"white\"},\"hoverlabel\":{\"align\":\"left\"},\"hovermode\":\"closest\",\"paper_bgcolor\":\"white\",\"plot_bgcolor\":\"rgb(237,237,237)\",\"polar\":{\"angularaxis\":{\"gridcolor\":\"white\",\"linecolor\":\"white\",\"showgrid\":true,\"tickcolor\":\"rgb(51,51,51)\",\"ticks\":\"outside\"},\"bgcolor\":\"rgb(237,237,237)\",\"radialaxis\":{\"gridcolor\":\"white\",\"linecolor\":\"white\",\"showgrid\":true,\"tickcolor\":\"rgb(51,51,51)\",\"ticks\":\"outside\"}},\"scene\":{\"xaxis\":{\"backgroundcolor\":\"rgb(237,237,237)\",\"gridcolor\":\"white\",\"gridwidth\":2,\"linecolor\":\"white\",\"showbackground\":true,\"showgrid\":true,\"tickcolor\":\"rgb(51,51,51)\",\"ticks\":\"outside\",\"zerolinecolor\":\"white\"},\"yaxis\":{\"backgroundcolor\":\"rgb(237,237,237)\",\"gridcolor\":\"white\",\"gridwidth\":2,\"linecolor\":\"white\",\"showbackground\":true,\"showgrid\":true,\"tickcolor\":\"rgb(51,51,51)\",\"ticks\":\"outside\",\"zerolinecolor\":\"white\"},\"zaxis\":{\"backgroundcolor\":\"rgb(237,237,237)\",\"gridcolor\":\"white\",\"gridwidth\":2,\"linecolor\":\"white\",\"showbackground\":true,\"showgrid\":true,\"tickcolor\":\"rgb(51,51,51)\",\"ticks\":\"outside\",\"zerolinecolor\":\"white\"}},\"shapedefaults\":{\"fillcolor\":\"black\",\"line\":{\"width\":0},\"opacity\":0.3},\"ternary\":{\"aaxis\":{\"gridcolor\":\"white\",\"linecolor\":\"white\",\"showgrid\":true,\"tickcolor\":\"rgb(51,51,51)\",\"ticks\":\"outside\"},\"baxis\":{\"gridcolor\":\"white\",\"linecolor\":\"white\",\"showgrid\":true,\"tickcolor\":\"rgb(51,51,51)\",\"ticks\":\"outside\"},\"bgcolor\":\"rgb(237,237,237)\",\"caxis\":{\"gridcolor\":\"white\",\"linecolor\":\"white\",\"showgrid\":true,\"tickcolor\":\"rgb(51,51,51)\",\"ticks\":\"outside\"}},\"xaxis\":{\"automargin\":true,\"gridcolor\":\"white\",\"linecolor\":\"white\",\"showgrid\":true,\"tickcolor\":\"rgb(51,51,51)\",\"ticks\":\"outside\",\"title\":{\"standoff\":15},\"zerolinecolor\":\"white\"},\"yaxis\":{\"automargin\":true,\"gridcolor\":\"white\",\"linecolor\":\"white\",\"showgrid\":true,\"tickcolor\":\"rgb(51,51,51)\",\"ticks\":\"outside\",\"title\":{\"standoff\":15},\"zerolinecolor\":\"white\"}}},\"xaxis\":{\"anchor\":\"y\",\"domain\":[0.0,0.98],\"matches\":\"x4\",\"showticklabels\":false},\"yaxis\":{\"anchor\":\"x\",\"domain\":[0.80625,1.0]},\"xaxis2\":{\"anchor\":\"y2\",\"domain\":[0.0,0.98],\"matches\":\"x4\",\"showticklabels\":false},\"yaxis2\":{\"anchor\":\"x2\",\"domain\":[0.5375,0.73125]},\"xaxis3\":{\"anchor\":\"y3\",\"domain\":[0.0,0.98],\"matches\":\"x4\",\"showticklabels\":false},\"yaxis3\":{\"anchor\":\"x3\",\"domain\":[0.26875,0.4625]},\"xaxis4\":{\"anchor\":\"y4\",\"domain\":[0.0,0.98]},\"yaxis4\":{\"anchor\":\"x4\",\"domain\":[0.0,0.19375]},\"annotations\":[{\"font\":{\"size\":16},\"showarrow\":false,\"text\":\"Actual\",\"textangle\":90,\"x\":0.98,\"xanchor\":\"left\",\"xref\":\"paper\",\"y\":0.903125,\"yanchor\":\"middle\",\"yref\":\"paper\"},{\"font\":{\"size\":16},\"showarrow\":false,\"text\":\"Seasonal\",\"textangle\":90,\"x\":0.98,\"xanchor\":\"left\",\"xref\":\"paper\",\"y\":0.6343749999999999,\"yanchor\":\"middle\",\"yref\":\"paper\"},{\"font\":{\"size\":16},\"showarrow\":false,\"text\":\"Trend\",\"textangle\":90,\"x\":0.98,\"xanchor\":\"left\",\"xref\":\"paper\",\"y\":0.365625,\"yanchor\":\"middle\",\"yref\":\"paper\"},{\"font\":{\"size\":16},\"showarrow\":false,\"text\":\"Residual\",\"textangle\":90,\"x\":0.98,\"xanchor\":\"left\",\"xref\":\"paper\",\"y\":0.096875,\"yanchor\":\"middle\",\"yref\":\"paper\"}],\"title\":{\"text\":\"STL Decomposition | Total\"},\"showlegend\":false},                        {\"responsive\": true}                    ).then(function(){\n",
              "                            \n",
              "var gd = document.getElementById('6e8a681a-2edd-4352-91b3-4757fdc3f6fc');\n",
              "var x = new MutationObserver(function (mutations, observer) {{\n",
              "        var display = window.getComputedStyle(gd).display;\n",
              "        if (!display || display === 'none') {{\n",
              "            console.log([gd, 'removed!']);\n",
              "            Plotly.purge(gd);\n",
              "            observer.disconnect();\n",
              "        }}\n",
              "}});\n",
              "\n",
              "// Listen for the removal of the full notebook cells\n",
              "var notebookContainer = gd.closest('#notebook-container');\n",
              "if (notebookContainer) {{\n",
              "    x.observe(notebookContainer, {childList: true});\n",
              "}}\n",
              "\n",
              "// Listen for the clearing of the current output cell\n",
              "var outputEl = gd.closest('.output');\n",
              "if (outputEl) {{\n",
              "    x.observe(outputEl, {childList: true});\n",
              "}}\n",
              "\n",
              "                        })                };                            </script>        </div>\n",
              "</body>\n",
              "</html>"
            ]
          },
          "metadata": {}
        }
      ],
      "source": [
        "# Decomposition plot\n",
        "plot_model(plot = 'decomp_stl')"
      ]
    },
    {
      "cell_type": "code",
      "execution_count": 16,
      "metadata": {
        "scrolled": false,
        "colab": {
          "base_uri": "https://localhost:8080/",
          "height": 642,
          "referenced_widgets": [
            "e6a6546d90cd4789928bdcb9a4f86289",
            "43f80371b4d74e2290dbc2b4f93ca916",
            "7f5061afd6f44defb1d1ed2a0dcfd54d",
            "6a537aff4e9b401e8586cc32918ae327",
            "1b31d251d8a54dc08e6e53407d4d8d12",
            "1b1b84615ea343558113eba715050f8a"
          ]
        },
        "id": "ZPfAWxo6v5XD",
        "outputId": "d8e53a42-744b-4d7e-fbce-db3efb279dfd"
      },
      "outputs": [
        {
          "output_type": "display_data",
          "data": {
            "text/html": [
              "\n",
              "  <div id=\"df-1e2ec192-a8df-4b10-ad12-08db75fb7da7\">\n",
              "    <div class=\"colab-df-container\">\n",
              "      <div>\n",
              "<style scoped>\n",
              "    .dataframe tbody tr th:only-of-type {\n",
              "        vertical-align: middle;\n",
              "    }\n",
              "\n",
              "    .dataframe tbody tr th {\n",
              "        vertical-align: top;\n",
              "    }\n",
              "\n",
              "    .dataframe thead th {\n",
              "        text-align: right;\n",
              "    }\n",
              "</style>\n",
              "<table border=\"1\" class=\"dataframe\">\n",
              "  <thead>\n",
              "    <tr style=\"text-align: right;\">\n",
              "      <th></th>\n",
              "      <th>Model</th>\n",
              "      <th>MAE</th>\n",
              "      <th>RMSE</th>\n",
              "      <th>MAPE</th>\n",
              "      <th>SMAPE</th>\n",
              "      <th>MASE</th>\n",
              "      <th>R2</th>\n",
              "      <th>TT (Sec)</th>\n",
              "    </tr>\n",
              "  </thead>\n",
              "  <tbody>\n",
              "    <tr>\n",
              "      <th>auto_arima</th>\n",
              "      <td>Auto ARIMA</td>\n",
              "      <td>531.918</td>\n",
              "      <td>626.211</td>\n",
              "      <td>0.0911</td>\n",
              "      <td>0.0916</td>\n",
              "      <td>0.849</td>\n",
              "      <td>0.8632</td>\n",
              "      <td>2.9167</td>\n",
              "    </tr>\n",
              "    <tr>\n",
              "      <th>arima</th>\n",
              "      <td>ARIMA</td>\n",
              "      <td>568.497</td>\n",
              "      <td>687.251</td>\n",
              "      <td>0.0957</td>\n",
              "      <td>0.0975</td>\n",
              "      <td>0.9085</td>\n",
              "      <td>0.8316</td>\n",
              "      <td>0.0467</td>\n",
              "    </tr>\n",
              "    <tr>\n",
              "      <th>theta</th>\n",
              "      <td>Theta Forecaster</td>\n",
              "      <td>526.386</td>\n",
              "      <td>672.942</td>\n",
              "      <td>0.0921</td>\n",
              "      <td>0.0988</td>\n",
              "      <td>0.8452</td>\n",
              "      <td>0.8201</td>\n",
              "      <td>0.0267</td>\n",
              "    </tr>\n",
              "    <tr>\n",
              "      <th>lightgbm_cds_dt</th>\n",
              "      <td>Light Gradient Boosting w/ Cond. Deseasonalize...</td>\n",
              "      <td>571.175</td>\n",
              "      <td>672.961</td>\n",
              "      <td>0.1022</td>\n",
              "      <td>0.099</td>\n",
              "      <td>0.9132</td>\n",
              "      <td>0.8368</td>\n",
              "      <td>0.0400</td>\n",
              "    </tr>\n",
              "    <tr>\n",
              "      <th>et_cds_dt</th>\n",
              "      <td>Extra Trees w/ Cond. Deseasonalize &amp; Detrending</td>\n",
              "      <td>583.112</td>\n",
              "      <td>715.558</td>\n",
              "      <td>0.1014</td>\n",
              "      <td>0.0996</td>\n",
              "      <td>0.9318</td>\n",
              "      <td>0.8204</td>\n",
              "      <td>0.6133</td>\n",
              "    </tr>\n",
              "    <tr>\n",
              "      <th>gbr_cds_dt</th>\n",
              "      <td>Gradient Boosting w/ Cond. Deseasonalize &amp; Det...</td>\n",
              "      <td>606.492</td>\n",
              "      <td>709.812</td>\n",
              "      <td>0.1052</td>\n",
              "      <td>0.1043</td>\n",
              "      <td>0.9706</td>\n",
              "      <td>0.8179</td>\n",
              "      <td>0.0567</td>\n",
              "    </tr>\n",
              "    <tr>\n",
              "      <th>rf_cds_dt</th>\n",
              "      <td>Random Forest w/ Cond. Deseasonalize &amp; Detrending</td>\n",
              "      <td>616.389</td>\n",
              "      <td>731.383</td>\n",
              "      <td>0.1062</td>\n",
              "      <td>0.1049</td>\n",
              "      <td>0.9845</td>\n",
              "      <td>0.8118</td>\n",
              "      <td>0.6767</td>\n",
              "    </tr>\n",
              "    <tr>\n",
              "      <th>en_cds_dt</th>\n",
              "      <td>Elastic Net w/ Cond. Deseasonalize &amp; Detrending</td>\n",
              "      <td>632.714</td>\n",
              "      <td>746.721</td>\n",
              "      <td>0.1081</td>\n",
              "      <td>0.1075</td>\n",
              "      <td>1.0093</td>\n",
              "      <td>0.8079</td>\n",
              "      <td>0.0333</td>\n",
              "    </tr>\n",
              "    <tr>\n",
              "      <th>ridge_cds_dt</th>\n",
              "      <td>Ridge w/ Cond. Deseasonalize &amp; Detrending</td>\n",
              "      <td>632.713</td>\n",
              "      <td>746.721</td>\n",
              "      <td>0.1081</td>\n",
              "      <td>0.1075</td>\n",
              "      <td>1.0093</td>\n",
              "      <td>0.8079</td>\n",
              "      <td>0.0300</td>\n",
              "    </tr>\n",
              "    <tr>\n",
              "      <th>lasso_cds_dt</th>\n",
              "      <td>Lasso w/ Cond. Deseasonalize &amp; Detrending</td>\n",
              "      <td>632.715</td>\n",
              "      <td>746.722</td>\n",
              "      <td>0.1081</td>\n",
              "      <td>0.1075</td>\n",
              "      <td>1.0093</td>\n",
              "      <td>0.8079</td>\n",
              "      <td>0.0367</td>\n",
              "    </tr>\n",
              "    <tr>\n",
              "      <th>lar_cds_dt</th>\n",
              "      <td>Least Angular Regressor w/ Cond. Deseasonalize...</td>\n",
              "      <td>632.713</td>\n",
              "      <td>746.721</td>\n",
              "      <td>0.1081</td>\n",
              "      <td>0.1075</td>\n",
              "      <td>1.0093</td>\n",
              "      <td>0.8079</td>\n",
              "      <td>0.0300</td>\n",
              "    </tr>\n",
              "    <tr>\n",
              "      <th>lr_cds_dt</th>\n",
              "      <td>Linear w/ Cond. Deseasonalize &amp; Detrending</td>\n",
              "      <td>632.713</td>\n",
              "      <td>746.721</td>\n",
              "      <td>0.1081</td>\n",
              "      <td>0.1075</td>\n",
              "      <td>1.0093</td>\n",
              "      <td>0.8079</td>\n",
              "      <td>0.0300</td>\n",
              "    </tr>\n",
              "    <tr>\n",
              "      <th>exp_smooth</th>\n",
              "      <td>Exponential Smoothing</td>\n",
              "      <td>554.193</td>\n",
              "      <td>638.494</td>\n",
              "      <td>0.1026</td>\n",
              "      <td>0.1091</td>\n",
              "      <td>0.8896</td>\n",
              "      <td>0.8402</td>\n",
              "      <td>0.1300</td>\n",
              "    </tr>\n",
              "    <tr>\n",
              "      <th>br_cds_dt</th>\n",
              "      <td>Bayesian Ridge w/ Cond. Deseasonalize &amp; Detren...</td>\n",
              "      <td>643.347</td>\n",
              "      <td>757.043</td>\n",
              "      <td>0.1098</td>\n",
              "      <td>0.1094</td>\n",
              "      <td>1.026</td>\n",
              "      <td>0.803</td>\n",
              "      <td>0.0300</td>\n",
              "    </tr>\n",
              "    <tr>\n",
              "      <th>llar_cds_dt</th>\n",
              "      <td>Lasso Least Angular Regressor w/ Cond. Deseaso...</td>\n",
              "      <td>643.324</td>\n",
              "      <td>753.913</td>\n",
              "      <td>0.11</td>\n",
              "      <td>0.1095</td>\n",
              "      <td>1.0262</td>\n",
              "      <td>0.804</td>\n",
              "      <td>0.0300</td>\n",
              "    </tr>\n",
              "    <tr>\n",
              "      <th>huber_cds_dt</th>\n",
              "      <td>Huber w/ Cond. Deseasonalize &amp; Detrending</td>\n",
              "      <td>640.197</td>\n",
              "      <td>771.245</td>\n",
              "      <td>0.1112</td>\n",
              "      <td>0.11</td>\n",
              "      <td>1.0213</td>\n",
              "      <td>0.7947</td>\n",
              "      <td>0.0600</td>\n",
              "    </tr>\n",
              "    <tr>\n",
              "      <th>omp_cds_dt</th>\n",
              "      <td>Orthogonal Matching Pursuit w/ Cond. Deseasona...</td>\n",
              "      <td>651.932</td>\n",
              "      <td>774.819</td>\n",
              "      <td>0.1137</td>\n",
              "      <td>0.1129</td>\n",
              "      <td>1.0398</td>\n",
              "      <td>0.7928</td>\n",
              "      <td>0.0300</td>\n",
              "    </tr>\n",
              "    <tr>\n",
              "      <th>knn_cds_dt</th>\n",
              "      <td>K Neighbors w/ Cond. Deseasonalize &amp; Detrending</td>\n",
              "      <td>673.602</td>\n",
              "      <td>808.21</td>\n",
              "      <td>0.1122</td>\n",
              "      <td>0.1133</td>\n",
              "      <td>1.0758</td>\n",
              "      <td>0.774</td>\n",
              "      <td>0.5067</td>\n",
              "    </tr>\n",
              "    <tr>\n",
              "      <th>dt_cds_dt</th>\n",
              "      <td>Decision Tree w/ Cond. Deseasonalize &amp; Detrending</td>\n",
              "      <td>613.179</td>\n",
              "      <td>797.467</td>\n",
              "      <td>0.1147</td>\n",
              "      <td>0.1134</td>\n",
              "      <td>0.9835</td>\n",
              "      <td>0.7701</td>\n",
              "      <td>0.0267</td>\n",
              "    </tr>\n",
              "    <tr>\n",
              "      <th>ada_cds_dt</th>\n",
              "      <td>AdaBoost w/ Cond. Deseasonalize &amp; Detrending</td>\n",
              "      <td>656.977</td>\n",
              "      <td>753.898</td>\n",
              "      <td>0.1145</td>\n",
              "      <td>0.1138</td>\n",
              "      <td>1.049</td>\n",
              "      <td>0.8024</td>\n",
              "      <td>0.1133</td>\n",
              "    </tr>\n",
              "    <tr>\n",
              "      <th>snaive</th>\n",
              "      <td>Seasonal Naive Forecaster</td>\n",
              "      <td>758.619</td>\n",
              "      <td>868.809</td>\n",
              "      <td>0.1273</td>\n",
              "      <td>0.1342</td>\n",
              "      <td>1.2136</td>\n",
              "      <td>0.7328</td>\n",
              "      <td>0.0200</td>\n",
              "    </tr>\n",
              "    <tr>\n",
              "      <th>par_cds_dt</th>\n",
              "      <td>Passive Aggressive w/ Cond. Deseasonalize &amp; De...</td>\n",
              "      <td>1112.95</td>\n",
              "      <td>1277.16</td>\n",
              "      <td>0.1995</td>\n",
              "      <td>0.2208</td>\n",
              "      <td>1.7956</td>\n",
              "      <td>0.1633</td>\n",
              "      <td>0.0333</td>\n",
              "    </tr>\n",
              "    <tr>\n",
              "      <th>naive</th>\n",
              "      <td>Naive Forecaster</td>\n",
              "      <td>1340.62</td>\n",
              "      <td>1921.11</td>\n",
              "      <td>0.3362</td>\n",
              "      <td>0.2386</td>\n",
              "      <td>2.1383</td>\n",
              "      <td>-0.2648</td>\n",
              "      <td>0.0200</td>\n",
              "    </tr>\n",
              "    <tr>\n",
              "      <th>polytrend</th>\n",
              "      <td>Polynomial Trend Forecaster</td>\n",
              "      <td>1636.96</td>\n",
              "      <td>1793.5</td>\n",
              "      <td>0.3259</td>\n",
              "      <td>0.2898</td>\n",
              "      <td>2.609</td>\n",
              "      <td>-0.0999</td>\n",
              "      <td>0.0167</td>\n",
              "    </tr>\n",
              "    <tr>\n",
              "      <th>grand_means</th>\n",
              "      <td>Grand Means Forecaster</td>\n",
              "      <td>2193.97</td>\n",
              "      <td>2395.24</td>\n",
              "      <td>0.3474</td>\n",
              "      <td>0.3964</td>\n",
              "      <td>3.4979</td>\n",
              "      <td>-0.962</td>\n",
              "      <td>0.0167</td>\n",
              "    </tr>\n",
              "  </tbody>\n",
              "</table>\n",
              "</div>\n",
              "      <button class=\"colab-df-convert\" onclick=\"convertToInteractive('df-1e2ec192-a8df-4b10-ad12-08db75fb7da7')\"\n",
              "              title=\"Convert this dataframe to an interactive table.\"\n",
              "              style=\"display:none;\">\n",
              "        \n",
              "  <svg xmlns=\"http://www.w3.org/2000/svg\" height=\"24px\"viewBox=\"0 0 24 24\"\n",
              "       width=\"24px\">\n",
              "    <path d=\"M0 0h24v24H0V0z\" fill=\"none\"/>\n",
              "    <path d=\"M18.56 5.44l.94 2.06.94-2.06 2.06-.94-2.06-.94-.94-2.06-.94 2.06-2.06.94zm-11 1L8.5 8.5l.94-2.06 2.06-.94-2.06-.94L8.5 2.5l-.94 2.06-2.06.94zm10 10l.94 2.06.94-2.06 2.06-.94-2.06-.94-.94-2.06-.94 2.06-2.06.94z\"/><path d=\"M17.41 7.96l-1.37-1.37c-.4-.4-.92-.59-1.43-.59-.52 0-1.04.2-1.43.59L10.3 9.45l-7.72 7.72c-.78.78-.78 2.05 0 2.83L4 21.41c.39.39.9.59 1.41.59.51 0 1.02-.2 1.41-.59l7.78-7.78 2.81-2.81c.8-.78.8-2.07 0-2.86zM5.41 20L4 18.59l7.72-7.72 1.47 1.35L5.41 20z\"/>\n",
              "  </svg>\n",
              "      </button>\n",
              "      \n",
              "  <style>\n",
              "    .colab-df-container {\n",
              "      display:flex;\n",
              "      flex-wrap:wrap;\n",
              "      gap: 12px;\n",
              "    }\n",
              "\n",
              "    .colab-df-convert {\n",
              "      background-color: #E8F0FE;\n",
              "      border: none;\n",
              "      border-radius: 50%;\n",
              "      cursor: pointer;\n",
              "      display: none;\n",
              "      fill: #1967D2;\n",
              "      height: 32px;\n",
              "      padding: 0 0 0 0;\n",
              "      width: 32px;\n",
              "    }\n",
              "\n",
              "    .colab-df-convert:hover {\n",
              "      background-color: #E2EBFA;\n",
              "      box-shadow: 0px 1px 2px rgba(60, 64, 67, 0.3), 0px 1px 3px 1px rgba(60, 64, 67, 0.15);\n",
              "      fill: #174EA6;\n",
              "    }\n",
              "\n",
              "    [theme=dark] .colab-df-convert {\n",
              "      background-color: #3B4455;\n",
              "      fill: #D2E3FC;\n",
              "    }\n",
              "\n",
              "    [theme=dark] .colab-df-convert:hover {\n",
              "      background-color: #434B5C;\n",
              "      box-shadow: 0px 1px 3px 1px rgba(0, 0, 0, 0.15);\n",
              "      filter: drop-shadow(0px 1px 2px rgba(0, 0, 0, 0.3));\n",
              "      fill: #FFFFFF;\n",
              "    }\n",
              "  </style>\n",
              "\n",
              "      <script>\n",
              "        const buttonEl =\n",
              "          document.querySelector('#df-1e2ec192-a8df-4b10-ad12-08db75fb7da7 button.colab-df-convert');\n",
              "        buttonEl.style.display =\n",
              "          google.colab.kernel.accessAllowed ? 'block' : 'none';\n",
              "\n",
              "        async function convertToInteractive(key) {\n",
              "          const element = document.querySelector('#df-1e2ec192-a8df-4b10-ad12-08db75fb7da7');\n",
              "          const dataTable =\n",
              "            await google.colab.kernel.invokeFunction('convertToInteractive',\n",
              "                                                     [key], {});\n",
              "          if (!dataTable) return;\n",
              "\n",
              "          const docLinkHtml = 'Like what you see? Visit the ' +\n",
              "            '<a target=\"_blank\" href=https://colab.research.google.com/notebooks/data_table.ipynb>data table notebook</a>'\n",
              "            + ' to learn more about interactive tables.';\n",
              "          element.innerHTML = '';\n",
              "          dataTable['output_type'] = 'display_data';\n",
              "          await google.colab.output.renderOutput(dataTable, element);\n",
              "          const docLink = document.createElement('div');\n",
              "          docLink.innerHTML = docLinkHtml;\n",
              "          element.appendChild(docLink);\n",
              "        }\n",
              "      </script>\n",
              "    </div>\n",
              "  </div>\n",
              "  "
            ],
            "text/plain": [
              "                                                             Model      MAE  \\\n",
              "auto_arima                                              Auto ARIMA  531.918   \n",
              "arima                                                        ARIMA  568.497   \n",
              "theta                                             Theta Forecaster  526.386   \n",
              "lightgbm_cds_dt  Light Gradient Boosting w/ Cond. Deseasonalize...  571.175   \n",
              "et_cds_dt          Extra Trees w/ Cond. Deseasonalize & Detrending  583.112   \n",
              "gbr_cds_dt       Gradient Boosting w/ Cond. Deseasonalize & Det...  606.492   \n",
              "rf_cds_dt        Random Forest w/ Cond. Deseasonalize & Detrending  616.389   \n",
              "en_cds_dt          Elastic Net w/ Cond. Deseasonalize & Detrending  632.714   \n",
              "ridge_cds_dt             Ridge w/ Cond. Deseasonalize & Detrending  632.713   \n",
              "lasso_cds_dt             Lasso w/ Cond. Deseasonalize & Detrending  632.715   \n",
              "lar_cds_dt       Least Angular Regressor w/ Cond. Deseasonalize...  632.713   \n",
              "lr_cds_dt               Linear w/ Cond. Deseasonalize & Detrending  632.713   \n",
              "exp_smooth                                   Exponential Smoothing  554.193   \n",
              "br_cds_dt        Bayesian Ridge w/ Cond. Deseasonalize & Detren...  643.347   \n",
              "llar_cds_dt      Lasso Least Angular Regressor w/ Cond. Deseaso...  643.324   \n",
              "huber_cds_dt             Huber w/ Cond. Deseasonalize & Detrending  640.197   \n",
              "omp_cds_dt       Orthogonal Matching Pursuit w/ Cond. Deseasona...  651.932   \n",
              "knn_cds_dt         K Neighbors w/ Cond. Deseasonalize & Detrending  673.602   \n",
              "dt_cds_dt        Decision Tree w/ Cond. Deseasonalize & Detrending  613.179   \n",
              "ada_cds_dt            AdaBoost w/ Cond. Deseasonalize & Detrending  656.977   \n",
              "snaive                                   Seasonal Naive Forecaster  758.619   \n",
              "par_cds_dt       Passive Aggressive w/ Cond. Deseasonalize & De...  1112.95   \n",
              "naive                                             Naive Forecaster  1340.62   \n",
              "polytrend                              Polynomial Trend Forecaster  1636.96   \n",
              "grand_means                                 Grand Means Forecaster  2193.97   \n",
              "\n",
              "                    RMSE    MAPE   SMAPE    MASE      R2  TT (Sec)  \n",
              "auto_arima       626.211  0.0911  0.0916   0.849  0.8632    2.9167  \n",
              "arima            687.251  0.0957  0.0975  0.9085  0.8316    0.0467  \n",
              "theta            672.942  0.0921  0.0988  0.8452  0.8201    0.0267  \n",
              "lightgbm_cds_dt  672.961  0.1022   0.099  0.9132  0.8368    0.0400  \n",
              "et_cds_dt        715.558  0.1014  0.0996  0.9318  0.8204    0.6133  \n",
              "gbr_cds_dt       709.812  0.1052  0.1043  0.9706  0.8179    0.0567  \n",
              "rf_cds_dt        731.383  0.1062  0.1049  0.9845  0.8118    0.6767  \n",
              "en_cds_dt        746.721  0.1081  0.1075  1.0093  0.8079    0.0333  \n",
              "ridge_cds_dt     746.721  0.1081  0.1075  1.0093  0.8079    0.0300  \n",
              "lasso_cds_dt     746.722  0.1081  0.1075  1.0093  0.8079    0.0367  \n",
              "lar_cds_dt       746.721  0.1081  0.1075  1.0093  0.8079    0.0300  \n",
              "lr_cds_dt        746.721  0.1081  0.1075  1.0093  0.8079    0.0300  \n",
              "exp_smooth       638.494  0.1026  0.1091  0.8896  0.8402    0.1300  \n",
              "br_cds_dt        757.043  0.1098  0.1094   1.026   0.803    0.0300  \n",
              "llar_cds_dt      753.913    0.11  0.1095  1.0262   0.804    0.0300  \n",
              "huber_cds_dt     771.245  0.1112    0.11  1.0213  0.7947    0.0600  \n",
              "omp_cds_dt       774.819  0.1137  0.1129  1.0398  0.7928    0.0300  \n",
              "knn_cds_dt        808.21  0.1122  0.1133  1.0758   0.774    0.5067  \n",
              "dt_cds_dt        797.467  0.1147  0.1134  0.9835  0.7701    0.0267  \n",
              "ada_cds_dt       753.898  0.1145  0.1138   1.049  0.8024    0.1133  \n",
              "snaive           868.809  0.1273  0.1342  1.2136  0.7328    0.0200  \n",
              "par_cds_dt       1277.16  0.1995  0.2208  1.7956  0.1633    0.0333  \n",
              "naive            1921.11  0.3362  0.2386  2.1383 -0.2648    0.0200  \n",
              "polytrend         1793.5  0.3259  0.2898   2.609 -0.0999    0.0167  \n",
              "grand_means      2395.24  0.3474  0.3964  3.4979  -0.962    0.0167  "
            ]
          },
          "metadata": {}
        }
      ],
      "source": [
        "# functional API\n",
        "best = compare_models()# object-oriented API\n",
        "best = exp.compare_models()"
      ]
    },
    {
      "cell_type": "code",
      "execution_count": 17,
      "metadata": {
        "colab": {
          "base_uri": "https://localhost:8080/",
          "height": 372,
          "referenced_widgets": [
            "7f35e347722f4cfe961625fb70afd0c1",
            "e5318e5fb27b4702ad06dc23fad141a4",
            "3e7bfdafa95b4bfa906cf74421e5a9ff"
          ]
        },
        "id": "DGMGDt1Ev5XH",
        "outputId": "9c75b5f6-2c17-4d20-9197-fc57e561ad8f"
      },
      "outputs": [
        {
          "output_type": "display_data",
          "data": {
            "text/html": [
              "\n",
              "  <div id=\"df-a5c36aed-5e94-4199-a171-b970864c6c30\">\n",
              "    <div class=\"colab-df-container\">\n",
              "      <div>\n",
              "<style scoped>\n",
              "    .dataframe tbody tr th:only-of-type {\n",
              "        vertical-align: middle;\n",
              "    }\n",
              "\n",
              "    .dataframe tbody tr th {\n",
              "        vertical-align: top;\n",
              "    }\n",
              "\n",
              "    .dataframe thead th {\n",
              "        text-align: right;\n",
              "    }\n",
              "</style>\n",
              "<table border=\"1\" class=\"dataframe\">\n",
              "  <thead>\n",
              "    <tr style=\"text-align: right;\">\n",
              "      <th></th>\n",
              "      <th>cutoff</th>\n",
              "      <th>MAE</th>\n",
              "      <th>RMSE</th>\n",
              "      <th>MAPE</th>\n",
              "      <th>SMAPE</th>\n",
              "      <th>MASE</th>\n",
              "      <th>R2</th>\n",
              "    </tr>\n",
              "  </thead>\n",
              "  <tbody>\n",
              "    <tr>\n",
              "      <th>0</th>\n",
              "      <td>2021-09-07</td>\n",
              "      <td>579.0242</td>\n",
              "      <td>655.8335</td>\n",
              "      <td>0.1347</td>\n",
              "      <td>0.1232</td>\n",
              "      <td>0.9371</td>\n",
              "      <td>0.8212</td>\n",
              "    </tr>\n",
              "    <tr>\n",
              "      <th>1</th>\n",
              "      <td>2021-09-14</td>\n",
              "      <td>641.3026</td>\n",
              "      <td>816.9084</td>\n",
              "      <td>0.1024</td>\n",
              "      <td>0.1088</td>\n",
              "      <td>1.0449</td>\n",
              "      <td>0.7413</td>\n",
              "    </tr>\n",
              "    <tr>\n",
              "      <th>2</th>\n",
              "      <td>2021-09-21</td>\n",
              "      <td>870.3595</td>\n",
              "      <td>987.0935</td>\n",
              "      <td>0.1183</td>\n",
              "      <td>0.1250</td>\n",
              "      <td>1.3490</td>\n",
              "      <td>0.7477</td>\n",
              "    </tr>\n",
              "    <tr>\n",
              "      <th>Mean</th>\n",
              "      <td>NaT</td>\n",
              "      <td>696.8954</td>\n",
              "      <td>819.9451</td>\n",
              "      <td>0.1185</td>\n",
              "      <td>0.1190</td>\n",
              "      <td>1.1104</td>\n",
              "      <td>0.7701</td>\n",
              "    </tr>\n",
              "    <tr>\n",
              "      <th>SD</th>\n",
              "      <td>NaT</td>\n",
              "      <td>125.2650</td>\n",
              "      <td>135.2534</td>\n",
              "      <td>0.0132</td>\n",
              "      <td>0.0073</td>\n",
              "      <td>0.1744</td>\n",
              "      <td>0.0363</td>\n",
              "    </tr>\n",
              "  </tbody>\n",
              "</table>\n",
              "</div>\n",
              "      <button class=\"colab-df-convert\" onclick=\"convertToInteractive('df-a5c36aed-5e94-4199-a171-b970864c6c30')\"\n",
              "              title=\"Convert this dataframe to an interactive table.\"\n",
              "              style=\"display:none;\">\n",
              "        \n",
              "  <svg xmlns=\"http://www.w3.org/2000/svg\" height=\"24px\"viewBox=\"0 0 24 24\"\n",
              "       width=\"24px\">\n",
              "    <path d=\"M0 0h24v24H0V0z\" fill=\"none\"/>\n",
              "    <path d=\"M18.56 5.44l.94 2.06.94-2.06 2.06-.94-2.06-.94-.94-2.06-.94 2.06-2.06.94zm-11 1L8.5 8.5l.94-2.06 2.06-.94-2.06-.94L8.5 2.5l-.94 2.06-2.06.94zm10 10l.94 2.06.94-2.06 2.06-.94-2.06-.94-.94-2.06-.94 2.06-2.06.94z\"/><path d=\"M17.41 7.96l-1.37-1.37c-.4-.4-.92-.59-1.43-.59-.52 0-1.04.2-1.43.59L10.3 9.45l-7.72 7.72c-.78.78-.78 2.05 0 2.83L4 21.41c.39.39.9.59 1.41.59.51 0 1.02-.2 1.41-.59l7.78-7.78 2.81-2.81c.8-.78.8-2.07 0-2.86zM5.41 20L4 18.59l7.72-7.72 1.47 1.35L5.41 20z\"/>\n",
              "  </svg>\n",
              "      </button>\n",
              "      \n",
              "  <style>\n",
              "    .colab-df-container {\n",
              "      display:flex;\n",
              "      flex-wrap:wrap;\n",
              "      gap: 12px;\n",
              "    }\n",
              "\n",
              "    .colab-df-convert {\n",
              "      background-color: #E8F0FE;\n",
              "      border: none;\n",
              "      border-radius: 50%;\n",
              "      cursor: pointer;\n",
              "      display: none;\n",
              "      fill: #1967D2;\n",
              "      height: 32px;\n",
              "      padding: 0 0 0 0;\n",
              "      width: 32px;\n",
              "    }\n",
              "\n",
              "    .colab-df-convert:hover {\n",
              "      background-color: #E2EBFA;\n",
              "      box-shadow: 0px 1px 2px rgba(60, 64, 67, 0.3), 0px 1px 3px 1px rgba(60, 64, 67, 0.15);\n",
              "      fill: #174EA6;\n",
              "    }\n",
              "\n",
              "    [theme=dark] .colab-df-convert {\n",
              "      background-color: #3B4455;\n",
              "      fill: #D2E3FC;\n",
              "    }\n",
              "\n",
              "    [theme=dark] .colab-df-convert:hover {\n",
              "      background-color: #434B5C;\n",
              "      box-shadow: 0px 1px 3px 1px rgba(0, 0, 0, 0.15);\n",
              "      filter: drop-shadow(0px 1px 2px rgba(0, 0, 0, 0.3));\n",
              "      fill: #FFFFFF;\n",
              "    }\n",
              "  </style>\n",
              "\n",
              "      <script>\n",
              "        const buttonEl =\n",
              "          document.querySelector('#df-a5c36aed-5e94-4199-a171-b970864c6c30 button.colab-df-convert');\n",
              "        buttonEl.style.display =\n",
              "          google.colab.kernel.accessAllowed ? 'block' : 'none';\n",
              "\n",
              "        async function convertToInteractive(key) {\n",
              "          const element = document.querySelector('#df-a5c36aed-5e94-4199-a171-b970864c6c30');\n",
              "          const dataTable =\n",
              "            await google.colab.kernel.invokeFunction('convertToInteractive',\n",
              "                                                     [key], {});\n",
              "          if (!dataTable) return;\n",
              "\n",
              "          const docLinkHtml = 'Like what you see? Visit the ' +\n",
              "            '<a target=\"_blank\" href=https://colab.research.google.com/notebooks/data_table.ipynb>data table notebook</a>'\n",
              "            + ' to learn more about interactive tables.';\n",
              "          element.innerHTML = '';\n",
              "          dataTable['output_type'] = 'display_data';\n",
              "          await google.colab.output.renderOutput(dataTable, element);\n",
              "          const docLink = document.createElement('div');\n",
              "          docLink.innerHTML = docLinkHtml;\n",
              "          element.appendChild(docLink);\n",
              "        }\n",
              "      </script>\n",
              "    </div>\n",
              "  </div>\n",
              "  "
            ],
            "text/plain": [
              "         cutoff       MAE      RMSE    MAPE   SMAPE    MASE      R2\n",
              "0    2021-09-07  579.0242  655.8335  0.1347  0.1232  0.9371  0.8212\n",
              "1    2021-09-14  641.3026  816.9084  0.1024  0.1088  1.0449  0.7413\n",
              "2    2021-09-21  870.3595  987.0935  0.1183  0.1250  1.3490  0.7477\n",
              "Mean        NaT  696.8954  819.9451  0.1185  0.1190  1.1104  0.7701\n",
              "SD          NaT  125.2650  135.2534  0.0132  0.0073  0.1744  0.0363"
            ]
          },
          "metadata": {}
        },
        {
          "output_type": "stream",
          "name": "stdout",
          "text": [
            "ProphetPeriodPatched(add_country_holidays=None, add_seasonality=None,\n",
            "                     alpha=0.05, changepoint_prior_scale=0.05,\n",
            "                     changepoint_range=0.8, changepoints=None,\n",
            "                     daily_seasonality='auto', freq=None, growth='linear',\n",
            "                     holidays=None, holidays_prior_scale=10.0, mcmc_samples=0,\n",
            "                     n_changepoints=25, seasonality_mode='additive',\n",
            "                     seasonality_prior_scale=10.0, stan_backend=None,\n",
            "                     uncertainty_samples=1000, verbose=0,\n",
            "                     weekly_seasonality='auto', yearly_seasonality='auto')\n"
          ]
        }
      ],
      "source": [
        "# create fbprophet model\n",
        "prophet = create_model('prophet')\n",
        "print(prophet)"
      ]
    },
    {
      "cell_type": "code",
      "execution_count": 22,
      "metadata": {
        "colab": {
          "base_uri": "https://localhost:8080/",
          "height": 569,
          "referenced_widgets": [
            "0b1b18ef8f1044198fe21f3e1c5b50f0",
            "785a263be2044f7eb5d100e694c261df",
            "ce9b83ff97894777885142df9c5a3102"
          ]
        },
        "id": "zGpJ5YNQv5XI",
        "outputId": "091abded-2aa4-4492-f7f3-fe995dc48003"
      },
      "outputs": [
        {
          "output_type": "display_data",
          "data": {
            "application/vnd.jupyter.widget-view+json": {
              "model_id": "0b1b18ef8f1044198fe21f3e1c5b50f0",
              "version_minor": 0,
              "version_major": 2
            },
            "text/plain": [
              "IntProgress(value=0, description='Processing: ', max=7)"
            ]
          },
          "metadata": {}
        },
        {
          "output_type": "display_data",
          "data": {
            "text/html": [
              "\n",
              "  <div id=\"df-e0bcc8c8-ef6a-49b5-9b9b-10d7478d92a8\">\n",
              "    <div class=\"colab-df-container\">\n",
              "      <div>\n",
              "<style scoped>\n",
              "    .dataframe tbody tr th:only-of-type {\n",
              "        vertical-align: middle;\n",
              "    }\n",
              "\n",
              "    .dataframe tbody tr th {\n",
              "        vertical-align: top;\n",
              "    }\n",
              "\n",
              "    .dataframe thead th {\n",
              "        text-align: right;\n",
              "    }\n",
              "</style>\n",
              "<table border=\"1\" class=\"dataframe\">\n",
              "  <thead>\n",
              "    <tr style=\"text-align: right;\">\n",
              "      <th></th>\n",
              "      <th></th>\n",
              "      <th></th>\n",
              "    </tr>\n",
              "    <tr>\n",
              "      <th></th>\n",
              "      <th></th>\n",
              "      <th></th>\n",
              "    </tr>\n",
              "  </thead>\n",
              "  <tbody>\n",
              "    <tr>\n",
              "      <th>Initiated</th>\n",
              "      <td>. . . . . . . . . . . . . . . . . .</td>\n",
              "      <td>13:40:29</td>\n",
              "    </tr>\n",
              "    <tr>\n",
              "      <th>Status</th>\n",
              "      <td>. . . . . . . . . . . . . . . . . .</td>\n",
              "      <td>Searching Hyperparameters</td>\n",
              "    </tr>\n",
              "    <tr>\n",
              "      <th>Estimator</th>\n",
              "      <td>. . . . . . . . . . . . . . . . . .</td>\n",
              "      <td>Prophet</td>\n",
              "    </tr>\n",
              "  </tbody>\n",
              "</table>\n",
              "</div>\n",
              "      <button class=\"colab-df-convert\" onclick=\"convertToInteractive('df-e0bcc8c8-ef6a-49b5-9b9b-10d7478d92a8')\"\n",
              "              title=\"Convert this dataframe to an interactive table.\"\n",
              "              style=\"display:none;\">\n",
              "        \n",
              "  <svg xmlns=\"http://www.w3.org/2000/svg\" height=\"24px\"viewBox=\"0 0 24 24\"\n",
              "       width=\"24px\">\n",
              "    <path d=\"M0 0h24v24H0V0z\" fill=\"none\"/>\n",
              "    <path d=\"M18.56 5.44l.94 2.06.94-2.06 2.06-.94-2.06-.94-.94-2.06-.94 2.06-2.06.94zm-11 1L8.5 8.5l.94-2.06 2.06-.94-2.06-.94L8.5 2.5l-.94 2.06-2.06.94zm10 10l.94 2.06.94-2.06 2.06-.94-2.06-.94-.94-2.06-.94 2.06-2.06.94z\"/><path d=\"M17.41 7.96l-1.37-1.37c-.4-.4-.92-.59-1.43-.59-.52 0-1.04.2-1.43.59L10.3 9.45l-7.72 7.72c-.78.78-.78 2.05 0 2.83L4 21.41c.39.39.9.59 1.41.59.51 0 1.02-.2 1.41-.59l7.78-7.78 2.81-2.81c.8-.78.8-2.07 0-2.86zM5.41 20L4 18.59l7.72-7.72 1.47 1.35L5.41 20z\"/>\n",
              "  </svg>\n",
              "      </button>\n",
              "      \n",
              "  <style>\n",
              "    .colab-df-container {\n",
              "      display:flex;\n",
              "      flex-wrap:wrap;\n",
              "      gap: 12px;\n",
              "    }\n",
              "\n",
              "    .colab-df-convert {\n",
              "      background-color: #E8F0FE;\n",
              "      border: none;\n",
              "      border-radius: 50%;\n",
              "      cursor: pointer;\n",
              "      display: none;\n",
              "      fill: #1967D2;\n",
              "      height: 32px;\n",
              "      padding: 0 0 0 0;\n",
              "      width: 32px;\n",
              "    }\n",
              "\n",
              "    .colab-df-convert:hover {\n",
              "      background-color: #E2EBFA;\n",
              "      box-shadow: 0px 1px 2px rgba(60, 64, 67, 0.3), 0px 1px 3px 1px rgba(60, 64, 67, 0.15);\n",
              "      fill: #174EA6;\n",
              "    }\n",
              "\n",
              "    [theme=dark] .colab-df-convert {\n",
              "      background-color: #3B4455;\n",
              "      fill: #D2E3FC;\n",
              "    }\n",
              "\n",
              "    [theme=dark] .colab-df-convert:hover {\n",
              "      background-color: #434B5C;\n",
              "      box-shadow: 0px 1px 3px 1px rgba(0, 0, 0, 0.15);\n",
              "      filter: drop-shadow(0px 1px 2px rgba(0, 0, 0, 0.3));\n",
              "      fill: #FFFFFF;\n",
              "    }\n",
              "  </style>\n",
              "\n",
              "      <script>\n",
              "        const buttonEl =\n",
              "          document.querySelector('#df-e0bcc8c8-ef6a-49b5-9b9b-10d7478d92a8 button.colab-df-convert');\n",
              "        buttonEl.style.display =\n",
              "          google.colab.kernel.accessAllowed ? 'block' : 'none';\n",
              "\n",
              "        async function convertToInteractive(key) {\n",
              "          const element = document.querySelector('#df-e0bcc8c8-ef6a-49b5-9b9b-10d7478d92a8');\n",
              "          const dataTable =\n",
              "            await google.colab.kernel.invokeFunction('convertToInteractive',\n",
              "                                                     [key], {});\n",
              "          if (!dataTable) return;\n",
              "\n",
              "          const docLinkHtml = 'Like what you see? Visit the ' +\n",
              "            '<a target=\"_blank\" href=https://colab.research.google.com/notebooks/data_table.ipynb>data table notebook</a>'\n",
              "            + ' to learn more about interactive tables.';\n",
              "          element.innerHTML = '';\n",
              "          dataTable['output_type'] = 'display_data';\n",
              "          await google.colab.output.renderOutput(dataTable, element);\n",
              "          const docLink = document.createElement('div');\n",
              "          docLink.innerHTML = docLinkHtml;\n",
              "          element.appendChild(docLink);\n",
              "        }\n",
              "      </script>\n",
              "    </div>\n",
              "  </div>\n",
              "  "
            ],
            "text/plain": [
              "                                                                         \n",
              "                                                                         \n",
              "Initiated  . . . . . . . . . . . . . . . . . .                   13:40:29\n",
              "Status     . . . . . . . . . . . . . . . . . .  Searching Hyperparameters\n",
              "Estimator  . . . . . . . . . . . . . . . . . .                    Prophet"
            ]
          },
          "metadata": {}
        },
        {
          "output_type": "display_data",
          "data": {
            "text/html": [
              "\n",
              "  <div id=\"df-303dd5a0-92ae-4d2f-833a-1a68ce5072eb\">\n",
              "    <div class=\"colab-df-container\">\n",
              "      <div>\n",
              "<style scoped>\n",
              "    .dataframe tbody tr th:only-of-type {\n",
              "        vertical-align: middle;\n",
              "    }\n",
              "\n",
              "    .dataframe tbody tr th {\n",
              "        vertical-align: top;\n",
              "    }\n",
              "\n",
              "    .dataframe thead th {\n",
              "        text-align: right;\n",
              "    }\n",
              "</style>\n",
              "<table border=\"1\" class=\"dataframe\">\n",
              "  <thead>\n",
              "    <tr style=\"text-align: right;\">\n",
              "      <th></th>\n",
              "      <th>cutoff</th>\n",
              "      <th>MAE</th>\n",
              "      <th>RMSE</th>\n",
              "      <th>MAPE</th>\n",
              "      <th>SMAPE</th>\n",
              "      <th>MASE</th>\n",
              "      <th>R2</th>\n",
              "    </tr>\n",
              "  </thead>\n",
              "  <tbody>\n",
              "  </tbody>\n",
              "</table>\n",
              "</div>\n",
              "      <button class=\"colab-df-convert\" onclick=\"convertToInteractive('df-303dd5a0-92ae-4d2f-833a-1a68ce5072eb')\"\n",
              "              title=\"Convert this dataframe to an interactive table.\"\n",
              "              style=\"display:none;\">\n",
              "        \n",
              "  <svg xmlns=\"http://www.w3.org/2000/svg\" height=\"24px\"viewBox=\"0 0 24 24\"\n",
              "       width=\"24px\">\n",
              "    <path d=\"M0 0h24v24H0V0z\" fill=\"none\"/>\n",
              "    <path d=\"M18.56 5.44l.94 2.06.94-2.06 2.06-.94-2.06-.94-.94-2.06-.94 2.06-2.06.94zm-11 1L8.5 8.5l.94-2.06 2.06-.94-2.06-.94L8.5 2.5l-.94 2.06-2.06.94zm10 10l.94 2.06.94-2.06 2.06-.94-2.06-.94-.94-2.06-.94 2.06-2.06.94z\"/><path d=\"M17.41 7.96l-1.37-1.37c-.4-.4-.92-.59-1.43-.59-.52 0-1.04.2-1.43.59L10.3 9.45l-7.72 7.72c-.78.78-.78 2.05 0 2.83L4 21.41c.39.39.9.59 1.41.59.51 0 1.02-.2 1.41-.59l7.78-7.78 2.81-2.81c.8-.78.8-2.07 0-2.86zM5.41 20L4 18.59l7.72-7.72 1.47 1.35L5.41 20z\"/>\n",
              "  </svg>\n",
              "      </button>\n",
              "      \n",
              "  <style>\n",
              "    .colab-df-container {\n",
              "      display:flex;\n",
              "      flex-wrap:wrap;\n",
              "      gap: 12px;\n",
              "    }\n",
              "\n",
              "    .colab-df-convert {\n",
              "      background-color: #E8F0FE;\n",
              "      border: none;\n",
              "      border-radius: 50%;\n",
              "      cursor: pointer;\n",
              "      display: none;\n",
              "      fill: #1967D2;\n",
              "      height: 32px;\n",
              "      padding: 0 0 0 0;\n",
              "      width: 32px;\n",
              "    }\n",
              "\n",
              "    .colab-df-convert:hover {\n",
              "      background-color: #E2EBFA;\n",
              "      box-shadow: 0px 1px 2px rgba(60, 64, 67, 0.3), 0px 1px 3px 1px rgba(60, 64, 67, 0.15);\n",
              "      fill: #174EA6;\n",
              "    }\n",
              "\n",
              "    [theme=dark] .colab-df-convert {\n",
              "      background-color: #3B4455;\n",
              "      fill: #D2E3FC;\n",
              "    }\n",
              "\n",
              "    [theme=dark] .colab-df-convert:hover {\n",
              "      background-color: #434B5C;\n",
              "      box-shadow: 0px 1px 3px 1px rgba(0, 0, 0, 0.15);\n",
              "      filter: drop-shadow(0px 1px 2px rgba(0, 0, 0, 0.3));\n",
              "      fill: #FFFFFF;\n",
              "    }\n",
              "  </style>\n",
              "\n",
              "      <script>\n",
              "        const buttonEl =\n",
              "          document.querySelector('#df-303dd5a0-92ae-4d2f-833a-1a68ce5072eb button.colab-df-convert');\n",
              "        buttonEl.style.display =\n",
              "          google.colab.kernel.accessAllowed ? 'block' : 'none';\n",
              "\n",
              "        async function convertToInteractive(key) {\n",
              "          const element = document.querySelector('#df-303dd5a0-92ae-4d2f-833a-1a68ce5072eb');\n",
              "          const dataTable =\n",
              "            await google.colab.kernel.invokeFunction('convertToInteractive',\n",
              "                                                     [key], {});\n",
              "          if (!dataTable) return;\n",
              "\n",
              "          const docLinkHtml = 'Like what you see? Visit the ' +\n",
              "            '<a target=\"_blank\" href=https://colab.research.google.com/notebooks/data_table.ipynb>data table notebook</a>'\n",
              "            + ' to learn more about interactive tables.';\n",
              "          element.innerHTML = '';\n",
              "          dataTable['output_type'] = 'display_data';\n",
              "          await google.colab.output.renderOutput(dataTable, element);\n",
              "          const docLink = document.createElement('div');\n",
              "          docLink.innerHTML = docLinkHtml;\n",
              "          element.appendChild(docLink);\n",
              "        }\n",
              "      </script>\n",
              "    </div>\n",
              "  </div>\n",
              "  "
            ],
            "text/plain": [
              "Empty DataFrame\n",
              "Columns: [cutoff, MAE, RMSE, MAPE, SMAPE, MASE, R2]\n",
              "Index: []"
            ]
          },
          "metadata": {}
        },
        {
          "output_type": "stream",
          "name": "stdout",
          "text": [
            "Fitting 3 folds for each of 10 candidates, totalling 30 fits\n"
          ]
        },
        {
          "output_type": "stream",
          "name": "stderr",
          "text": [
            "[Parallel(n_jobs=-1)]: Using backend LokyBackend with 2 concurrent workers.\n"
          ]
        },
        {
          "output_type": "error",
          "ename": "KeyboardInterrupt",
          "evalue": "ignored",
          "traceback": [
            "\u001b[0;31m---------------------------------------------------------------------------\u001b[0m",
            "\u001b[0;31mKeyboardInterrupt\u001b[0m                         Traceback (most recent call last)",
            "\u001b[0;32m<ipython-input-22-2809ebb9980d>\u001b[0m in \u001b[0;36m<module>\u001b[0;34m()\u001b[0m\n\u001b[0;32m----> 1\u001b[0;31m \u001b[0mtuned_prophet\u001b[0m \u001b[0;34m=\u001b[0m \u001b[0mtune_model\u001b[0m\u001b[0;34m(\u001b[0m\u001b[0mprophet\u001b[0m\u001b[0;34m)\u001b[0m\u001b[0;34m\u001b[0m\u001b[0;34m\u001b[0m\u001b[0m\n\u001b[0m\u001b[1;32m      2\u001b[0m \u001b[0mprint\u001b[0m\u001b[0;34m(\u001b[0m\u001b[0mtuned_prophet\u001b[0m\u001b[0;34m)\u001b[0m\u001b[0;34m\u001b[0m\u001b[0;34m\u001b[0m\u001b[0m\n",
            "\u001b[0;32m/usr/local/lib/python3.7/dist-packages/pycaret/internal/utils.py\u001b[0m in \u001b[0;36mwrapper\u001b[0;34m(*args, **kwargs)\u001b[0m\n\u001b[1;32m    813\u001b[0m                 \u001b[0;32mif\u001b[0m \u001b[0mglobals_d\u001b[0m\u001b[0;34m[\u001b[0m\u001b[0mname\u001b[0m\u001b[0;34m]\u001b[0m \u001b[0;32mis\u001b[0m \u001b[0;32mNone\u001b[0m\u001b[0;34m:\u001b[0m\u001b[0;34m\u001b[0m\u001b[0;34m\u001b[0m\u001b[0m\n\u001b[1;32m    814\u001b[0m                     \u001b[0;32mraise\u001b[0m \u001b[0mValueError\u001b[0m\u001b[0;34m(\u001b[0m\u001b[0mmessage\u001b[0m\u001b[0;34m)\u001b[0m\u001b[0;34m\u001b[0m\u001b[0;34m\u001b[0m\u001b[0m\n\u001b[0;32m--> 815\u001b[0;31m             \u001b[0;32mreturn\u001b[0m \u001b[0mfunc\u001b[0m\u001b[0;34m(\u001b[0m\u001b[0;34m*\u001b[0m\u001b[0margs\u001b[0m\u001b[0;34m,\u001b[0m \u001b[0;34m**\u001b[0m\u001b[0mkwargs\u001b[0m\u001b[0;34m)\u001b[0m\u001b[0;34m\u001b[0m\u001b[0;34m\u001b[0m\u001b[0m\n\u001b[0m\u001b[1;32m    816\u001b[0m \u001b[0;34m\u001b[0m\u001b[0m\n\u001b[1;32m    817\u001b[0m         \u001b[0;32mreturn\u001b[0m \u001b[0mwrapper\u001b[0m\u001b[0;34m\u001b[0m\u001b[0;34m\u001b[0m\u001b[0m\n",
            "\u001b[0;32m/usr/local/lib/python3.7/dist-packages/pycaret/time_series.py\u001b[0m in \u001b[0;36mtune_model\u001b[0;34m(estimator, fold, round, n_iter, custom_grid, optimize, custom_scorer, search_algorithm, choose_better, fit_kwargs, return_tuner, verbose, tuner_verbose, **kwargs)\u001b[0m\n\u001b[1;32m    596\u001b[0m         \u001b[0mverbose\u001b[0m\u001b[0;34m=\u001b[0m\u001b[0mverbose\u001b[0m\u001b[0;34m,\u001b[0m\u001b[0;34m\u001b[0m\u001b[0;34m\u001b[0m\u001b[0m\n\u001b[1;32m    597\u001b[0m         \u001b[0mtuner_verbose\u001b[0m\u001b[0;34m=\u001b[0m\u001b[0mtuner_verbose\u001b[0m\u001b[0;34m,\u001b[0m\u001b[0;34m\u001b[0m\u001b[0;34m\u001b[0m\u001b[0m\n\u001b[0;32m--> 598\u001b[0;31m         \u001b[0;34m**\u001b[0m\u001b[0mkwargs\u001b[0m\u001b[0;34m,\u001b[0m\u001b[0;34m\u001b[0m\u001b[0;34m\u001b[0m\u001b[0m\n\u001b[0m\u001b[1;32m    599\u001b[0m     )\n\u001b[1;32m    600\u001b[0m \u001b[0;34m\u001b[0m\u001b[0m\n",
            "\u001b[0;32m/usr/local/lib/python3.7/dist-packages/pycaret/internal/pycaret_experiment/time_series_experiment.py\u001b[0m in \u001b[0;36mtune_model\u001b[0;34m(self, estimator, fold, round, n_iter, custom_grid, optimize, custom_scorer, search_algorithm, choose_better, fit_kwargs, return_tuner, verbose, tuner_verbose, display, **kwargs)\u001b[0m\n\u001b[1;32m   2089\u001b[0m                 \u001b[0mX\u001b[0m\u001b[0;34m=\u001b[0m\u001b[0mdata_X\u001b[0m\u001b[0;34m,\u001b[0m\u001b[0;34m\u001b[0m\u001b[0;34m\u001b[0m\u001b[0m\n\u001b[1;32m   2090\u001b[0m                 \u001b[0madditional_scorer_kwargs\u001b[0m\u001b[0;34m=\u001b[0m\u001b[0madditional_scorer_kwargs\u001b[0m\u001b[0;34m,\u001b[0m\u001b[0;34m\u001b[0m\u001b[0;34m\u001b[0m\u001b[0m\n\u001b[0;32m-> 2091\u001b[0;31m                 \u001b[0;34m**\u001b[0m\u001b[0mfit_kwargs\u001b[0m\u001b[0;34m,\u001b[0m\u001b[0;34m\u001b[0m\u001b[0;34m\u001b[0m\u001b[0m\n\u001b[0m\u001b[1;32m   2092\u001b[0m             )\n\u001b[1;32m   2093\u001b[0m \u001b[0;34m\u001b[0m\u001b[0m\n",
            "\u001b[0;32m/usr/local/lib/python3.7/dist-packages/pycaret/internal/pycaret_experiment/time_series_experiment.py\u001b[0m in \u001b[0;36mfit\u001b[0;34m(self, y, X, additional_scorer_kwargs, **fit_params)\u001b[0m\n\u001b[1;32m    474\u001b[0m             \u001b[0;32mreturn\u001b[0m \u001b[0mresults\u001b[0m\u001b[0;34m\u001b[0m\u001b[0;34m\u001b[0m\u001b[0m\n\u001b[1;32m    475\u001b[0m \u001b[0;34m\u001b[0m\u001b[0m\n\u001b[0;32m--> 476\u001b[0;31m         \u001b[0mself\u001b[0m\u001b[0;34m.\u001b[0m\u001b[0m_run_search\u001b[0m\u001b[0;34m(\u001b[0m\u001b[0mevaluate_candidates\u001b[0m\u001b[0;34m)\u001b[0m\u001b[0;34m\u001b[0m\u001b[0;34m\u001b[0m\u001b[0m\n\u001b[0m\u001b[1;32m    477\u001b[0m \u001b[0;34m\u001b[0m\u001b[0m\n\u001b[1;32m    478\u001b[0m         \u001b[0mself\u001b[0m\u001b[0;34m.\u001b[0m\u001b[0mbest_index_\u001b[0m \u001b[0;34m=\u001b[0m \u001b[0mresults\u001b[0m\u001b[0;34m[\u001b[0m\u001b[0;34m\"rank_test_%s\"\u001b[0m \u001b[0;34m%\u001b[0m \u001b[0mrefit_metric\u001b[0m\u001b[0;34m]\u001b[0m\u001b[0;34m.\u001b[0m\u001b[0margmin\u001b[0m\u001b[0;34m(\u001b[0m\u001b[0;34m)\u001b[0m\u001b[0;34m\u001b[0m\u001b[0;34m\u001b[0m\u001b[0m\n",
            "\u001b[0;32m/usr/local/lib/python3.7/dist-packages/pycaret/internal/pycaret_experiment/time_series_experiment.py\u001b[0m in \u001b[0;36m_run_search\u001b[0;34m(self, evaluate_candidates)\u001b[0m\n\u001b[1;32m    660\u001b[0m         return evaluate_candidates(\n\u001b[1;32m    661\u001b[0m             ParameterSampler(\n\u001b[0;32m--> 662\u001b[0;31m                 \u001b[0mself\u001b[0m\u001b[0;34m.\u001b[0m\u001b[0mparam_distributions\u001b[0m\u001b[0;34m,\u001b[0m \u001b[0mself\u001b[0m\u001b[0;34m.\u001b[0m\u001b[0mn_iter\u001b[0m\u001b[0;34m,\u001b[0m \u001b[0mrandom_state\u001b[0m\u001b[0;34m=\u001b[0m\u001b[0mself\u001b[0m\u001b[0;34m.\u001b[0m\u001b[0mrandom_state\u001b[0m\u001b[0;34m\u001b[0m\u001b[0;34m\u001b[0m\u001b[0m\n\u001b[0m\u001b[1;32m    663\u001b[0m             )\n\u001b[1;32m    664\u001b[0m         )\n",
            "\u001b[0;32m/usr/local/lib/python3.7/dist-packages/pycaret/internal/pycaret_experiment/time_series_experiment.py\u001b[0m in \u001b[0;36mevaluate_candidates\u001b[0;34m(candidate_params)\u001b[0m\n\u001b[1;32m    454\u001b[0m                     \u001b[0;34m**\u001b[0m\u001b[0madditional_scorer_kwargs\u001b[0m\u001b[0;34m,\u001b[0m\u001b[0;34m\u001b[0m\u001b[0;34m\u001b[0m\u001b[0m\n\u001b[1;32m    455\u001b[0m                 )\n\u001b[0;32m--> 456\u001b[0;31m                 \u001b[0;32mfor\u001b[0m \u001b[0mparameters\u001b[0m \u001b[0;32min\u001b[0m \u001b[0mcandidate_params\u001b[0m\u001b[0;34m\u001b[0m\u001b[0;34m\u001b[0m\u001b[0m\n\u001b[0m\u001b[1;32m    457\u001b[0m                 \u001b[0;32mfor\u001b[0m \u001b[0mtrain\u001b[0m\u001b[0;34m,\u001b[0m \u001b[0mtest\u001b[0m \u001b[0;32min\u001b[0m \u001b[0mget_folds\u001b[0m\u001b[0;34m(\u001b[0m\u001b[0mcv\u001b[0m\u001b[0;34m,\u001b[0m \u001b[0my\u001b[0m\u001b[0;34m)\u001b[0m\u001b[0;34m\u001b[0m\u001b[0;34m\u001b[0m\u001b[0m\n\u001b[1;32m    458\u001b[0m             )\n",
            "\u001b[0;32m/usr/local/lib/python3.7/dist-packages/joblib/parallel.py\u001b[0m in \u001b[0;36m__call__\u001b[0;34m(self, iterable)\u001b[0m\n\u001b[1;32m   1052\u001b[0m \u001b[0;34m\u001b[0m\u001b[0m\n\u001b[1;32m   1053\u001b[0m             \u001b[0;32mwith\u001b[0m \u001b[0mself\u001b[0m\u001b[0;34m.\u001b[0m\u001b[0m_backend\u001b[0m\u001b[0;34m.\u001b[0m\u001b[0mretrieval_context\u001b[0m\u001b[0;34m(\u001b[0m\u001b[0;34m)\u001b[0m\u001b[0;34m:\u001b[0m\u001b[0;34m\u001b[0m\u001b[0;34m\u001b[0m\u001b[0m\n\u001b[0;32m-> 1054\u001b[0;31m                 \u001b[0mself\u001b[0m\u001b[0;34m.\u001b[0m\u001b[0mretrieve\u001b[0m\u001b[0;34m(\u001b[0m\u001b[0;34m)\u001b[0m\u001b[0;34m\u001b[0m\u001b[0;34m\u001b[0m\u001b[0m\n\u001b[0m\u001b[1;32m   1055\u001b[0m             \u001b[0;31m# Make sure that we get a last message telling us we are done\u001b[0m\u001b[0;34m\u001b[0m\u001b[0;34m\u001b[0m\u001b[0;34m\u001b[0m\u001b[0m\n\u001b[1;32m   1056\u001b[0m             \u001b[0melapsed_time\u001b[0m \u001b[0;34m=\u001b[0m \u001b[0mtime\u001b[0m\u001b[0;34m.\u001b[0m\u001b[0mtime\u001b[0m\u001b[0;34m(\u001b[0m\u001b[0;34m)\u001b[0m \u001b[0;34m-\u001b[0m \u001b[0mself\u001b[0m\u001b[0;34m.\u001b[0m\u001b[0m_start_time\u001b[0m\u001b[0;34m\u001b[0m\u001b[0;34m\u001b[0m\u001b[0m\n",
            "\u001b[0;32m/usr/local/lib/python3.7/dist-packages/joblib/parallel.py\u001b[0m in \u001b[0;36mretrieve\u001b[0;34m(self)\u001b[0m\n\u001b[1;32m    931\u001b[0m             \u001b[0;32mtry\u001b[0m\u001b[0;34m:\u001b[0m\u001b[0;34m\u001b[0m\u001b[0;34m\u001b[0m\u001b[0m\n\u001b[1;32m    932\u001b[0m                 \u001b[0;32mif\u001b[0m \u001b[0mgetattr\u001b[0m\u001b[0;34m(\u001b[0m\u001b[0mself\u001b[0m\u001b[0;34m.\u001b[0m\u001b[0m_backend\u001b[0m\u001b[0;34m,\u001b[0m \u001b[0;34m'supports_timeout'\u001b[0m\u001b[0;34m,\u001b[0m \u001b[0;32mFalse\u001b[0m\u001b[0;34m)\u001b[0m\u001b[0;34m:\u001b[0m\u001b[0;34m\u001b[0m\u001b[0;34m\u001b[0m\u001b[0m\n\u001b[0;32m--> 933\u001b[0;31m                     \u001b[0mself\u001b[0m\u001b[0;34m.\u001b[0m\u001b[0m_output\u001b[0m\u001b[0;34m.\u001b[0m\u001b[0mextend\u001b[0m\u001b[0;34m(\u001b[0m\u001b[0mjob\u001b[0m\u001b[0;34m.\u001b[0m\u001b[0mget\u001b[0m\u001b[0;34m(\u001b[0m\u001b[0mtimeout\u001b[0m\u001b[0;34m=\u001b[0m\u001b[0mself\u001b[0m\u001b[0;34m.\u001b[0m\u001b[0mtimeout\u001b[0m\u001b[0;34m)\u001b[0m\u001b[0;34m)\u001b[0m\u001b[0;34m\u001b[0m\u001b[0;34m\u001b[0m\u001b[0m\n\u001b[0m\u001b[1;32m    934\u001b[0m                 \u001b[0;32melse\u001b[0m\u001b[0;34m:\u001b[0m\u001b[0;34m\u001b[0m\u001b[0;34m\u001b[0m\u001b[0m\n\u001b[1;32m    935\u001b[0m                     \u001b[0mself\u001b[0m\u001b[0;34m.\u001b[0m\u001b[0m_output\u001b[0m\u001b[0;34m.\u001b[0m\u001b[0mextend\u001b[0m\u001b[0;34m(\u001b[0m\u001b[0mjob\u001b[0m\u001b[0;34m.\u001b[0m\u001b[0mget\u001b[0m\u001b[0;34m(\u001b[0m\u001b[0;34m)\u001b[0m\u001b[0;34m)\u001b[0m\u001b[0;34m\u001b[0m\u001b[0;34m\u001b[0m\u001b[0m\n",
            "\u001b[0;32m/usr/local/lib/python3.7/dist-packages/joblib/_parallel_backends.py\u001b[0m in \u001b[0;36mwrap_future_result\u001b[0;34m(future, timeout)\u001b[0m\n\u001b[1;32m    540\u001b[0m         AsyncResults.get from multiprocessing.\"\"\"\n\u001b[1;32m    541\u001b[0m         \u001b[0;32mtry\u001b[0m\u001b[0;34m:\u001b[0m\u001b[0;34m\u001b[0m\u001b[0;34m\u001b[0m\u001b[0m\n\u001b[0;32m--> 542\u001b[0;31m             \u001b[0;32mreturn\u001b[0m \u001b[0mfuture\u001b[0m\u001b[0;34m.\u001b[0m\u001b[0mresult\u001b[0m\u001b[0;34m(\u001b[0m\u001b[0mtimeout\u001b[0m\u001b[0;34m=\u001b[0m\u001b[0mtimeout\u001b[0m\u001b[0;34m)\u001b[0m\u001b[0;34m\u001b[0m\u001b[0;34m\u001b[0m\u001b[0m\n\u001b[0m\u001b[1;32m    543\u001b[0m         \u001b[0;32mexcept\u001b[0m \u001b[0mCfTimeoutError\u001b[0m \u001b[0;32mas\u001b[0m \u001b[0me\u001b[0m\u001b[0;34m:\u001b[0m\u001b[0;34m\u001b[0m\u001b[0;34m\u001b[0m\u001b[0m\n\u001b[1;32m    544\u001b[0m             \u001b[0;32mraise\u001b[0m \u001b[0mTimeoutError\u001b[0m \u001b[0;32mfrom\u001b[0m \u001b[0me\u001b[0m\u001b[0;34m\u001b[0m\u001b[0;34m\u001b[0m\u001b[0m\n",
            "\u001b[0;32m/usr/lib/python3.7/concurrent/futures/_base.py\u001b[0m in \u001b[0;36mresult\u001b[0;34m(self, timeout)\u001b[0m\n\u001b[1;32m    428\u001b[0m                 \u001b[0;32mreturn\u001b[0m \u001b[0mself\u001b[0m\u001b[0;34m.\u001b[0m\u001b[0m__get_result\u001b[0m\u001b[0;34m(\u001b[0m\u001b[0;34m)\u001b[0m\u001b[0;34m\u001b[0m\u001b[0;34m\u001b[0m\u001b[0m\n\u001b[1;32m    429\u001b[0m \u001b[0;34m\u001b[0m\u001b[0m\n\u001b[0;32m--> 430\u001b[0;31m             \u001b[0mself\u001b[0m\u001b[0;34m.\u001b[0m\u001b[0m_condition\u001b[0m\u001b[0;34m.\u001b[0m\u001b[0mwait\u001b[0m\u001b[0;34m(\u001b[0m\u001b[0mtimeout\u001b[0m\u001b[0;34m)\u001b[0m\u001b[0;34m\u001b[0m\u001b[0;34m\u001b[0m\u001b[0m\n\u001b[0m\u001b[1;32m    431\u001b[0m \u001b[0;34m\u001b[0m\u001b[0m\n\u001b[1;32m    432\u001b[0m             \u001b[0;32mif\u001b[0m \u001b[0mself\u001b[0m\u001b[0;34m.\u001b[0m\u001b[0m_state\u001b[0m \u001b[0;32min\u001b[0m \u001b[0;34m[\u001b[0m\u001b[0mCANCELLED\u001b[0m\u001b[0;34m,\u001b[0m \u001b[0mCANCELLED_AND_NOTIFIED\u001b[0m\u001b[0;34m]\u001b[0m\u001b[0;34m:\u001b[0m\u001b[0;34m\u001b[0m\u001b[0;34m\u001b[0m\u001b[0m\n",
            "\u001b[0;32m/usr/lib/python3.7/threading.py\u001b[0m in \u001b[0;36mwait\u001b[0;34m(self, timeout)\u001b[0m\n\u001b[1;32m    294\u001b[0m         \u001b[0;32mtry\u001b[0m\u001b[0;34m:\u001b[0m    \u001b[0;31m# restore state no matter what (e.g., KeyboardInterrupt)\u001b[0m\u001b[0;34m\u001b[0m\u001b[0;34m\u001b[0m\u001b[0m\n\u001b[1;32m    295\u001b[0m             \u001b[0;32mif\u001b[0m \u001b[0mtimeout\u001b[0m \u001b[0;32mis\u001b[0m \u001b[0;32mNone\u001b[0m\u001b[0;34m:\u001b[0m\u001b[0;34m\u001b[0m\u001b[0;34m\u001b[0m\u001b[0m\n\u001b[0;32m--> 296\u001b[0;31m                 \u001b[0mwaiter\u001b[0m\u001b[0;34m.\u001b[0m\u001b[0macquire\u001b[0m\u001b[0;34m(\u001b[0m\u001b[0;34m)\u001b[0m\u001b[0;34m\u001b[0m\u001b[0;34m\u001b[0m\u001b[0m\n\u001b[0m\u001b[1;32m    297\u001b[0m                 \u001b[0mgotit\u001b[0m \u001b[0;34m=\u001b[0m \u001b[0;32mTrue\u001b[0m\u001b[0;34m\u001b[0m\u001b[0;34m\u001b[0m\u001b[0m\n\u001b[1;32m    298\u001b[0m             \u001b[0;32melse\u001b[0m\u001b[0;34m:\u001b[0m\u001b[0;34m\u001b[0m\u001b[0;34m\u001b[0m\u001b[0m\n",
            "\u001b[0;31mKeyboardInterrupt\u001b[0m: "
          ]
        }
      ],
      "source": [
        "tuned_prophet = tune_model(prophet)\n",
        "print(tuned_prophet)"
      ]
    },
    {
      "cell_type": "code",
      "execution_count": 23,
      "metadata": {
        "colab": {
          "base_uri": "https://localhost:8080/",
          "height": 542
        },
        "id": "ttOtIcQmv5XL",
        "outputId": "7b4020b5-a7c5-46cb-83cf-2eca3b1a7774"
      },
      "outputs": [
        {
          "output_type": "display_data",
          "data": {
            "text/html": [
              "<html>\n",
              "<head><meta charset=\"utf-8\" /></head>\n",
              "<body>\n",
              "    <div>            <script src=\"https://cdnjs.cloudflare.com/ajax/libs/mathjax/2.7.5/MathJax.js?config=TeX-AMS-MML_SVG\"></script><script type=\"text/javascript\">if (window.MathJax) {MathJax.Hub.Config({SVG: {font: \"STIX-Web\"}});}</script>                <script type=\"text/javascript\">window.PlotlyConfig = {MathJaxConfig: 'local'};</script>\n",
              "        <script src=\"https://cdn.plot.ly/plotly-2.8.3.min.js\"></script>                <div id=\"02fd3a8f-45fd-41d9-8bc6-1f8ad88e82ad\" class=\"plotly-graph-div\" style=\"height:525px; width:100%;\"></div>            <script type=\"text/javascript\">                                    window.PLOTLYENV=window.PLOTLYENV || {};                                    if (document.getElementById(\"02fd3a8f-45fd-41d9-8bc6-1f8ad88e82ad\")) {                    Plotly.newPlot(                        \"02fd3a8f-45fd-41d9-8bc6-1f8ad88e82ad\",                        [{\"line\":{\"color\":\"#1f77b4\"},\"marker\":{\"size\":5},\"mode\":\"lines+markers\",\"name\":\"Forecast | Auto ARIMA\",\"showlegend\":true,\"x\":[\"2021-09-29T00:00:00\",\"2021-09-30T00:00:00\",\"2021-10-01T00:00:00\",\"2021-10-02T00:00:00\",\"2021-10-03T00:00:00\",\"2021-10-04T00:00:00\",\"2021-10-05T00:00:00\"],\"y\":[8492.9932,8240.3275,7557.4273,4171.1321,4243.0992,7415.8715,8645.951],\"type\":\"scatter\"},{\"line\":{\"width\":0},\"marker\":{\"color\":\"#68BBE3\"},\"mode\":\"lines\",\"name\":\"Lower Interval\",\"showlegend\":false,\"x\":[\"2021-09-29T00:00:00\",\"2021-09-30T00:00:00\",\"2021-10-01T00:00:00\",\"2021-10-02T00:00:00\",\"2021-10-03T00:00:00\",\"2021-10-04T00:00:00\",\"2021-10-05T00:00:00\"],\"y\":[7268.5073,6824.4993,6141.5991,2755.3038,2827.271,6000.0432,7230.1228],\"type\":\"scatter\"},{\"fill\":\"tonexty\",\"fillcolor\":\"rgba(104,187,227,0.5)\",\"line\":{\"width\":0},\"marker\":{\"color\":\"#68BBE3\"},\"mode\":\"lines\",\"name\":\"Prediction Interval | Auto ARIMA\",\"showlegend\":true,\"x\":[\"2021-09-29T00:00:00\",\"2021-09-30T00:00:00\",\"2021-10-01T00:00:00\",\"2021-10-02T00:00:00\",\"2021-10-03T00:00:00\",\"2021-10-04T00:00:00\",\"2021-10-05T00:00:00\"],\"y\":[9717.4791,9656.1558,8973.2556,5586.9603,5658.9275,8831.6997,10061.7793],\"type\":\"scatter\"},{\"marker\":{\"color\":\"#3f3f3f\",\"size\":5},\"mode\":\"lines+markers\",\"name\":\"Original\",\"showlegend\":true,\"x\":[\"2021-07-08T00:00:00\",\"2021-07-09T00:00:00\",\"2021-07-10T00:00:00\",\"2021-07-11T00:00:00\",\"2021-07-12T00:00:00\",\"2021-07-13T00:00:00\",\"2021-07-14T00:00:00\",\"2021-07-15T00:00:00\",\"2021-07-16T00:00:00\",\"2021-07-17T00:00:00\",\"2021-07-18T00:00:00\",\"2021-07-19T00:00:00\",\"2021-07-20T00:00:00\",\"2021-07-21T00:00:00\",\"2021-07-22T00:00:00\",\"2021-07-23T00:00:00\",\"2021-07-24T00:00:00\",\"2021-07-25T00:00:00\",\"2021-07-26T00:00:00\",\"2021-07-27T00:00:00\",\"2021-07-28T00:00:00\",\"2021-07-29T00:00:00\",\"2021-07-30T00:00:00\",\"2021-07-31T00:00:00\",\"2021-08-01T00:00:00\",\"2021-08-02T00:00:00\",\"2021-08-03T00:00:00\",\"2021-08-04T00:00:00\",\"2021-08-05T00:00:00\",\"2021-08-06T00:00:00\",\"2021-08-07T00:00:00\",\"2021-08-08T00:00:00\",\"2021-08-09T00:00:00\",\"2021-08-10T00:00:00\",\"2021-08-11T00:00:00\",\"2021-08-12T00:00:00\",\"2021-08-13T00:00:00\",\"2021-08-14T00:00:00\",\"2021-08-15T00:00:00\",\"2021-08-16T00:00:00\",\"2021-08-17T00:00:00\",\"2021-08-18T00:00:00\",\"2021-08-19T00:00:00\",\"2021-08-20T00:00:00\",\"2021-08-21T00:00:00\",\"2021-08-22T00:00:00\",\"2021-08-23T00:00:00\",\"2021-08-24T00:00:00\",\"2021-08-25T00:00:00\",\"2021-08-26T00:00:00\",\"2021-08-27T00:00:00\",\"2021-08-28T00:00:00\",\"2021-08-29T00:00:00\",\"2021-08-30T00:00:00\",\"2021-08-31T00:00:00\",\"2021-09-01T00:00:00\",\"2021-09-02T00:00:00\",\"2021-09-03T00:00:00\",\"2021-09-04T00:00:00\",\"2021-09-05T00:00:00\",\"2021-09-06T00:00:00\",\"2021-09-07T00:00:00\",\"2021-09-08T00:00:00\",\"2021-09-09T00:00:00\",\"2021-09-10T00:00:00\",\"2021-09-11T00:00:00\",\"2021-09-12T00:00:00\",\"2021-09-13T00:00:00\",\"2021-09-14T00:00:00\",\"2021-09-15T00:00:00\",\"2021-09-16T00:00:00\",\"2021-09-17T00:00:00\",\"2021-09-18T00:00:00\",\"2021-09-19T00:00:00\",\"2021-09-20T00:00:00\",\"2021-09-21T00:00:00\",\"2021-09-22T00:00:00\",\"2021-09-23T00:00:00\",\"2021-09-24T00:00:00\",\"2021-09-25T00:00:00\",\"2021-09-26T00:00:00\",\"2021-09-27T00:00:00\",\"2021-09-28T00:00:00\",\"2021-09-29T00:00:00\",\"2021-09-30T00:00:00\",\"2021-10-01T00:00:00\",\"2021-10-02T00:00:00\",\"2021-10-03T00:00:00\",\"2021-10-04T00:00:00\",\"2021-10-05T00:00:00\"],\"y\":[3773,3172,2079,2725,4542,3795,3941,4064,3474,2093,2426,4339,4064,4224,4603,4369,2532,3276,4917,4430,4977,5193,4001,1996,2538,4764,5651,5777,4789,3782,1920,2526,4481,6034,5006,4450,3112,1914,2359,3948,5727,6365,6323,5151,1947,3128,7999,7104,6457,6643,5355,2341,2367,5592,6770,6877,7272,6279,2741,2483,5456,6082,6139,5865,6362,3132,2681,5788,7001,6721,7556,7278,4026,3514,6476,7863,8418,8290,7189,3567,4088,7418,8765,7798,9212,7115,3903,5038,7843,8872],\"type\":\"scatter\"}],                        {\"title\":{\"text\":\"Actual vs. 'Out-of-Sample' Forecast | Total\"},\"xaxis\":{\"title\":{\"text\":\"Time\"}},\"yaxis\":{\"title\":{\"text\":\"Values\"}},\"template\":{\"data\":{\"barpolar\":[{\"marker\":{\"line\":{\"color\":\"rgb(237,237,237)\",\"width\":0.5},\"pattern\":{\"fillmode\":\"overlay\",\"size\":10,\"solidity\":0.2}},\"type\":\"barpolar\"}],\"bar\":[{\"error_x\":{\"color\":\"rgb(51,51,51)\"},\"error_y\":{\"color\":\"rgb(51,51,51)\"},\"marker\":{\"line\":{\"color\":\"rgb(237,237,237)\",\"width\":0.5},\"pattern\":{\"fillmode\":\"overlay\",\"size\":10,\"solidity\":0.2}},\"type\":\"bar\"}],\"carpet\":[{\"aaxis\":{\"endlinecolor\":\"rgb(51,51,51)\",\"gridcolor\":\"white\",\"linecolor\":\"white\",\"minorgridcolor\":\"white\",\"startlinecolor\":\"rgb(51,51,51)\"},\"baxis\":{\"endlinecolor\":\"rgb(51,51,51)\",\"gridcolor\":\"white\",\"linecolor\":\"white\",\"minorgridcolor\":\"white\",\"startlinecolor\":\"rgb(51,51,51)\"},\"type\":\"carpet\"}],\"choropleth\":[{\"colorbar\":{\"outlinewidth\":0,\"tickcolor\":\"rgb(237,237,237)\",\"ticklen\":6,\"ticks\":\"inside\"},\"type\":\"choropleth\"}],\"contourcarpet\":[{\"colorbar\":{\"outlinewidth\":0,\"tickcolor\":\"rgb(237,237,237)\",\"ticklen\":6,\"ticks\":\"inside\"},\"type\":\"contourcarpet\"}],\"contour\":[{\"colorbar\":{\"outlinewidth\":0,\"tickcolor\":\"rgb(237,237,237)\",\"ticklen\":6,\"ticks\":\"inside\"},\"colorscale\":[[0,\"rgb(20,44,66)\"],[1,\"rgb(90,179,244)\"]],\"type\":\"contour\"}],\"heatmapgl\":[{\"colorbar\":{\"outlinewidth\":0,\"tickcolor\":\"rgb(237,237,237)\",\"ticklen\":6,\"ticks\":\"inside\"},\"colorscale\":[[0,\"rgb(20,44,66)\"],[1,\"rgb(90,179,244)\"]],\"type\":\"heatmapgl\"}],\"heatmap\":[{\"colorbar\":{\"outlinewidth\":0,\"tickcolor\":\"rgb(237,237,237)\",\"ticklen\":6,\"ticks\":\"inside\"},\"colorscale\":[[0,\"rgb(20,44,66)\"],[1,\"rgb(90,179,244)\"]],\"type\":\"heatmap\"}],\"histogram2dcontour\":[{\"colorbar\":{\"outlinewidth\":0,\"tickcolor\":\"rgb(237,237,237)\",\"ticklen\":6,\"ticks\":\"inside\"},\"colorscale\":[[0,\"rgb(20,44,66)\"],[1,\"rgb(90,179,244)\"]],\"type\":\"histogram2dcontour\"}],\"histogram2d\":[{\"colorbar\":{\"outlinewidth\":0,\"tickcolor\":\"rgb(237,237,237)\",\"ticklen\":6,\"ticks\":\"inside\"},\"colorscale\":[[0,\"rgb(20,44,66)\"],[1,\"rgb(90,179,244)\"]],\"type\":\"histogram2d\"}],\"histogram\":[{\"marker\":{\"pattern\":{\"fillmode\":\"overlay\",\"size\":10,\"solidity\":0.2}},\"type\":\"histogram\"}],\"mesh3d\":[{\"colorbar\":{\"outlinewidth\":0,\"tickcolor\":\"rgb(237,237,237)\",\"ticklen\":6,\"ticks\":\"inside\"},\"type\":\"mesh3d\"}],\"parcoords\":[{\"line\":{\"colorbar\":{\"outlinewidth\":0,\"tickcolor\":\"rgb(237,237,237)\",\"ticklen\":6,\"ticks\":\"inside\"}},\"type\":\"parcoords\"}],\"pie\":[{\"automargin\":true,\"type\":\"pie\"}],\"scatter3d\":[{\"line\":{\"colorbar\":{\"outlinewidth\":0,\"tickcolor\":\"rgb(237,237,237)\",\"ticklen\":6,\"ticks\":\"inside\"}},\"marker\":{\"colorbar\":{\"outlinewidth\":0,\"tickcolor\":\"rgb(237,237,237)\",\"ticklen\":6,\"ticks\":\"inside\"}},\"type\":\"scatter3d\"}],\"scattercarpet\":[{\"marker\":{\"colorbar\":{\"outlinewidth\":0,\"tickcolor\":\"rgb(237,237,237)\",\"ticklen\":6,\"ticks\":\"inside\"}},\"type\":\"scattercarpet\"}],\"scattergeo\":[{\"marker\":{\"colorbar\":{\"outlinewidth\":0,\"tickcolor\":\"rgb(237,237,237)\",\"ticklen\":6,\"ticks\":\"inside\"}},\"type\":\"scattergeo\"}],\"scattergl\":[{\"marker\":{\"colorbar\":{\"outlinewidth\":0,\"tickcolor\":\"rgb(237,237,237)\",\"ticklen\":6,\"ticks\":\"inside\"}},\"type\":\"scattergl\"}],\"scattermapbox\":[{\"marker\":{\"colorbar\":{\"outlinewidth\":0,\"tickcolor\":\"rgb(237,237,237)\",\"ticklen\":6,\"ticks\":\"inside\"}},\"type\":\"scattermapbox\"}],\"scatterpolargl\":[{\"marker\":{\"colorbar\":{\"outlinewidth\":0,\"tickcolor\":\"rgb(237,237,237)\",\"ticklen\":6,\"ticks\":\"inside\"}},\"type\":\"scatterpolargl\"}],\"scatterpolar\":[{\"marker\":{\"colorbar\":{\"outlinewidth\":0,\"tickcolor\":\"rgb(237,237,237)\",\"ticklen\":6,\"ticks\":\"inside\"}},\"type\":\"scatterpolar\"}],\"scatter\":[{\"marker\":{\"colorbar\":{\"outlinewidth\":0,\"tickcolor\":\"rgb(237,237,237)\",\"ticklen\":6,\"ticks\":\"inside\"}},\"type\":\"scatter\"}],\"scatterternary\":[{\"marker\":{\"colorbar\":{\"outlinewidth\":0,\"tickcolor\":\"rgb(237,237,237)\",\"ticklen\":6,\"ticks\":\"inside\"}},\"type\":\"scatterternary\"}],\"surface\":[{\"colorbar\":{\"outlinewidth\":0,\"tickcolor\":\"rgb(237,237,237)\",\"ticklen\":6,\"ticks\":\"inside\"},\"colorscale\":[[0,\"rgb(20,44,66)\"],[1,\"rgb(90,179,244)\"]],\"type\":\"surface\"}],\"table\":[{\"cells\":{\"fill\":{\"color\":\"rgb(237,237,237)\"},\"line\":{\"color\":\"white\"}},\"header\":{\"fill\":{\"color\":\"rgb(217,217,217)\"},\"line\":{\"color\":\"white\"}},\"type\":\"table\"}]},\"layout\":{\"annotationdefaults\":{\"arrowhead\":0,\"arrowwidth\":1},\"autotypenumbers\":\"strict\",\"coloraxis\":{\"colorbar\":{\"outlinewidth\":0,\"tickcolor\":\"rgb(237,237,237)\",\"ticklen\":6,\"ticks\":\"inside\"}},\"colorscale\":{\"sequential\":[[0,\"rgb(20,44,66)\"],[1,\"rgb(90,179,244)\"]],\"sequentialminus\":[[0,\"rgb(20,44,66)\"],[1,\"rgb(90,179,244)\"]]},\"colorway\":[\"#F8766D\",\"#A3A500\",\"#00BF7D\",\"#00B0F6\",\"#E76BF3\"],\"font\":{\"color\":\"rgb(51,51,51)\"},\"geo\":{\"bgcolor\":\"white\",\"lakecolor\":\"white\",\"landcolor\":\"rgb(237,237,237)\",\"showlakes\":true,\"showland\":true,\"subunitcolor\":\"white\"},\"hoverlabel\":{\"align\":\"left\"},\"hovermode\":\"closest\",\"paper_bgcolor\":\"white\",\"plot_bgcolor\":\"rgb(237,237,237)\",\"polar\":{\"angularaxis\":{\"gridcolor\":\"white\",\"linecolor\":\"white\",\"showgrid\":true,\"tickcolor\":\"rgb(51,51,51)\",\"ticks\":\"outside\"},\"bgcolor\":\"rgb(237,237,237)\",\"radialaxis\":{\"gridcolor\":\"white\",\"linecolor\":\"white\",\"showgrid\":true,\"tickcolor\":\"rgb(51,51,51)\",\"ticks\":\"outside\"}},\"scene\":{\"xaxis\":{\"backgroundcolor\":\"rgb(237,237,237)\",\"gridcolor\":\"white\",\"gridwidth\":2,\"linecolor\":\"white\",\"showbackground\":true,\"showgrid\":true,\"tickcolor\":\"rgb(51,51,51)\",\"ticks\":\"outside\",\"zerolinecolor\":\"white\"},\"yaxis\":{\"backgroundcolor\":\"rgb(237,237,237)\",\"gridcolor\":\"white\",\"gridwidth\":2,\"linecolor\":\"white\",\"showbackground\":true,\"showgrid\":true,\"tickcolor\":\"rgb(51,51,51)\",\"ticks\":\"outside\",\"zerolinecolor\":\"white\"},\"zaxis\":{\"backgroundcolor\":\"rgb(237,237,237)\",\"gridcolor\":\"white\",\"gridwidth\":2,\"linecolor\":\"white\",\"showbackground\":true,\"showgrid\":true,\"tickcolor\":\"rgb(51,51,51)\",\"ticks\":\"outside\",\"zerolinecolor\":\"white\"}},\"shapedefaults\":{\"fillcolor\":\"black\",\"line\":{\"width\":0},\"opacity\":0.3},\"ternary\":{\"aaxis\":{\"gridcolor\":\"white\",\"linecolor\":\"white\",\"showgrid\":true,\"tickcolor\":\"rgb(51,51,51)\",\"ticks\":\"outside\"},\"baxis\":{\"gridcolor\":\"white\",\"linecolor\":\"white\",\"showgrid\":true,\"tickcolor\":\"rgb(51,51,51)\",\"ticks\":\"outside\"},\"bgcolor\":\"rgb(237,237,237)\",\"caxis\":{\"gridcolor\":\"white\",\"linecolor\":\"white\",\"showgrid\":true,\"tickcolor\":\"rgb(51,51,51)\",\"ticks\":\"outside\"}},\"xaxis\":{\"automargin\":true,\"gridcolor\":\"white\",\"linecolor\":\"white\",\"showgrid\":true,\"tickcolor\":\"rgb(51,51,51)\",\"ticks\":\"outside\",\"title\":{\"standoff\":15},\"zerolinecolor\":\"white\"},\"yaxis\":{\"automargin\":true,\"gridcolor\":\"white\",\"linecolor\":\"white\",\"showgrid\":true,\"tickcolor\":\"rgb(51,51,51)\",\"ticks\":\"outside\",\"title\":{\"standoff\":15},\"zerolinecolor\":\"white\"}}},\"showlegend\":true},                        {\"responsive\": true}                    ).then(function(){\n",
              "                            \n",
              "var gd = document.getElementById('02fd3a8f-45fd-41d9-8bc6-1f8ad88e82ad');\n",
              "var x = new MutationObserver(function (mutations, observer) {{\n",
              "        var display = window.getComputedStyle(gd).display;\n",
              "        if (!display || display === 'none') {{\n",
              "            console.log([gd, 'removed!']);\n",
              "            Plotly.purge(gd);\n",
              "            observer.disconnect();\n",
              "        }}\n",
              "}});\n",
              "\n",
              "// Listen for the removal of the full notebook cells\n",
              "var notebookContainer = gd.closest('#notebook-container');\n",
              "if (notebookContainer) {{\n",
              "    x.observe(notebookContainer, {childList: true});\n",
              "}}\n",
              "\n",
              "// Listen for the clearing of the current output cell\n",
              "var outputEl = gd.closest('.output');\n",
              "if (outputEl) {{\n",
              "    x.observe(outputEl, {childList: true});\n",
              "}}\n",
              "\n",
              "                        })                };                            </script>        </div>\n",
              "</body>\n",
              "</html>"
            ]
          },
          "metadata": {}
        }
      ],
      "source": [
        "plot_model(best, plot = 'forecast')"
      ]
    },
    {
      "cell_type": "code",
      "execution_count": 24,
      "metadata": {
        "colab": {
          "base_uri": "https://localhost:8080/",
          "height": 542
        },
        "id": "oh8is2FDv5XN",
        "outputId": "e48a53a5-30c2-4b3d-8ae3-f4eaeaeadaa4"
      },
      "outputs": [
        {
          "output_type": "display_data",
          "data": {
            "text/html": [
              "<html>\n",
              "<head><meta charset=\"utf-8\" /></head>\n",
              "<body>\n",
              "    <div>            <script src=\"https://cdnjs.cloudflare.com/ajax/libs/mathjax/2.7.5/MathJax.js?config=TeX-AMS-MML_SVG\"></script><script type=\"text/javascript\">if (window.MathJax) {MathJax.Hub.Config({SVG: {font: \"STIX-Web\"}});}</script>                <script type=\"text/javascript\">window.PlotlyConfig = {MathJaxConfig: 'local'};</script>\n",
              "        <script src=\"https://cdn.plot.ly/plotly-2.8.3.min.js\"></script>                <div id=\"e59bc692-b49b-484a-99d5-b3c5cb5e8a83\" class=\"plotly-graph-div\" style=\"height:525px; width:100%;\"></div>            <script type=\"text/javascript\">                                    window.PLOTLYENV=window.PLOTLYENV || {};                                    if (document.getElementById(\"e59bc692-b49b-484a-99d5-b3c5cb5e8a83\")) {                    Plotly.newPlot(                        \"e59bc692-b49b-484a-99d5-b3c5cb5e8a83\",                        [{\"line\":{\"color\":\"#1f77b4\"},\"marker\":{\"size\":5},\"mode\":\"lines+markers\",\"name\":\"Forecast | Auto ARIMA\",\"showlegend\":true,\"x\":[\"2021-09-29T00:00:00\",\"2021-09-30T00:00:00\",\"2021-10-01T00:00:00\",\"2021-10-02T00:00:00\",\"2021-10-03T00:00:00\",\"2021-10-04T00:00:00\",\"2021-10-05T00:00:00\",\"2021-10-06T00:00:00\",\"2021-10-07T00:00:00\",\"2021-10-08T00:00:00\",\"2021-10-09T00:00:00\",\"2021-10-10T00:00:00\",\"2021-10-11T00:00:00\",\"2021-10-12T00:00:00\",\"2021-10-13T00:00:00\",\"2021-10-14T00:00:00\",\"2021-10-15T00:00:00\",\"2021-10-16T00:00:00\",\"2021-10-17T00:00:00\",\"2021-10-18T00:00:00\",\"2021-10-19T00:00:00\",\"2021-10-20T00:00:00\",\"2021-10-21T00:00:00\",\"2021-10-22T00:00:00\",\"2021-10-23T00:00:00\",\"2021-10-24T00:00:00\",\"2021-10-25T00:00:00\",\"2021-10-26T00:00:00\",\"2021-10-27T00:00:00\",\"2021-10-28T00:00:00\"],\"y\":[8492.9932,8240.3275,7557.4273,4171.1321,4243.0992,7415.8715,8645.951,8618.6779,8576.3815,7893.4813,4507.186,4579.1532,7751.9254,8982.005,8954.7319,8912.4354,8229.5352,4843.2399,4915.2071,8087.9793,9318.0589,9290.7858,9248.4893,8565.5891,5179.2938,5251.261,8424.0332,9654.1128,9626.8397,9584.5432],\"type\":\"scatter\"},{\"line\":{\"width\":0},\"marker\":{\"color\":\"#68BBE3\"},\"mode\":\"lines\",\"name\":\"Lower Interval\",\"showlegend\":false,\"x\":[\"2021-09-29T00:00:00\",\"2021-09-30T00:00:00\",\"2021-10-01T00:00:00\",\"2021-10-02T00:00:00\",\"2021-10-03T00:00:00\",\"2021-10-04T00:00:00\",\"2021-10-05T00:00:00\",\"2021-10-06T00:00:00\",\"2021-10-07T00:00:00\",\"2021-10-08T00:00:00\",\"2021-10-09T00:00:00\",\"2021-10-10T00:00:00\",\"2021-10-11T00:00:00\",\"2021-10-12T00:00:00\",\"2021-10-13T00:00:00\",\"2021-10-14T00:00:00\",\"2021-10-15T00:00:00\",\"2021-10-16T00:00:00\",\"2021-10-17T00:00:00\",\"2021-10-18T00:00:00\",\"2021-10-19T00:00:00\",\"2021-10-20T00:00:00\",\"2021-10-21T00:00:00\",\"2021-10-22T00:00:00\",\"2021-10-23T00:00:00\",\"2021-10-24T00:00:00\",\"2021-10-25T00:00:00\",\"2021-10-26T00:00:00\",\"2021-10-27T00:00:00\",\"2021-10-28T00:00:00\"],\"y\":[7268.5073,6824.4993,6141.5991,2755.3038,2827.271,6000.0432,7230.1228,7095.1198,7018.2013,6335.3011,2949.0058,3020.973,6193.7452,7423.8248,7298.0529,7223.8616,6540.9614,3154.6661,3226.6333,6399.4055,7629.4851,7510.9147,7438.8934,6755.9932,3369.698,3441.6652,6614.4374,7844.5169,7731.768,7661.5266],\"type\":\"scatter\"},{\"fill\":\"tonexty\",\"fillcolor\":\"rgba(104,187,227,0.5)\",\"line\":{\"width\":0},\"marker\":{\"color\":\"#68BBE3\"},\"mode\":\"lines\",\"name\":\"Prediction Interval | Auto ARIMA\",\"showlegend\":true,\"x\":[\"2021-09-29T00:00:00\",\"2021-09-30T00:00:00\",\"2021-10-01T00:00:00\",\"2021-10-02T00:00:00\",\"2021-10-03T00:00:00\",\"2021-10-04T00:00:00\",\"2021-10-05T00:00:00\",\"2021-10-06T00:00:00\",\"2021-10-07T00:00:00\",\"2021-10-08T00:00:00\",\"2021-10-09T00:00:00\",\"2021-10-10T00:00:00\",\"2021-10-11T00:00:00\",\"2021-10-12T00:00:00\",\"2021-10-13T00:00:00\",\"2021-10-14T00:00:00\",\"2021-10-15T00:00:00\",\"2021-10-16T00:00:00\",\"2021-10-17T00:00:00\",\"2021-10-18T00:00:00\",\"2021-10-19T00:00:00\",\"2021-10-20T00:00:00\",\"2021-10-21T00:00:00\",\"2021-10-22T00:00:00\",\"2021-10-23T00:00:00\",\"2021-10-24T00:00:00\",\"2021-10-25T00:00:00\",\"2021-10-26T00:00:00\",\"2021-10-27T00:00:00\",\"2021-10-28T00:00:00\"],\"y\":[9717.4791,9656.1558,8973.2556,5586.9603,5658.9275,8831.6997,10061.7793,10142.236,10134.5617,9451.6615,6065.3662,6137.3334,9310.1056,10540.1852,10611.4108,10601.0091,9918.109,6531.8137,6603.7809,9776.5531,11006.6327,11070.6568,11058.0852,10375.185,6988.8897,7060.8569,10233.6291,11463.7087,11521.9114,11507.5599],\"type\":\"scatter\"},{\"marker\":{\"color\":\"#3f3f3f\",\"size\":5},\"mode\":\"lines+markers\",\"name\":\"Original\",\"showlegend\":true,\"x\":[\"2021-07-08T00:00:00\",\"2021-07-09T00:00:00\",\"2021-07-10T00:00:00\",\"2021-07-11T00:00:00\",\"2021-07-12T00:00:00\",\"2021-07-13T00:00:00\",\"2021-07-14T00:00:00\",\"2021-07-15T00:00:00\",\"2021-07-16T00:00:00\",\"2021-07-17T00:00:00\",\"2021-07-18T00:00:00\",\"2021-07-19T00:00:00\",\"2021-07-20T00:00:00\",\"2021-07-21T00:00:00\",\"2021-07-22T00:00:00\",\"2021-07-23T00:00:00\",\"2021-07-24T00:00:00\",\"2021-07-25T00:00:00\",\"2021-07-26T00:00:00\",\"2021-07-27T00:00:00\",\"2021-07-28T00:00:00\",\"2021-07-29T00:00:00\",\"2021-07-30T00:00:00\",\"2021-07-31T00:00:00\",\"2021-08-01T00:00:00\",\"2021-08-02T00:00:00\",\"2021-08-03T00:00:00\",\"2021-08-04T00:00:00\",\"2021-08-05T00:00:00\",\"2021-08-06T00:00:00\",\"2021-08-07T00:00:00\",\"2021-08-08T00:00:00\",\"2021-08-09T00:00:00\",\"2021-08-10T00:00:00\",\"2021-08-11T00:00:00\",\"2021-08-12T00:00:00\",\"2021-08-13T00:00:00\",\"2021-08-14T00:00:00\",\"2021-08-15T00:00:00\",\"2021-08-16T00:00:00\",\"2021-08-17T00:00:00\",\"2021-08-18T00:00:00\",\"2021-08-19T00:00:00\",\"2021-08-20T00:00:00\",\"2021-08-21T00:00:00\",\"2021-08-22T00:00:00\",\"2021-08-23T00:00:00\",\"2021-08-24T00:00:00\",\"2021-08-25T00:00:00\",\"2021-08-26T00:00:00\",\"2021-08-27T00:00:00\",\"2021-08-28T00:00:00\",\"2021-08-29T00:00:00\",\"2021-08-30T00:00:00\",\"2021-08-31T00:00:00\",\"2021-09-01T00:00:00\",\"2021-09-02T00:00:00\",\"2021-09-03T00:00:00\",\"2021-09-04T00:00:00\",\"2021-09-05T00:00:00\",\"2021-09-06T00:00:00\",\"2021-09-07T00:00:00\",\"2021-09-08T00:00:00\",\"2021-09-09T00:00:00\",\"2021-09-10T00:00:00\",\"2021-09-11T00:00:00\",\"2021-09-12T00:00:00\",\"2021-09-13T00:00:00\",\"2021-09-14T00:00:00\",\"2021-09-15T00:00:00\",\"2021-09-16T00:00:00\",\"2021-09-17T00:00:00\",\"2021-09-18T00:00:00\",\"2021-09-19T00:00:00\",\"2021-09-20T00:00:00\",\"2021-09-21T00:00:00\",\"2021-09-22T00:00:00\",\"2021-09-23T00:00:00\",\"2021-09-24T00:00:00\",\"2021-09-25T00:00:00\",\"2021-09-26T00:00:00\",\"2021-09-27T00:00:00\",\"2021-09-28T00:00:00\",\"2021-09-29T00:00:00\",\"2021-09-30T00:00:00\",\"2021-10-01T00:00:00\",\"2021-10-02T00:00:00\",\"2021-10-03T00:00:00\",\"2021-10-04T00:00:00\",\"2021-10-05T00:00:00\"],\"y\":[3773,3172,2079,2725,4542,3795,3941,4064,3474,2093,2426,4339,4064,4224,4603,4369,2532,3276,4917,4430,4977,5193,4001,1996,2538,4764,5651,5777,4789,3782,1920,2526,4481,6034,5006,4450,3112,1914,2359,3948,5727,6365,6323,5151,1947,3128,7999,7104,6457,6643,5355,2341,2367,5592,6770,6877,7272,6279,2741,2483,5456,6082,6139,5865,6362,3132,2681,5788,7001,6721,7556,7278,4026,3514,6476,7863,8418,8290,7189,3567,4088,7418,8765,7798,9212,7115,3903,5038,7843,8872],\"type\":\"scatter\"}],                        {\"title\":{\"text\":\"Actual vs. 'Out-of-Sample' Forecast | Total\"},\"xaxis\":{\"title\":{\"text\":\"Time\"}},\"yaxis\":{\"title\":{\"text\":\"Values\"}},\"template\":{\"data\":{\"barpolar\":[{\"marker\":{\"line\":{\"color\":\"rgb(237,237,237)\",\"width\":0.5},\"pattern\":{\"fillmode\":\"overlay\",\"size\":10,\"solidity\":0.2}},\"type\":\"barpolar\"}],\"bar\":[{\"error_x\":{\"color\":\"rgb(51,51,51)\"},\"error_y\":{\"color\":\"rgb(51,51,51)\"},\"marker\":{\"line\":{\"color\":\"rgb(237,237,237)\",\"width\":0.5},\"pattern\":{\"fillmode\":\"overlay\",\"size\":10,\"solidity\":0.2}},\"type\":\"bar\"}],\"carpet\":[{\"aaxis\":{\"endlinecolor\":\"rgb(51,51,51)\",\"gridcolor\":\"white\",\"linecolor\":\"white\",\"minorgridcolor\":\"white\",\"startlinecolor\":\"rgb(51,51,51)\"},\"baxis\":{\"endlinecolor\":\"rgb(51,51,51)\",\"gridcolor\":\"white\",\"linecolor\":\"white\",\"minorgridcolor\":\"white\",\"startlinecolor\":\"rgb(51,51,51)\"},\"type\":\"carpet\"}],\"choropleth\":[{\"colorbar\":{\"outlinewidth\":0,\"tickcolor\":\"rgb(237,237,237)\",\"ticklen\":6,\"ticks\":\"inside\"},\"type\":\"choropleth\"}],\"contourcarpet\":[{\"colorbar\":{\"outlinewidth\":0,\"tickcolor\":\"rgb(237,237,237)\",\"ticklen\":6,\"ticks\":\"inside\"},\"type\":\"contourcarpet\"}],\"contour\":[{\"colorbar\":{\"outlinewidth\":0,\"tickcolor\":\"rgb(237,237,237)\",\"ticklen\":6,\"ticks\":\"inside\"},\"colorscale\":[[0,\"rgb(20,44,66)\"],[1,\"rgb(90,179,244)\"]],\"type\":\"contour\"}],\"heatmapgl\":[{\"colorbar\":{\"outlinewidth\":0,\"tickcolor\":\"rgb(237,237,237)\",\"ticklen\":6,\"ticks\":\"inside\"},\"colorscale\":[[0,\"rgb(20,44,66)\"],[1,\"rgb(90,179,244)\"]],\"type\":\"heatmapgl\"}],\"heatmap\":[{\"colorbar\":{\"outlinewidth\":0,\"tickcolor\":\"rgb(237,237,237)\",\"ticklen\":6,\"ticks\":\"inside\"},\"colorscale\":[[0,\"rgb(20,44,66)\"],[1,\"rgb(90,179,244)\"]],\"type\":\"heatmap\"}],\"histogram2dcontour\":[{\"colorbar\":{\"outlinewidth\":0,\"tickcolor\":\"rgb(237,237,237)\",\"ticklen\":6,\"ticks\":\"inside\"},\"colorscale\":[[0,\"rgb(20,44,66)\"],[1,\"rgb(90,179,244)\"]],\"type\":\"histogram2dcontour\"}],\"histogram2d\":[{\"colorbar\":{\"outlinewidth\":0,\"tickcolor\":\"rgb(237,237,237)\",\"ticklen\":6,\"ticks\":\"inside\"},\"colorscale\":[[0,\"rgb(20,44,66)\"],[1,\"rgb(90,179,244)\"]],\"type\":\"histogram2d\"}],\"histogram\":[{\"marker\":{\"pattern\":{\"fillmode\":\"overlay\",\"size\":10,\"solidity\":0.2}},\"type\":\"histogram\"}],\"mesh3d\":[{\"colorbar\":{\"outlinewidth\":0,\"tickcolor\":\"rgb(237,237,237)\",\"ticklen\":6,\"ticks\":\"inside\"},\"type\":\"mesh3d\"}],\"parcoords\":[{\"line\":{\"colorbar\":{\"outlinewidth\":0,\"tickcolor\":\"rgb(237,237,237)\",\"ticklen\":6,\"ticks\":\"inside\"}},\"type\":\"parcoords\"}],\"pie\":[{\"automargin\":true,\"type\":\"pie\"}],\"scatter3d\":[{\"line\":{\"colorbar\":{\"outlinewidth\":0,\"tickcolor\":\"rgb(237,237,237)\",\"ticklen\":6,\"ticks\":\"inside\"}},\"marker\":{\"colorbar\":{\"outlinewidth\":0,\"tickcolor\":\"rgb(237,237,237)\",\"ticklen\":6,\"ticks\":\"inside\"}},\"type\":\"scatter3d\"}],\"scattercarpet\":[{\"marker\":{\"colorbar\":{\"outlinewidth\":0,\"tickcolor\":\"rgb(237,237,237)\",\"ticklen\":6,\"ticks\":\"inside\"}},\"type\":\"scattercarpet\"}],\"scattergeo\":[{\"marker\":{\"colorbar\":{\"outlinewidth\":0,\"tickcolor\":\"rgb(237,237,237)\",\"ticklen\":6,\"ticks\":\"inside\"}},\"type\":\"scattergeo\"}],\"scattergl\":[{\"marker\":{\"colorbar\":{\"outlinewidth\":0,\"tickcolor\":\"rgb(237,237,237)\",\"ticklen\":6,\"ticks\":\"inside\"}},\"type\":\"scattergl\"}],\"scattermapbox\":[{\"marker\":{\"colorbar\":{\"outlinewidth\":0,\"tickcolor\":\"rgb(237,237,237)\",\"ticklen\":6,\"ticks\":\"inside\"}},\"type\":\"scattermapbox\"}],\"scatterpolargl\":[{\"marker\":{\"colorbar\":{\"outlinewidth\":0,\"tickcolor\":\"rgb(237,237,237)\",\"ticklen\":6,\"ticks\":\"inside\"}},\"type\":\"scatterpolargl\"}],\"scatterpolar\":[{\"marker\":{\"colorbar\":{\"outlinewidth\":0,\"tickcolor\":\"rgb(237,237,237)\",\"ticklen\":6,\"ticks\":\"inside\"}},\"type\":\"scatterpolar\"}],\"scatter\":[{\"marker\":{\"colorbar\":{\"outlinewidth\":0,\"tickcolor\":\"rgb(237,237,237)\",\"ticklen\":6,\"ticks\":\"inside\"}},\"type\":\"scatter\"}],\"scatterternary\":[{\"marker\":{\"colorbar\":{\"outlinewidth\":0,\"tickcolor\":\"rgb(237,237,237)\",\"ticklen\":6,\"ticks\":\"inside\"}},\"type\":\"scatterternary\"}],\"surface\":[{\"colorbar\":{\"outlinewidth\":0,\"tickcolor\":\"rgb(237,237,237)\",\"ticklen\":6,\"ticks\":\"inside\"},\"colorscale\":[[0,\"rgb(20,44,66)\"],[1,\"rgb(90,179,244)\"]],\"type\":\"surface\"}],\"table\":[{\"cells\":{\"fill\":{\"color\":\"rgb(237,237,237)\"},\"line\":{\"color\":\"white\"}},\"header\":{\"fill\":{\"color\":\"rgb(217,217,217)\"},\"line\":{\"color\":\"white\"}},\"type\":\"table\"}]},\"layout\":{\"annotationdefaults\":{\"arrowhead\":0,\"arrowwidth\":1},\"autotypenumbers\":\"strict\",\"coloraxis\":{\"colorbar\":{\"outlinewidth\":0,\"tickcolor\":\"rgb(237,237,237)\",\"ticklen\":6,\"ticks\":\"inside\"}},\"colorscale\":{\"sequential\":[[0,\"rgb(20,44,66)\"],[1,\"rgb(90,179,244)\"]],\"sequentialminus\":[[0,\"rgb(20,44,66)\"],[1,\"rgb(90,179,244)\"]]},\"colorway\":[\"#F8766D\",\"#A3A500\",\"#00BF7D\",\"#00B0F6\",\"#E76BF3\"],\"font\":{\"color\":\"rgb(51,51,51)\"},\"geo\":{\"bgcolor\":\"white\",\"lakecolor\":\"white\",\"landcolor\":\"rgb(237,237,237)\",\"showlakes\":true,\"showland\":true,\"subunitcolor\":\"white\"},\"hoverlabel\":{\"align\":\"left\"},\"hovermode\":\"closest\",\"paper_bgcolor\":\"white\",\"plot_bgcolor\":\"rgb(237,237,237)\",\"polar\":{\"angularaxis\":{\"gridcolor\":\"white\",\"linecolor\":\"white\",\"showgrid\":true,\"tickcolor\":\"rgb(51,51,51)\",\"ticks\":\"outside\"},\"bgcolor\":\"rgb(237,237,237)\",\"radialaxis\":{\"gridcolor\":\"white\",\"linecolor\":\"white\",\"showgrid\":true,\"tickcolor\":\"rgb(51,51,51)\",\"ticks\":\"outside\"}},\"scene\":{\"xaxis\":{\"backgroundcolor\":\"rgb(237,237,237)\",\"gridcolor\":\"white\",\"gridwidth\":2,\"linecolor\":\"white\",\"showbackground\":true,\"showgrid\":true,\"tickcolor\":\"rgb(51,51,51)\",\"ticks\":\"outside\",\"zerolinecolor\":\"white\"},\"yaxis\":{\"backgroundcolor\":\"rgb(237,237,237)\",\"gridcolor\":\"white\",\"gridwidth\":2,\"linecolor\":\"white\",\"showbackground\":true,\"showgrid\":true,\"tickcolor\":\"rgb(51,51,51)\",\"ticks\":\"outside\",\"zerolinecolor\":\"white\"},\"zaxis\":{\"backgroundcolor\":\"rgb(237,237,237)\",\"gridcolor\":\"white\",\"gridwidth\":2,\"linecolor\":\"white\",\"showbackground\":true,\"showgrid\":true,\"tickcolor\":\"rgb(51,51,51)\",\"ticks\":\"outside\",\"zerolinecolor\":\"white\"}},\"shapedefaults\":{\"fillcolor\":\"black\",\"line\":{\"width\":0},\"opacity\":0.3},\"ternary\":{\"aaxis\":{\"gridcolor\":\"white\",\"linecolor\":\"white\",\"showgrid\":true,\"tickcolor\":\"rgb(51,51,51)\",\"ticks\":\"outside\"},\"baxis\":{\"gridcolor\":\"white\",\"linecolor\":\"white\",\"showgrid\":true,\"tickcolor\":\"rgb(51,51,51)\",\"ticks\":\"outside\"},\"bgcolor\":\"rgb(237,237,237)\",\"caxis\":{\"gridcolor\":\"white\",\"linecolor\":\"white\",\"showgrid\":true,\"tickcolor\":\"rgb(51,51,51)\",\"ticks\":\"outside\"}},\"xaxis\":{\"automargin\":true,\"gridcolor\":\"white\",\"linecolor\":\"white\",\"showgrid\":true,\"tickcolor\":\"rgb(51,51,51)\",\"ticks\":\"outside\",\"title\":{\"standoff\":15},\"zerolinecolor\":\"white\"},\"yaxis\":{\"automargin\":true,\"gridcolor\":\"white\",\"linecolor\":\"white\",\"showgrid\":true,\"tickcolor\":\"rgb(51,51,51)\",\"ticks\":\"outside\",\"title\":{\"standoff\":15},\"zerolinecolor\":\"white\"}}},\"showlegend\":true},                        {\"responsive\": true}                    ).then(function(){\n",
              "                            \n",
              "var gd = document.getElementById('e59bc692-b49b-484a-99d5-b3c5cb5e8a83');\n",
              "var x = new MutationObserver(function (mutations, observer) {{\n",
              "        var display = window.getComputedStyle(gd).display;\n",
              "        if (!display || display === 'none') {{\n",
              "            console.log([gd, 'removed!']);\n",
              "            Plotly.purge(gd);\n",
              "            observer.disconnect();\n",
              "        }}\n",
              "}});\n",
              "\n",
              "// Listen for the removal of the full notebook cells\n",
              "var notebookContainer = gd.closest('#notebook-container');\n",
              "if (notebookContainer) {{\n",
              "    x.observe(notebookContainer, {childList: true});\n",
              "}}\n",
              "\n",
              "// Listen for the clearing of the current output cell\n",
              "var outputEl = gd.closest('.output');\n",
              "if (outputEl) {{\n",
              "    x.observe(outputEl, {childList: true});\n",
              "}}\n",
              "\n",
              "                        })                };                            </script>        </div>\n",
              "</body>\n",
              "</html>"
            ]
          },
          "metadata": {}
        }
      ],
      "source": [
        "# forecast in unknown future\n",
        "plot_model(best, plot = 'forecast', data_kwargs = {'fh' : 30})"
      ]
    },
    {
      "cell_type": "code",
      "execution_count": 25,
      "metadata": {
        "colab": {
          "base_uri": "https://localhost:8080/",
          "height": 542
        },
        "id": "vz-aaXY2v5XO",
        "outputId": "8cf12b9d-f5ab-4b93-e24d-d9c04343e010"
      },
      "outputs": [
        {
          "output_type": "display_data",
          "data": {
            "text/html": [
              "<html>\n",
              "<head><meta charset=\"utf-8\" /></head>\n",
              "<body>\n",
              "    <div>            <script src=\"https://cdnjs.cloudflare.com/ajax/libs/mathjax/2.7.5/MathJax.js?config=TeX-AMS-MML_SVG\"></script><script type=\"text/javascript\">if (window.MathJax) {MathJax.Hub.Config({SVG: {font: \"STIX-Web\"}});}</script>                <script type=\"text/javascript\">window.PlotlyConfig = {MathJaxConfig: 'local'};</script>\n",
              "        <script src=\"https://cdn.plot.ly/plotly-2.8.3.min.js\"></script>                <div id=\"c69a380e-5283-4fec-ad9f-45b1e7a8081c\" class=\"plotly-graph-div\" style=\"height:525px; width:100%;\"></div>            <script type=\"text/javascript\">                                    window.PLOTLYENV=window.PLOTLYENV || {};                                    if (document.getElementById(\"c69a380e-5283-4fec-ad9f-45b1e7a8081c\")) {                    Plotly.newPlot(                        \"c69a380e-5283-4fec-ad9f-45b1e7a8081c\",                        [{\"line\":{\"color\":\"#1f77b4\"},\"marker\":{\"size\":5},\"mode\":\"lines+markers\",\"name\":\"Forecast | Auto ARIMA\",\"showlegend\":true,\"x\":[\"2021-07-08T00:00:00\",\"2021-07-09T00:00:00\",\"2021-07-10T00:00:00\",\"2021-07-11T00:00:00\",\"2021-07-12T00:00:00\",\"2021-07-13T00:00:00\",\"2021-07-14T00:00:00\",\"2021-07-15T00:00:00\",\"2021-07-16T00:00:00\",\"2021-07-17T00:00:00\",\"2021-07-18T00:00:00\",\"2021-07-19T00:00:00\",\"2021-07-20T00:00:00\",\"2021-07-21T00:00:00\",\"2021-07-22T00:00:00\",\"2021-07-23T00:00:00\",\"2021-07-24T00:00:00\",\"2021-07-25T00:00:00\",\"2021-07-26T00:00:00\",\"2021-07-27T00:00:00\",\"2021-07-28T00:00:00\",\"2021-07-29T00:00:00\",\"2021-07-30T00:00:00\",\"2021-07-31T00:00:00\",\"2021-08-01T00:00:00\",\"2021-08-02T00:00:00\",\"2021-08-03T00:00:00\",\"2021-08-04T00:00:00\",\"2021-08-05T00:00:00\",\"2021-08-06T00:00:00\",\"2021-08-07T00:00:00\",\"2021-08-08T00:00:00\",\"2021-08-09T00:00:00\",\"2021-08-10T00:00:00\",\"2021-08-11T00:00:00\",\"2021-08-12T00:00:00\",\"2021-08-13T00:00:00\",\"2021-08-14T00:00:00\",\"2021-08-15T00:00:00\",\"2021-08-16T00:00:00\",\"2021-08-17T00:00:00\",\"2021-08-18T00:00:00\",\"2021-08-19T00:00:00\",\"2021-08-20T00:00:00\",\"2021-08-21T00:00:00\",\"2021-08-22T00:00:00\",\"2021-08-23T00:00:00\",\"2021-08-24T00:00:00\",\"2021-08-25T00:00:00\",\"2021-08-26T00:00:00\",\"2021-08-27T00:00:00\",\"2021-08-28T00:00:00\",\"2021-08-29T00:00:00\",\"2021-08-30T00:00:00\",\"2021-08-31T00:00:00\",\"2021-09-01T00:00:00\",\"2021-09-02T00:00:00\",\"2021-09-03T00:00:00\",\"2021-09-04T00:00:00\",\"2021-09-05T00:00:00\",\"2021-09-06T00:00:00\",\"2021-09-07T00:00:00\",\"2021-09-08T00:00:00\",\"2021-09-09T00:00:00\",\"2021-09-10T00:00:00\",\"2021-09-11T00:00:00\",\"2021-09-12T00:00:00\",\"2021-09-13T00:00:00\",\"2021-09-14T00:00:00\",\"2021-09-15T00:00:00\",\"2021-09-16T00:00:00\",\"2021-09-17T00:00:00\",\"2021-09-18T00:00:00\",\"2021-09-19T00:00:00\",\"2021-09-20T00:00:00\",\"2021-09-21T00:00:00\",\"2021-09-22T00:00:00\",\"2021-09-23T00:00:00\",\"2021-09-24T00:00:00\",\"2021-09-25T00:00:00\",\"2021-09-26T00:00:00\",\"2021-09-27T00:00:00\",\"2021-09-28T00:00:00\"],\"y\":[336.0539,936.9988,739.1644,577.9507,723.6993,1025.441,611.6898,4002.0847,2864.6625,2282.6022,2346.8085,4050.874,3395.5888,3950.2193,4256.8633,3715.9159,2737.0873,2653.9336,4877.251,4041.2425,4487.9156,4961.7553,4400.9724,2548.1399,3032.9317,4759.8873,4555.675,5574.9483,5374.853,4140.5362,2542.5619,2947.8044,5005.7004,5096.9211,6211.1969,4679.7204,4360.6899,1978.6979,3246.2646,4716.1938,5583.9007,5781.3425,5625.5906,4598.8014,2996.6978,2585.0716,5291.9132,7797.7726,5938.2777,6400.3782,5110.8901,2818.7002,3222.5784,6205.6318,6609.7379,6823.3854,6716.379,5805.5551,3133.4481,3087.4417,6177.1705,6793.3175,6720.9095,6953.1874,5553.2407,3610.0841,2991.3076,6191.2831,6794.6053,7132.4879,6732.8397,7080.1612,3587.5543,3589.238,6395.6744,7398.6503,7484.2295,8118.2981,7348.5697,3970.4117,3519.0029,7122.5315,8094.4131],\"type\":\"scatter\"},{\"marker\":{\"color\":\"#3f3f3f\",\"size\":5},\"mode\":\"lines+markers\",\"name\":\"Original\",\"showlegend\":true,\"x\":[\"2021-07-08T00:00:00\",\"2021-07-09T00:00:00\",\"2021-07-10T00:00:00\",\"2021-07-11T00:00:00\",\"2021-07-12T00:00:00\",\"2021-07-13T00:00:00\",\"2021-07-14T00:00:00\",\"2021-07-15T00:00:00\",\"2021-07-16T00:00:00\",\"2021-07-17T00:00:00\",\"2021-07-18T00:00:00\",\"2021-07-19T00:00:00\",\"2021-07-20T00:00:00\",\"2021-07-21T00:00:00\",\"2021-07-22T00:00:00\",\"2021-07-23T00:00:00\",\"2021-07-24T00:00:00\",\"2021-07-25T00:00:00\",\"2021-07-26T00:00:00\",\"2021-07-27T00:00:00\",\"2021-07-28T00:00:00\",\"2021-07-29T00:00:00\",\"2021-07-30T00:00:00\",\"2021-07-31T00:00:00\",\"2021-08-01T00:00:00\",\"2021-08-02T00:00:00\",\"2021-08-03T00:00:00\",\"2021-08-04T00:00:00\",\"2021-08-05T00:00:00\",\"2021-08-06T00:00:00\",\"2021-08-07T00:00:00\",\"2021-08-08T00:00:00\",\"2021-08-09T00:00:00\",\"2021-08-10T00:00:00\",\"2021-08-11T00:00:00\",\"2021-08-12T00:00:00\",\"2021-08-13T00:00:00\",\"2021-08-14T00:00:00\",\"2021-08-15T00:00:00\",\"2021-08-16T00:00:00\",\"2021-08-17T00:00:00\",\"2021-08-18T00:00:00\",\"2021-08-19T00:00:00\",\"2021-08-20T00:00:00\",\"2021-08-21T00:00:00\",\"2021-08-22T00:00:00\",\"2021-08-23T00:00:00\",\"2021-08-24T00:00:00\",\"2021-08-25T00:00:00\",\"2021-08-26T00:00:00\",\"2021-08-27T00:00:00\",\"2021-08-28T00:00:00\",\"2021-08-29T00:00:00\",\"2021-08-30T00:00:00\",\"2021-08-31T00:00:00\",\"2021-09-01T00:00:00\",\"2021-09-02T00:00:00\",\"2021-09-03T00:00:00\",\"2021-09-04T00:00:00\",\"2021-09-05T00:00:00\",\"2021-09-06T00:00:00\",\"2021-09-07T00:00:00\",\"2021-09-08T00:00:00\",\"2021-09-09T00:00:00\",\"2021-09-10T00:00:00\",\"2021-09-11T00:00:00\",\"2021-09-12T00:00:00\",\"2021-09-13T00:00:00\",\"2021-09-14T00:00:00\",\"2021-09-15T00:00:00\",\"2021-09-16T00:00:00\",\"2021-09-17T00:00:00\",\"2021-09-18T00:00:00\",\"2021-09-19T00:00:00\",\"2021-09-20T00:00:00\",\"2021-09-21T00:00:00\",\"2021-09-22T00:00:00\",\"2021-09-23T00:00:00\",\"2021-09-24T00:00:00\",\"2021-09-25T00:00:00\",\"2021-09-26T00:00:00\",\"2021-09-27T00:00:00\",\"2021-09-28T00:00:00\",\"2021-09-29T00:00:00\",\"2021-09-30T00:00:00\",\"2021-10-01T00:00:00\",\"2021-10-02T00:00:00\",\"2021-10-03T00:00:00\",\"2021-10-04T00:00:00\",\"2021-10-05T00:00:00\"],\"y\":[3773,3172,2079,2725,4542,3795,3941,4064,3474,2093,2426,4339,4064,4224,4603,4369,2532,3276,4917,4430,4977,5193,4001,1996,2538,4764,5651,5777,4789,3782,1920,2526,4481,6034,5006,4450,3112,1914,2359,3948,5727,6365,6323,5151,1947,3128,7999,7104,6457,6643,5355,2341,2367,5592,6770,6877,7272,6279,2741,2483,5456,6082,6139,5865,6362,3132,2681,5788,7001,6721,7556,7278,4026,3514,6476,7863,8418,8290,7189,3567,4088,7418,8765,7798,9212,7115,3903,5038,7843,8872],\"type\":\"scatter\"}],                        {\"title\":{\"text\":\"Actual vs. 'In-Sample' Forecast | Total\"},\"xaxis\":{\"title\":{\"text\":\"Time\"}},\"yaxis\":{\"title\":{\"text\":\"Values\"}},\"template\":{\"data\":{\"barpolar\":[{\"marker\":{\"line\":{\"color\":\"rgb(237,237,237)\",\"width\":0.5},\"pattern\":{\"fillmode\":\"overlay\",\"size\":10,\"solidity\":0.2}},\"type\":\"barpolar\"}],\"bar\":[{\"error_x\":{\"color\":\"rgb(51,51,51)\"},\"error_y\":{\"color\":\"rgb(51,51,51)\"},\"marker\":{\"line\":{\"color\":\"rgb(237,237,237)\",\"width\":0.5},\"pattern\":{\"fillmode\":\"overlay\",\"size\":10,\"solidity\":0.2}},\"type\":\"bar\"}],\"carpet\":[{\"aaxis\":{\"endlinecolor\":\"rgb(51,51,51)\",\"gridcolor\":\"white\",\"linecolor\":\"white\",\"minorgridcolor\":\"white\",\"startlinecolor\":\"rgb(51,51,51)\"},\"baxis\":{\"endlinecolor\":\"rgb(51,51,51)\",\"gridcolor\":\"white\",\"linecolor\":\"white\",\"minorgridcolor\":\"white\",\"startlinecolor\":\"rgb(51,51,51)\"},\"type\":\"carpet\"}],\"choropleth\":[{\"colorbar\":{\"outlinewidth\":0,\"tickcolor\":\"rgb(237,237,237)\",\"ticklen\":6,\"ticks\":\"inside\"},\"type\":\"choropleth\"}],\"contourcarpet\":[{\"colorbar\":{\"outlinewidth\":0,\"tickcolor\":\"rgb(237,237,237)\",\"ticklen\":6,\"ticks\":\"inside\"},\"type\":\"contourcarpet\"}],\"contour\":[{\"colorbar\":{\"outlinewidth\":0,\"tickcolor\":\"rgb(237,237,237)\",\"ticklen\":6,\"ticks\":\"inside\"},\"colorscale\":[[0,\"rgb(20,44,66)\"],[1,\"rgb(90,179,244)\"]],\"type\":\"contour\"}],\"heatmapgl\":[{\"colorbar\":{\"outlinewidth\":0,\"tickcolor\":\"rgb(237,237,237)\",\"ticklen\":6,\"ticks\":\"inside\"},\"colorscale\":[[0,\"rgb(20,44,66)\"],[1,\"rgb(90,179,244)\"]],\"type\":\"heatmapgl\"}],\"heatmap\":[{\"colorbar\":{\"outlinewidth\":0,\"tickcolor\":\"rgb(237,237,237)\",\"ticklen\":6,\"ticks\":\"inside\"},\"colorscale\":[[0,\"rgb(20,44,66)\"],[1,\"rgb(90,179,244)\"]],\"type\":\"heatmap\"}],\"histogram2dcontour\":[{\"colorbar\":{\"outlinewidth\":0,\"tickcolor\":\"rgb(237,237,237)\",\"ticklen\":6,\"ticks\":\"inside\"},\"colorscale\":[[0,\"rgb(20,44,66)\"],[1,\"rgb(90,179,244)\"]],\"type\":\"histogram2dcontour\"}],\"histogram2d\":[{\"colorbar\":{\"outlinewidth\":0,\"tickcolor\":\"rgb(237,237,237)\",\"ticklen\":6,\"ticks\":\"inside\"},\"colorscale\":[[0,\"rgb(20,44,66)\"],[1,\"rgb(90,179,244)\"]],\"type\":\"histogram2d\"}],\"histogram\":[{\"marker\":{\"pattern\":{\"fillmode\":\"overlay\",\"size\":10,\"solidity\":0.2}},\"type\":\"histogram\"}],\"mesh3d\":[{\"colorbar\":{\"outlinewidth\":0,\"tickcolor\":\"rgb(237,237,237)\",\"ticklen\":6,\"ticks\":\"inside\"},\"type\":\"mesh3d\"}],\"parcoords\":[{\"line\":{\"colorbar\":{\"outlinewidth\":0,\"tickcolor\":\"rgb(237,237,237)\",\"ticklen\":6,\"ticks\":\"inside\"}},\"type\":\"parcoords\"}],\"pie\":[{\"automargin\":true,\"type\":\"pie\"}],\"scatter3d\":[{\"line\":{\"colorbar\":{\"outlinewidth\":0,\"tickcolor\":\"rgb(237,237,237)\",\"ticklen\":6,\"ticks\":\"inside\"}},\"marker\":{\"colorbar\":{\"outlinewidth\":0,\"tickcolor\":\"rgb(237,237,237)\",\"ticklen\":6,\"ticks\":\"inside\"}},\"type\":\"scatter3d\"}],\"scattercarpet\":[{\"marker\":{\"colorbar\":{\"outlinewidth\":0,\"tickcolor\":\"rgb(237,237,237)\",\"ticklen\":6,\"ticks\":\"inside\"}},\"type\":\"scattercarpet\"}],\"scattergeo\":[{\"marker\":{\"colorbar\":{\"outlinewidth\":0,\"tickcolor\":\"rgb(237,237,237)\",\"ticklen\":6,\"ticks\":\"inside\"}},\"type\":\"scattergeo\"}],\"scattergl\":[{\"marker\":{\"colorbar\":{\"outlinewidth\":0,\"tickcolor\":\"rgb(237,237,237)\",\"ticklen\":6,\"ticks\":\"inside\"}},\"type\":\"scattergl\"}],\"scattermapbox\":[{\"marker\":{\"colorbar\":{\"outlinewidth\":0,\"tickcolor\":\"rgb(237,237,237)\",\"ticklen\":6,\"ticks\":\"inside\"}},\"type\":\"scattermapbox\"}],\"scatterpolargl\":[{\"marker\":{\"colorbar\":{\"outlinewidth\":0,\"tickcolor\":\"rgb(237,237,237)\",\"ticklen\":6,\"ticks\":\"inside\"}},\"type\":\"scatterpolargl\"}],\"scatterpolar\":[{\"marker\":{\"colorbar\":{\"outlinewidth\":0,\"tickcolor\":\"rgb(237,237,237)\",\"ticklen\":6,\"ticks\":\"inside\"}},\"type\":\"scatterpolar\"}],\"scatter\":[{\"marker\":{\"colorbar\":{\"outlinewidth\":0,\"tickcolor\":\"rgb(237,237,237)\",\"ticklen\":6,\"ticks\":\"inside\"}},\"type\":\"scatter\"}],\"scatterternary\":[{\"marker\":{\"colorbar\":{\"outlinewidth\":0,\"tickcolor\":\"rgb(237,237,237)\",\"ticklen\":6,\"ticks\":\"inside\"}},\"type\":\"scatterternary\"}],\"surface\":[{\"colorbar\":{\"outlinewidth\":0,\"tickcolor\":\"rgb(237,237,237)\",\"ticklen\":6,\"ticks\":\"inside\"},\"colorscale\":[[0,\"rgb(20,44,66)\"],[1,\"rgb(90,179,244)\"]],\"type\":\"surface\"}],\"table\":[{\"cells\":{\"fill\":{\"color\":\"rgb(237,237,237)\"},\"line\":{\"color\":\"white\"}},\"header\":{\"fill\":{\"color\":\"rgb(217,217,217)\"},\"line\":{\"color\":\"white\"}},\"type\":\"table\"}]},\"layout\":{\"annotationdefaults\":{\"arrowhead\":0,\"arrowwidth\":1},\"autotypenumbers\":\"strict\",\"coloraxis\":{\"colorbar\":{\"outlinewidth\":0,\"tickcolor\":\"rgb(237,237,237)\",\"ticklen\":6,\"ticks\":\"inside\"}},\"colorscale\":{\"sequential\":[[0,\"rgb(20,44,66)\"],[1,\"rgb(90,179,244)\"]],\"sequentialminus\":[[0,\"rgb(20,44,66)\"],[1,\"rgb(90,179,244)\"]]},\"colorway\":[\"#F8766D\",\"#A3A500\",\"#00BF7D\",\"#00B0F6\",\"#E76BF3\"],\"font\":{\"color\":\"rgb(51,51,51)\"},\"geo\":{\"bgcolor\":\"white\",\"lakecolor\":\"white\",\"landcolor\":\"rgb(237,237,237)\",\"showlakes\":true,\"showland\":true,\"subunitcolor\":\"white\"},\"hoverlabel\":{\"align\":\"left\"},\"hovermode\":\"closest\",\"paper_bgcolor\":\"white\",\"plot_bgcolor\":\"rgb(237,237,237)\",\"polar\":{\"angularaxis\":{\"gridcolor\":\"white\",\"linecolor\":\"white\",\"showgrid\":true,\"tickcolor\":\"rgb(51,51,51)\",\"ticks\":\"outside\"},\"bgcolor\":\"rgb(237,237,237)\",\"radialaxis\":{\"gridcolor\":\"white\",\"linecolor\":\"white\",\"showgrid\":true,\"tickcolor\":\"rgb(51,51,51)\",\"ticks\":\"outside\"}},\"scene\":{\"xaxis\":{\"backgroundcolor\":\"rgb(237,237,237)\",\"gridcolor\":\"white\",\"gridwidth\":2,\"linecolor\":\"white\",\"showbackground\":true,\"showgrid\":true,\"tickcolor\":\"rgb(51,51,51)\",\"ticks\":\"outside\",\"zerolinecolor\":\"white\"},\"yaxis\":{\"backgroundcolor\":\"rgb(237,237,237)\",\"gridcolor\":\"white\",\"gridwidth\":2,\"linecolor\":\"white\",\"showbackground\":true,\"showgrid\":true,\"tickcolor\":\"rgb(51,51,51)\",\"ticks\":\"outside\",\"zerolinecolor\":\"white\"},\"zaxis\":{\"backgroundcolor\":\"rgb(237,237,237)\",\"gridcolor\":\"white\",\"gridwidth\":2,\"linecolor\":\"white\",\"showbackground\":true,\"showgrid\":true,\"tickcolor\":\"rgb(51,51,51)\",\"ticks\":\"outside\",\"zerolinecolor\":\"white\"}},\"shapedefaults\":{\"fillcolor\":\"black\",\"line\":{\"width\":0},\"opacity\":0.3},\"ternary\":{\"aaxis\":{\"gridcolor\":\"white\",\"linecolor\":\"white\",\"showgrid\":true,\"tickcolor\":\"rgb(51,51,51)\",\"ticks\":\"outside\"},\"baxis\":{\"gridcolor\":\"white\",\"linecolor\":\"white\",\"showgrid\":true,\"tickcolor\":\"rgb(51,51,51)\",\"ticks\":\"outside\"},\"bgcolor\":\"rgb(237,237,237)\",\"caxis\":{\"gridcolor\":\"white\",\"linecolor\":\"white\",\"showgrid\":true,\"tickcolor\":\"rgb(51,51,51)\",\"ticks\":\"outside\"}},\"xaxis\":{\"automargin\":true,\"gridcolor\":\"white\",\"linecolor\":\"white\",\"showgrid\":true,\"tickcolor\":\"rgb(51,51,51)\",\"ticks\":\"outside\",\"title\":{\"standoff\":15},\"zerolinecolor\":\"white\"},\"yaxis\":{\"automargin\":true,\"gridcolor\":\"white\",\"linecolor\":\"white\",\"showgrid\":true,\"tickcolor\":\"rgb(51,51,51)\",\"ticks\":\"outside\",\"title\":{\"standoff\":15},\"zerolinecolor\":\"white\"}}},\"showlegend\":true},                        {\"responsive\": true}                    ).then(function(){\n",
              "                            \n",
              "var gd = document.getElementById('c69a380e-5283-4fec-ad9f-45b1e7a8081c');\n",
              "var x = new MutationObserver(function (mutations, observer) {{\n",
              "        var display = window.getComputedStyle(gd).display;\n",
              "        if (!display || display === 'none') {{\n",
              "            console.log([gd, 'removed!']);\n",
              "            Plotly.purge(gd);\n",
              "            observer.disconnect();\n",
              "        }}\n",
              "}});\n",
              "\n",
              "// Listen for the removal of the full notebook cells\n",
              "var notebookContainer = gd.closest('#notebook-container');\n",
              "if (notebookContainer) {{\n",
              "    x.observe(notebookContainer, {childList: true});\n",
              "}}\n",
              "\n",
              "// Listen for the clearing of the current output cell\n",
              "var outputEl = gd.closest('.output');\n",
              "if (outputEl) {{\n",
              "    x.observe(outputEl, {childList: true});\n",
              "}}\n",
              "\n",
              "                        })                };                            </script>        </div>\n",
              "</body>\n",
              "</html>"
            ]
          },
          "metadata": {}
        }
      ],
      "source": [
        "# in-sample plot\n",
        "plot_model(best, plot = 'insample')"
      ]
    },
    {
      "cell_type": "code",
      "execution_count": 26,
      "metadata": {
        "colab": {
          "base_uri": "https://localhost:8080/",
          "height": 542
        },
        "id": "s0srPmvZv5XQ",
        "outputId": "655c5fd4-6221-4024-c356-f74bfe080c2d"
      },
      "outputs": [
        {
          "output_type": "display_data",
          "data": {
            "text/html": [
              "<html>\n",
              "<head><meta charset=\"utf-8\" /></head>\n",
              "<body>\n",
              "    <div>            <script src=\"https://cdnjs.cloudflare.com/ajax/libs/mathjax/2.7.5/MathJax.js?config=TeX-AMS-MML_SVG\"></script><script type=\"text/javascript\">if (window.MathJax) {MathJax.Hub.Config({SVG: {font: \"STIX-Web\"}});}</script>                <script type=\"text/javascript\">window.PlotlyConfig = {MathJaxConfig: 'local'};</script>\n",
              "        <script src=\"https://cdn.plot.ly/plotly-2.8.3.min.js\"></script>                <div id=\"ace32377-8256-4157-a309-473b94042a95\" class=\"plotly-graph-div\" style=\"height:525px; width:100%;\"></div>            <script type=\"text/javascript\">                                    window.PLOTLYENV=window.PLOTLYENV || {};                                    if (document.getElementById(\"ace32377-8256-4157-a309-473b94042a95\")) {                    Plotly.newPlot(                        \"ace32377-8256-4157-a309-473b94042a95\",                        [{\"marker\":{\"color\":\"#3f3f3f\",\"size\":5},\"mode\":\"lines+markers\",\"name\":\"Residuals | Auto ARIMA\",\"showlegend\":true,\"x\":[\"2021-07-08T00:00:00\",\"2021-07-09T00:00:00\",\"2021-07-10T00:00:00\",\"2021-07-11T00:00:00\",\"2021-07-12T00:00:00\",\"2021-07-13T00:00:00\",\"2021-07-14T00:00:00\",\"2021-07-15T00:00:00\",\"2021-07-16T00:00:00\",\"2021-07-17T00:00:00\",\"2021-07-18T00:00:00\",\"2021-07-19T00:00:00\",\"2021-07-20T00:00:00\",\"2021-07-21T00:00:00\",\"2021-07-22T00:00:00\",\"2021-07-23T00:00:00\",\"2021-07-24T00:00:00\",\"2021-07-25T00:00:00\",\"2021-07-26T00:00:00\",\"2021-07-27T00:00:00\",\"2021-07-28T00:00:00\",\"2021-07-29T00:00:00\",\"2021-07-30T00:00:00\",\"2021-07-31T00:00:00\",\"2021-08-01T00:00:00\",\"2021-08-02T00:00:00\",\"2021-08-03T00:00:00\",\"2021-08-04T00:00:00\",\"2021-08-05T00:00:00\",\"2021-08-06T00:00:00\",\"2021-08-07T00:00:00\",\"2021-08-08T00:00:00\",\"2021-08-09T00:00:00\",\"2021-08-10T00:00:00\",\"2021-08-11T00:00:00\",\"2021-08-12T00:00:00\",\"2021-08-13T00:00:00\",\"2021-08-14T00:00:00\",\"2021-08-15T00:00:00\",\"2021-08-16T00:00:00\",\"2021-08-17T00:00:00\",\"2021-08-18T00:00:00\",\"2021-08-19T00:00:00\",\"2021-08-20T00:00:00\",\"2021-08-21T00:00:00\",\"2021-08-22T00:00:00\",\"2021-08-23T00:00:00\",\"2021-08-24T00:00:00\",\"2021-08-25T00:00:00\",\"2021-08-26T00:00:00\",\"2021-08-27T00:00:00\",\"2021-08-28T00:00:00\",\"2021-08-29T00:00:00\",\"2021-08-30T00:00:00\",\"2021-08-31T00:00:00\",\"2021-09-01T00:00:00\",\"2021-09-02T00:00:00\",\"2021-09-03T00:00:00\",\"2021-09-04T00:00:00\",\"2021-09-05T00:00:00\",\"2021-09-06T00:00:00\",\"2021-09-07T00:00:00\",\"2021-09-08T00:00:00\",\"2021-09-09T00:00:00\",\"2021-09-10T00:00:00\",\"2021-09-11T00:00:00\",\"2021-09-12T00:00:00\",\"2021-09-13T00:00:00\",\"2021-09-14T00:00:00\",\"2021-09-15T00:00:00\",\"2021-09-16T00:00:00\",\"2021-09-17T00:00:00\",\"2021-09-18T00:00:00\",\"2021-09-19T00:00:00\",\"2021-09-20T00:00:00\",\"2021-09-21T00:00:00\",\"2021-09-22T00:00:00\",\"2021-09-23T00:00:00\",\"2021-09-24T00:00:00\",\"2021-09-25T00:00:00\",\"2021-09-26T00:00:00\",\"2021-09-27T00:00:00\",\"2021-09-28T00:00:00\"],\"y\":[3436.9460766127054,2235.001185076936,1339.8355604285034,2147.049343596538,3818.3007013245906,2769.5589524460866,3329.3102005759215,61.9153118889426,609.3374605032177,-189.60224170852598,79.19150890862966,288.1260457965668,668.41115927805,273.7807291914992,346.1366952218159,653.084070774124,-205.08731850378535,622.0663966670413,39.74895570259832,388.75747396929137,489.0844126690163,231.24465158578823,-399.9723976630903,-552.1398548012094,-494.9317299707491,4.112721482551024,1095.325014935166,202.05174064488347,-585.852984029626,-358.5362429683837,-622.5619147271473,-421.80435897018515,-524.7003658295935,937.0789089422078,-1205.1968704070368,-229.7203995838463,-1248.6899347240078,-64.6979315484632,-887.264559738423,-768.1938382135486,143.09932464219855,583.6575124485562,697.4094058629835,552.1985625988909,-1049.6977511119676,542.9284057950636,2707.086816566929,-693.7725733528941,518.722301400966,242.6217528981888,244.10993281808624,-477.70021001793975,-855.5784329775902,-613.6317988444434,160.2621349814981,53.614581731688304,555.6210260014959,473.4448514355681,-392.44808282680424,-604.441745411229,-721.1705253357486,-711.3175124667996,-581.9095361948675,-1088.1874353016792,808.7593041136715,-478.0841239042006,-310.3076328881252,-403.28310761522334,206.39474586830602,-411.4878901333532,823.1603439813425,197.838824294402,438.44571714799895,-75.23803395850518,80.32555058858543,464.34970930574127,933.7704695941175,171.7018517922943,-159.5697454400597,-403.4117287469239,568.9971352109587,295.4684775241585,670.5869148072434],\"type\":\"scatter\"}],                        {\"title\":{\"text\":\"Residuals\"},\"xaxis\":{\"title\":{\"text\":\"Time\"}},\"yaxis\":{\"title\":{\"text\":\"Values\"}},\"template\":{\"data\":{\"barpolar\":[{\"marker\":{\"line\":{\"color\":\"rgb(237,237,237)\",\"width\":0.5},\"pattern\":{\"fillmode\":\"overlay\",\"size\":10,\"solidity\":0.2}},\"type\":\"barpolar\"}],\"bar\":[{\"error_x\":{\"color\":\"rgb(51,51,51)\"},\"error_y\":{\"color\":\"rgb(51,51,51)\"},\"marker\":{\"line\":{\"color\":\"rgb(237,237,237)\",\"width\":0.5},\"pattern\":{\"fillmode\":\"overlay\",\"size\":10,\"solidity\":0.2}},\"type\":\"bar\"}],\"carpet\":[{\"aaxis\":{\"endlinecolor\":\"rgb(51,51,51)\",\"gridcolor\":\"white\",\"linecolor\":\"white\",\"minorgridcolor\":\"white\",\"startlinecolor\":\"rgb(51,51,51)\"},\"baxis\":{\"endlinecolor\":\"rgb(51,51,51)\",\"gridcolor\":\"white\",\"linecolor\":\"white\",\"minorgridcolor\":\"white\",\"startlinecolor\":\"rgb(51,51,51)\"},\"type\":\"carpet\"}],\"choropleth\":[{\"colorbar\":{\"outlinewidth\":0,\"tickcolor\":\"rgb(237,237,237)\",\"ticklen\":6,\"ticks\":\"inside\"},\"type\":\"choropleth\"}],\"contourcarpet\":[{\"colorbar\":{\"outlinewidth\":0,\"tickcolor\":\"rgb(237,237,237)\",\"ticklen\":6,\"ticks\":\"inside\"},\"type\":\"contourcarpet\"}],\"contour\":[{\"colorbar\":{\"outlinewidth\":0,\"tickcolor\":\"rgb(237,237,237)\",\"ticklen\":6,\"ticks\":\"inside\"},\"colorscale\":[[0,\"rgb(20,44,66)\"],[1,\"rgb(90,179,244)\"]],\"type\":\"contour\"}],\"heatmapgl\":[{\"colorbar\":{\"outlinewidth\":0,\"tickcolor\":\"rgb(237,237,237)\",\"ticklen\":6,\"ticks\":\"inside\"},\"colorscale\":[[0,\"rgb(20,44,66)\"],[1,\"rgb(90,179,244)\"]],\"type\":\"heatmapgl\"}],\"heatmap\":[{\"colorbar\":{\"outlinewidth\":0,\"tickcolor\":\"rgb(237,237,237)\",\"ticklen\":6,\"ticks\":\"inside\"},\"colorscale\":[[0,\"rgb(20,44,66)\"],[1,\"rgb(90,179,244)\"]],\"type\":\"heatmap\"}],\"histogram2dcontour\":[{\"colorbar\":{\"outlinewidth\":0,\"tickcolor\":\"rgb(237,237,237)\",\"ticklen\":6,\"ticks\":\"inside\"},\"colorscale\":[[0,\"rgb(20,44,66)\"],[1,\"rgb(90,179,244)\"]],\"type\":\"histogram2dcontour\"}],\"histogram2d\":[{\"colorbar\":{\"outlinewidth\":0,\"tickcolor\":\"rgb(237,237,237)\",\"ticklen\":6,\"ticks\":\"inside\"},\"colorscale\":[[0,\"rgb(20,44,66)\"],[1,\"rgb(90,179,244)\"]],\"type\":\"histogram2d\"}],\"histogram\":[{\"marker\":{\"pattern\":{\"fillmode\":\"overlay\",\"size\":10,\"solidity\":0.2}},\"type\":\"histogram\"}],\"mesh3d\":[{\"colorbar\":{\"outlinewidth\":0,\"tickcolor\":\"rgb(237,237,237)\",\"ticklen\":6,\"ticks\":\"inside\"},\"type\":\"mesh3d\"}],\"parcoords\":[{\"line\":{\"colorbar\":{\"outlinewidth\":0,\"tickcolor\":\"rgb(237,237,237)\",\"ticklen\":6,\"ticks\":\"inside\"}},\"type\":\"parcoords\"}],\"pie\":[{\"automargin\":true,\"type\":\"pie\"}],\"scatter3d\":[{\"line\":{\"colorbar\":{\"outlinewidth\":0,\"tickcolor\":\"rgb(237,237,237)\",\"ticklen\":6,\"ticks\":\"inside\"}},\"marker\":{\"colorbar\":{\"outlinewidth\":0,\"tickcolor\":\"rgb(237,237,237)\",\"ticklen\":6,\"ticks\":\"inside\"}},\"type\":\"scatter3d\"}],\"scattercarpet\":[{\"marker\":{\"colorbar\":{\"outlinewidth\":0,\"tickcolor\":\"rgb(237,237,237)\",\"ticklen\":6,\"ticks\":\"inside\"}},\"type\":\"scattercarpet\"}],\"scattergeo\":[{\"marker\":{\"colorbar\":{\"outlinewidth\":0,\"tickcolor\":\"rgb(237,237,237)\",\"ticklen\":6,\"ticks\":\"inside\"}},\"type\":\"scattergeo\"}],\"scattergl\":[{\"marker\":{\"colorbar\":{\"outlinewidth\":0,\"tickcolor\":\"rgb(237,237,237)\",\"ticklen\":6,\"ticks\":\"inside\"}},\"type\":\"scattergl\"}],\"scattermapbox\":[{\"marker\":{\"colorbar\":{\"outlinewidth\":0,\"tickcolor\":\"rgb(237,237,237)\",\"ticklen\":6,\"ticks\":\"inside\"}},\"type\":\"scattermapbox\"}],\"scatterpolargl\":[{\"marker\":{\"colorbar\":{\"outlinewidth\":0,\"tickcolor\":\"rgb(237,237,237)\",\"ticklen\":6,\"ticks\":\"inside\"}},\"type\":\"scatterpolargl\"}],\"scatterpolar\":[{\"marker\":{\"colorbar\":{\"outlinewidth\":0,\"tickcolor\":\"rgb(237,237,237)\",\"ticklen\":6,\"ticks\":\"inside\"}},\"type\":\"scatterpolar\"}],\"scatter\":[{\"marker\":{\"colorbar\":{\"outlinewidth\":0,\"tickcolor\":\"rgb(237,237,237)\",\"ticklen\":6,\"ticks\":\"inside\"}},\"type\":\"scatter\"}],\"scatterternary\":[{\"marker\":{\"colorbar\":{\"outlinewidth\":0,\"tickcolor\":\"rgb(237,237,237)\",\"ticklen\":6,\"ticks\":\"inside\"}},\"type\":\"scatterternary\"}],\"surface\":[{\"colorbar\":{\"outlinewidth\":0,\"tickcolor\":\"rgb(237,237,237)\",\"ticklen\":6,\"ticks\":\"inside\"},\"colorscale\":[[0,\"rgb(20,44,66)\"],[1,\"rgb(90,179,244)\"]],\"type\":\"surface\"}],\"table\":[{\"cells\":{\"fill\":{\"color\":\"rgb(237,237,237)\"},\"line\":{\"color\":\"white\"}},\"header\":{\"fill\":{\"color\":\"rgb(217,217,217)\"},\"line\":{\"color\":\"white\"}},\"type\":\"table\"}]},\"layout\":{\"annotationdefaults\":{\"arrowhead\":0,\"arrowwidth\":1},\"autotypenumbers\":\"strict\",\"coloraxis\":{\"colorbar\":{\"outlinewidth\":0,\"tickcolor\":\"rgb(237,237,237)\",\"ticklen\":6,\"ticks\":\"inside\"}},\"colorscale\":{\"sequential\":[[0,\"rgb(20,44,66)\"],[1,\"rgb(90,179,244)\"]],\"sequentialminus\":[[0,\"rgb(20,44,66)\"],[1,\"rgb(90,179,244)\"]]},\"colorway\":[\"#F8766D\",\"#A3A500\",\"#00BF7D\",\"#00B0F6\",\"#E76BF3\"],\"font\":{\"color\":\"rgb(51,51,51)\"},\"geo\":{\"bgcolor\":\"white\",\"lakecolor\":\"white\",\"landcolor\":\"rgb(237,237,237)\",\"showlakes\":true,\"showland\":true,\"subunitcolor\":\"white\"},\"hoverlabel\":{\"align\":\"left\"},\"hovermode\":\"closest\",\"paper_bgcolor\":\"white\",\"plot_bgcolor\":\"rgb(237,237,237)\",\"polar\":{\"angularaxis\":{\"gridcolor\":\"white\",\"linecolor\":\"white\",\"showgrid\":true,\"tickcolor\":\"rgb(51,51,51)\",\"ticks\":\"outside\"},\"bgcolor\":\"rgb(237,237,237)\",\"radialaxis\":{\"gridcolor\":\"white\",\"linecolor\":\"white\",\"showgrid\":true,\"tickcolor\":\"rgb(51,51,51)\",\"ticks\":\"outside\"}},\"scene\":{\"xaxis\":{\"backgroundcolor\":\"rgb(237,237,237)\",\"gridcolor\":\"white\",\"gridwidth\":2,\"linecolor\":\"white\",\"showbackground\":true,\"showgrid\":true,\"tickcolor\":\"rgb(51,51,51)\",\"ticks\":\"outside\",\"zerolinecolor\":\"white\"},\"yaxis\":{\"backgroundcolor\":\"rgb(237,237,237)\",\"gridcolor\":\"white\",\"gridwidth\":2,\"linecolor\":\"white\",\"showbackground\":true,\"showgrid\":true,\"tickcolor\":\"rgb(51,51,51)\",\"ticks\":\"outside\",\"zerolinecolor\":\"white\"},\"zaxis\":{\"backgroundcolor\":\"rgb(237,237,237)\",\"gridcolor\":\"white\",\"gridwidth\":2,\"linecolor\":\"white\",\"showbackground\":true,\"showgrid\":true,\"tickcolor\":\"rgb(51,51,51)\",\"ticks\":\"outside\",\"zerolinecolor\":\"white\"}},\"shapedefaults\":{\"fillcolor\":\"black\",\"line\":{\"width\":0},\"opacity\":0.3},\"ternary\":{\"aaxis\":{\"gridcolor\":\"white\",\"linecolor\":\"white\",\"showgrid\":true,\"tickcolor\":\"rgb(51,51,51)\",\"ticks\":\"outside\"},\"baxis\":{\"gridcolor\":\"white\",\"linecolor\":\"white\",\"showgrid\":true,\"tickcolor\":\"rgb(51,51,51)\",\"ticks\":\"outside\"},\"bgcolor\":\"rgb(237,237,237)\",\"caxis\":{\"gridcolor\":\"white\",\"linecolor\":\"white\",\"showgrid\":true,\"tickcolor\":\"rgb(51,51,51)\",\"ticks\":\"outside\"}},\"xaxis\":{\"automargin\":true,\"gridcolor\":\"white\",\"linecolor\":\"white\",\"showgrid\":true,\"tickcolor\":\"rgb(51,51,51)\",\"ticks\":\"outside\",\"title\":{\"standoff\":15},\"zerolinecolor\":\"white\"},\"yaxis\":{\"automargin\":true,\"gridcolor\":\"white\",\"linecolor\":\"white\",\"showgrid\":true,\"tickcolor\":\"rgb(51,51,51)\",\"ticks\":\"outside\",\"title\":{\"standoff\":15},\"zerolinecolor\":\"white\"}}},\"showlegend\":true},                        {\"responsive\": true}                    ).then(function(){\n",
              "                            \n",
              "var gd = document.getElementById('ace32377-8256-4157-a309-473b94042a95');\n",
              "var x = new MutationObserver(function (mutations, observer) {{\n",
              "        var display = window.getComputedStyle(gd).display;\n",
              "        if (!display || display === 'none') {{\n",
              "            console.log([gd, 'removed!']);\n",
              "            Plotly.purge(gd);\n",
              "            observer.disconnect();\n",
              "        }}\n",
              "}});\n",
              "\n",
              "// Listen for the removal of the full notebook cells\n",
              "var notebookContainer = gd.closest('#notebook-container');\n",
              "if (notebookContainer) {{\n",
              "    x.observe(notebookContainer, {childList: true});\n",
              "}}\n",
              "\n",
              "// Listen for the clearing of the current output cell\n",
              "var outputEl = gd.closest('.output');\n",
              "if (outputEl) {{\n",
              "    x.observe(outputEl, {childList: true});\n",
              "}}\n",
              "\n",
              "                        })                };                            </script>        </div>\n",
              "</body>\n",
              "</html>"
            ]
          },
          "metadata": {}
        }
      ],
      "source": [
        "# residuals plot\n",
        "plot_model(best, plot = 'residuals')"
      ]
    },
    {
      "cell_type": "code",
      "execution_count": null,
      "metadata": {
        "id": "epxhb3nvv5XR",
        "outputId": "30d29a07-38cc-41b4-dfc0-a2f3a6e1f431"
      },
      "outputs": [
        {
          "data": {
            "application/vnd.plotly.v1+json": {
              "config": {
                "plotlyServerURL": "https://plot.ly"
              },
              "data": [
                {
                  "marker": {
                    "color": "#1f77b4"
                  },
                  "mode": "markers",
                  "showlegend": false,
                  "type": "scatter",
                  "x": [
                    -2.260188991329375,
                    -1.9807523966472789,
                    -1.8027430907391904,
                    -1.6683911939470795,
                    -1.5587835495029956,
                    -1.465233792685523,
                    -1.382994127100638,
                    -1.309171716785777,
                    -1.2418667918433202,
                    -1.1797611176118612,
                    -1.1219004674623523,
                    -1.0675705238781414,
                    -1.0162217327405565,
                    -0.967421566101701,
                    -0.9208229763683788,
                    -0.8761428492468408,
                    -0.8331468660796096,
                    -0.7916386077433746,
                    -0.7514515438490051,
                    -0.712443032389489,
                    -0.6744897501960817,
                    -0.6374841609623769,
                    -0.6013317483706249,
                    -0.5659488219328631,
                    -0.5312607573635746,
                    -0.49720057068155404,
                    -0.463707751457179,
                    -0.43072729929545756,
                    -0.3982089211336604,
                    -0.36610635680056963,
                    -0.33437680758881416,
                    -0.30298044805620655,
                    -0.2718800053992609,
                    -0.24104039388602685,
                    -0.2104283942479247,
                    -0.1800123697927051,
                    -0.14976201244462692,
                    -0.11964811303984203,
                    -0.08964235107576254,
                    -0.05971709978532289,
                    -0.029845242919239564,
                    0,
                    0.029845242919239425,
                    0.05971709978532289,
                    0.08964235107576254,
                    0.11964811303984217,
                    0.14976201244462692,
                    0.18001236979270496,
                    0.21042839424792484,
                    0.24104039388602685,
                    0.27188000539926077,
                    0.30298044805620655,
                    0.33437680758881416,
                    0.3661063568005698,
                    0.3982089211336604,
                    0.43072729929545744,
                    0.4637077514571792,
                    0.49720057068155404,
                    0.5312607573635744,
                    0.5659488219328631,
                    0.6013317483706249,
                    0.6374841609623771,
                    0.6744897501960817,
                    0.7124430323894889,
                    0.7514515438490051,
                    0.7916386077433746,
                    0.8331468660796099,
                    0.8761428492468408,
                    0.9208229763683788,
                    0.967421566101701,
                    1.0162217327405565,
                    1.0675705238781412,
                    1.1219004674623523,
                    1.1797611176118612,
                    1.2418667918433206,
                    1.309171716785777,
                    1.382994127100638,
                    1.465233792685523,
                    1.558783549502995,
                    1.668391193947079,
                    1.8027430907391908,
                    1.9807523966472789,
                    2.2601889913293767
                  ],
                  "xaxis": "x4",
                  "y": [
                    -1248.6902208900538,
                    -1205.197513812741,
                    -1088.1869599892043,
                    -1049.697610821795,
                    -887.2648813361402,
                    -855.5774820633019,
                    -768.1923984049399,
                    -721.1700171525354,
                    -711.3168186457387,
                    -693.7738136617036,
                    -622.5614375252821,
                    -613.631463012006,
                    -604.4409956519294,
                    -585.8524189689215,
                    -581.9089620726054,
                    -552.13917216645,
                    -524.6999611794226,
                    -494.9312505720891,
                    -478.0846604798853,
                    -477.70020759224144,
                    -421.80361205471127,
                    -411.48795571619667,
                    -403.4114031467743,
                    -403.283045027104,
                    -399.9722686727837,
                    -392.44769452227047,
                    -358.535645844634,
                    -310.3062719056011,
                    -229.71862485149632,
                    -205.08732799606832,
                    -189.60245118684952,
                    -159.56930991488753,
                    -75.23816211932171,
                    -64.69622245946516,
                    4.113309654821023,
                    39.74868751018039,
                    53.61453972201343,
                    61.9151866511429,
                    79.19244269684805,
                    80.3263156424091,
                    143.09942889966896,
                    160.26277189099437,
                    171.70153160950213,
                    197.83808763948855,
                    202.0512425407178,
                    206.39561540701925,
                    231.24490322519705,
                    242.6208522795623,
                    244.1107736711965,
                    273.7804803738177,
                    288.1262570684021,
                    295.46823219196904,
                    346.13715534661605,
                    388.75825593627314,
                    438.44654615687614,
                    464.34976853317585,
                    473.44466980567177,
                    489.08415006954965,
                    518.7239558131023,
                    542.9297690007202,
                    552.1987550385156,
                    555.6214160561049,
                    568.9978170799677,
                    583.6578485123118,
                    609.3382483752298,
                    622.067098546087,
                    653.0841173063704,
                    668.4118103113551,
                    670.5873142109649,
                    697.409394716331,
                    808.7602109400495,
                    823.1612864378858,
                    933.7706769476081,
                    937.07946058166,
                    1095.3252041546448,
                    1339.8352878487792,
                    2147.049245137165,
                    2235.000495785575,
                    2707.0863276254295,
                    2769.558170583916,
                    3329.3100792981313,
                    3436.9463065389677,
                    3818.3003438027704
                  ],
                  "yaxis": "y4"
                },
                {
                  "line": {
                    "color": "#3f3f3f"
                  },
                  "mode": "lines",
                  "showlegend": false,
                  "type": "scatter",
                  "x": [
                    -2.260188991329375,
                    -1.9807523966472789,
                    -1.8027430907391904,
                    -1.6683911939470795,
                    -1.5587835495029956,
                    -1.465233792685523,
                    -1.382994127100638,
                    -1.309171716785777,
                    -1.2418667918433202,
                    -1.1797611176118612,
                    -1.1219004674623523,
                    -1.0675705238781414,
                    -1.0162217327405565,
                    -0.967421566101701,
                    -0.9208229763683788,
                    -0.8761428492468408,
                    -0.8331468660796096,
                    -0.7916386077433746,
                    -0.7514515438490051,
                    -0.712443032389489,
                    -0.6744897501960817,
                    -0.6374841609623769,
                    -0.6013317483706249,
                    -0.5659488219328631,
                    -0.5312607573635746,
                    -0.49720057068155404,
                    -0.463707751457179,
                    -0.43072729929545756,
                    -0.3982089211336604,
                    -0.36610635680056963,
                    -0.33437680758881416,
                    -0.30298044805620655,
                    -0.2718800053992609,
                    -0.24104039388602685,
                    -0.2104283942479247,
                    -0.1800123697927051,
                    -0.14976201244462692,
                    -0.11964811303984203,
                    -0.08964235107576254,
                    -0.05971709978532289,
                    -0.029845242919239564,
                    0,
                    0.029845242919239425,
                    0.05971709978532289,
                    0.08964235107576254,
                    0.11964811303984217,
                    0.14976201244462692,
                    0.18001236979270496,
                    0.21042839424792484,
                    0.24104039388602685,
                    0.27188000539926077,
                    0.30298044805620655,
                    0.33437680758881416,
                    0.3661063568005698,
                    0.3982089211336604,
                    0.43072729929545744,
                    0.4637077514571792,
                    0.49720057068155404,
                    0.5312607573635744,
                    0.5659488219328631,
                    0.6013317483706249,
                    0.6374841609623771,
                    0.6744897501960817,
                    0.7124430323894889,
                    0.7514515438490051,
                    0.7916386077433746,
                    0.8331468660796099,
                    0.8761428492468408,
                    0.9208229763683788,
                    0.967421566101701,
                    1.0162217327405565,
                    1.0675705238781412,
                    1.1219004674623523,
                    1.1797611176118612,
                    1.2418667918433206,
                    1.309171716785777,
                    1.382994127100638,
                    1.465233792685523,
                    1.558783549502995,
                    1.668391193947079,
                    1.8027430907391908,
                    1.9807523966472789,
                    2.2601889913293767
                  ],
                  "xaxis": "x4",
                  "y": [
                    -2010.3526940310157,
                    -1731.4025165074795,
                    -1553.703072594652,
                    -1419.5850430523155,
                    -1310.168193371629,
                    -1216.7812792446312,
                    -1134.6847687983932,
                    -1060.9908616493549,
                    -993.8030948421268,
                    -931.8055283752377,
                    -874.0455966483468,
                    -819.8102255621046,
                    -768.5508176103872,
                    -719.835597749604,
                    -673.3181224946369,
                    -628.715770370691,
                    -585.794630600351,
                    -544.3586259683941,
                    -504.2415159662577,
                    -465.3009068848298,
                    -427.4136902248347,
                    -390.47251686903724,
                    -354.38303502487736,
                    -319.06169988498755,
                    -284.4340170628461,
                    -250.43311917671406,
                    -216.99860112788053,
                    -184.07555826091084,
                    -151.61378505854793,
                    -119.56710187496498,
                    -87.89278450278846,
                    -56.5510768242458,
                    -25.504770916870655,
                    5.28115787731781,
                    35.83987100189535,
                    66.2029500789084,
                    96.40065042662695,
                    126.46213036431126,
                    156.41566109686005,
                    186.28882130123975,
                    216.10868002529648,
                    245.9019711295856,
                    275.6952622338746,
                    305.51512095793146,
                    335.38828116231116,
                    365.3418118948601,
                    395.40329183254426,
                    425.60099218026266,
                    455.964071257276,
                    486.5227843818534,
                    517.3087131760417,
                    548.355019083417,
                    579.6967267619597,
                    611.3710441341364,
                    643.4177273177191,
                    675.8795005200819,
                    708.8025433870519,
                    742.2370614358853,
                    776.2379593220171,
                    810.8656421441588,
                    846.1869772840486,
                    882.2764591282087,
                    919.2176324840059,
                    957.1048491440009,
                    996.0454582254289,
                    1036.1625682275653,
                    1077.5985728595224,
                    1120.5197126298622,
                    1165.122064753808,
                    1211.6395400087752,
                    1260.3547598695584,
                    1311.6141678212757,
                    1365.8495389075179,
                    1423.6094706344088,
                    1485.6070371012984,
                    1552.7948039085263,
                    1626.4887110575646,
                    1708.5852215038026,
                    1801.9721356307996,
                    1911.3889853114865,
                    2045.5070148538234,
                    2223.206458766651,
                    2502.1566362901885
                  ],
                  "yaxis": "y4"
                },
                {
                  "alignmentgroup": "True",
                  "bingroup": "x",
                  "hovertemplate": "variable=0<br>value=%{x}<br>count=%{y}<extra></extra>",
                  "legendgroup": "0",
                  "marker": {
                    "color": "#1f77b4",
                    "pattern": {
                      "shape": ""
                    }
                  },
                  "name": "0",
                  "offsetgroup": "0",
                  "orientation": "v",
                  "showlegend": false,
                  "type": "histogram",
                  "x": [
                    3436.9463065389677,
                    2235.000495785575,
                    1339.8352878487792,
                    2147.049245137165,
                    3818.3003438027704,
                    2769.558170583916,
                    3329.3100792981313,
                    61.9151866511429,
                    609.3382483752298,
                    -189.60245118684952,
                    79.19244269684805,
                    288.1262570684021,
                    668.4118103113551,
                    273.7804803738177,
                    346.13715534661605,
                    653.0841173063704,
                    -205.08732799606832,
                    622.067098546087,
                    39.74868751018039,
                    388.75825593627314,
                    489.08415006954965,
                    231.24490322519705,
                    -399.9722686727837,
                    -552.13917216645,
                    -494.9312505720891,
                    4.113309654821023,
                    1095.3252041546448,
                    202.0512425407178,
                    -585.8524189689215,
                    -358.535645844634,
                    -622.5614375252821,
                    -421.80361205471127,
                    -524.6999611794226,
                    937.07946058166,
                    -1205.197513812741,
                    -229.71862485149632,
                    -1248.6902208900538,
                    -64.69622245946516,
                    -887.2648813361402,
                    -768.1923984049399,
                    143.09942889966896,
                    583.6578485123118,
                    697.409394716331,
                    552.1987550385156,
                    -1049.697610821795,
                    542.9297690007202,
                    2707.0863276254295,
                    -693.7738136617036,
                    518.7239558131023,
                    242.6208522795623,
                    244.1107736711965,
                    -477.70020759224144,
                    -855.5774820633019,
                    -613.631463012006,
                    160.26277189099437,
                    53.61453972201343,
                    555.6214160561049,
                    473.44466980567177,
                    -392.44769452227047,
                    -604.4409956519294,
                    -721.1700171525354,
                    -711.3168186457387,
                    -581.9089620726054,
                    -1088.1869599892043,
                    808.7602109400495,
                    -478.0846604798853,
                    -310.3062719056011,
                    -403.283045027104,
                    206.39561540701925,
                    -411.48795571619667,
                    823.1612864378858,
                    197.83808763948855,
                    438.44654615687614,
                    -75.23816211932171,
                    80.3263156424091,
                    464.34976853317585,
                    933.7706769476081,
                    171.70153160950213,
                    -159.56930991488753,
                    -403.4114031467743,
                    568.9978170799677,
                    295.46823219196904,
                    670.5873142109649
                  ],
                  "xaxis": "x2",
                  "yaxis": "y2"
                },
                {
                  "line": {
                    "color": "#3f3f3f"
                  },
                  "mode": "lines",
                  "name": "ACF",
                  "showlegend": false,
                  "type": "scatter",
                  "x": [
                    0,
                    0
                  ],
                  "xaxis": "x3",
                  "y": [
                    0,
                    1
                  ],
                  "yaxis": "y3"
                },
                {
                  "line": {
                    "color": "#3f3f3f"
                  },
                  "mode": "lines",
                  "name": "ACF",
                  "showlegend": false,
                  "type": "scatter",
                  "x": [
                    1,
                    1
                  ],
                  "xaxis": "x3",
                  "y": [
                    0,
                    0.49805143122902384
                  ],
                  "yaxis": "y3"
                },
                {
                  "line": {
                    "color": "#3f3f3f"
                  },
                  "mode": "lines",
                  "name": "ACF",
                  "showlegend": false,
                  "type": "scatter",
                  "x": [
                    2,
                    2
                  ],
                  "xaxis": "x3",
                  "y": [
                    0,
                    0.4200397341769215
                  ],
                  "yaxis": "y3"
                },
                {
                  "line": {
                    "color": "#3f3f3f"
                  },
                  "mode": "lines",
                  "name": "ACF",
                  "showlegend": false,
                  "type": "scatter",
                  "x": [
                    3,
                    3
                  ],
                  "xaxis": "x3",
                  "y": [
                    0,
                    0.30204333414024964
                  ],
                  "yaxis": "y3"
                },
                {
                  "line": {
                    "color": "#3f3f3f"
                  },
                  "mode": "lines",
                  "name": "ACF",
                  "showlegend": false,
                  "type": "scatter",
                  "x": [
                    4,
                    4
                  ],
                  "xaxis": "x3",
                  "y": [
                    0,
                    0.3190545152992841
                  ],
                  "yaxis": "y3"
                },
                {
                  "line": {
                    "color": "#3f3f3f"
                  },
                  "mode": "lines",
                  "name": "ACF",
                  "showlegend": false,
                  "type": "scatter",
                  "x": [
                    5,
                    5
                  ],
                  "xaxis": "x3",
                  "y": [
                    0,
                    0.21314644120064002
                  ],
                  "yaxis": "y3"
                },
                {
                  "line": {
                    "color": "#3f3f3f"
                  },
                  "mode": "lines",
                  "name": "ACF",
                  "showlegend": false,
                  "type": "scatter",
                  "x": [
                    6,
                    6
                  ],
                  "xaxis": "x3",
                  "y": [
                    0,
                    0.2003299674808726
                  ],
                  "yaxis": "y3"
                },
                {
                  "line": {
                    "color": "#3f3f3f"
                  },
                  "mode": "lines",
                  "name": "ACF",
                  "showlegend": false,
                  "type": "scatter",
                  "x": [
                    7,
                    7
                  ],
                  "xaxis": "x3",
                  "y": [
                    0,
                    0.05531288972568192
                  ],
                  "yaxis": "y3"
                },
                {
                  "line": {
                    "color": "#3f3f3f"
                  },
                  "mode": "lines",
                  "name": "ACF",
                  "showlegend": false,
                  "type": "scatter",
                  "x": [
                    8,
                    8
                  ],
                  "xaxis": "x3",
                  "y": [
                    0,
                    0.11194075004980096
                  ],
                  "yaxis": "y3"
                },
                {
                  "line": {
                    "color": "#3f3f3f"
                  },
                  "mode": "lines",
                  "name": "ACF",
                  "showlegend": false,
                  "type": "scatter",
                  "x": [
                    9,
                    9
                  ],
                  "xaxis": "x3",
                  "y": [
                    0,
                    0.052433645086637795
                  ],
                  "yaxis": "y3"
                },
                {
                  "line": {
                    "color": "#3f3f3f"
                  },
                  "mode": "lines",
                  "name": "ACF",
                  "showlegend": false,
                  "type": "scatter",
                  "x": [
                    10,
                    10
                  ],
                  "xaxis": "x3",
                  "y": [
                    0,
                    0.005497349611510623
                  ],
                  "yaxis": "y3"
                },
                {
                  "line": {
                    "color": "#3f3f3f"
                  },
                  "mode": "lines",
                  "name": "ACF",
                  "showlegend": false,
                  "type": "scatter",
                  "x": [
                    11,
                    11
                  ],
                  "xaxis": "x3",
                  "y": [
                    0,
                    0.05319768084366604
                  ],
                  "yaxis": "y3"
                },
                {
                  "line": {
                    "color": "#3f3f3f"
                  },
                  "mode": "lines",
                  "name": "ACF",
                  "showlegend": false,
                  "type": "scatter",
                  "x": [
                    12,
                    12
                  ],
                  "xaxis": "x3",
                  "y": [
                    0,
                    0.00548436068826686
                  ],
                  "yaxis": "y3"
                },
                {
                  "line": {
                    "color": "#3f3f3f"
                  },
                  "mode": "lines",
                  "name": "ACF",
                  "showlegend": false,
                  "type": "scatter",
                  "x": [
                    13,
                    13
                  ],
                  "xaxis": "x3",
                  "y": [
                    0,
                    0.06549448534882804
                  ],
                  "yaxis": "y3"
                },
                {
                  "line": {
                    "color": "#3f3f3f"
                  },
                  "mode": "lines",
                  "name": "ACF",
                  "showlegend": false,
                  "type": "scatter",
                  "x": [
                    14,
                    14
                  ],
                  "xaxis": "x3",
                  "y": [
                    0,
                    0.05639171950921962
                  ],
                  "yaxis": "y3"
                },
                {
                  "line": {
                    "color": "#3f3f3f"
                  },
                  "mode": "lines",
                  "name": "ACF",
                  "showlegend": false,
                  "type": "scatter",
                  "x": [
                    15,
                    15
                  ],
                  "xaxis": "x3",
                  "y": [
                    0,
                    0.051057869306916775
                  ],
                  "yaxis": "y3"
                },
                {
                  "line": {
                    "color": "#3f3f3f"
                  },
                  "mode": "lines",
                  "name": "ACF",
                  "showlegend": false,
                  "type": "scatter",
                  "x": [
                    16,
                    16
                  ],
                  "xaxis": "x3",
                  "y": [
                    0,
                    0.03289779223305762
                  ],
                  "yaxis": "y3"
                },
                {
                  "line": {
                    "color": "#3f3f3f"
                  },
                  "mode": "lines",
                  "name": "ACF",
                  "showlegend": false,
                  "type": "scatter",
                  "x": [
                    17,
                    17
                  ],
                  "xaxis": "x3",
                  "y": [
                    0,
                    -0.08069538641198745
                  ],
                  "yaxis": "y3"
                },
                {
                  "line": {
                    "color": "#3f3f3f"
                  },
                  "mode": "lines",
                  "name": "ACF",
                  "showlegend": false,
                  "type": "scatter",
                  "x": [
                    18,
                    18
                  ],
                  "xaxis": "x3",
                  "y": [
                    0,
                    -0.0746491124298834
                  ],
                  "yaxis": "y3"
                },
                {
                  "line": {
                    "color": "#3f3f3f"
                  },
                  "mode": "lines",
                  "name": "ACF",
                  "showlegend": false,
                  "type": "scatter",
                  "x": [
                    19,
                    19
                  ],
                  "xaxis": "x3",
                  "y": [
                    0,
                    -0.06893948357003205
                  ],
                  "yaxis": "y3"
                },
                {
                  "line": {
                    "color": "#3f3f3f"
                  },
                  "mode": "lines",
                  "name": "ACF",
                  "showlegend": false,
                  "type": "scatter",
                  "x": [
                    20,
                    20
                  ],
                  "xaxis": "x3",
                  "y": [
                    0,
                    -0.0017511488444028665
                  ],
                  "yaxis": "y3"
                },
                {
                  "line": {
                    "color": "#3f3f3f"
                  },
                  "mode": "lines",
                  "name": "ACF",
                  "showlegend": false,
                  "type": "scatter",
                  "x": [
                    21,
                    21
                  ],
                  "xaxis": "x3",
                  "y": [
                    0,
                    -0.014354987250992386
                  ],
                  "yaxis": "y3"
                },
                {
                  "line": {
                    "color": "#3f3f3f"
                  },
                  "mode": "lines",
                  "name": "ACF",
                  "showlegend": false,
                  "type": "scatter",
                  "x": [
                    22,
                    22
                  ],
                  "xaxis": "x3",
                  "y": [
                    0,
                    -0.011197177458862987
                  ],
                  "yaxis": "y3"
                },
                {
                  "line": {
                    "color": "#3f3f3f"
                  },
                  "mode": "lines",
                  "name": "ACF",
                  "showlegend": false,
                  "type": "scatter",
                  "x": [
                    23,
                    23
                  ],
                  "xaxis": "x3",
                  "y": [
                    0,
                    -0.06322634181368865
                  ],
                  "yaxis": "y3"
                },
                {
                  "line": {
                    "color": "#3f3f3f"
                  },
                  "mode": "lines",
                  "name": "ACF",
                  "showlegend": false,
                  "type": "scatter",
                  "x": [
                    24,
                    24
                  ],
                  "xaxis": "x3",
                  "y": [
                    0,
                    -0.061542502175324115
                  ],
                  "yaxis": "y3"
                },
                {
                  "line": {
                    "color": "#3f3f3f"
                  },
                  "mode": "lines",
                  "name": "ACF",
                  "showlegend": false,
                  "type": "scatter",
                  "x": [
                    25,
                    25
                  ],
                  "xaxis": "x3",
                  "y": [
                    0,
                    -0.024982553368084574
                  ],
                  "yaxis": "y3"
                },
                {
                  "line": {
                    "color": "#3f3f3f"
                  },
                  "mode": "lines",
                  "name": "ACF",
                  "showlegend": false,
                  "type": "scatter",
                  "x": [
                    26,
                    26
                  ],
                  "xaxis": "x3",
                  "y": [
                    0,
                    -0.03913873052699534
                  ],
                  "yaxis": "y3"
                },
                {
                  "line": {
                    "color": "#3f3f3f"
                  },
                  "mode": "lines",
                  "name": "ACF",
                  "showlegend": false,
                  "type": "scatter",
                  "x": [
                    27,
                    27
                  ],
                  "xaxis": "x3",
                  "y": [
                    0,
                    -0.011645864164230689
                  ],
                  "yaxis": "y3"
                },
                {
                  "line": {
                    "color": "#3f3f3f"
                  },
                  "mode": "lines",
                  "name": "ACF",
                  "showlegend": false,
                  "type": "scatter",
                  "x": [
                    28,
                    28
                  ],
                  "xaxis": "x3",
                  "y": [
                    0,
                    -0.0885693602377618
                  ],
                  "yaxis": "y3"
                },
                {
                  "line": {
                    "color": "#3f3f3f"
                  },
                  "mode": "lines",
                  "name": "ACF",
                  "showlegend": false,
                  "type": "scatter",
                  "x": [
                    29,
                    29
                  ],
                  "xaxis": "x3",
                  "y": [
                    0,
                    0.0018150986969582197
                  ],
                  "yaxis": "y3"
                },
                {
                  "line": {
                    "color": "#3f3f3f"
                  },
                  "mode": "lines",
                  "name": "ACF",
                  "showlegend": false,
                  "type": "scatter",
                  "x": [
                    30,
                    30
                  ],
                  "xaxis": "x3",
                  "y": [
                    0,
                    -0.11132464417951297
                  ],
                  "yaxis": "y3"
                },
                {
                  "line": {
                    "color": "#3f3f3f"
                  },
                  "mode": "lines",
                  "name": "ACF",
                  "showlegend": false,
                  "type": "scatter",
                  "x": [
                    31,
                    31
                  ],
                  "xaxis": "x3",
                  "y": [
                    0,
                    -0.045752852951841276
                  ],
                  "yaxis": "y3"
                },
                {
                  "line": {
                    "color": "#3f3f3f"
                  },
                  "mode": "lines",
                  "name": "ACF",
                  "showlegend": false,
                  "type": "scatter",
                  "x": [
                    32,
                    32
                  ],
                  "xaxis": "x3",
                  "y": [
                    0,
                    -0.16332850258580014
                  ],
                  "yaxis": "y3"
                },
                {
                  "line": {
                    "color": "#3f3f3f"
                  },
                  "mode": "lines",
                  "name": "ACF",
                  "showlegend": false,
                  "type": "scatter",
                  "x": [
                    33,
                    33
                  ],
                  "xaxis": "x3",
                  "y": [
                    0,
                    -0.11935579772697495
                  ],
                  "yaxis": "y3"
                },
                {
                  "line": {
                    "color": "#3f3f3f"
                  },
                  "mode": "lines",
                  "name": "ACF",
                  "showlegend": false,
                  "type": "scatter",
                  "x": [
                    34,
                    34
                  ],
                  "xaxis": "x3",
                  "y": [
                    0,
                    -0.13882820723922423
                  ],
                  "yaxis": "y3"
                },
                {
                  "line": {
                    "color": "#3f3f3f"
                  },
                  "mode": "lines",
                  "name": "ACF",
                  "showlegend": false,
                  "type": "scatter",
                  "x": [
                    35,
                    35
                  ],
                  "xaxis": "x3",
                  "y": [
                    0,
                    -0.059433724224214536
                  ],
                  "yaxis": "y3"
                },
                {
                  "line": {
                    "color": "#3f3f3f"
                  },
                  "mode": "lines",
                  "name": "ACF",
                  "showlegend": false,
                  "type": "scatter",
                  "x": [
                    36,
                    36
                  ],
                  "xaxis": "x3",
                  "y": [
                    0,
                    -0.08154784552331942
                  ],
                  "yaxis": "y3"
                },
                {
                  "line": {
                    "color": "#3f3f3f"
                  },
                  "mode": "lines",
                  "name": "ACF",
                  "showlegend": false,
                  "type": "scatter",
                  "x": [
                    37,
                    37
                  ],
                  "xaxis": "x3",
                  "y": [
                    0,
                    0.011777332212433956
                  ],
                  "yaxis": "y3"
                },
                {
                  "line": {
                    "color": "#3f3f3f"
                  },
                  "mode": "lines",
                  "name": "ACF",
                  "showlegend": false,
                  "type": "scatter",
                  "x": [
                    38,
                    38
                  ],
                  "xaxis": "x3",
                  "y": [
                    0,
                    -0.0451172482691832
                  ],
                  "yaxis": "y3"
                },
                {
                  "line": {
                    "color": "#3f3f3f"
                  },
                  "mode": "lines",
                  "name": "ACF",
                  "showlegend": false,
                  "type": "scatter",
                  "x": [
                    39,
                    39
                  ],
                  "xaxis": "x3",
                  "y": [
                    0,
                    -0.020331588400726696
                  ],
                  "yaxis": "y3"
                },
                {
                  "line": {
                    "color": "#3f3f3f"
                  },
                  "mode": "lines",
                  "name": "ACF",
                  "showlegend": false,
                  "type": "scatter",
                  "x": [
                    40,
                    40
                  ],
                  "xaxis": "x3",
                  "y": [
                    0,
                    0.06601877695576594
                  ],
                  "yaxis": "y3"
                },
                {
                  "marker": {
                    "color": "#1f77b4",
                    "size": 6
                  },
                  "mode": "markers",
                  "showlegend": false,
                  "type": "scatter",
                  "x": [
                    0,
                    1,
                    2,
                    3,
                    4,
                    5,
                    6,
                    7,
                    8,
                    9,
                    10,
                    11,
                    12,
                    13,
                    14,
                    15,
                    16,
                    17,
                    18,
                    19,
                    20,
                    21,
                    22,
                    23,
                    24,
                    25,
                    26,
                    27,
                    28,
                    29,
                    30,
                    31,
                    32,
                    33,
                    34,
                    35,
                    36,
                    37,
                    38,
                    39,
                    40
                  ],
                  "xaxis": "x3",
                  "y": [
                    1,
                    0.49805143122902384,
                    0.4200397341769215,
                    0.30204333414024964,
                    0.3190545152992841,
                    0.21314644120064002,
                    0.2003299674808726,
                    0.05531288972568192,
                    0.11194075004980096,
                    0.052433645086637795,
                    0.005497349611510623,
                    0.05319768084366604,
                    0.00548436068826686,
                    0.06549448534882804,
                    0.05639171950921962,
                    0.051057869306916775,
                    0.03289779223305762,
                    -0.08069538641198745,
                    -0.0746491124298834,
                    -0.06893948357003205,
                    -0.0017511488444028665,
                    -0.014354987250992386,
                    -0.011197177458862987,
                    -0.06322634181368865,
                    -0.061542502175324115,
                    -0.024982553368084574,
                    -0.03913873052699534,
                    -0.011645864164230689,
                    -0.0885693602377618,
                    0.0018150986969582197,
                    -0.11132464417951297,
                    -0.045752852951841276,
                    -0.16332850258580014,
                    -0.11935579772697495,
                    -0.13882820723922423,
                    -0.059433724224214536,
                    -0.08154784552331942,
                    0.011777332212433956,
                    -0.0451172482691832,
                    -0.020331588400726696,
                    0.06601877695576594
                  ],
                  "yaxis": "y3"
                },
                {
                  "line": {
                    "color": "rgba(255,255,255,0)"
                  },
                  "mode": "lines",
                  "name": "UC",
                  "showlegend": false,
                  "type": "scatter",
                  "x": [
                    0,
                    1,
                    2,
                    3,
                    4,
                    5,
                    6,
                    7,
                    8,
                    9,
                    10,
                    11,
                    12,
                    13,
                    14,
                    15,
                    16,
                    17,
                    18,
                    19,
                    20,
                    21,
                    22,
                    23,
                    24,
                    25,
                    26,
                    27,
                    28,
                    29,
                    30,
                    31,
                    32,
                    33,
                    34,
                    35,
                    36,
                    37,
                    38,
                    39,
                    40
                  ],
                  "xaxis": "x3",
                  "y": [
                    0,
                    0.21513399636948394,
                    0.26314242579634645,
                    0.2925329725758029,
                    0.3066272756035451,
                    0.32162562185549465,
                    0.3280981729110878,
                    0.3337113265525,
                    0.33413538331230347,
                    0.3358665880417373,
                    0.336245228184153,
                    0.3362493879222561,
                    0.33663869352022135,
                    0.3366428287858141,
                    0.3372320498801501,
                    0.3376682031865509,
                    0.33802533101816085,
                    0.33817348290522564,
                    0.33906351326622064,
                    0.3398233145093884,
                    0.34046999228940356,
                    0.34047040914449145,
                    0.34049842000654384,
                    0.3405154615624327,
                    0.3410583758659287,
                    0.34157196141991897,
                    0.341656519627983,
                    0.3418639679943039,
                    0.3418823290030938,
                    0.3429426454810195,
                    0.3429430901090153,
                    0.34461157961950517,
                    0.34489260629011564,
                    0.34845401358146255,
                    0.35034107173046836,
                    0.35287802728489065,
                    0.35334102041605286,
                    0.3542110112682281,
                    0.3542291346305494,
                    0.3544949965114239,
                    0.35454896217759857
                  ],
                  "yaxis": "y3"
                },
                {
                  "fill": "tonexty",
                  "fillcolor": "rgba(32, 146, 230,0.3)",
                  "line": {
                    "color": "rgba(255,255,255,0)"
                  },
                  "mode": "lines",
                  "name": "LC",
                  "showlegend": false,
                  "type": "scatter",
                  "x": [
                    0,
                    1,
                    2,
                    3,
                    4,
                    5,
                    6,
                    7,
                    8,
                    9,
                    10,
                    11,
                    12,
                    13,
                    14,
                    15,
                    16,
                    17,
                    18,
                    19,
                    20,
                    21,
                    22,
                    23,
                    24,
                    25,
                    26,
                    27,
                    28,
                    29,
                    30,
                    31,
                    32,
                    33,
                    34,
                    35,
                    36,
                    37,
                    38,
                    39,
                    40
                  ],
                  "xaxis": "x3",
                  "y": [
                    0,
                    -0.21513399636948394,
                    -0.2631424257963464,
                    -0.29253297257580296,
                    -0.30662727560354514,
                    -0.32162562185549465,
                    -0.32809817291108784,
                    -0.3337113265525,
                    -0.33413538331230347,
                    -0.3358665880417373,
                    -0.336245228184153,
                    -0.3362493879222561,
                    -0.33663869352022135,
                    -0.3366428287858142,
                    -0.3372320498801501,
                    -0.337668203186551,
                    -0.33802533101816085,
                    -0.33817348290522553,
                    -0.33906351326622064,
                    -0.3398233145093884,
                    -0.34046999228940356,
                    -0.34047040914449145,
                    -0.34049842000654384,
                    -0.3405154615624327,
                    -0.3410583758659287,
                    -0.34157196141991897,
                    -0.341656519627983,
                    -0.3418639679943039,
                    -0.3418823290030938,
                    -0.3429426454810195,
                    -0.3429430901090153,
                    -0.34461157961950517,
                    -0.34489260629011564,
                    -0.34845401358146255,
                    -0.35034107173046836,
                    -0.35287802728489065,
                    -0.353341020416053,
                    -0.3542110112682281,
                    -0.3542291346305494,
                    -0.3544949965114239,
                    -0.3545489621775987
                  ],
                  "yaxis": "y3"
                },
                {
                  "marker": {
                    "color": "#1f77b4",
                    "size": 2
                  },
                  "mode": "lines+markers",
                  "name": "Time Plot",
                  "type": "scatter",
                  "x": [
                    "2021-07-08T00:00:00",
                    "2021-07-09T00:00:00",
                    "2021-07-10T00:00:00",
                    "2021-07-11T00:00:00",
                    "2021-07-12T00:00:00",
                    "2021-07-13T00:00:00",
                    "2021-07-14T00:00:00",
                    "2021-07-15T00:00:00",
                    "2021-07-16T00:00:00",
                    "2021-07-17T00:00:00",
                    "2021-07-18T00:00:00",
                    "2021-07-19T00:00:00",
                    "2021-07-20T00:00:00",
                    "2021-07-21T00:00:00",
                    "2021-07-22T00:00:00",
                    "2021-07-23T00:00:00",
                    "2021-07-24T00:00:00",
                    "2021-07-25T00:00:00",
                    "2021-07-26T00:00:00",
                    "2021-07-27T00:00:00",
                    "2021-07-28T00:00:00",
                    "2021-07-29T00:00:00",
                    "2021-07-30T00:00:00",
                    "2021-07-31T00:00:00",
                    "2021-08-01T00:00:00",
                    "2021-08-02T00:00:00",
                    "2021-08-03T00:00:00",
                    "2021-08-04T00:00:00",
                    "2021-08-05T00:00:00",
                    "2021-08-06T00:00:00",
                    "2021-08-07T00:00:00",
                    "2021-08-08T00:00:00",
                    "2021-08-09T00:00:00",
                    "2021-08-10T00:00:00",
                    "2021-08-11T00:00:00",
                    "2021-08-12T00:00:00",
                    "2021-08-13T00:00:00",
                    "2021-08-14T00:00:00",
                    "2021-08-15T00:00:00",
                    "2021-08-16T00:00:00",
                    "2021-08-17T00:00:00",
                    "2021-08-18T00:00:00",
                    "2021-08-19T00:00:00",
                    "2021-08-20T00:00:00",
                    "2021-08-21T00:00:00",
                    "2021-08-22T00:00:00",
                    "2021-08-23T00:00:00",
                    "2021-08-24T00:00:00",
                    "2021-08-25T00:00:00",
                    "2021-08-26T00:00:00",
                    "2021-08-27T00:00:00",
                    "2021-08-28T00:00:00",
                    "2021-08-29T00:00:00",
                    "2021-08-30T00:00:00",
                    "2021-08-31T00:00:00",
                    "2021-09-01T00:00:00",
                    "2021-09-02T00:00:00",
                    "2021-09-03T00:00:00",
                    "2021-09-04T00:00:00",
                    "2021-09-05T00:00:00",
                    "2021-09-06T00:00:00",
                    "2021-09-07T00:00:00",
                    "2021-09-08T00:00:00",
                    "2021-09-09T00:00:00",
                    "2021-09-10T00:00:00",
                    "2021-09-11T00:00:00",
                    "2021-09-12T00:00:00",
                    "2021-09-13T00:00:00",
                    "2021-09-14T00:00:00",
                    "2021-09-15T00:00:00",
                    "2021-09-16T00:00:00",
                    "2021-09-17T00:00:00",
                    "2021-09-18T00:00:00",
                    "2021-09-19T00:00:00",
                    "2021-09-20T00:00:00",
                    "2021-09-21T00:00:00",
                    "2021-09-22T00:00:00",
                    "2021-09-23T00:00:00",
                    "2021-09-24T00:00:00",
                    "2021-09-25T00:00:00",
                    "2021-09-26T00:00:00",
                    "2021-09-27T00:00:00",
                    "2021-09-28T00:00:00"
                  ],
                  "xaxis": "x",
                  "y": [
                    3436.9463065389677,
                    2235.000495785575,
                    1339.8352878487792,
                    2147.049245137165,
                    3818.3003438027704,
                    2769.558170583916,
                    3329.3100792981313,
                    61.9151866511429,
                    609.3382483752298,
                    -189.60245118684952,
                    79.19244269684805,
                    288.1262570684021,
                    668.4118103113551,
                    273.7804803738177,
                    346.13715534661605,
                    653.0841173063704,
                    -205.08732799606832,
                    622.067098546087,
                    39.74868751018039,
                    388.75825593627314,
                    489.08415006954965,
                    231.24490322519705,
                    -399.9722686727837,
                    -552.13917216645,
                    -494.9312505720891,
                    4.113309654821023,
                    1095.3252041546448,
                    202.0512425407178,
                    -585.8524189689215,
                    -358.535645844634,
                    -622.5614375252821,
                    -421.80361205471127,
                    -524.6999611794226,
                    937.07946058166,
                    -1205.197513812741,
                    -229.71862485149632,
                    -1248.6902208900538,
                    -64.69622245946516,
                    -887.2648813361402,
                    -768.1923984049399,
                    143.09942889966896,
                    583.6578485123118,
                    697.409394716331,
                    552.1987550385156,
                    -1049.697610821795,
                    542.9297690007202,
                    2707.0863276254295,
                    -693.7738136617036,
                    518.7239558131023,
                    242.6208522795623,
                    244.1107736711965,
                    -477.70020759224144,
                    -855.5774820633019,
                    -613.631463012006,
                    160.26277189099437,
                    53.61453972201343,
                    555.6214160561049,
                    473.44466980567177,
                    -392.44769452227047,
                    -604.4409956519294,
                    -721.1700171525354,
                    -711.3168186457387,
                    -581.9089620726054,
                    -1088.1869599892043,
                    808.7602109400495,
                    -478.0846604798853,
                    -310.3062719056011,
                    -403.283045027104,
                    206.39561540701925,
                    -411.48795571619667,
                    823.1612864378858,
                    197.83808763948855,
                    438.44654615687614,
                    -75.23816211932171,
                    80.3263156424091,
                    464.34976853317585,
                    933.7706769476081,
                    171.70153160950213,
                    -159.56930991488753,
                    -403.4114031467743,
                    568.9978170799677,
                    295.46823219196904,
                    670.5873142109649
                  ],
                  "yaxis": "y"
                }
              ],
              "layout": {
                "annotations": [
                  {
                    "font": {
                      "size": 16
                    },
                    "showarrow": false,
                    "text": "Time Plot",
                    "x": 0.225,
                    "xanchor": "center",
                    "xref": "paper",
                    "y": 1,
                    "yanchor": "bottom",
                    "yref": "paper"
                  },
                  {
                    "font": {
                      "size": 16
                    },
                    "showarrow": false,
                    "text": "Histogram Plot",
                    "x": 0.775,
                    "xanchor": "center",
                    "xref": "paper",
                    "y": 1,
                    "yanchor": "bottom",
                    "yref": "paper"
                  },
                  {
                    "font": {
                      "size": 16
                    },
                    "showarrow": false,
                    "text": "ACF Plot",
                    "x": 0.225,
                    "xanchor": "center",
                    "xref": "paper",
                    "y": 0.375,
                    "yanchor": "bottom",
                    "yref": "paper"
                  },
                  {
                    "font": {
                      "size": 16
                    },
                    "showarrow": false,
                    "text": "Quantile-Quantile Plot",
                    "x": 0.775,
                    "xanchor": "center",
                    "xref": "paper",
                    "y": 0.375,
                    "yanchor": "bottom",
                    "yref": "paper"
                  },
                  {
                    "font": {
                      "size": 16
                    },
                    "showarrow": false,
                    "text": "Diagnostics | 'Auto ARIMA' Residuals",
                    "x": 0.5,
                    "xanchor": "center",
                    "xref": "paper",
                    "y": 0,
                    "yanchor": "top",
                    "yref": "paper",
                    "yshift": -30
                  }
                ],
                "showlegend": false,
                "template": {
                  "data": {
                    "bar": [
                      {
                        "error_x": {
                          "color": "rgb(51,51,51)"
                        },
                        "error_y": {
                          "color": "rgb(51,51,51)"
                        },
                        "marker": {
                          "line": {
                            "color": "rgb(237,237,237)",
                            "width": 0.5
                          },
                          "pattern": {
                            "fillmode": "overlay",
                            "size": 10,
                            "solidity": 0.2
                          }
                        },
                        "type": "bar"
                      }
                    ],
                    "barpolar": [
                      {
                        "marker": {
                          "line": {
                            "color": "rgb(237,237,237)",
                            "width": 0.5
                          },
                          "pattern": {
                            "fillmode": "overlay",
                            "size": 10,
                            "solidity": 0.2
                          }
                        },
                        "type": "barpolar"
                      }
                    ],
                    "carpet": [
                      {
                        "aaxis": {
                          "endlinecolor": "rgb(51,51,51)",
                          "gridcolor": "white",
                          "linecolor": "white",
                          "minorgridcolor": "white",
                          "startlinecolor": "rgb(51,51,51)"
                        },
                        "baxis": {
                          "endlinecolor": "rgb(51,51,51)",
                          "gridcolor": "white",
                          "linecolor": "white",
                          "minorgridcolor": "white",
                          "startlinecolor": "rgb(51,51,51)"
                        },
                        "type": "carpet"
                      }
                    ],
                    "choropleth": [
                      {
                        "colorbar": {
                          "outlinewidth": 0,
                          "tickcolor": "rgb(237,237,237)",
                          "ticklen": 6,
                          "ticks": "inside"
                        },
                        "type": "choropleth"
                      }
                    ],
                    "contour": [
                      {
                        "colorbar": {
                          "outlinewidth": 0,
                          "tickcolor": "rgb(237,237,237)",
                          "ticklen": 6,
                          "ticks": "inside"
                        },
                        "colorscale": [
                          [
                            0,
                            "rgb(20,44,66)"
                          ],
                          [
                            1,
                            "rgb(90,179,244)"
                          ]
                        ],
                        "type": "contour"
                      }
                    ],
                    "contourcarpet": [
                      {
                        "colorbar": {
                          "outlinewidth": 0,
                          "tickcolor": "rgb(237,237,237)",
                          "ticklen": 6,
                          "ticks": "inside"
                        },
                        "type": "contourcarpet"
                      }
                    ],
                    "heatmap": [
                      {
                        "colorbar": {
                          "outlinewidth": 0,
                          "tickcolor": "rgb(237,237,237)",
                          "ticklen": 6,
                          "ticks": "inside"
                        },
                        "colorscale": [
                          [
                            0,
                            "rgb(20,44,66)"
                          ],
                          [
                            1,
                            "rgb(90,179,244)"
                          ]
                        ],
                        "type": "heatmap"
                      }
                    ],
                    "heatmapgl": [
                      {
                        "colorbar": {
                          "outlinewidth": 0,
                          "tickcolor": "rgb(237,237,237)",
                          "ticklen": 6,
                          "ticks": "inside"
                        },
                        "colorscale": [
                          [
                            0,
                            "rgb(20,44,66)"
                          ],
                          [
                            1,
                            "rgb(90,179,244)"
                          ]
                        ],
                        "type": "heatmapgl"
                      }
                    ],
                    "histogram": [
                      {
                        "marker": {
                          "pattern": {
                            "fillmode": "overlay",
                            "size": 10,
                            "solidity": 0.2
                          }
                        },
                        "type": "histogram"
                      }
                    ],
                    "histogram2d": [
                      {
                        "colorbar": {
                          "outlinewidth": 0,
                          "tickcolor": "rgb(237,237,237)",
                          "ticklen": 6,
                          "ticks": "inside"
                        },
                        "colorscale": [
                          [
                            0,
                            "rgb(20,44,66)"
                          ],
                          [
                            1,
                            "rgb(90,179,244)"
                          ]
                        ],
                        "type": "histogram2d"
                      }
                    ],
                    "histogram2dcontour": [
                      {
                        "colorbar": {
                          "outlinewidth": 0,
                          "tickcolor": "rgb(237,237,237)",
                          "ticklen": 6,
                          "ticks": "inside"
                        },
                        "colorscale": [
                          [
                            0,
                            "rgb(20,44,66)"
                          ],
                          [
                            1,
                            "rgb(90,179,244)"
                          ]
                        ],
                        "type": "histogram2dcontour"
                      }
                    ],
                    "mesh3d": [
                      {
                        "colorbar": {
                          "outlinewidth": 0,
                          "tickcolor": "rgb(237,237,237)",
                          "ticklen": 6,
                          "ticks": "inside"
                        },
                        "type": "mesh3d"
                      }
                    ],
                    "parcoords": [
                      {
                        "line": {
                          "colorbar": {
                            "outlinewidth": 0,
                            "tickcolor": "rgb(237,237,237)",
                            "ticklen": 6,
                            "ticks": "inside"
                          }
                        },
                        "type": "parcoords"
                      }
                    ],
                    "pie": [
                      {
                        "automargin": true,
                        "type": "pie"
                      }
                    ],
                    "scatter": [
                      {
                        "marker": {
                          "colorbar": {
                            "outlinewidth": 0,
                            "tickcolor": "rgb(237,237,237)",
                            "ticklen": 6,
                            "ticks": "inside"
                          }
                        },
                        "type": "scatter"
                      }
                    ],
                    "scatter3d": [
                      {
                        "line": {
                          "colorbar": {
                            "outlinewidth": 0,
                            "tickcolor": "rgb(237,237,237)",
                            "ticklen": 6,
                            "ticks": "inside"
                          }
                        },
                        "marker": {
                          "colorbar": {
                            "outlinewidth": 0,
                            "tickcolor": "rgb(237,237,237)",
                            "ticklen": 6,
                            "ticks": "inside"
                          }
                        },
                        "type": "scatter3d"
                      }
                    ],
                    "scattercarpet": [
                      {
                        "marker": {
                          "colorbar": {
                            "outlinewidth": 0,
                            "tickcolor": "rgb(237,237,237)",
                            "ticklen": 6,
                            "ticks": "inside"
                          }
                        },
                        "type": "scattercarpet"
                      }
                    ],
                    "scattergeo": [
                      {
                        "marker": {
                          "colorbar": {
                            "outlinewidth": 0,
                            "tickcolor": "rgb(237,237,237)",
                            "ticklen": 6,
                            "ticks": "inside"
                          }
                        },
                        "type": "scattergeo"
                      }
                    ],
                    "scattergl": [
                      {
                        "marker": {
                          "colorbar": {
                            "outlinewidth": 0,
                            "tickcolor": "rgb(237,237,237)",
                            "ticklen": 6,
                            "ticks": "inside"
                          }
                        },
                        "type": "scattergl"
                      }
                    ],
                    "scattermapbox": [
                      {
                        "marker": {
                          "colorbar": {
                            "outlinewidth": 0,
                            "tickcolor": "rgb(237,237,237)",
                            "ticklen": 6,
                            "ticks": "inside"
                          }
                        },
                        "type": "scattermapbox"
                      }
                    ],
                    "scatterpolar": [
                      {
                        "marker": {
                          "colorbar": {
                            "outlinewidth": 0,
                            "tickcolor": "rgb(237,237,237)",
                            "ticklen": 6,
                            "ticks": "inside"
                          }
                        },
                        "type": "scatterpolar"
                      }
                    ],
                    "scatterpolargl": [
                      {
                        "marker": {
                          "colorbar": {
                            "outlinewidth": 0,
                            "tickcolor": "rgb(237,237,237)",
                            "ticklen": 6,
                            "ticks": "inside"
                          }
                        },
                        "type": "scatterpolargl"
                      }
                    ],
                    "scatterternary": [
                      {
                        "marker": {
                          "colorbar": {
                            "outlinewidth": 0,
                            "tickcolor": "rgb(237,237,237)",
                            "ticklen": 6,
                            "ticks": "inside"
                          }
                        },
                        "type": "scatterternary"
                      }
                    ],
                    "surface": [
                      {
                        "colorbar": {
                          "outlinewidth": 0,
                          "tickcolor": "rgb(237,237,237)",
                          "ticklen": 6,
                          "ticks": "inside"
                        },
                        "colorscale": [
                          [
                            0,
                            "rgb(20,44,66)"
                          ],
                          [
                            1,
                            "rgb(90,179,244)"
                          ]
                        ],
                        "type": "surface"
                      }
                    ],
                    "table": [
                      {
                        "cells": {
                          "fill": {
                            "color": "rgb(237,237,237)"
                          },
                          "line": {
                            "color": "white"
                          }
                        },
                        "header": {
                          "fill": {
                            "color": "rgb(217,217,217)"
                          },
                          "line": {
                            "color": "white"
                          }
                        },
                        "type": "table"
                      }
                    ]
                  },
                  "layout": {
                    "annotationdefaults": {
                      "arrowhead": 0,
                      "arrowwidth": 1
                    },
                    "autotypenumbers": "strict",
                    "coloraxis": {
                      "colorbar": {
                        "outlinewidth": 0,
                        "tickcolor": "rgb(237,237,237)",
                        "ticklen": 6,
                        "ticks": "inside"
                      }
                    },
                    "colorscale": {
                      "sequential": [
                        [
                          0,
                          "rgb(20,44,66)"
                        ],
                        [
                          1,
                          "rgb(90,179,244)"
                        ]
                      ],
                      "sequentialminus": [
                        [
                          0,
                          "rgb(20,44,66)"
                        ],
                        [
                          1,
                          "rgb(90,179,244)"
                        ]
                      ]
                    },
                    "colorway": [
                      "#F8766D",
                      "#A3A500",
                      "#00BF7D",
                      "#00B0F6",
                      "#E76BF3"
                    ],
                    "font": {
                      "color": "rgb(51,51,51)"
                    },
                    "geo": {
                      "bgcolor": "white",
                      "lakecolor": "white",
                      "landcolor": "rgb(237,237,237)",
                      "showlakes": true,
                      "showland": true,
                      "subunitcolor": "white"
                    },
                    "hoverlabel": {
                      "align": "left"
                    },
                    "hovermode": "closest",
                    "paper_bgcolor": "white",
                    "plot_bgcolor": "rgb(237,237,237)",
                    "polar": {
                      "angularaxis": {
                        "gridcolor": "white",
                        "linecolor": "white",
                        "showgrid": true,
                        "tickcolor": "rgb(51,51,51)",
                        "ticks": "outside"
                      },
                      "bgcolor": "rgb(237,237,237)",
                      "radialaxis": {
                        "gridcolor": "white",
                        "linecolor": "white",
                        "showgrid": true,
                        "tickcolor": "rgb(51,51,51)",
                        "ticks": "outside"
                      }
                    },
                    "scene": {
                      "xaxis": {
                        "backgroundcolor": "rgb(237,237,237)",
                        "gridcolor": "white",
                        "gridwidth": 2,
                        "linecolor": "white",
                        "showbackground": true,
                        "showgrid": true,
                        "tickcolor": "rgb(51,51,51)",
                        "ticks": "outside",
                        "zerolinecolor": "white"
                      },
                      "yaxis": {
                        "backgroundcolor": "rgb(237,237,237)",
                        "gridcolor": "white",
                        "gridwidth": 2,
                        "linecolor": "white",
                        "showbackground": true,
                        "showgrid": true,
                        "tickcolor": "rgb(51,51,51)",
                        "ticks": "outside",
                        "zerolinecolor": "white"
                      },
                      "zaxis": {
                        "backgroundcolor": "rgb(237,237,237)",
                        "gridcolor": "white",
                        "gridwidth": 2,
                        "linecolor": "white",
                        "showbackground": true,
                        "showgrid": true,
                        "tickcolor": "rgb(51,51,51)",
                        "ticks": "outside",
                        "zerolinecolor": "white"
                      }
                    },
                    "shapedefaults": {
                      "fillcolor": "black",
                      "line": {
                        "width": 0
                      },
                      "opacity": 0.3
                    },
                    "ternary": {
                      "aaxis": {
                        "gridcolor": "white",
                        "linecolor": "white",
                        "showgrid": true,
                        "tickcolor": "rgb(51,51,51)",
                        "ticks": "outside"
                      },
                      "baxis": {
                        "gridcolor": "white",
                        "linecolor": "white",
                        "showgrid": true,
                        "tickcolor": "rgb(51,51,51)",
                        "ticks": "outside"
                      },
                      "bgcolor": "rgb(237,237,237)",
                      "caxis": {
                        "gridcolor": "white",
                        "linecolor": "white",
                        "showgrid": true,
                        "tickcolor": "rgb(51,51,51)",
                        "ticks": "outside"
                      }
                    },
                    "xaxis": {
                      "automargin": true,
                      "gridcolor": "white",
                      "linecolor": "white",
                      "showgrid": true,
                      "tickcolor": "rgb(51,51,51)",
                      "ticks": "outside",
                      "title": {
                        "standoff": 15
                      },
                      "zerolinecolor": "white"
                    },
                    "yaxis": {
                      "automargin": true,
                      "gridcolor": "white",
                      "linecolor": "white",
                      "showgrid": true,
                      "tickcolor": "rgb(51,51,51)",
                      "ticks": "outside",
                      "title": {
                        "standoff": 15
                      },
                      "zerolinecolor": "white"
                    }
                  }
                },
                "xaxis": {
                  "anchor": "y",
                  "domain": [
                    0,
                    0.45
                  ],
                  "title": {
                    "text": "Time"
                  }
                },
                "xaxis2": {
                  "anchor": "y2",
                  "domain": [
                    0.55,
                    1
                  ],
                  "title": {
                    "text": "Range of Values"
                  }
                },
                "xaxis3": {
                  "anchor": "y3",
                  "domain": [
                    0,
                    0.45
                  ],
                  "range": [
                    -1,
                    42
                  ],
                  "title": {
                    "text": "Lags"
                  }
                },
                "xaxis4": {
                  "anchor": "y4",
                  "domain": [
                    0.55,
                    1
                  ],
                  "title": {
                    "text": "Theoretical Quantities"
                  }
                },
                "yaxis": {
                  "anchor": "x",
                  "domain": [
                    0.625,
                    1
                  ],
                  "title": {
                    "text": "Value"
                  }
                },
                "yaxis2": {
                  "anchor": "x2",
                  "domain": [
                    0.625,
                    1
                  ],
                  "title": {
                    "text": "PDF"
                  }
                },
                "yaxis3": {
                  "anchor": "x3",
                  "domain": [
                    0,
                    0.375
                  ],
                  "title": {
                    "text": "ACF"
                  },
                  "zerolinecolor": "#000000"
                },
                "yaxis4": {
                  "anchor": "x4",
                  "domain": [
                    0,
                    0.375
                  ],
                  "title": {
                    "text": "Sample Quantities"
                  }
                }
              }
            },
            "text/html": [
              "<div>                            <div id=\"2d56faf7-e903-4bd1-b617-001630cf7738\" class=\"plotly-graph-div\" style=\"height:525px; width:100%;\"></div>            <script type=\"text/javascript\">                require([\"plotly\"], function(Plotly) {                    window.PLOTLYENV=window.PLOTLYENV || {};                                    if (document.getElementById(\"2d56faf7-e903-4bd1-b617-001630cf7738\")) {                    Plotly.newPlot(                        \"2d56faf7-e903-4bd1-b617-001630cf7738\",                        [{\"marker\":{\"color\":\"#1f77b4\"},\"mode\":\"markers\",\"showlegend\":false,\"type\":\"scatter\",\"x\":[-2.260188991329375,-1.9807523966472789,-1.8027430907391904,-1.6683911939470795,-1.5587835495029956,-1.465233792685523,-1.382994127100638,-1.309171716785777,-1.2418667918433202,-1.1797611176118612,-1.1219004674623523,-1.0675705238781414,-1.0162217327405565,-0.967421566101701,-0.9208229763683788,-0.8761428492468408,-0.8331468660796096,-0.7916386077433746,-0.7514515438490051,-0.712443032389489,-0.6744897501960817,-0.6374841609623769,-0.6013317483706249,-0.5659488219328631,-0.5312607573635746,-0.49720057068155404,-0.463707751457179,-0.43072729929545756,-0.3982089211336604,-0.36610635680056963,-0.33437680758881416,-0.30298044805620655,-0.2718800053992609,-0.24104039388602685,-0.2104283942479247,-0.1800123697927051,-0.14976201244462692,-0.11964811303984203,-0.08964235107576254,-0.05971709978532289,-0.029845242919239564,0.0,0.029845242919239425,0.05971709978532289,0.08964235107576254,0.11964811303984217,0.14976201244462692,0.18001236979270496,0.21042839424792484,0.24104039388602685,0.27188000539926077,0.30298044805620655,0.33437680758881416,0.3661063568005698,0.3982089211336604,0.43072729929545744,0.4637077514571792,0.49720057068155404,0.5312607573635744,0.5659488219328631,0.6013317483706249,0.6374841609623771,0.6744897501960817,0.7124430323894889,0.7514515438490051,0.7916386077433746,0.8331468660796099,0.8761428492468408,0.9208229763683788,0.967421566101701,1.0162217327405565,1.0675705238781412,1.1219004674623523,1.1797611176118612,1.2418667918433206,1.309171716785777,1.382994127100638,1.465233792685523,1.558783549502995,1.668391193947079,1.8027430907391908,1.9807523966472789,2.2601889913293767],\"xaxis\":\"x4\",\"y\":[-1248.6902208900538,-1205.197513812741,-1088.1869599892043,-1049.697610821795,-887.2648813361402,-855.5774820633019,-768.1923984049399,-721.1700171525354,-711.3168186457387,-693.7738136617036,-622.5614375252821,-613.631463012006,-604.4409956519294,-585.8524189689215,-581.9089620726054,-552.13917216645,-524.6999611794226,-494.9312505720891,-478.0846604798853,-477.70020759224144,-421.80361205471127,-411.48795571619667,-403.4114031467743,-403.283045027104,-399.9722686727837,-392.44769452227047,-358.535645844634,-310.3062719056011,-229.71862485149632,-205.08732799606832,-189.60245118684952,-159.56930991488753,-75.23816211932171,-64.69622245946516,4.113309654821023,39.74868751018039,53.61453972201343,61.9151866511429,79.19244269684805,80.3263156424091,143.09942889966896,160.26277189099437,171.70153160950213,197.83808763948855,202.0512425407178,206.39561540701925,231.24490322519705,242.6208522795623,244.1107736711965,273.7804803738177,288.1262570684021,295.46823219196904,346.13715534661605,388.75825593627314,438.44654615687614,464.34976853317585,473.44466980567177,489.08415006954965,518.7239558131023,542.9297690007202,552.1987550385156,555.6214160561049,568.9978170799677,583.6578485123118,609.3382483752298,622.067098546087,653.0841173063704,668.4118103113551,670.5873142109649,697.409394716331,808.7602109400495,823.1612864378858,933.7706769476081,937.07946058166,1095.3252041546448,1339.8352878487792,2147.049245137165,2235.000495785575,2707.0863276254295,2769.558170583916,3329.3100792981313,3436.9463065389677,3818.3003438027704],\"yaxis\":\"y4\"},{\"line\":{\"color\":\"#3f3f3f\"},\"mode\":\"lines\",\"showlegend\":false,\"type\":\"scatter\",\"x\":[-2.260188991329375,-1.9807523966472789,-1.8027430907391904,-1.6683911939470795,-1.5587835495029956,-1.465233792685523,-1.382994127100638,-1.309171716785777,-1.2418667918433202,-1.1797611176118612,-1.1219004674623523,-1.0675705238781414,-1.0162217327405565,-0.967421566101701,-0.9208229763683788,-0.8761428492468408,-0.8331468660796096,-0.7916386077433746,-0.7514515438490051,-0.712443032389489,-0.6744897501960817,-0.6374841609623769,-0.6013317483706249,-0.5659488219328631,-0.5312607573635746,-0.49720057068155404,-0.463707751457179,-0.43072729929545756,-0.3982089211336604,-0.36610635680056963,-0.33437680758881416,-0.30298044805620655,-0.2718800053992609,-0.24104039388602685,-0.2104283942479247,-0.1800123697927051,-0.14976201244462692,-0.11964811303984203,-0.08964235107576254,-0.05971709978532289,-0.029845242919239564,0.0,0.029845242919239425,0.05971709978532289,0.08964235107576254,0.11964811303984217,0.14976201244462692,0.18001236979270496,0.21042839424792484,0.24104039388602685,0.27188000539926077,0.30298044805620655,0.33437680758881416,0.3661063568005698,0.3982089211336604,0.43072729929545744,0.4637077514571792,0.49720057068155404,0.5312607573635744,0.5659488219328631,0.6013317483706249,0.6374841609623771,0.6744897501960817,0.7124430323894889,0.7514515438490051,0.7916386077433746,0.8331468660796099,0.8761428492468408,0.9208229763683788,0.967421566101701,1.0162217327405565,1.0675705238781412,1.1219004674623523,1.1797611176118612,1.2418667918433206,1.309171716785777,1.382994127100638,1.465233792685523,1.558783549502995,1.668391193947079,1.8027430907391908,1.9807523966472789,2.2601889913293767],\"xaxis\":\"x4\",\"y\":[-2010.3526940310157,-1731.4025165074795,-1553.703072594652,-1419.5850430523155,-1310.168193371629,-1216.7812792446312,-1134.6847687983932,-1060.9908616493549,-993.8030948421268,-931.8055283752377,-874.0455966483468,-819.8102255621046,-768.5508176103872,-719.835597749604,-673.3181224946369,-628.715770370691,-585.794630600351,-544.3586259683941,-504.2415159662577,-465.3009068848298,-427.4136902248347,-390.47251686903724,-354.38303502487736,-319.06169988498755,-284.4340170628461,-250.43311917671406,-216.99860112788053,-184.07555826091084,-151.61378505854793,-119.56710187496498,-87.89278450278846,-56.5510768242458,-25.504770916870655,5.28115787731781,35.83987100189535,66.2029500789084,96.40065042662695,126.46213036431126,156.41566109686005,186.28882130123975,216.10868002529648,245.9019711295856,275.6952622338746,305.51512095793146,335.38828116231116,365.3418118948601,395.40329183254426,425.60099218026266,455.964071257276,486.5227843818534,517.3087131760417,548.355019083417,579.6967267619597,611.3710441341364,643.4177273177191,675.8795005200819,708.8025433870519,742.2370614358853,776.2379593220171,810.8656421441588,846.1869772840486,882.2764591282087,919.2176324840059,957.1048491440009,996.0454582254289,1036.1625682275653,1077.5985728595224,1120.5197126298622,1165.122064753808,1211.6395400087752,1260.3547598695584,1311.6141678212757,1365.8495389075179,1423.6094706344088,1485.6070371012984,1552.7948039085263,1626.4887110575646,1708.5852215038026,1801.9721356307996,1911.3889853114865,2045.5070148538234,2223.206458766651,2502.1566362901885],\"yaxis\":\"y4\"},{\"alignmentgroup\":\"True\",\"bingroup\":\"x\",\"hovertemplate\":\"variable=0<br>value=%{x}<br>count=%{y}<extra></extra>\",\"legendgroup\":\"0\",\"marker\":{\"color\":\"#1f77b4\",\"pattern\":{\"shape\":\"\"}},\"name\":\"0\",\"offsetgroup\":\"0\",\"orientation\":\"v\",\"showlegend\":false,\"type\":\"histogram\",\"x\":[3436.9463065389677,2235.000495785575,1339.8352878487792,2147.049245137165,3818.3003438027704,2769.558170583916,3329.3100792981313,61.9151866511429,609.3382483752298,-189.60245118684952,79.19244269684805,288.1262570684021,668.4118103113551,273.7804803738177,346.13715534661605,653.0841173063704,-205.08732799606832,622.067098546087,39.74868751018039,388.75825593627314,489.08415006954965,231.24490322519705,-399.9722686727837,-552.13917216645,-494.9312505720891,4.113309654821023,1095.3252041546448,202.0512425407178,-585.8524189689215,-358.535645844634,-622.5614375252821,-421.80361205471127,-524.6999611794226,937.07946058166,-1205.197513812741,-229.71862485149632,-1248.6902208900538,-64.69622245946516,-887.2648813361402,-768.1923984049399,143.09942889966896,583.6578485123118,697.409394716331,552.1987550385156,-1049.697610821795,542.9297690007202,2707.0863276254295,-693.7738136617036,518.7239558131023,242.6208522795623,244.1107736711965,-477.70020759224144,-855.5774820633019,-613.631463012006,160.26277189099437,53.61453972201343,555.6214160561049,473.44466980567177,-392.44769452227047,-604.4409956519294,-721.1700171525354,-711.3168186457387,-581.9089620726054,-1088.1869599892043,808.7602109400495,-478.0846604798853,-310.3062719056011,-403.283045027104,206.39561540701925,-411.48795571619667,823.1612864378858,197.83808763948855,438.44654615687614,-75.23816211932171,80.3263156424091,464.34976853317585,933.7706769476081,171.70153160950213,-159.56930991488753,-403.4114031467743,568.9978170799677,295.46823219196904,670.5873142109649],\"xaxis\":\"x2\",\"yaxis\":\"y2\"},{\"line\":{\"color\":\"#3f3f3f\"},\"mode\":\"lines\",\"name\":\"ACF\",\"showlegend\":false,\"type\":\"scatter\",\"x\":[0,0],\"xaxis\":\"x3\",\"y\":[0,1.0],\"yaxis\":\"y3\"},{\"line\":{\"color\":\"#3f3f3f\"},\"mode\":\"lines\",\"name\":\"ACF\",\"showlegend\":false,\"type\":\"scatter\",\"x\":[1,1],\"xaxis\":\"x3\",\"y\":[0,0.49805143122902384],\"yaxis\":\"y3\"},{\"line\":{\"color\":\"#3f3f3f\"},\"mode\":\"lines\",\"name\":\"ACF\",\"showlegend\":false,\"type\":\"scatter\",\"x\":[2,2],\"xaxis\":\"x3\",\"y\":[0,0.4200397341769215],\"yaxis\":\"y3\"},{\"line\":{\"color\":\"#3f3f3f\"},\"mode\":\"lines\",\"name\":\"ACF\",\"showlegend\":false,\"type\":\"scatter\",\"x\":[3,3],\"xaxis\":\"x3\",\"y\":[0,0.30204333414024964],\"yaxis\":\"y3\"},{\"line\":{\"color\":\"#3f3f3f\"},\"mode\":\"lines\",\"name\":\"ACF\",\"showlegend\":false,\"type\":\"scatter\",\"x\":[4,4],\"xaxis\":\"x3\",\"y\":[0,0.3190545152992841],\"yaxis\":\"y3\"},{\"line\":{\"color\":\"#3f3f3f\"},\"mode\":\"lines\",\"name\":\"ACF\",\"showlegend\":false,\"type\":\"scatter\",\"x\":[5,5],\"xaxis\":\"x3\",\"y\":[0,0.21314644120064002],\"yaxis\":\"y3\"},{\"line\":{\"color\":\"#3f3f3f\"},\"mode\":\"lines\",\"name\":\"ACF\",\"showlegend\":false,\"type\":\"scatter\",\"x\":[6,6],\"xaxis\":\"x3\",\"y\":[0,0.2003299674808726],\"yaxis\":\"y3\"},{\"line\":{\"color\":\"#3f3f3f\"},\"mode\":\"lines\",\"name\":\"ACF\",\"showlegend\":false,\"type\":\"scatter\",\"x\":[7,7],\"xaxis\":\"x3\",\"y\":[0,0.05531288972568192],\"yaxis\":\"y3\"},{\"line\":{\"color\":\"#3f3f3f\"},\"mode\":\"lines\",\"name\":\"ACF\",\"showlegend\":false,\"type\":\"scatter\",\"x\":[8,8],\"xaxis\":\"x3\",\"y\":[0,0.11194075004980096],\"yaxis\":\"y3\"},{\"line\":{\"color\":\"#3f3f3f\"},\"mode\":\"lines\",\"name\":\"ACF\",\"showlegend\":false,\"type\":\"scatter\",\"x\":[9,9],\"xaxis\":\"x3\",\"y\":[0,0.052433645086637795],\"yaxis\":\"y3\"},{\"line\":{\"color\":\"#3f3f3f\"},\"mode\":\"lines\",\"name\":\"ACF\",\"showlegend\":false,\"type\":\"scatter\",\"x\":[10,10],\"xaxis\":\"x3\",\"y\":[0,0.005497349611510623],\"yaxis\":\"y3\"},{\"line\":{\"color\":\"#3f3f3f\"},\"mode\":\"lines\",\"name\":\"ACF\",\"showlegend\":false,\"type\":\"scatter\",\"x\":[11,11],\"xaxis\":\"x3\",\"y\":[0,0.05319768084366604],\"yaxis\":\"y3\"},{\"line\":{\"color\":\"#3f3f3f\"},\"mode\":\"lines\",\"name\":\"ACF\",\"showlegend\":false,\"type\":\"scatter\",\"x\":[12,12],\"xaxis\":\"x3\",\"y\":[0,0.00548436068826686],\"yaxis\":\"y3\"},{\"line\":{\"color\":\"#3f3f3f\"},\"mode\":\"lines\",\"name\":\"ACF\",\"showlegend\":false,\"type\":\"scatter\",\"x\":[13,13],\"xaxis\":\"x3\",\"y\":[0,0.06549448534882804],\"yaxis\":\"y3\"},{\"line\":{\"color\":\"#3f3f3f\"},\"mode\":\"lines\",\"name\":\"ACF\",\"showlegend\":false,\"type\":\"scatter\",\"x\":[14,14],\"xaxis\":\"x3\",\"y\":[0,0.05639171950921962],\"yaxis\":\"y3\"},{\"line\":{\"color\":\"#3f3f3f\"},\"mode\":\"lines\",\"name\":\"ACF\",\"showlegend\":false,\"type\":\"scatter\",\"x\":[15,15],\"xaxis\":\"x3\",\"y\":[0,0.051057869306916775],\"yaxis\":\"y3\"},{\"line\":{\"color\":\"#3f3f3f\"},\"mode\":\"lines\",\"name\":\"ACF\",\"showlegend\":false,\"type\":\"scatter\",\"x\":[16,16],\"xaxis\":\"x3\",\"y\":[0,0.03289779223305762],\"yaxis\":\"y3\"},{\"line\":{\"color\":\"#3f3f3f\"},\"mode\":\"lines\",\"name\":\"ACF\",\"showlegend\":false,\"type\":\"scatter\",\"x\":[17,17],\"xaxis\":\"x3\",\"y\":[0,-0.08069538641198745],\"yaxis\":\"y3\"},{\"line\":{\"color\":\"#3f3f3f\"},\"mode\":\"lines\",\"name\":\"ACF\",\"showlegend\":false,\"type\":\"scatter\",\"x\":[18,18],\"xaxis\":\"x3\",\"y\":[0,-0.0746491124298834],\"yaxis\":\"y3\"},{\"line\":{\"color\":\"#3f3f3f\"},\"mode\":\"lines\",\"name\":\"ACF\",\"showlegend\":false,\"type\":\"scatter\",\"x\":[19,19],\"xaxis\":\"x3\",\"y\":[0,-0.06893948357003205],\"yaxis\":\"y3\"},{\"line\":{\"color\":\"#3f3f3f\"},\"mode\":\"lines\",\"name\":\"ACF\",\"showlegend\":false,\"type\":\"scatter\",\"x\":[20,20],\"xaxis\":\"x3\",\"y\":[0,-0.0017511488444028665],\"yaxis\":\"y3\"},{\"line\":{\"color\":\"#3f3f3f\"},\"mode\":\"lines\",\"name\":\"ACF\",\"showlegend\":false,\"type\":\"scatter\",\"x\":[21,21],\"xaxis\":\"x3\",\"y\":[0,-0.014354987250992386],\"yaxis\":\"y3\"},{\"line\":{\"color\":\"#3f3f3f\"},\"mode\":\"lines\",\"name\":\"ACF\",\"showlegend\":false,\"type\":\"scatter\",\"x\":[22,22],\"xaxis\":\"x3\",\"y\":[0,-0.011197177458862987],\"yaxis\":\"y3\"},{\"line\":{\"color\":\"#3f3f3f\"},\"mode\":\"lines\",\"name\":\"ACF\",\"showlegend\":false,\"type\":\"scatter\",\"x\":[23,23],\"xaxis\":\"x3\",\"y\":[0,-0.06322634181368865],\"yaxis\":\"y3\"},{\"line\":{\"color\":\"#3f3f3f\"},\"mode\":\"lines\",\"name\":\"ACF\",\"showlegend\":false,\"type\":\"scatter\",\"x\":[24,24],\"xaxis\":\"x3\",\"y\":[0,-0.061542502175324115],\"yaxis\":\"y3\"},{\"line\":{\"color\":\"#3f3f3f\"},\"mode\":\"lines\",\"name\":\"ACF\",\"showlegend\":false,\"type\":\"scatter\",\"x\":[25,25],\"xaxis\":\"x3\",\"y\":[0,-0.024982553368084574],\"yaxis\":\"y3\"},{\"line\":{\"color\":\"#3f3f3f\"},\"mode\":\"lines\",\"name\":\"ACF\",\"showlegend\":false,\"type\":\"scatter\",\"x\":[26,26],\"xaxis\":\"x3\",\"y\":[0,-0.03913873052699534],\"yaxis\":\"y3\"},{\"line\":{\"color\":\"#3f3f3f\"},\"mode\":\"lines\",\"name\":\"ACF\",\"showlegend\":false,\"type\":\"scatter\",\"x\":[27,27],\"xaxis\":\"x3\",\"y\":[0,-0.011645864164230689],\"yaxis\":\"y3\"},{\"line\":{\"color\":\"#3f3f3f\"},\"mode\":\"lines\",\"name\":\"ACF\",\"showlegend\":false,\"type\":\"scatter\",\"x\":[28,28],\"xaxis\":\"x3\",\"y\":[0,-0.0885693602377618],\"yaxis\":\"y3\"},{\"line\":{\"color\":\"#3f3f3f\"},\"mode\":\"lines\",\"name\":\"ACF\",\"showlegend\":false,\"type\":\"scatter\",\"x\":[29,29],\"xaxis\":\"x3\",\"y\":[0,0.0018150986969582197],\"yaxis\":\"y3\"},{\"line\":{\"color\":\"#3f3f3f\"},\"mode\":\"lines\",\"name\":\"ACF\",\"showlegend\":false,\"type\":\"scatter\",\"x\":[30,30],\"xaxis\":\"x3\",\"y\":[0,-0.11132464417951297],\"yaxis\":\"y3\"},{\"line\":{\"color\":\"#3f3f3f\"},\"mode\":\"lines\",\"name\":\"ACF\",\"showlegend\":false,\"type\":\"scatter\",\"x\":[31,31],\"xaxis\":\"x3\",\"y\":[0,-0.045752852951841276],\"yaxis\":\"y3\"},{\"line\":{\"color\":\"#3f3f3f\"},\"mode\":\"lines\",\"name\":\"ACF\",\"showlegend\":false,\"type\":\"scatter\",\"x\":[32,32],\"xaxis\":\"x3\",\"y\":[0,-0.16332850258580014],\"yaxis\":\"y3\"},{\"line\":{\"color\":\"#3f3f3f\"},\"mode\":\"lines\",\"name\":\"ACF\",\"showlegend\":false,\"type\":\"scatter\",\"x\":[33,33],\"xaxis\":\"x3\",\"y\":[0,-0.11935579772697495],\"yaxis\":\"y3\"},{\"line\":{\"color\":\"#3f3f3f\"},\"mode\":\"lines\",\"name\":\"ACF\",\"showlegend\":false,\"type\":\"scatter\",\"x\":[34,34],\"xaxis\":\"x3\",\"y\":[0,-0.13882820723922423],\"yaxis\":\"y3\"},{\"line\":{\"color\":\"#3f3f3f\"},\"mode\":\"lines\",\"name\":\"ACF\",\"showlegend\":false,\"type\":\"scatter\",\"x\":[35,35],\"xaxis\":\"x3\",\"y\":[0,-0.059433724224214536],\"yaxis\":\"y3\"},{\"line\":{\"color\":\"#3f3f3f\"},\"mode\":\"lines\",\"name\":\"ACF\",\"showlegend\":false,\"type\":\"scatter\",\"x\":[36,36],\"xaxis\":\"x3\",\"y\":[0,-0.08154784552331942],\"yaxis\":\"y3\"},{\"line\":{\"color\":\"#3f3f3f\"},\"mode\":\"lines\",\"name\":\"ACF\",\"showlegend\":false,\"type\":\"scatter\",\"x\":[37,37],\"xaxis\":\"x3\",\"y\":[0,0.011777332212433956],\"yaxis\":\"y3\"},{\"line\":{\"color\":\"#3f3f3f\"},\"mode\":\"lines\",\"name\":\"ACF\",\"showlegend\":false,\"type\":\"scatter\",\"x\":[38,38],\"xaxis\":\"x3\",\"y\":[0,-0.0451172482691832],\"yaxis\":\"y3\"},{\"line\":{\"color\":\"#3f3f3f\"},\"mode\":\"lines\",\"name\":\"ACF\",\"showlegend\":false,\"type\":\"scatter\",\"x\":[39,39],\"xaxis\":\"x3\",\"y\":[0,-0.020331588400726696],\"yaxis\":\"y3\"},{\"line\":{\"color\":\"#3f3f3f\"},\"mode\":\"lines\",\"name\":\"ACF\",\"showlegend\":false,\"type\":\"scatter\",\"x\":[40,40],\"xaxis\":\"x3\",\"y\":[0,0.06601877695576594],\"yaxis\":\"y3\"},{\"marker\":{\"color\":\"#1f77b4\",\"size\":6},\"mode\":\"markers\",\"showlegend\":false,\"type\":\"scatter\",\"x\":[0,1,2,3,4,5,6,7,8,9,10,11,12,13,14,15,16,17,18,19,20,21,22,23,24,25,26,27,28,29,30,31,32,33,34,35,36,37,38,39,40],\"xaxis\":\"x3\",\"y\":[1.0,0.49805143122902384,0.4200397341769215,0.30204333414024964,0.3190545152992841,0.21314644120064002,0.2003299674808726,0.05531288972568192,0.11194075004980096,0.052433645086637795,0.005497349611510623,0.05319768084366604,0.00548436068826686,0.06549448534882804,0.05639171950921962,0.051057869306916775,0.03289779223305762,-0.08069538641198745,-0.0746491124298834,-0.06893948357003205,-0.0017511488444028665,-0.014354987250992386,-0.011197177458862987,-0.06322634181368865,-0.061542502175324115,-0.024982553368084574,-0.03913873052699534,-0.011645864164230689,-0.0885693602377618,0.0018150986969582197,-0.11132464417951297,-0.045752852951841276,-0.16332850258580014,-0.11935579772697495,-0.13882820723922423,-0.059433724224214536,-0.08154784552331942,0.011777332212433956,-0.0451172482691832,-0.020331588400726696,0.06601877695576594],\"yaxis\":\"y3\"},{\"line\":{\"color\":\"rgba(255,255,255,0)\"},\"mode\":\"lines\",\"name\":\"UC\",\"showlegend\":false,\"type\":\"scatter\",\"x\":[0,1,2,3,4,5,6,7,8,9,10,11,12,13,14,15,16,17,18,19,20,21,22,23,24,25,26,27,28,29,30,31,32,33,34,35,36,37,38,39,40],\"xaxis\":\"x3\",\"y\":[0.0,0.21513399636948394,0.26314242579634645,0.2925329725758029,0.3066272756035451,0.32162562185549465,0.3280981729110878,0.3337113265525,0.33413538331230347,0.3358665880417373,0.336245228184153,0.3362493879222561,0.33663869352022135,0.3366428287858141,0.3372320498801501,0.3376682031865509,0.33802533101816085,0.33817348290522564,0.33906351326622064,0.3398233145093884,0.34046999228940356,0.34047040914449145,0.34049842000654384,0.3405154615624327,0.3410583758659287,0.34157196141991897,0.341656519627983,0.3418639679943039,0.3418823290030938,0.3429426454810195,0.3429430901090153,0.34461157961950517,0.34489260629011564,0.34845401358146255,0.35034107173046836,0.35287802728489065,0.35334102041605286,0.3542110112682281,0.3542291346305494,0.3544949965114239,0.35454896217759857],\"yaxis\":\"y3\"},{\"fill\":\"tonexty\",\"fillcolor\":\"rgba(32, 146, 230,0.3)\",\"line\":{\"color\":\"rgba(255,255,255,0)\"},\"mode\":\"lines\",\"name\":\"LC\",\"showlegend\":false,\"type\":\"scatter\",\"x\":[0,1,2,3,4,5,6,7,8,9,10,11,12,13,14,15,16,17,18,19,20,21,22,23,24,25,26,27,28,29,30,31,32,33,34,35,36,37,38,39,40],\"xaxis\":\"x3\",\"y\":[0.0,-0.21513399636948394,-0.2631424257963464,-0.29253297257580296,-0.30662727560354514,-0.32162562185549465,-0.32809817291108784,-0.3337113265525,-0.33413538331230347,-0.3358665880417373,-0.336245228184153,-0.3362493879222561,-0.33663869352022135,-0.3366428287858142,-0.3372320498801501,-0.337668203186551,-0.33802533101816085,-0.33817348290522553,-0.33906351326622064,-0.3398233145093884,-0.34046999228940356,-0.34047040914449145,-0.34049842000654384,-0.3405154615624327,-0.3410583758659287,-0.34157196141991897,-0.341656519627983,-0.3418639679943039,-0.3418823290030938,-0.3429426454810195,-0.3429430901090153,-0.34461157961950517,-0.34489260629011564,-0.34845401358146255,-0.35034107173046836,-0.35287802728489065,-0.353341020416053,-0.3542110112682281,-0.3542291346305494,-0.3544949965114239,-0.3545489621775987],\"yaxis\":\"y3\"},{\"marker\":{\"color\":\"#1f77b4\",\"size\":2},\"mode\":\"lines+markers\",\"name\":\"Time Plot\",\"type\":\"scatter\",\"x\":[\"2021-07-08T00:00:00\",\"2021-07-09T00:00:00\",\"2021-07-10T00:00:00\",\"2021-07-11T00:00:00\",\"2021-07-12T00:00:00\",\"2021-07-13T00:00:00\",\"2021-07-14T00:00:00\",\"2021-07-15T00:00:00\",\"2021-07-16T00:00:00\",\"2021-07-17T00:00:00\",\"2021-07-18T00:00:00\",\"2021-07-19T00:00:00\",\"2021-07-20T00:00:00\",\"2021-07-21T00:00:00\",\"2021-07-22T00:00:00\",\"2021-07-23T00:00:00\",\"2021-07-24T00:00:00\",\"2021-07-25T00:00:00\",\"2021-07-26T00:00:00\",\"2021-07-27T00:00:00\",\"2021-07-28T00:00:00\",\"2021-07-29T00:00:00\",\"2021-07-30T00:00:00\",\"2021-07-31T00:00:00\",\"2021-08-01T00:00:00\",\"2021-08-02T00:00:00\",\"2021-08-03T00:00:00\",\"2021-08-04T00:00:00\",\"2021-08-05T00:00:00\",\"2021-08-06T00:00:00\",\"2021-08-07T00:00:00\",\"2021-08-08T00:00:00\",\"2021-08-09T00:00:00\",\"2021-08-10T00:00:00\",\"2021-08-11T00:00:00\",\"2021-08-12T00:00:00\",\"2021-08-13T00:00:00\",\"2021-08-14T00:00:00\",\"2021-08-15T00:00:00\",\"2021-08-16T00:00:00\",\"2021-08-17T00:00:00\",\"2021-08-18T00:00:00\",\"2021-08-19T00:00:00\",\"2021-08-20T00:00:00\",\"2021-08-21T00:00:00\",\"2021-08-22T00:00:00\",\"2021-08-23T00:00:00\",\"2021-08-24T00:00:00\",\"2021-08-25T00:00:00\",\"2021-08-26T00:00:00\",\"2021-08-27T00:00:00\",\"2021-08-28T00:00:00\",\"2021-08-29T00:00:00\",\"2021-08-30T00:00:00\",\"2021-08-31T00:00:00\",\"2021-09-01T00:00:00\",\"2021-09-02T00:00:00\",\"2021-09-03T00:00:00\",\"2021-09-04T00:00:00\",\"2021-09-05T00:00:00\",\"2021-09-06T00:00:00\",\"2021-09-07T00:00:00\",\"2021-09-08T00:00:00\",\"2021-09-09T00:00:00\",\"2021-09-10T00:00:00\",\"2021-09-11T00:00:00\",\"2021-09-12T00:00:00\",\"2021-09-13T00:00:00\",\"2021-09-14T00:00:00\",\"2021-09-15T00:00:00\",\"2021-09-16T00:00:00\",\"2021-09-17T00:00:00\",\"2021-09-18T00:00:00\",\"2021-09-19T00:00:00\",\"2021-09-20T00:00:00\",\"2021-09-21T00:00:00\",\"2021-09-22T00:00:00\",\"2021-09-23T00:00:00\",\"2021-09-24T00:00:00\",\"2021-09-25T00:00:00\",\"2021-09-26T00:00:00\",\"2021-09-27T00:00:00\",\"2021-09-28T00:00:00\"],\"xaxis\":\"x\",\"y\":[3436.9463065389677,2235.000495785575,1339.8352878487792,2147.049245137165,3818.3003438027704,2769.558170583916,3329.3100792981313,61.9151866511429,609.3382483752298,-189.60245118684952,79.19244269684805,288.1262570684021,668.4118103113551,273.7804803738177,346.13715534661605,653.0841173063704,-205.08732799606832,622.067098546087,39.74868751018039,388.75825593627314,489.08415006954965,231.24490322519705,-399.9722686727837,-552.13917216645,-494.9312505720891,4.113309654821023,1095.3252041546448,202.0512425407178,-585.8524189689215,-358.535645844634,-622.5614375252821,-421.80361205471127,-524.6999611794226,937.07946058166,-1205.197513812741,-229.71862485149632,-1248.6902208900538,-64.69622245946516,-887.2648813361402,-768.1923984049399,143.09942889966896,583.6578485123118,697.409394716331,552.1987550385156,-1049.697610821795,542.9297690007202,2707.0863276254295,-693.7738136617036,518.7239558131023,242.6208522795623,244.1107736711965,-477.70020759224144,-855.5774820633019,-613.631463012006,160.26277189099437,53.61453972201343,555.6214160561049,473.44466980567177,-392.44769452227047,-604.4409956519294,-721.1700171525354,-711.3168186457387,-581.9089620726054,-1088.1869599892043,808.7602109400495,-478.0846604798853,-310.3062719056011,-403.283045027104,206.39561540701925,-411.48795571619667,823.1612864378858,197.83808763948855,438.44654615687614,-75.23816211932171,80.3263156424091,464.34976853317585,933.7706769476081,171.70153160950213,-159.56930991488753,-403.4114031467743,568.9978170799677,295.46823219196904,670.5873142109649],\"yaxis\":\"y\"}],                        {\"annotations\":[{\"font\":{\"size\":16},\"showarrow\":false,\"text\":\"Time Plot\",\"x\":0.225,\"xanchor\":\"center\",\"xref\":\"paper\",\"y\":1.0,\"yanchor\":\"bottom\",\"yref\":\"paper\"},{\"font\":{\"size\":16},\"showarrow\":false,\"text\":\"Histogram Plot\",\"x\":0.775,\"xanchor\":\"center\",\"xref\":\"paper\",\"y\":1.0,\"yanchor\":\"bottom\",\"yref\":\"paper\"},{\"font\":{\"size\":16},\"showarrow\":false,\"text\":\"ACF Plot\",\"x\":0.225,\"xanchor\":\"center\",\"xref\":\"paper\",\"y\":0.375,\"yanchor\":\"bottom\",\"yref\":\"paper\"},{\"font\":{\"size\":16},\"showarrow\":false,\"text\":\"Quantile-Quantile Plot\",\"x\":0.775,\"xanchor\":\"center\",\"xref\":\"paper\",\"y\":0.375,\"yanchor\":\"bottom\",\"yref\":\"paper\"},{\"font\":{\"size\":16},\"showarrow\":false,\"text\":\"Diagnostics | 'Auto ARIMA' Residuals\",\"x\":0.5,\"xanchor\":\"center\",\"xref\":\"paper\",\"y\":0,\"yanchor\":\"top\",\"yref\":\"paper\",\"yshift\":-30}],\"showlegend\":false,\"template\":{\"data\":{\"bar\":[{\"error_x\":{\"color\":\"rgb(51,51,51)\"},\"error_y\":{\"color\":\"rgb(51,51,51)\"},\"marker\":{\"line\":{\"color\":\"rgb(237,237,237)\",\"width\":0.5},\"pattern\":{\"fillmode\":\"overlay\",\"size\":10,\"solidity\":0.2}},\"type\":\"bar\"}],\"barpolar\":[{\"marker\":{\"line\":{\"color\":\"rgb(237,237,237)\",\"width\":0.5},\"pattern\":{\"fillmode\":\"overlay\",\"size\":10,\"solidity\":0.2}},\"type\":\"barpolar\"}],\"carpet\":[{\"aaxis\":{\"endlinecolor\":\"rgb(51,51,51)\",\"gridcolor\":\"white\",\"linecolor\":\"white\",\"minorgridcolor\":\"white\",\"startlinecolor\":\"rgb(51,51,51)\"},\"baxis\":{\"endlinecolor\":\"rgb(51,51,51)\",\"gridcolor\":\"white\",\"linecolor\":\"white\",\"minorgridcolor\":\"white\",\"startlinecolor\":\"rgb(51,51,51)\"},\"type\":\"carpet\"}],\"choropleth\":[{\"colorbar\":{\"outlinewidth\":0,\"tickcolor\":\"rgb(237,237,237)\",\"ticklen\":6,\"ticks\":\"inside\"},\"type\":\"choropleth\"}],\"contour\":[{\"colorbar\":{\"outlinewidth\":0,\"tickcolor\":\"rgb(237,237,237)\",\"ticklen\":6,\"ticks\":\"inside\"},\"colorscale\":[[0,\"rgb(20,44,66)\"],[1,\"rgb(90,179,244)\"]],\"type\":\"contour\"}],\"contourcarpet\":[{\"colorbar\":{\"outlinewidth\":0,\"tickcolor\":\"rgb(237,237,237)\",\"ticklen\":6,\"ticks\":\"inside\"},\"type\":\"contourcarpet\"}],\"heatmap\":[{\"colorbar\":{\"outlinewidth\":0,\"tickcolor\":\"rgb(237,237,237)\",\"ticklen\":6,\"ticks\":\"inside\"},\"colorscale\":[[0,\"rgb(20,44,66)\"],[1,\"rgb(90,179,244)\"]],\"type\":\"heatmap\"}],\"heatmapgl\":[{\"colorbar\":{\"outlinewidth\":0,\"tickcolor\":\"rgb(237,237,237)\",\"ticklen\":6,\"ticks\":\"inside\"},\"colorscale\":[[0,\"rgb(20,44,66)\"],[1,\"rgb(90,179,244)\"]],\"type\":\"heatmapgl\"}],\"histogram\":[{\"marker\":{\"pattern\":{\"fillmode\":\"overlay\",\"size\":10,\"solidity\":0.2}},\"type\":\"histogram\"}],\"histogram2d\":[{\"colorbar\":{\"outlinewidth\":0,\"tickcolor\":\"rgb(237,237,237)\",\"ticklen\":6,\"ticks\":\"inside\"},\"colorscale\":[[0,\"rgb(20,44,66)\"],[1,\"rgb(90,179,244)\"]],\"type\":\"histogram2d\"}],\"histogram2dcontour\":[{\"colorbar\":{\"outlinewidth\":0,\"tickcolor\":\"rgb(237,237,237)\",\"ticklen\":6,\"ticks\":\"inside\"},\"colorscale\":[[0,\"rgb(20,44,66)\"],[1,\"rgb(90,179,244)\"]],\"type\":\"histogram2dcontour\"}],\"mesh3d\":[{\"colorbar\":{\"outlinewidth\":0,\"tickcolor\":\"rgb(237,237,237)\",\"ticklen\":6,\"ticks\":\"inside\"},\"type\":\"mesh3d\"}],\"parcoords\":[{\"line\":{\"colorbar\":{\"outlinewidth\":0,\"tickcolor\":\"rgb(237,237,237)\",\"ticklen\":6,\"ticks\":\"inside\"}},\"type\":\"parcoords\"}],\"pie\":[{\"automargin\":true,\"type\":\"pie\"}],\"scatter\":[{\"marker\":{\"colorbar\":{\"outlinewidth\":0,\"tickcolor\":\"rgb(237,237,237)\",\"ticklen\":6,\"ticks\":\"inside\"}},\"type\":\"scatter\"}],\"scatter3d\":[{\"line\":{\"colorbar\":{\"outlinewidth\":0,\"tickcolor\":\"rgb(237,237,237)\",\"ticklen\":6,\"ticks\":\"inside\"}},\"marker\":{\"colorbar\":{\"outlinewidth\":0,\"tickcolor\":\"rgb(237,237,237)\",\"ticklen\":6,\"ticks\":\"inside\"}},\"type\":\"scatter3d\"}],\"scattercarpet\":[{\"marker\":{\"colorbar\":{\"outlinewidth\":0,\"tickcolor\":\"rgb(237,237,237)\",\"ticklen\":6,\"ticks\":\"inside\"}},\"type\":\"scattercarpet\"}],\"scattergeo\":[{\"marker\":{\"colorbar\":{\"outlinewidth\":0,\"tickcolor\":\"rgb(237,237,237)\",\"ticklen\":6,\"ticks\":\"inside\"}},\"type\":\"scattergeo\"}],\"scattergl\":[{\"marker\":{\"colorbar\":{\"outlinewidth\":0,\"tickcolor\":\"rgb(237,237,237)\",\"ticklen\":6,\"ticks\":\"inside\"}},\"type\":\"scattergl\"}],\"scattermapbox\":[{\"marker\":{\"colorbar\":{\"outlinewidth\":0,\"tickcolor\":\"rgb(237,237,237)\",\"ticklen\":6,\"ticks\":\"inside\"}},\"type\":\"scattermapbox\"}],\"scatterpolar\":[{\"marker\":{\"colorbar\":{\"outlinewidth\":0,\"tickcolor\":\"rgb(237,237,237)\",\"ticklen\":6,\"ticks\":\"inside\"}},\"type\":\"scatterpolar\"}],\"scatterpolargl\":[{\"marker\":{\"colorbar\":{\"outlinewidth\":0,\"tickcolor\":\"rgb(237,237,237)\",\"ticklen\":6,\"ticks\":\"inside\"}},\"type\":\"scatterpolargl\"}],\"scatterternary\":[{\"marker\":{\"colorbar\":{\"outlinewidth\":0,\"tickcolor\":\"rgb(237,237,237)\",\"ticklen\":6,\"ticks\":\"inside\"}},\"type\":\"scatterternary\"}],\"surface\":[{\"colorbar\":{\"outlinewidth\":0,\"tickcolor\":\"rgb(237,237,237)\",\"ticklen\":6,\"ticks\":\"inside\"},\"colorscale\":[[0,\"rgb(20,44,66)\"],[1,\"rgb(90,179,244)\"]],\"type\":\"surface\"}],\"table\":[{\"cells\":{\"fill\":{\"color\":\"rgb(237,237,237)\"},\"line\":{\"color\":\"white\"}},\"header\":{\"fill\":{\"color\":\"rgb(217,217,217)\"},\"line\":{\"color\":\"white\"}},\"type\":\"table\"}]},\"layout\":{\"annotationdefaults\":{\"arrowhead\":0,\"arrowwidth\":1},\"autotypenumbers\":\"strict\",\"coloraxis\":{\"colorbar\":{\"outlinewidth\":0,\"tickcolor\":\"rgb(237,237,237)\",\"ticklen\":6,\"ticks\":\"inside\"}},\"colorscale\":{\"sequential\":[[0,\"rgb(20,44,66)\"],[1,\"rgb(90,179,244)\"]],\"sequentialminus\":[[0,\"rgb(20,44,66)\"],[1,\"rgb(90,179,244)\"]]},\"colorway\":[\"#F8766D\",\"#A3A500\",\"#00BF7D\",\"#00B0F6\",\"#E76BF3\"],\"font\":{\"color\":\"rgb(51,51,51)\"},\"geo\":{\"bgcolor\":\"white\",\"lakecolor\":\"white\",\"landcolor\":\"rgb(237,237,237)\",\"showlakes\":true,\"showland\":true,\"subunitcolor\":\"white\"},\"hoverlabel\":{\"align\":\"left\"},\"hovermode\":\"closest\",\"paper_bgcolor\":\"white\",\"plot_bgcolor\":\"rgb(237,237,237)\",\"polar\":{\"angularaxis\":{\"gridcolor\":\"white\",\"linecolor\":\"white\",\"showgrid\":true,\"tickcolor\":\"rgb(51,51,51)\",\"ticks\":\"outside\"},\"bgcolor\":\"rgb(237,237,237)\",\"radialaxis\":{\"gridcolor\":\"white\",\"linecolor\":\"white\",\"showgrid\":true,\"tickcolor\":\"rgb(51,51,51)\",\"ticks\":\"outside\"}},\"scene\":{\"xaxis\":{\"backgroundcolor\":\"rgb(237,237,237)\",\"gridcolor\":\"white\",\"gridwidth\":2,\"linecolor\":\"white\",\"showbackground\":true,\"showgrid\":true,\"tickcolor\":\"rgb(51,51,51)\",\"ticks\":\"outside\",\"zerolinecolor\":\"white\"},\"yaxis\":{\"backgroundcolor\":\"rgb(237,237,237)\",\"gridcolor\":\"white\",\"gridwidth\":2,\"linecolor\":\"white\",\"showbackground\":true,\"showgrid\":true,\"tickcolor\":\"rgb(51,51,51)\",\"ticks\":\"outside\",\"zerolinecolor\":\"white\"},\"zaxis\":{\"backgroundcolor\":\"rgb(237,237,237)\",\"gridcolor\":\"white\",\"gridwidth\":2,\"linecolor\":\"white\",\"showbackground\":true,\"showgrid\":true,\"tickcolor\":\"rgb(51,51,51)\",\"ticks\":\"outside\",\"zerolinecolor\":\"white\"}},\"shapedefaults\":{\"fillcolor\":\"black\",\"line\":{\"width\":0},\"opacity\":0.3},\"ternary\":{\"aaxis\":{\"gridcolor\":\"white\",\"linecolor\":\"white\",\"showgrid\":true,\"tickcolor\":\"rgb(51,51,51)\",\"ticks\":\"outside\"},\"baxis\":{\"gridcolor\":\"white\",\"linecolor\":\"white\",\"showgrid\":true,\"tickcolor\":\"rgb(51,51,51)\",\"ticks\":\"outside\"},\"bgcolor\":\"rgb(237,237,237)\",\"caxis\":{\"gridcolor\":\"white\",\"linecolor\":\"white\",\"showgrid\":true,\"tickcolor\":\"rgb(51,51,51)\",\"ticks\":\"outside\"}},\"xaxis\":{\"automargin\":true,\"gridcolor\":\"white\",\"linecolor\":\"white\",\"showgrid\":true,\"tickcolor\":\"rgb(51,51,51)\",\"ticks\":\"outside\",\"title\":{\"standoff\":15},\"zerolinecolor\":\"white\"},\"yaxis\":{\"automargin\":true,\"gridcolor\":\"white\",\"linecolor\":\"white\",\"showgrid\":true,\"tickcolor\":\"rgb(51,51,51)\",\"ticks\":\"outside\",\"title\":{\"standoff\":15},\"zerolinecolor\":\"white\"}}},\"xaxis\":{\"anchor\":\"y\",\"domain\":[0.0,0.45],\"title\":{\"text\":\"Time\"}},\"xaxis2\":{\"anchor\":\"y2\",\"domain\":[0.55,1.0],\"title\":{\"text\":\"Range of Values\"}},\"xaxis3\":{\"anchor\":\"y3\",\"domain\":[0.0,0.45],\"range\":[-1,42],\"title\":{\"text\":\"Lags\"}},\"xaxis4\":{\"anchor\":\"y4\",\"domain\":[0.55,1.0],\"title\":{\"text\":\"Theoretical Quantities\"}},\"yaxis\":{\"anchor\":\"x\",\"domain\":[0.625,1.0],\"title\":{\"text\":\"Value\"}},\"yaxis2\":{\"anchor\":\"x2\",\"domain\":[0.625,1.0],\"title\":{\"text\":\"PDF\"}},\"yaxis3\":{\"anchor\":\"x3\",\"domain\":[0.0,0.375],\"title\":{\"text\":\"ACF\"},\"zerolinecolor\":\"#000000\"},\"yaxis4\":{\"anchor\":\"x4\",\"domain\":[0.0,0.375],\"title\":{\"text\":\"Sample Quantities\"}}},                        {\"responsive\": true}                    ).then(function(){\n",
              "                            \n",
              "var gd = document.getElementById('2d56faf7-e903-4bd1-b617-001630cf7738');\n",
              "var x = new MutationObserver(function (mutations, observer) {{\n",
              "        var display = window.getComputedStyle(gd).display;\n",
              "        if (!display || display === 'none') {{\n",
              "            console.log([gd, 'removed!']);\n",
              "            Plotly.purge(gd);\n",
              "            observer.disconnect();\n",
              "        }}\n",
              "}});\n",
              "\n",
              "// Listen for the removal of the full notebook cells\n",
              "var notebookContainer = gd.closest('#notebook-container');\n",
              "if (notebookContainer) {{\n",
              "    x.observe(notebookContainer, {childList: true});\n",
              "}}\n",
              "\n",
              "// Listen for the clearing of the current output cell\n",
              "var outputEl = gd.closest('.output');\n",
              "if (outputEl) {{\n",
              "    x.observe(outputEl, {childList: true});\n",
              "}}\n",
              "\n",
              "                        })                };                });            </script>        </div>"
            ]
          },
          "metadata": {},
          "output_type": "display_data"
        }
      ],
      "source": [
        "# diagnostics plot\n",
        "plot_model(best, plot = 'diagnostics')"
      ]
    },
    {
      "cell_type": "code",
      "execution_count": null,
      "metadata": {
        "id": "3NWjIAJvv5XT",
        "outputId": "45e8dbc7-9236-4eb6-ec16-5ab09e43224f"
      },
      "outputs": [
        {
          "data": {
            "text/plain": [
              "2021-10-06     8392.9122\n",
              "2021-10-07     9061.0281\n",
              "2021-10-08     7701.1368\n",
              "2021-10-09     4390.7445\n",
              "2021-10-10     4972.7529\n",
              "                 ...    \n",
              "2021-12-30    13175.0441\n",
              "2021-12-31    11815.1528\n",
              "2022-01-01     8504.7605\n",
              "2022-01-02     9086.7689\n",
              "2022-01-03    12086.8840\n",
              "Freq: D, Name: Total, Length: 90, dtype: float64"
            ]
          },
          "execution_count": 25,
          "metadata": {},
          "output_type": "execute_result"
        }
      ],
      "source": [
        "# finalize model\n",
        "final_best = finalize_model(best)# generate predictions\n",
        "predict_model(final_best, fh = 90)"
      ]
    },
    {
      "cell_type": "code",
      "execution_count": null,
      "metadata": {
        "id": "OSOqsf4vv5XU",
        "outputId": "57b00c2d-1085-4b3e-ebc3-1494b0044306"
      },
      "outputs": [
        {
          "name": "stdout",
          "output_type": "stream",
          "text": [
            "Transformation Pipeline and Model Successfully Saved\n"
          ]
        },
        {
          "data": {
            "text/plain": [
              "(AutoARIMA(D=None, alpha=0.05, d=None, error_action='warn',\n",
              "           information_criterion='aic', max_D=1, max_P=2, max_Q=2, max_d=2,\n",
              "           max_order=5, max_p=5, max_q=5, maxiter=50, method='lbfgs', n_fits=10,\n",
              "           n_jobs=1, offset_test_args=None, out_of_sample_size=0, random=False,\n",
              "           random_state=123, scoring='mse', scoring_args=None, seasonal=True,\n",
              "           seasonal_test='ocsb', seasonal_test_args=None, sp=7, start_P=1,\n",
              "           start_Q=1, start_p=2, start_params=None, ...),\n",
              " 'my_best_model.pkl')"
            ]
          },
          "execution_count": 26,
          "metadata": {},
          "output_type": "execute_result"
        }
      ],
      "source": [
        "# save the model\n",
        "save_model(final_best, 'my_best_model')"
      ]
    },
    {
      "cell_type": "code",
      "execution_count": null,
      "metadata": {
        "id": "OQdeimnev5XX"
      },
      "outputs": [],
      "source": [
        "load_model()"
      ]
    }
  ],
  "metadata": {
    "kernelspec": {
      "display_name": "Python 3",
      "language": "python",
      "name": "python3"
    },
    "language_info": {
      "codemirror_mode": {
        "name": "ipython",
        "version": 3
      },
      "file_extension": ".py",
      "mimetype": "text/x-python",
      "name": "python",
      "nbconvert_exporter": "python",
      "pygments_lexer": "ipython3",
      "version": "3.7.6"
    },
    "colab": {
      "name": "Auto Time Series - Pycaret Prophet Forecasting-Colab.ipynb",
      "provenance": [],
      "include_colab_link": true
    },
    "widgets": {
      "application/vnd.jupyter.widget-state+json": {
        "e5110b76234b453e9b68090ba9b6e52a": {
          "model_module": "@jupyter-widgets/controls",
          "model_name": "IntProgressModel",
          "model_module_version": "1.5.0",
          "state": {
            "_view_name": "ProgressView",
            "style": "IPY_MODEL_569b0966957e4ff7ad322b3cf0285ae6",
            "_dom_classes": [],
            "description": "Processing: ",
            "_model_name": "IntProgressModel",
            "bar_style": "",
            "max": 3,
            "_view_module": "@jupyter-widgets/controls",
            "_model_module_version": "1.5.0",
            "value": 3,
            "_view_count": null,
            "_view_module_version": "1.5.0",
            "orientation": "horizontal",
            "min": 0,
            "description_tooltip": null,
            "_model_module": "@jupyter-widgets/controls",
            "layout": "IPY_MODEL_7fb061b9ae1645288fb0613780d6cf73"
          }
        },
        "e6a6546d90cd4789928bdcb9a4f86289": {
          "model_module": "@jupyter-widgets/controls",
          "model_name": "IntProgressModel",
          "model_module_version": "1.5.0",
          "state": {
            "_view_name": "ProgressView",
            "style": "IPY_MODEL_43f80371b4d74e2290dbc2b4f93ca916",
            "_dom_classes": [],
            "description": "Processing: ",
            "_model_name": "IntProgressModel",
            "bar_style": "",
            "max": 139,
            "_view_module": "@jupyter-widgets/controls",
            "_model_module_version": "1.5.0",
            "value": 138,
            "_view_count": null,
            "_view_module_version": "1.5.0",
            "orientation": "horizontal",
            "min": 0,
            "description_tooltip": null,
            "_model_module": "@jupyter-widgets/controls",
            "layout": "IPY_MODEL_7f5061afd6f44defb1d1ed2a0dcfd54d"
          }
        },
        "43f80371b4d74e2290dbc2b4f93ca916": {
          "model_module": "@jupyter-widgets/controls",
          "model_name": "ProgressStyleModel",
          "model_module_version": "1.5.0",
          "state": {
            "_view_name": "StyleView",
            "_model_name": "ProgressStyleModel",
            "description_width": "",
            "_view_module": "@jupyter-widgets/base",
            "_model_module_version": "1.5.0",
            "_view_count": null,
            "_view_module_version": "1.2.0",
            "bar_color": null,
            "_model_module": "@jupyter-widgets/controls"
          }
        },
        "7f5061afd6f44defb1d1ed2a0dcfd54d": {
          "model_module": "@jupyter-widgets/base",
          "model_name": "LayoutModel",
          "model_module_version": "1.2.0",
          "state": {
            "_view_name": "LayoutView",
            "grid_template_rows": null,
            "right": null,
            "justify_content": null,
            "_view_module": "@jupyter-widgets/base",
            "overflow": null,
            "_model_module_version": "1.2.0",
            "_view_count": null,
            "flex_flow": null,
            "width": null,
            "min_width": null,
            "border": null,
            "align_items": null,
            "bottom": null,
            "_model_module": "@jupyter-widgets/base",
            "top": null,
            "grid_column": null,
            "overflow_y": null,
            "overflow_x": null,
            "grid_auto_flow": null,
            "grid_area": null,
            "grid_template_columns": null,
            "flex": null,
            "_model_name": "LayoutModel",
            "justify_items": null,
            "grid_row": null,
            "max_height": null,
            "align_content": null,
            "visibility": null,
            "align_self": null,
            "height": null,
            "min_height": null,
            "padding": null,
            "grid_auto_rows": null,
            "grid_gap": null,
            "max_width": null,
            "order": null,
            "_view_module_version": "1.2.0",
            "grid_template_areas": null,
            "object_position": null,
            "object_fit": null,
            "grid_auto_columns": null,
            "margin": null,
            "display": null,
            "left": null
          }
        },
        "6a537aff4e9b401e8586cc32918ae327": {
          "model_module": "@jupyter-widgets/controls",
          "model_name": "IntProgressModel",
          "model_module_version": "1.5.0",
          "state": {
            "_view_name": "ProgressView",
            "style": "IPY_MODEL_1b31d251d8a54dc08e6e53407d4d8d12",
            "_dom_classes": [],
            "description": "Processing: ",
            "_model_name": "IntProgressModel",
            "bar_style": "",
            "max": 139,
            "_view_module": "@jupyter-widgets/controls",
            "_model_module_version": "1.5.0",
            "value": 138,
            "_view_count": null,
            "_view_module_version": "1.5.0",
            "orientation": "horizontal",
            "min": 0,
            "description_tooltip": null,
            "_model_module": "@jupyter-widgets/controls",
            "layout": "IPY_MODEL_1b1b84615ea343558113eba715050f8a"
          }
        },
        "1b31d251d8a54dc08e6e53407d4d8d12": {
          "model_module": "@jupyter-widgets/controls",
          "model_name": "ProgressStyleModel",
          "model_module_version": "1.5.0",
          "state": {
            "_view_name": "StyleView",
            "_model_name": "ProgressStyleModel",
            "description_width": "",
            "_view_module": "@jupyter-widgets/base",
            "_model_module_version": "1.5.0",
            "_view_count": null,
            "_view_module_version": "1.2.0",
            "bar_color": null,
            "_model_module": "@jupyter-widgets/controls"
          }
        },
        "1b1b84615ea343558113eba715050f8a": {
          "model_module": "@jupyter-widgets/base",
          "model_name": "LayoutModel",
          "model_module_version": "1.2.0",
          "state": {
            "_view_name": "LayoutView",
            "grid_template_rows": null,
            "right": null,
            "justify_content": null,
            "_view_module": "@jupyter-widgets/base",
            "overflow": null,
            "_model_module_version": "1.2.0",
            "_view_count": null,
            "flex_flow": null,
            "width": null,
            "min_width": null,
            "border": null,
            "align_items": null,
            "bottom": null,
            "_model_module": "@jupyter-widgets/base",
            "top": null,
            "grid_column": null,
            "overflow_y": null,
            "overflow_x": null,
            "grid_auto_flow": null,
            "grid_area": null,
            "grid_template_columns": null,
            "flex": null,
            "_model_name": "LayoutModel",
            "justify_items": null,
            "grid_row": null,
            "max_height": null,
            "align_content": null,
            "visibility": null,
            "align_self": null,
            "height": null,
            "min_height": null,
            "padding": null,
            "grid_auto_rows": null,
            "grid_gap": null,
            "max_width": null,
            "order": null,
            "_view_module_version": "1.2.0",
            "grid_template_areas": null,
            "object_position": null,
            "object_fit": null,
            "grid_auto_columns": null,
            "margin": null,
            "display": null,
            "left": null
          }
        },
        "7f35e347722f4cfe961625fb70afd0c1": {
          "model_module": "@jupyter-widgets/controls",
          "model_name": "IntProgressModel",
          "model_module_version": "1.5.0",
          "state": {
            "_view_name": "ProgressView",
            "style": "IPY_MODEL_e5318e5fb27b4702ad06dc23fad141a4",
            "_dom_classes": [],
            "description": "Processing: ",
            "_model_name": "IntProgressModel",
            "bar_style": "",
            "max": 4,
            "_view_module": "@jupyter-widgets/controls",
            "_model_module_version": "1.5.0",
            "value": 4,
            "_view_count": null,
            "_view_module_version": "1.5.0",
            "orientation": "horizontal",
            "min": 0,
            "description_tooltip": null,
            "_model_module": "@jupyter-widgets/controls",
            "layout": "IPY_MODEL_3e7bfdafa95b4bfa906cf74421e5a9ff"
          }
        },
        "e5318e5fb27b4702ad06dc23fad141a4": {
          "model_module": "@jupyter-widgets/controls",
          "model_name": "ProgressStyleModel",
          "model_module_version": "1.5.0",
          "state": {
            "_view_name": "StyleView",
            "_model_name": "ProgressStyleModel",
            "description_width": "",
            "_view_module": "@jupyter-widgets/base",
            "_model_module_version": "1.5.0",
            "_view_count": null,
            "_view_module_version": "1.2.0",
            "bar_color": null,
            "_model_module": "@jupyter-widgets/controls"
          }
        },
        "3e7bfdafa95b4bfa906cf74421e5a9ff": {
          "model_module": "@jupyter-widgets/base",
          "model_name": "LayoutModel",
          "model_module_version": "1.2.0",
          "state": {
            "_view_name": "LayoutView",
            "grid_template_rows": null,
            "right": null,
            "justify_content": null,
            "_view_module": "@jupyter-widgets/base",
            "overflow": null,
            "_model_module_version": "1.2.0",
            "_view_count": null,
            "flex_flow": null,
            "width": null,
            "min_width": null,
            "border": null,
            "align_items": null,
            "bottom": null,
            "_model_module": "@jupyter-widgets/base",
            "top": null,
            "grid_column": null,
            "overflow_y": null,
            "overflow_x": null,
            "grid_auto_flow": null,
            "grid_area": null,
            "grid_template_columns": null,
            "flex": null,
            "_model_name": "LayoutModel",
            "justify_items": null,
            "grid_row": null,
            "max_height": null,
            "align_content": null,
            "visibility": null,
            "align_self": null,
            "height": null,
            "min_height": null,
            "padding": null,
            "grid_auto_rows": null,
            "grid_gap": null,
            "max_width": null,
            "order": null,
            "_view_module_version": "1.2.0",
            "grid_template_areas": null,
            "object_position": null,
            "object_fit": null,
            "grid_auto_columns": null,
            "margin": null,
            "display": null,
            "left": null
          }
        },
        "0b1b18ef8f1044198fe21f3e1c5b50f0": {
          "model_module": "@jupyter-widgets/controls",
          "model_name": "IntProgressModel",
          "model_module_version": "1.5.0",
          "state": {
            "_view_name": "ProgressView",
            "style": "IPY_MODEL_785a263be2044f7eb5d100e694c261df",
            "_dom_classes": [],
            "description": "Processing: ",
            "_model_name": "IntProgressModel",
            "bar_style": "",
            "max": 7,
            "_view_module": "@jupyter-widgets/controls",
            "_model_module_version": "1.5.0",
            "value": 2,
            "_view_count": null,
            "_view_module_version": "1.5.0",
            "orientation": "horizontal",
            "min": 0,
            "description_tooltip": null,
            "_model_module": "@jupyter-widgets/controls",
            "layout": "IPY_MODEL_ce9b83ff97894777885142df9c5a3102"
          }
        },
        "785a263be2044f7eb5d100e694c261df": {
          "model_module": "@jupyter-widgets/controls",
          "model_name": "ProgressStyleModel",
          "model_module_version": "1.5.0",
          "state": {
            "_view_name": "StyleView",
            "_model_name": "ProgressStyleModel",
            "description_width": "",
            "_view_module": "@jupyter-widgets/base",
            "_model_module_version": "1.5.0",
            "_view_count": null,
            "_view_module_version": "1.2.0",
            "bar_color": null,
            "_model_module": "@jupyter-widgets/controls"
          }
        },
        "ce9b83ff97894777885142df9c5a3102": {
          "model_module": "@jupyter-widgets/base",
          "model_name": "LayoutModel",
          "model_module_version": "1.2.0",
          "state": {
            "_view_name": "LayoutView",
            "grid_template_rows": null,
            "right": null,
            "justify_content": null,
            "_view_module": "@jupyter-widgets/base",
            "overflow": null,
            "_model_module_version": "1.2.0",
            "_view_count": null,
            "flex_flow": null,
            "width": null,
            "min_width": null,
            "border": null,
            "align_items": null,
            "bottom": null,
            "_model_module": "@jupyter-widgets/base",
            "top": null,
            "grid_column": null,
            "overflow_y": null,
            "overflow_x": null,
            "grid_auto_flow": null,
            "grid_area": null,
            "grid_template_columns": null,
            "flex": null,
            "_model_name": "LayoutModel",
            "justify_items": null,
            "grid_row": null,
            "max_height": null,
            "align_content": null,
            "visibility": null,
            "align_self": null,
            "height": null,
            "min_height": null,
            "padding": null,
            "grid_auto_rows": null,
            "grid_gap": null,
            "max_width": null,
            "order": null,
            "_view_module_version": "1.2.0",
            "grid_template_areas": null,
            "object_position": null,
            "object_fit": null,
            "grid_auto_columns": null,
            "margin": null,
            "display": null,
            "left": null
          }
        }
      }
    }
  },
  "nbformat": 4,
  "nbformat_minor": 0
}